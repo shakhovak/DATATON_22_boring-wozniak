{
 "cells": [
  {
   "cell_type": "code",
   "execution_count": 1,
   "id": "e7e7f98e",
   "metadata": {},
   "outputs": [],
   "source": [
    "import pandas as pd\n",
    "import re\n",
    "from IPython.display import clear_output\n",
    "import sys\n",
    "import matplotlib.pyplot as plt\n",
    "import seaborn as se\n",
    "import numpy as np\n",
    "import plotly.express as px"
   ]
  },
  {
   "cell_type": "code",
   "execution_count": 3,
   "id": "a6cfc8ed",
   "metadata": {},
   "outputs": [
    {
     "data": {
      "text/html": [
       "<div>\n",
       "<style scoped>\n",
       "    .dataframe tbody tr th:only-of-type {\n",
       "        vertical-align: middle;\n",
       "    }\n",
       "\n",
       "    .dataframe tbody tr th {\n",
       "        vertical-align: top;\n",
       "    }\n",
       "\n",
       "    .dataframe thead th {\n",
       "        text-align: right;\n",
       "    }\n",
       "</style>\n",
       "<table border=\"1\" class=\"dataframe\">\n",
       "  <thead>\n",
       "    <tr style=\"text-align: right;\">\n",
       "      <th></th>\n",
       "      <th>company</th>\n",
       "      <th>position</th>\n",
       "      <th>location</th>\n",
       "      <th>schedule</th>\n",
       "      <th>responsibilities</th>\n",
       "      <th>requirements</th>\n",
       "      <th>levels</th>\n",
       "      <th>techstack</th>\n",
       "      <th>source</th>\n",
       "      <th>date_publish</th>\n",
       "      <th>format</th>\n",
       "      <th>salary</th>\n",
       "      <th>currency</th>\n",
       "    </tr>\n",
       "  </thead>\n",
       "  <tbody>\n",
       "    <tr>\n",
       "      <th>0</th>\n",
       "      <td>Сбербанк</td>\n",
       "      <td>Аналитик данных</td>\n",
       "      <td>Москва</td>\n",
       "      <td>Полный рабочий день</td>\n",
       "      <td>не определено</td>\n",
       "      <td>не определено</td>\n",
       "      <td>От 1 года</td>\n",
       "      <td>['sql', 'python', 'oracle', 'субд', 'greenplum...</td>\n",
       "      <td>superjob.ru</td>\n",
       "      <td>2022-12-25 10:50:27</td>\n",
       "      <td>Не имеет значения</td>\n",
       "      <td>Договорная</td>\n",
       "      <td>RUB</td>\n",
       "    </tr>\n",
       "    <tr>\n",
       "      <th>1</th>\n",
       "      <td>Friendwork</td>\n",
       "      <td>Data Engineer (remote)</td>\n",
       "      <td>Москва</td>\n",
       "      <td>Полный рабочий день</td>\n",
       "      <td>не определено</td>\n",
       "      <td>не определено</td>\n",
       "      <td>От 3 лет</td>\n",
       "      <td>['sql', 'python', 'postgresql', 'spark', 'dock...</td>\n",
       "      <td>superjob.ru</td>\n",
       "      <td>2022-12-19 00:00:00</td>\n",
       "      <td>Удалённая работа (на дому)</td>\n",
       "      <td>Договорная</td>\n",
       "      <td>RUB</td>\n",
       "    </tr>\n",
       "    <tr>\n",
       "      <th>2</th>\n",
       "      <td>Технопарк «Сколково»</td>\n",
       "      <td>Teamlead проекта</td>\n",
       "      <td>Москва</td>\n",
       "      <td>Полный рабочий день</td>\n",
       "      <td>не определено</td>\n",
       "      <td>не определено</td>\n",
       "      <td>От 1 года</td>\n",
       "      <td>['python', 'data science', 'bi', 'ios', 'c', '...</td>\n",
       "      <td>superjob.ru</td>\n",
       "      <td>2022-12-19 11:01:29</td>\n",
       "      <td>Не имеет значения</td>\n",
       "      <td>Договорная</td>\n",
       "      <td>RUB</td>\n",
       "    </tr>\n",
       "    <tr>\n",
       "      <th>3</th>\n",
       "      <td>Технопарк «Сколково»</td>\n",
       "      <td>Frontend-разработчик</td>\n",
       "      <td>Москва</td>\n",
       "      <td>Полный рабочий день</td>\n",
       "      <td>не определено</td>\n",
       "      <td>не определено</td>\n",
       "      <td>От 1 года</td>\n",
       "      <td>['python', 'data science', 'bi', 'ios', 'c', '...</td>\n",
       "      <td>superjob.ru</td>\n",
       "      <td>2022-12-19 10:58:50</td>\n",
       "      <td>Не имеет значения</td>\n",
       "      <td>Договорная</td>\n",
       "      <td>RUB</td>\n",
       "    </tr>\n",
       "    <tr>\n",
       "      <th>4</th>\n",
       "      <td>Технопарк «Сколково»</td>\n",
       "      <td>Backend-разработчик</td>\n",
       "      <td>Москва</td>\n",
       "      <td>Полный рабочий день</td>\n",
       "      <td>не определено</td>\n",
       "      <td>не определено</td>\n",
       "      <td>От 1 года</td>\n",
       "      <td>['python', 'data science', 'bi', 'ios', 'c', '...</td>\n",
       "      <td>superjob.ru</td>\n",
       "      <td>2022-12-19 10:54:29</td>\n",
       "      <td>Не имеет значения</td>\n",
       "      <td>Договорная</td>\n",
       "      <td>RUB</td>\n",
       "    </tr>\n",
       "    <tr>\n",
       "      <th>...</th>\n",
       "      <td>...</td>\n",
       "      <td>...</td>\n",
       "      <td>...</td>\n",
       "      <td>...</td>\n",
       "      <td>...</td>\n",
       "      <td>...</td>\n",
       "      <td>...</td>\n",
       "      <td>...</td>\n",
       "      <td>...</td>\n",
       "      <td>...</td>\n",
       "      <td>...</td>\n",
       "      <td>...</td>\n",
       "      <td>...</td>\n",
       "    </tr>\n",
       "    <tr>\n",
       "      <th>5985</th>\n",
       "      <td>не определено</td>\n",
       "      <td>не определено</td>\n",
       "      <td>не определено</td>\n",
       "      <td>[]</td>\n",
       "      <td>Задачи ставить вопросы и отвечать на них с пом...</td>\n",
       "      <td>Ожидаем опыт работы с python (pandas, scipy), ...</td>\n",
       "      <td>['Middle']</td>\n",
       "      <td>['python', 'tableau']</td>\n",
       "      <td>https://t.me/s/datasciencejobs</td>\n",
       "      <td>2020-02-13 11:01:00</td>\n",
       "      <td>['Офис']</td>\n",
       "      <td>250000.0</td>\n",
       "      <td>RUB</td>\n",
       "    </tr>\n",
       "    <tr>\n",
       "      <th>5986</th>\n",
       "      <td>российская IT-компания, специализирующаяся на ...</td>\n",
       "      <td>не определено</td>\n",
       "      <td>Москва</td>\n",
       "      <td>['Гибкий']</td>\n",
       "      <td>•  Опыт проработки задачи от бизнес-постановки...</td>\n",
       "      <td>•  Опыт использования ml библиотек на Python (...</td>\n",
       "      <td>['Senior', 'Lead']</td>\n",
       "      <td>['python', 'hive', 'airflow', 'docker']</td>\n",
       "      <td>https://t.me/s/datasciencejobs</td>\n",
       "      <td>2020-02-14 11:28:00</td>\n",
       "      <td>['Офис']</td>\n",
       "      <td>600000.0</td>\n",
       "      <td>RUB</td>\n",
       "    </tr>\n",
       "    <tr>\n",
       "      <th>5987</th>\n",
       "      <td>не определено</td>\n",
       "      <td>не определено</td>\n",
       "      <td>не определено</td>\n",
       "      <td>[]</td>\n",
       "      <td>не определено</td>\n",
       "      <td>•  Высшее образование;\\n•  Опыт работы руковод...</td>\n",
       "      <td>[]</td>\n",
       "      <td>['java', 'c++', 'oracle']</td>\n",
       "      <td>https://t.me/s/datasciencejobs</td>\n",
       "      <td>2020-02-19 12:16:00</td>\n",
       "      <td>[]</td>\n",
       "      <td>400000.0</td>\n",
       "      <td>RUB</td>\n",
       "    </tr>\n",
       "    <tr>\n",
       "      <th>5988</th>\n",
       "      <td>не определено</td>\n",
       "      <td>Data Scientist</td>\n",
       "      <td>не определено</td>\n",
       "      <td>['Fulltime']</td>\n",
       "      <td>не определено</td>\n",
       "      <td>• 3 years of experience in business analysis, ...</td>\n",
       "      <td>[]</td>\n",
       "      <td>['pandas']</td>\n",
       "      <td>https://t.me/s/datasciencejobs</td>\n",
       "      <td>2020-02-20 23:04:00</td>\n",
       "      <td>['Удалёнка']</td>\n",
       "      <td>3000.0</td>\n",
       "      <td>USD</td>\n",
       "    </tr>\n",
       "    <tr>\n",
       "      <th>5989</th>\n",
       "      <td>Федеральная розничная сеть, занимающая лидирую...</td>\n",
       "      <td>Senior ML Engineer</td>\n",
       "      <td>Санкт-Петербург</td>\n",
       "      <td>[]</td>\n",
       "      <td>- Проработать совместно с партнерами архитекту...</td>\n",
       "      <td>- Опыт построения/проектирования платформы для...</td>\n",
       "      <td>['Senior']</td>\n",
       "      <td>['etl', 'linux']</td>\n",
       "      <td>https://t.me/s/datasciencejobs</td>\n",
       "      <td>2020-05-21 09:55:00</td>\n",
       "      <td>[]</td>\n",
       "      <td>260000.0</td>\n",
       "      <td>RUB</td>\n",
       "    </tr>\n",
       "  </tbody>\n",
       "</table>\n",
       "<p>5990 rows × 13 columns</p>\n",
       "</div>"
      ],
      "text/plain": [
       "                                                company  \\\n",
       "0                                              Сбербанк   \n",
       "1                                            Friendwork   \n",
       "2                                  Технопарк «Сколково»   \n",
       "3                                  Технопарк «Сколково»   \n",
       "4                                  Технопарк «Сколково»   \n",
       "...                                                 ...   \n",
       "5985                                      не определено   \n",
       "5986  российская IT-компания, специализирующаяся на ...   \n",
       "5987                                      не определено   \n",
       "5988                                      не определено   \n",
       "5989  Федеральная розничная сеть, занимающая лидирую...   \n",
       "\n",
       "                    position         location             schedule  \\\n",
       "0            Аналитик данных           Москва  Полный рабочий день   \n",
       "1     Data Engineer (remote)           Москва  Полный рабочий день   \n",
       "2           Teamlead проекта           Москва  Полный рабочий день   \n",
       "3       Frontend-разработчик           Москва  Полный рабочий день   \n",
       "4        Backend-разработчик           Москва  Полный рабочий день   \n",
       "...                      ...              ...                  ...   \n",
       "5985           не определено    не определено                   []   \n",
       "5986           не определено           Москва           ['Гибкий']   \n",
       "5987           не определено    не определено                   []   \n",
       "5988          Data Scientist    не определено         ['Fulltime']   \n",
       "5989      Senior ML Engineer  Санкт-Петербург                   []   \n",
       "\n",
       "                                       responsibilities  \\\n",
       "0                                         не определено   \n",
       "1                                         не определено   \n",
       "2                                         не определено   \n",
       "3                                         не определено   \n",
       "4                                         не определено   \n",
       "...                                                 ...   \n",
       "5985  Задачи ставить вопросы и отвечать на них с пом...   \n",
       "5986  •  Опыт проработки задачи от бизнес-постановки...   \n",
       "5987                                      не определено   \n",
       "5988                                      не определено   \n",
       "5989  - Проработать совместно с партнерами архитекту...   \n",
       "\n",
       "                                           requirements              levels  \\\n",
       "0                                         не определено           От 1 года   \n",
       "1                                         не определено            От 3 лет   \n",
       "2                                         не определено           От 1 года   \n",
       "3                                         не определено           От 1 года   \n",
       "4                                         не определено           От 1 года   \n",
       "...                                                 ...                 ...   \n",
       "5985  Ожидаем опыт работы с python (pandas, scipy), ...          ['Middle']   \n",
       "5986  •  Опыт использования ml библиотек на Python (...  ['Senior', 'Lead']   \n",
       "5987  •  Высшее образование;\\n•  Опыт работы руковод...                  []   \n",
       "5988  • 3 years of experience in business analysis, ...                  []   \n",
       "5989  - Опыт построения/проектирования платформы для...          ['Senior']   \n",
       "\n",
       "                                              techstack  \\\n",
       "0     ['sql', 'python', 'oracle', 'субд', 'greenplum...   \n",
       "1     ['sql', 'python', 'postgresql', 'spark', 'dock...   \n",
       "2     ['python', 'data science', 'bi', 'ios', 'c', '...   \n",
       "3     ['python', 'data science', 'bi', 'ios', 'c', '...   \n",
       "4     ['python', 'data science', 'bi', 'ios', 'c', '...   \n",
       "...                                                 ...   \n",
       "5985                              ['python', 'tableau']   \n",
       "5986            ['python', 'hive', 'airflow', 'docker']   \n",
       "5987                          ['java', 'c++', 'oracle']   \n",
       "5988                                         ['pandas']   \n",
       "5989                                   ['etl', 'linux']   \n",
       "\n",
       "                              source         date_publish  \\\n",
       "0                        superjob.ru  2022-12-25 10:50:27   \n",
       "1                        superjob.ru  2022-12-19 00:00:00   \n",
       "2                        superjob.ru  2022-12-19 11:01:29   \n",
       "3                        superjob.ru  2022-12-19 10:58:50   \n",
       "4                        superjob.ru  2022-12-19 10:54:29   \n",
       "...                              ...                  ...   \n",
       "5985  https://t.me/s/datasciencejobs  2020-02-13 11:01:00   \n",
       "5986  https://t.me/s/datasciencejobs  2020-02-14 11:28:00   \n",
       "5987  https://t.me/s/datasciencejobs  2020-02-19 12:16:00   \n",
       "5988  https://t.me/s/datasciencejobs  2020-02-20 23:04:00   \n",
       "5989  https://t.me/s/datasciencejobs  2020-05-21 09:55:00   \n",
       "\n",
       "                          format      salary currency  \n",
       "0              Не имеет значения  Договорная      RUB  \n",
       "1     Удалённая работа (на дому)  Договорная      RUB  \n",
       "2              Не имеет значения  Договорная      RUB  \n",
       "3              Не имеет значения  Договорная      RUB  \n",
       "4              Не имеет значения  Договорная      RUB  \n",
       "...                          ...         ...      ...  \n",
       "5985                    ['Офис']    250000.0      RUB  \n",
       "5986                    ['Офис']    600000.0      RUB  \n",
       "5987                          []    400000.0      RUB  \n",
       "5988                ['Удалёнка']      3000.0      USD  \n",
       "5989                          []    260000.0      RUB  \n",
       "\n",
       "[5990 rows x 13 columns]"
      ]
     },
     "execution_count": 3,
     "metadata": {},
     "output_type": "execute_result"
    }
   ],
   "source": [
    "df =  pd.read_csv('data/agg_data.csv')\n",
    "df"
   ]
  },
  {
   "cell_type": "code",
   "execution_count": 4,
   "id": "bd36560d",
   "metadata": {
    "scrolled": true
   },
   "outputs": [
    {
     "name": "stdout",
     "output_type": "stream",
     "text": [
      "<class 'pandas.core.frame.DataFrame'>\n",
      "RangeIndex: 5990 entries, 0 to 5989\n",
      "Data columns (total 13 columns):\n",
      " #   Column            Non-Null Count  Dtype \n",
      "---  ------            --------------  ----- \n",
      " 0   company           5990 non-null   object\n",
      " 1   position          5990 non-null   object\n",
      " 2   location          5990 non-null   object\n",
      " 3   schedule          5990 non-null   object\n",
      " 4   responsibilities  5990 non-null   object\n",
      " 5   requirements      5990 non-null   object\n",
      " 6   levels            5990 non-null   object\n",
      " 7   techstack         5990 non-null   object\n",
      " 8   source            5990 non-null   object\n",
      " 9   date_publish      5990 non-null   object\n",
      " 10  format            5990 non-null   object\n",
      " 11  salary            5990 non-null   object\n",
      " 12  currency          5990 non-null   object\n",
      "dtypes: object(13)\n",
      "memory usage: 608.5+ KB\n"
     ]
    }
   ],
   "source": [
    "df.info()"
   ]
  },
  {
   "cell_type": "code",
   "execution_count": 95,
   "id": "db8ee2cd",
   "metadata": {},
   "outputs": [],
   "source": [
    "#задача 1: Построение гистограммы топ-20 слов в названии вакансий"
   ]
  },
  {
   "cell_type": "code",
   "execution_count": 5,
   "id": "d526ff4b",
   "metadata": {},
   "outputs": [],
   "source": [
    "n = df['position'].value_counts().nlargest(21)"
   ]
  },
  {
   "cell_type": "code",
   "execution_count": 97,
   "id": "06a85162",
   "metadata": {
    "scrolled": true
   },
   "outputs": [
    {
     "data": {
      "text/plain": [
       "не определено             398\n",
       "Аналитик                  257\n",
       "Аналитик данных           124\n",
       "Системный аналитик        105\n",
       "Data Engineer              95\n",
       "Бизнес-аналитик            89\n",
       "Data Scientist             38\n",
       "Data engineer              36\n",
       "DevOps инженер             36\n",
       "Продуктовый аналитик       31\n",
       "Ведущий аналитик           31\n",
       "Финансовый аналитик        28\n",
       "Маркетолог-аналитик        26\n",
       "Java-разработчик           20\n",
       "Business Data Engineer     20\n",
       "Data Analyst               20\n",
       "Системный аналитик DWH     19\n",
       "Аналитик отдела продаж     19\n",
       "DevOps Engineer            18\n",
       "Аналитик BI                16\n",
       "Аналитик в команду WFM     16\n",
       "Name: position, dtype: int64"
      ]
     },
     "execution_count": 97,
     "metadata": {},
     "output_type": "execute_result"
    }
   ],
   "source": [
    "n"
   ]
  },
  {
   "cell_type": "code",
   "execution_count": 6,
   "id": "48e0059c",
   "metadata": {},
   "outputs": [],
   "source": [
    "#чистим позиции - длина > 3 , убираем 'определено'\n",
    "def top_position(df):\n",
    "    # преводим ключевые позиции из Series в List\n",
    "    position_df = df['position'].to_list()\n",
    "    # список для всех ключевых навыков со всех вакансий\n",
    "    position = []\n",
    "    # заполняем список всех ключевых навыков\n",
    "    for pos in position_df:\n",
    "        if pos == pos:\n",
    "            for el in pos.split():\n",
    "                if el != ' ' and len(el) > 3 and el != 'определено':\n",
    "                    position.append(re.sub('\\'', '', el.lower()))\n",
    "\n",
    "    # выбираем все уникальные значения ключевых навыков\n",
    "    set_pos = set(position)\n",
    "    # создаем словарь с уникальными словами и их количеством повторений\n",
    "    dct_pos = {el:position.count(el) for el in set_pos}\n",
    "    # сортируем данные\n",
    "    srt_pos = dict(sorted(dct_pos.items(), key=lambda x: x[1], reverse=True))\n",
    "    # взращаем осортированные данные (ключевой навых - количество повторений)\n",
    "    return pd.Series(srt_pos, name='position')"
   ]
  },
  {
   "cell_type": "code",
   "execution_count": 7,
   "id": "b27aab1e",
   "metadata": {},
   "outputs": [],
   "source": [
    "# поиск самых часто повторяющихся ключевых навыков\n",
    "top_ds_position = top_position(df)"
   ]
  },
  {
   "cell_type": "code",
   "execution_count": 8,
   "id": "f504e70a",
   "metadata": {},
   "outputs": [],
   "source": [
    "d = top_ds_position.nlargest(20)"
   ]
  },
  {
   "cell_type": "code",
   "execution_count": 9,
   "id": "d6e2ad16",
   "metadata": {},
   "outputs": [
    {
     "data": {
      "text/plain": [
       "аналитик           1700\n",
       "data                829\n",
       "engineer            639\n",
       "данных              408\n",
       "senior              398\n",
       "разработчик         370\n",
       "developer           340\n",
       "системный           281\n",
       "инженер             281\n",
       "analyst             276\n",
       "scientist           226\n",
       "java                205\n",
       "ведущий             175\n",
       "devops              171\n",
       "руководитель        169\n",
       "бизнес-аналитик     169\n",
       "lead                150\n",
       "специалист          138\n",
       "менеджер            132\n",
       "отдела              129\n",
       "Name: position, dtype: int64"
      ]
     },
     "execution_count": 9,
     "metadata": {},
     "output_type": "execute_result"
    }
   ],
   "source": [
    "d"
   ]
  },
  {
   "cell_type": "code",
   "execution_count": 14,
   "id": "30c66054",
   "metadata": {
    "scrolled": false
   },
   "outputs": [
    {
     "data": {
      "image/png": "[encoded data removed]",
      "text/plain": [
       "<Figure size 1440x720 with 1 Axes>"
      ]
     },
     "metadata": {
      "needs_background": "light"
     },
     "output_type": "display_data"
    }
   ],
   "source": [
    "ax = d.plot(kind='bar', figsize=( 20 , 10 ), title='Частота повторения ключевых навыков')\n",
    "ax.set_xlabel('ключевые навыки');\n",
    "ax.set_ylabel('количество употеблений');"
   ]
  },
  {
   "cell_type": "code",
   "execution_count": 105,
   "id": "51e41f66",
   "metadata": {},
   "outputs": [],
   "source": [
    "# задача 2. топ 3 скила для разных уровней подготовки "
   ]
  },
  {
   "cell_type": "code",
   "execution_count": 106,
   "id": "03de3990",
   "metadata": {},
   "outputs": [
    {
     "data": {
      "text/plain": [
       "От 1 года до 3 лет                                   2235\n",
       "От 3 до 6 лет                                        1710\n",
       "Средний (Middle)                                      453\n",
       "Старший (Senior)                                      362\n",
       "[]                                                    307\n",
       "Нет опыта                                             275\n",
       "Более 6 лет                                           165\n",
       "Not indicated                                         110\n",
       "Ведущий (Lead)                                         72\n",
       "['Senior']                                             61\n",
       "['Middle', 'Senior']                                   50\n",
       "['Middle']                                             31\n",
       "Младший (Junior)                                       22\n",
       "['Lead']                                               19\n",
       "['Junior']                                             15\n",
       "['Руководитель']                                       13\n",
       "['Senior', 'Middle']                                   12\n",
       "['Senior', 'Lead']                                     11\n",
       "От 1 года                                              10\n",
       "['Junior', 'Middle']                                    7\n",
       "['Junior', 'Middle', 'Senior']                          6\n",
       "['Head']                                                5\n",
       "Стажёр (Intern)                                         4\n",
       "От 3 лет                                                3\n",
       "['Middle', 'Senior', 'Lead']                            3\n",
       "['Manager']                                             3\n",
       "['Lead', 'Senior']                                      3\n",
       "Без опыта                                               2\n",
       "['Senior', 'Head']                                      1\n",
       "['Senior', 'Lead', 'Руководитель']                      1\n",
       "['Senior', 'Руководитель', 'Director', 'Head']          1\n",
       "['Senior', 'Middle', 'Junior']                          1\n",
       "['Middle', 'Senior', 'Junior']                          1\n",
       "['Middle', 'Manager', 'Head']                           1\n",
       "['Стажёр']                                              1\n",
       "['Senior', 'Middle', 'Lead']                            1\n",
       "['Lead', 'Head']                                        1\n",
       "['Junior', 'Senior']                                    1\n",
       "['Manager', 'Junior']                                   1\n",
       "['Head', 'Senior']                                      1\n",
       "['President']                                           1\n",
       "['Manager', 'Руководитель']                             1\n",
       "['Senior', 'Manager']                                   1\n",
       "['Senior', 'Junior']                                    1\n",
       "['Senior', 'Middle', 'Manager', 'Junior', 'Lead']       1\n",
       "['Менеджер']                                            1\n",
       "['Junior', 'Middle', 'Руководитель']                    1\n",
       "['Middle', 'Senior', 'Manager']                         1\n",
       "['Junior', 'Lead', 'Middle']                            1\n",
       "Name: levels, dtype: int64"
      ]
     },
     "execution_count": 106,
     "metadata": {},
     "output_type": "execute_result"
    }
   ],
   "source": [
    "df['levels'].value_counts()"
   ]
  },
  {
   "cell_type": "code",
   "execution_count": 107,
   "id": "ea03d7d6",
   "metadata": {
    "scrolled": true
   },
   "outputs": [],
   "source": [
    "df['levels'] = df['levels'].apply(lambda x: x.replace('\\'', ''))"
   ]
  },
  {
   "cell_type": "code",
   "execution_count": 108,
   "id": "ac0acfa8",
   "metadata": {
    "scrolled": false
   },
   "outputs": [
    {
     "data": {
      "text/plain": [
       "От 1 года до 3 лет                         2235\n",
       "От 3 до 6 лет                              1710\n",
       "Средний (Middle)                            453\n",
       "Старший (Senior)                            362\n",
       "[]                                          307\n",
       "Нет опыта                                   275\n",
       "Более 6 лет                                 165\n",
       "Not indicated                               110\n",
       "Ведущий (Lead)                               72\n",
       "[Senior]                                     61\n",
       "[Middle, Senior]                             50\n",
       "[Middle]                                     31\n",
       "Младший (Junior)                             22\n",
       "[Lead]                                       19\n",
       "[Junior]                                     15\n",
       "[Руководитель]                               13\n",
       "[Senior, Middle]                             12\n",
       "[Senior, Lead]                               11\n",
       "От 1 года                                    10\n",
       "[Junior, Middle]                              7\n",
       "[Junior, Middle, Senior]                      6\n",
       "[Head]                                        5\n",
       "Стажёр (Intern)                               4\n",
       "От 3 лет                                      3\n",
       "[Middle, Senior, Lead]                        3\n",
       "[Manager]                                     3\n",
       "[Lead, Senior]                                3\n",
       "Без опыта                                     2\n",
       "[Senior, Head]                                1\n",
       "[Senior, Lead, Руководитель]                  1\n",
       "[Senior, Руководитель, Director, Head]        1\n",
       "[Senior, Middle, Junior]                      1\n",
       "[Middle, Senior, Junior]                      1\n",
       "[Middle, Manager, Head]                       1\n",
       "[Стажёр]                                      1\n",
       "[Senior, Middle, Lead]                        1\n",
       "[Lead, Head]                                  1\n",
       "[Junior, Senior]                              1\n",
       "[Manager, Junior]                             1\n",
       "[Head, Senior]                                1\n",
       "[President]                                   1\n",
       "[Manager, Руководитель]                       1\n",
       "[Senior, Manager]                             1\n",
       "[Senior, Junior]                              1\n",
       "[Senior, Middle, Manager, Junior, Lead]       1\n",
       "[Менеджер]                                    1\n",
       "[Junior, Middle, Руководитель]                1\n",
       "[Middle, Senior, Manager]                     1\n",
       "[Junior, Lead, Middle]                        1\n",
       "Name: levels, dtype: int64"
      ]
     },
     "execution_count": 108,
     "metadata": {},
     "output_type": "execute_result"
    }
   ],
   "source": [
    "df['levels'].value_counts()"
   ]
  },
  {
   "cell_type": "code",
   "execution_count": 109,
   "id": "1caf6f82",
   "metadata": {},
   "outputs": [],
   "source": [
    "# разбиение: при совместно попадании нескольких уровней,  отношу к нижнему \n",
    "# остальные случаи на усмотрение автора"
   ]
  },
  {
   "cell_type": "code",
   "execution_count": 110,
   "id": "fe619173",
   "metadata": {},
   "outputs": [],
   "source": [
    "#junior - \"Нет опыта\", \"[]\", \"Not indicated\", \"Младший (Junior)\", \"['Junior']\", \"['Junior', 'Middle']\", \"['Junior', 'Middle', 'Senior']\", \"Стажёр (Intern)\", \"['Manager']\", \"Без опыта\", \"['Senior', 'Middle', 'Junior']\", \"['Middle', 'Senior', 'Junior']\", \"['Стажёр']\", \"['Junior', 'Senior']\", \"['Manager', 'Junior']\", \"['Senior', 'Junior']\", \"['Senior', 'Middle', 'Manager', 'Junior', 'Lead']\", \"['Менеджер']\", \"['Junior', 'Middle', 'Руководитель']\", \"['Junior', 'Lead', 'Middle']\" \n",
    "#middle - \"От 1 года до 3 лет\", \"Средний (Middle)\", \"['Middle', 'Senior']\", \"['Middle']\", ['Senior', 'Middle'], \"От 1 года\", \"['Middle', 'Senior', 'Lead']\", \"['Middle', 'Manager', 'Head']\", \"['Senior', 'Middle', 'Lead']\", \"['Middle', 'Senior', 'Manager']\"\n",
    "#senior - \"От 3 до 6 лет\", \"Старший (Senior)\", \"['Senior']\", \"['Senior', 'Lead']\", \"От 3 лет \", \"['Lead', 'Senior']\", \"['Senior', 'Head']\", \"['Senior', 'Lead', 'Руководитель']\", \"['Senior', 'Руководитель', 'Director', 'Head']\", \"['Senior', 'Middle', 'Junior']\", \"['Head', 'Senior']\" \"['Senior', 'Manager']\"   \n",
    "#lead - \"Более 6 лет\", \"Ведущий (Lead)\", \"['Lead']\", \"['Руководитель']\", \"['Head']\", \"['Lead', 'Head']\", \"['President']\", \"['Manager', 'Руководитель']\"   "
   ]
  },
  {
   "cell_type": "code",
   "execution_count": 111,
   "id": "3cd3907e",
   "metadata": {},
   "outputs": [],
   "source": [
    "df_jun = df.query('levels == \"Нет опыта\" or levels == \"[]\" or levels == \"Not indicated\" or levels == \"Младший (Junior)\" or levels == \"[Junior]\" or levels == \"[Junior, Middle]\" or levels == \"[Junior, Middle, Senior]\" or levels == \"Стажёр (Intern)\" or levels == \"[Manager]\" or levels == \"Без опыта\" or levels == \"[Senior, Middle, Junior]\" or levels == \"[Middle, Senior, Junior]\" or levels == \"[Стажёр]\" or levels == \"[Junior, Senior]\" or levels == \"[Manager, Junior]\" or levels == \"[Senior, Junior]\" or levels == \"[Senior, Middle, Manager, Junior, Lead]\" or levels == \"[Менеджер]\" or levels == \"[Junior, Middle, Руководитель]\" or levels == \"[Junior, Lead, Middle]\"')"
   ]
  },
  {
   "cell_type": "code",
   "execution_count": 112,
   "id": "6026d948",
   "metadata": {},
   "outputs": [],
   "source": [
    "df_mid = df.query('levels == \"От 1 года до 3 лет\" or levels == \"Средний (Middle)\" or levels == \"[Middle, Senior]\" or levels == \"[Middle]\" or levels == \"[Senior, Middle]\" or levels == \"От 1 года\" or levels == \"[Middle, Senior, Lead]\" or levels == \"[Middle, Manager, Head]\" or levels == \"[Senior, Middle, Lead]\" or levels == \"[Middle, Senior, Manager]\"')"
   ]
  },
  {
   "cell_type": "code",
   "execution_count": 113,
   "id": "ababdd7e",
   "metadata": {},
   "outputs": [],
   "source": [
    "df_sen = df.query('levels == \"От 3 до 6 лет\" or levels == \"Старший (Senior)\" or levels == \"[Senior]\" or levels == \"[Senior, Lead]\" or levels == \"От 3 лет \" or levels == \"[Lead, Senior]\" or levels == \"[Senior, Head]\" or levels == \"[Senior, Lead, Руководитель]\" or levels == \"[Senior, Руководитель, Director, Head]\" or levels == \"[Senior, Middle, Junior]\" or levels == \"[Head, Senior]\" or levels == \"[Senior, Manager]\"')"
   ]
  },
  {
   "cell_type": "code",
   "execution_count": 114,
   "id": "d2aba453",
   "metadata": {},
   "outputs": [],
   "source": [
    "df_lead = df.query('levels == \"Более 6 лет\" or levels == \"Ведущий (Lead)\" or levels == \"[Lead]\" or levels == \"[Руководитель]\" or levels == \"[Head]\" or levels == \"[Lead, Head]\" or levels == \"[President]\" or levels == \"[Manager, Руководитель]\"')"
   ]
  },
  {
   "cell_type": "code",
   "execution_count": 115,
   "id": "4716adfc",
   "metadata": {},
   "outputs": [],
   "source": [
    "from IPython.display import clear_output\n",
    "from IPython.display import display, HTML\n",
    "\n",
    "pd.set_option('display.max_columns', None)"
   ]
  },
  {
   "cell_type": "code",
   "execution_count": 116,
   "id": "6b647346",
   "metadata": {},
   "outputs": [],
   "source": [
    "# принимает: \n",
    "# 'dfs' - список с таблицами\n",
    "# 'captions' - подписи к таблицам\n",
    "# 'space_width' - отступы между таблицами\n",
    "\n",
    "# возвращает:\n",
    "# выводит в консоль таблицы рядом с друг другом\n",
    "\n",
    "def display_side_by_side(dfs:list, captions:list, space_width=10):\n",
    "    output = \"\"\n",
    "    combined = dict(zip(captions, dfs))\n",
    "    \n",
    "    for caption, df in combined.items():\n",
    "        output += (df.style.set_properties(**{'text-align': 'left'})\n",
    "                   .set_table_attributes(\"style='display:inline'\")\n",
    "                   .set_caption(caption)._repr_html_())\n",
    "        output += \"\\xa0\" * space_width\n",
    "    \n",
    "    display(HTML(output))"
   ]
  },
  {
   "cell_type": "code",
   "execution_count": 117,
   "id": "bb9e76dc",
   "metadata": {},
   "outputs": [],
   "source": [
    "def top_skills(df):\n",
    "    # преводим ключевые навыки из Series в List\n",
    "    skills_df = df['techstack'].to_list()\n",
    "    # список для всех ключевых навыков со всех вакансий\n",
    "    skills = []\n",
    "    # заполняем список всех ключевых навыков\n",
    "    for skill in skills_df:\n",
    "        if skill == skill:\n",
    "            for el in skill[1:-1].split(', '):\n",
    "                if el != '':\n",
    "                    skills.append(re.sub('\\'', '', el.lower()))\n",
    "\n",
    "    # выбираем все уникальные значения ключевых навыков\n",
    "    set_skills = set(skills)\n",
    "    # создаем словарь с уникальными словами и их количеством повторений\n",
    "    dct_skills = {el:skills.count(el) for el in set_skills}\n",
    "    # сортируем данные\n",
    "    srt_skills = dict(sorted(dct_skills.items(), key=lambda x: x[1], reverse=True))\n",
    "    # взращаем осортированные данные (ключевой навых - количество повторений)\n",
    "    return pd.Series(srt_skills, name='skills')"
   ]
  },
  {
   "cell_type": "code",
   "execution_count": 118,
   "id": "8c71dfa0",
   "metadata": {},
   "outputs": [],
   "source": [
    "top_skills_jun = top_skills(df_jun)\n",
    "top_skills_mid  = top_skills(df_mid)\n",
    "top_skills_sen = top_skills(df_sen)\n",
    "top_skills_lead = top_skills(df_lead)"
   ]
  },
  {
   "cell_type": "code",
   "execution_count": 119,
   "id": "630a9707",
   "metadata": {},
   "outputs": [
    {
     "data": {
      "text/html": [
       "<style type=\"text/css\">\n",
       "#T_58a1c_row0_col0, #T_58a1c_row0_col1, #T_58a1c_row1_col0, #T_58a1c_row1_col1, #T_58a1c_row2_col0, #T_58a1c_row2_col1 {\n",
       "  text-align: left;\n",
       "}\n",
       "</style>\n",
       "<table id=\"T_58a1c\" style='display:inline'>\n",
       "  <caption>Top skills junior:</caption>\n",
       "  <thead>\n",
       "    <tr>\n",
       "      <th class=\"blank level0\" >&nbsp;</th>\n",
       "      <th id=\"T_58a1c_level0_col0\" class=\"col_heading level0 col0\" >skills</th>\n",
       "      <th id=\"T_58a1c_level0_col1\" class=\"col_heading level0 col1\" >count</th>\n",
       "    </tr>\n",
       "  </thead>\n",
       "  <tbody>\n",
       "    <tr>\n",
       "      <th id=\"T_58a1c_level0_row0\" class=\"row_heading level0 row0\" >0</th>\n",
       "      <td id=\"T_58a1c_row0_col0\" class=\"data row0 col0\" >python</td>\n",
       "      <td id=\"T_58a1c_row0_col1\" class=\"data row0 col1\" >187</td>\n",
       "    </tr>\n",
       "    <tr>\n",
       "      <th id=\"T_58a1c_level0_row1\" class=\"row_heading level0 row1\" >1</th>\n",
       "      <td id=\"T_58a1c_row1_col0\" class=\"data row1 col0\" >sql</td>\n",
       "      <td id=\"T_58a1c_row1_col1\" class=\"data row1 col1\" >174</td>\n",
       "    </tr>\n",
       "    <tr>\n",
       "      <th id=\"T_58a1c_level0_row2\" class=\"row_heading level0 row2\" >2</th>\n",
       "      <td id=\"T_58a1c_row2_col0\" class=\"data row2 col0\" >анализ данных</td>\n",
       "      <td id=\"T_58a1c_row2_col1\" class=\"data row2 col1\" >71</td>\n",
       "    </tr>\n",
       "  </tbody>\n",
       "</table>\n",
       "          "
      ],
      "text/plain": [
       "<IPython.core.display.HTML object>"
      ]
     },
     "metadata": {},
     "output_type": "display_data"
    }
   ],
   "source": [
    "count = 3\n",
    "\n",
    "skj = top_skills_jun.head(count)\n",
    "skm = top_skills_mid.head(count)\n",
    "sks = top_skills_sen.head(count)\n",
    "\n",
    "display_side_by_side([pd.DataFrame({'skills':skj.index, 'count':skj.values})],\n",
    "                     ['Top skills junior:'], 10) "
   ]
  },
  {
   "cell_type": "code",
   "execution_count": 120,
   "id": "ac524447",
   "metadata": {},
   "outputs": [
    {
     "data": {
      "text/html": [
       "<style type=\"text/css\">\n",
       "#T_dcbd8_row0_col0, #T_dcbd8_row0_col1, #T_dcbd8_row1_col0, #T_dcbd8_row1_col1, #T_dcbd8_row2_col0, #T_dcbd8_row2_col1 {\n",
       "  text-align: left;\n",
       "}\n",
       "</style>\n",
       "<table id=\"T_dcbd8\" style='display:inline'>\n",
       "  <caption>Top skills middle:</caption>\n",
       "  <thead>\n",
       "    <tr>\n",
       "      <th class=\"blank level0\" >&nbsp;</th>\n",
       "      <th id=\"T_dcbd8_level0_col0\" class=\"col_heading level0 col0\" >skills</th>\n",
       "      <th id=\"T_dcbd8_level0_col1\" class=\"col_heading level0 col1\" >count</th>\n",
       "    </tr>\n",
       "  </thead>\n",
       "  <tbody>\n",
       "    <tr>\n",
       "      <th id=\"T_dcbd8_level0_row0\" class=\"row_heading level0 row0\" >0</th>\n",
       "      <td id=\"T_dcbd8_row0_col0\" class=\"data row0 col0\" >sql</td>\n",
       "      <td id=\"T_dcbd8_row0_col1\" class=\"data row0 col1\" >1110</td>\n",
       "    </tr>\n",
       "    <tr>\n",
       "      <th id=\"T_dcbd8_level0_row1\" class=\"row_heading level0 row1\" >1</th>\n",
       "      <td id=\"T_dcbd8_row1_col0\" class=\"data row1 col0\" >python</td>\n",
       "      <td id=\"T_dcbd8_row1_col1\" class=\"data row1 col1\" >754</td>\n",
       "    </tr>\n",
       "    <tr>\n",
       "      <th id=\"T_dcbd8_level0_row2\" class=\"row_heading level0 row2\" >2</th>\n",
       "      <td id=\"T_dcbd8_row2_col0\" class=\"data row2 col0\" >аналитическое мышление</td>\n",
       "      <td id=\"T_dcbd8_row2_col1\" class=\"data row2 col1\" >483</td>\n",
       "    </tr>\n",
       "  </tbody>\n",
       "</table>\n",
       "          "
      ],
      "text/plain": [
       "<IPython.core.display.HTML object>"
      ]
     },
     "metadata": {},
     "output_type": "display_data"
    }
   ],
   "source": [
    "skm = top_skills_mid.head(count)\n",
    "\n",
    "display_side_by_side([pd.DataFrame({'skills':skm.index, 'count':skm.values})],\n",
    "                     ['Top skills middle:'], 10) "
   ]
  },
  {
   "cell_type": "code",
   "execution_count": 121,
   "id": "c3168a5d",
   "metadata": {},
   "outputs": [
    {
     "data": {
      "text/html": [
       "<style type=\"text/css\">\n",
       "#T_e1fcb_row0_col0, #T_e1fcb_row0_col1, #T_e1fcb_row1_col0, #T_e1fcb_row1_col1, #T_e1fcb_row2_col0, #T_e1fcb_row2_col1 {\n",
       "  text-align: left;\n",
       "}\n",
       "</style>\n",
       "<table id=\"T_e1fcb\" style='display:inline'>\n",
       "  <caption>Top skills senior:</caption>\n",
       "  <thead>\n",
       "    <tr>\n",
       "      <th class=\"blank level0\" >&nbsp;</th>\n",
       "      <th id=\"T_e1fcb_level0_col0\" class=\"col_heading level0 col0\" >skills</th>\n",
       "      <th id=\"T_e1fcb_level0_col1\" class=\"col_heading level0 col1\" >count</th>\n",
       "    </tr>\n",
       "  </thead>\n",
       "  <tbody>\n",
       "    <tr>\n",
       "      <th id=\"T_e1fcb_level0_row0\" class=\"row_heading level0 row0\" >0</th>\n",
       "      <td id=\"T_e1fcb_row0_col0\" class=\"data row0 col0\" >sql</td>\n",
       "      <td id=\"T_e1fcb_row0_col1\" class=\"data row0 col1\" >838</td>\n",
       "    </tr>\n",
       "    <tr>\n",
       "      <th id=\"T_e1fcb_level0_row1\" class=\"row_heading level0 row1\" >1</th>\n",
       "      <td id=\"T_e1fcb_row1_col0\" class=\"data row1 col0\" >python</td>\n",
       "      <td id=\"T_e1fcb_row1_col1\" class=\"data row1 col1\" >642</td>\n",
       "    </tr>\n",
       "    <tr>\n",
       "      <th id=\"T_e1fcb_level0_row2\" class=\"row_heading level0 row2\" >2</th>\n",
       "      <td id=\"T_e1fcb_row2_col0\" class=\"data row2 col0\" >postgresql</td>\n",
       "      <td id=\"T_e1fcb_row2_col1\" class=\"data row2 col1\" >263</td>\n",
       "    </tr>\n",
       "  </tbody>\n",
       "</table>\n",
       "          "
      ],
      "text/plain": [
       "<IPython.core.display.HTML object>"
      ]
     },
     "metadata": {},
     "output_type": "display_data"
    }
   ],
   "source": [
    "sks = top_skills_sen.head(count)\n",
    "\n",
    "display_side_by_side([pd.DataFrame({'skills':sks.index, 'count':sks.values})],\n",
    "                     ['Top skills senior:'], 10) "
   ]
  },
  {
   "cell_type": "code",
   "execution_count": 122,
   "id": "219adccf",
   "metadata": {},
   "outputs": [
    {
     "data": {
      "text/html": [
       "<style type=\"text/css\">\n",
       "#T_6fc51_row0_col0, #T_6fc51_row0_col1, #T_6fc51_row1_col0, #T_6fc51_row1_col1, #T_6fc51_row2_col0, #T_6fc51_row2_col1 {\n",
       "  text-align: left;\n",
       "}\n",
       "</style>\n",
       "<table id=\"T_6fc51\" style='display:inline'>\n",
       "  <caption>Top skills lead:</caption>\n",
       "  <thead>\n",
       "    <tr>\n",
       "      <th class=\"blank level0\" >&nbsp;</th>\n",
       "      <th id=\"T_6fc51_level0_col0\" class=\"col_heading level0 col0\" >skills</th>\n",
       "      <th id=\"T_6fc51_level0_col1\" class=\"col_heading level0 col1\" >count</th>\n",
       "    </tr>\n",
       "  </thead>\n",
       "  <tbody>\n",
       "    <tr>\n",
       "      <th id=\"T_6fc51_level0_row0\" class=\"row_heading level0 row0\" >0</th>\n",
       "      <td id=\"T_6fc51_row0_col0\" class=\"data row0 col0\" >python</td>\n",
       "      <td id=\"T_6fc51_row0_col1\" class=\"data row0 col1\" >72</td>\n",
       "    </tr>\n",
       "    <tr>\n",
       "      <th id=\"T_6fc51_level0_row1\" class=\"row_heading level0 row1\" >1</th>\n",
       "      <td id=\"T_6fc51_row1_col0\" class=\"data row1 col0\" >sql</td>\n",
       "      <td id=\"T_6fc51_row1_col1\" class=\"data row1 col1\" >65</td>\n",
       "    </tr>\n",
       "    <tr>\n",
       "      <th id=\"T_6fc51_level0_row2\" class=\"row_heading level0 row2\" >2</th>\n",
       "      <td id=\"T_6fc51_row2_col0\" class=\"data row2 col0\" >английский язык</td>\n",
       "      <td id=\"T_6fc51_row2_col1\" class=\"data row2 col1\" >42</td>\n",
       "    </tr>\n",
       "  </tbody>\n",
       "</table>\n",
       "          "
      ],
      "text/plain": [
       "<IPython.core.display.HTML object>"
      ]
     },
     "metadata": {},
     "output_type": "display_data"
    }
   ],
   "source": [
    "skl = top_skills_lead.head(count)\n",
    "\n",
    "display_side_by_side([pd.DataFrame({'skills':skl.index, 'count':skl.values})],\n",
    "                     ['Top skills lead:'], 10) "
   ]
  },
  {
   "cell_type": "code",
   "execution_count": null,
   "id": "c069bbe9",
   "metadata": {},
   "outputs": [],
   "source": []
  }
 ],
 "metadata": {
  "kernelspec": {
   "display_name": "Python 3",
   "language": "python",
   "name": "python3"
  },
  "language_info": {
   "codemirror_mode": {
    "name": "ipython",
    "version": 3
   },
   "file_extension": ".py",
   "mimetype": "text/x-python",
   "name": "python",
   "nbconvert_exporter": "python",
   "pygments_lexer": "ipython3",
   "version": "3.9.13"
  },
  "vscode": {
   "interpreter": {
    "hash": "aee8b7b246df8f9039afb4144a1f6fd8d2ca17a180786b69acc140d282b71a49"
   }
  }
 },
 "nbformat": 4,
 "nbformat_minor": 5
}
