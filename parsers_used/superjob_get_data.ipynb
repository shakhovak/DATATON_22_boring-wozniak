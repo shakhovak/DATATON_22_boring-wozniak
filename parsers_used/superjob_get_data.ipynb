{
 "cells": [
  {
   "cell_type": "code",
   "execution_count": null,
   "metadata": {},
   "outputs": [],
   "source": [
    "import pandas as pd\n",
    "from pandas import *\n",
    "import numpy as np\n",
    "import requests\n",
    "from pprint import pprint\n",
    "import csv\n",
    "\n",
    "\n",
    "token =''\n",
    "\n",
    "keywords = 'data science,data engineer,Data Analyst,mlops,Machine Learning'\n",
    "\n",
    "headers = {'X-Api-App-Id' : token} #токен полученный на сайте\n",
    "\n",
    "response = requests.get('https://api.superjob.ru/2.0/vacancies/?keywords=%s' % keywords, headers=headers)\n",
    "\n",
    "response_json = response.json()['objects']\n",
    "list_of_vac = []\n",
    "for item in response_json:\n",
    "    list_of_vac.append([\n",
    "        item['firm_name'],\n",
    "        item['profession'],\n",
    "        item['town']['title'],\n",
    "        item['place_of_work']['title'],\n",
    "        str(item['payment_from'] if item['payment_from'] else 'Договорная'),\n",
    "        item['type_of_work']['title'],\n",
    "        item['experience']['title'],\n",
    "        item['candidat'],\n",
    "        item['date_published']\n",
    "    ])\n",
    "\n",
    "list_of_columns = ['company', 'position', 'location', 'format', 'salary', 'schedule', 'levels', 'techstack', 'date_publish']\n",
    "\n",
    "df = pd.DataFrame(list_of_vac, columns=list_of_columns)\n",
    "df['date_publish'] = pd.to_datetime(df['date_publish'], unit='s')\n",
    "df['source_id'] = 'superjob.ru'\n",
    "\n",
    "with open('frame.csv', newline='', encoding='UTF8') as f:\n",
    "    reader=csv.reader(f)\n",
    "    frame = [x for y in list(reader) for x in y]\n",
    "\n",
    "\n",
    "def tech_skills(stack):\n",
    "    stack_out = []\n",
    "\n",
    "    for item in frame:\n",
    "        if item in stack.lower():\n",
    "            stack_out.append(item)\n",
    "    return stack_out\n",
    "\n",
    "df['techstack'] = df['techstack'].apply(lambda x: tech_skills(x))\n",
    "\n",
    "df.to_csv('superjob_out.csv', encoding='UTF8', index=False)"
   ]
  }
 ],
 "metadata": {
  "kernelspec": {
   "display_name": "Python 3",
   "language": "python",
   "name": "python3"
  },
  "language_info": {
   "name": "python",
   "version": "3.10.2 (tags/v3.10.2:a58ebcc, Jan 17 2022, 14:12:15) [MSC v.1929 64 bit (AMD64)]"
  },
  "orig_nbformat": 4,
  "vscode": {
   "interpreter": {
    "hash": "71f2c8a399b8c8c27e9d1613661f479ffb803ecb66e73ed0cfa9e8c063a43551"
   }
  }
 },
 "nbformat": 4,
 "nbformat_minor": 2
}
