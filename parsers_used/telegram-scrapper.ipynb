{
 "cells": [
  {
   "cell_type": "code",
   "execution_count": 338,
   "metadata": {},
   "outputs": [],
   "source": [
    "from selenium import webdriver\n",
    "from selenium.webdriver.common.by import By\n",
    "from selenium.webdriver.common.action_chains import ActionChains\n",
    "from selenium.common.exceptions import NoSuchElementException\n",
    "\n",
    "from datetime import datetime\n",
    "import pandas as pd\n",
    "from time import sleep\n",
    "from tqdm import tqdm\n",
    "from pprint import pprint\n",
    "import re\n"
   ]
  },
  {
   "cell_type": "code",
   "execution_count": 339,
   "metadata": {},
   "outputs": [],
   "source": [
    "browser = webdriver.Chrome()"
   ]
  },
  {
   "cell_type": "code",
   "execution_count": 409,
   "metadata": {},
   "outputs": [],
   "source": [
    "browser.get('https://web.telegram.org/z/#-1321264581')"
   ]
  },
  {
   "cell_type": "code",
   "execution_count": 412,
   "metadata": {},
   "outputs": [],
   "source": [
    "df = pd.DataFrame({\n",
    "    'msg_date': [], \n",
    "    'msg_time': [], \n",
    "    'msg_text': [], \n",
    "    'msg_views': [], \n",
    "    'msg_id': []\n",
    "})"
   ]
  },
  {
   "cell_type": "code",
   "execution_count": 413,
   "metadata": {},
   "outputs": [
    {
     "name": "stderr",
     "output_type": "stream",
     "text": [
      "100%|██████████| 16/16 [00:01<00:00, 10.65it/s]\n"
     ]
    },
    {
     "name": "stdout",
     "output_type": "stream",
     "text": [
      "Итерация 1 >> 0:1\n",
      "Загруженная дата: Today / Размер датасета: 16\n"
     ]
    },
    {
     "name": "stderr",
     "output_type": "stream",
     "text": [
      "100%|██████████| 37/37 [00:02<00:00, 14.09it/s]\n"
     ]
    },
    {
     "name": "stdout",
     "output_type": "stream",
     "text": [
      "Итерация 2 >> 0:2\n",
      "Загруженная дата: Today / Размер датасета: 53\n"
     ]
    },
    {
     "name": "stderr",
     "output_type": "stream",
     "text": [
      "100%|██████████| 48/48 [00:03<00:00, 12.47it/s]\n"
     ]
    },
    {
     "name": "stdout",
     "output_type": "stream",
     "text": [
      "Итерация 3 >> 0:3\n",
      "Загруженная дата: December 8 / Размер датасета: 101\n"
     ]
    },
    {
     "name": "stderr",
     "output_type": "stream",
     "text": [
      "100%|██████████| 64/64 [00:05<00:00, 12.71it/s]\n"
     ]
    },
    {
     "name": "stdout",
     "output_type": "stream",
     "text": [
      "Итерация 4 >> 0:5\n",
      "Загруженная дата: November 18 / Размер датасета: 165\n"
     ]
    },
    {
     "name": "stderr",
     "output_type": "stream",
     "text": [
      "100%|██████████| 63/63 [00:04<00:00, 12.84it/s]\n"
     ]
    },
    {
     "name": "stdout",
     "output_type": "stream",
     "text": [
      "Итерация 5 >> 0:4\n",
      "Загруженная дата: October 20 / Размер датасета: 228\n"
     ]
    },
    {
     "name": "stderr",
     "output_type": "stream",
     "text": [
      "100%|██████████| 60/60 [00:06<00:00,  9.80it/s]\n"
     ]
    },
    {
     "name": "stdout",
     "output_type": "stream",
     "text": [
      "Итерация 6 >> 0:6\n",
      "Загруженная дата: September 11 / Размер датасета: 288\n"
     ]
    },
    {
     "name": "stderr",
     "output_type": "stream",
     "text": [
      "100%|██████████| 59/59 [00:05<00:00, 11.75it/s]\n"
     ]
    },
    {
     "name": "stdout",
     "output_type": "stream",
     "text": [
      "Итерация 7 >> 0:5\n",
      "Загруженная дата: August 15 / Размер датасета: 347\n"
     ]
    },
    {
     "name": "stderr",
     "output_type": "stream",
     "text": [
      "100%|██████████| 56/56 [00:05<00:00, 11.12it/s]\n"
     ]
    },
    {
     "name": "stdout",
     "output_type": "stream",
     "text": [
      "Итерация 8 >> 0:5\n",
      "Загруженная дата: July 14 / Размер датасета: 403\n"
     ]
    },
    {
     "name": "stderr",
     "output_type": "stream",
     "text": [
      "100%|██████████| 64/64 [00:07<00:00,  9.14it/s]\n"
     ]
    },
    {
     "name": "stdout",
     "output_type": "stream",
     "text": [
      "Итерация 9 >> 0:7\n",
      "Загруженная дата: June 17 / Размер датасета: 467\n"
     ]
    },
    {
     "name": "stderr",
     "output_type": "stream",
     "text": [
      "100%|██████████| 61/61 [00:06<00:00,  9.82it/s]\n"
     ]
    },
    {
     "name": "stdout",
     "output_type": "stream",
     "text": [
      "Итерация 10 >> 0:6\n",
      "Загруженная дата: May 16 / Размер датасета: 528\n",
      "Пауза 15с...\n"
     ]
    },
    {
     "name": "stderr",
     "output_type": "stream",
     "text": [
      "100%|██████████| 15/15 [00:15<00:00,  1.00s/it]\n",
      "100%|██████████| 58/58 [00:05<00:00,  9.73it/s]\n"
     ]
    },
    {
     "name": "stdout",
     "output_type": "stream",
     "text": [
      "Итерация 11 >> 0:6\n",
      "Загруженная дата: April 1 / Размер датасета: 586\n"
     ]
    },
    {
     "name": "stderr",
     "output_type": "stream",
     "text": [
      "100%|██████████| 62/62 [00:06<00:00,  9.00it/s]\n"
     ]
    },
    {
     "name": "stdout",
     "output_type": "stream",
     "text": [
      "Итерация 12 >> 0:7\n",
      "Загруженная дата: February 28 / Размер датасета: 648\n"
     ]
    },
    {
     "name": "stderr",
     "output_type": "stream",
     "text": [
      "100%|██████████| 58/58 [00:06<00:00,  9.03it/s]\n"
     ]
    },
    {
     "name": "stdout",
     "output_type": "stream",
     "text": [
      "Итерация 13 >> 0:6\n",
      "Загруженная дата: January 27 / Размер датасета: 706\n"
     ]
    },
    {
     "name": "stderr",
     "output_type": "stream",
     "text": [
      "100%|██████████| 48/48 [00:05<00:00,  8.53it/s]\n"
     ]
    },
    {
     "name": "stdout",
     "output_type": "stream",
     "text": [
      "Итерация 14 >> 0:5\n",
      "Загруженная дата: December 13, 2021 / Размер датасета: 754\n"
     ]
    },
    {
     "name": "stderr",
     "output_type": "stream",
     "text": [
      "100%|██████████| 53/53 [00:08<00:00,  6.29it/s]\n"
     ]
    },
    {
     "name": "stdout",
     "output_type": "stream",
     "text": [
      "Итерация 15 >> 0:8\n",
      "Загруженная дата: November 14, 2021 / Размер датасета: 807\n"
     ]
    },
    {
     "name": "stderr",
     "output_type": "stream",
     "text": [
      "100%|██████████| 61/61 [00:07<00:00,  8.67it/s]\n"
     ]
    },
    {
     "name": "stdout",
     "output_type": "stream",
     "text": [
      "Итерация 16 >> 0:7\n",
      "Загруженная дата: October 24, 2021 / Размер датасета: 868\n"
     ]
    },
    {
     "name": "stderr",
     "output_type": "stream",
     "text": [
      "100%|██████████| 60/60 [00:07<00:00,  8.09it/s]\n"
     ]
    },
    {
     "name": "stdout",
     "output_type": "stream",
     "text": [
      "Итерация 17 >> 0:7\n",
      "Загруженная дата: September 21, 2021 / Размер датасета: 928\n"
     ]
    },
    {
     "name": "stderr",
     "output_type": "stream",
     "text": [
      "100%|██████████| 61/61 [00:07<00:00,  8.13it/s]\n"
     ]
    },
    {
     "name": "stdout",
     "output_type": "stream",
     "text": [
      "Итерация 18 >> 0:7\n",
      "Загруженная дата: August 23, 2021 / Размер датасета: 989\n"
     ]
    },
    {
     "name": "stderr",
     "output_type": "stream",
     "text": [
      "100%|██████████| 61/61 [00:07<00:00,  7.65it/s]\n"
     ]
    },
    {
     "name": "stdout",
     "output_type": "stream",
     "text": [
      "Итерация 19 >> 0:8\n",
      "Загруженная дата: July 22, 2021 / Размер датасета: 1050\n"
     ]
    },
    {
     "name": "stderr",
     "output_type": "stream",
     "text": [
      "100%|██████████| 67/67 [00:09<00:00,  6.97it/s]\n"
     ]
    },
    {
     "name": "stdout",
     "output_type": "stream",
     "text": [
      "Итерация 20 >> 0:9\n",
      "Загруженная дата: June 23, 2021 / Размер датасета: 1117\n",
      "Пауза 15с...\n"
     ]
    },
    {
     "name": "stderr",
     "output_type": "stream",
     "text": [
      "100%|██████████| 15/15 [00:15<00:00,  1.00s/it]\n",
      "100%|██████████| 65/65 [00:09<00:00,  7.06it/s]\n"
     ]
    },
    {
     "name": "stdout",
     "output_type": "stream",
     "text": [
      "Итерация 21 >> 0:9\n",
      "Загруженная дата: May 17, 2021 / Размер датасета: 1182\n"
     ]
    },
    {
     "name": "stderr",
     "output_type": "stream",
     "text": [
      "100%|██████████| 59/59 [00:07<00:00,  7.65it/s]\n"
     ]
    },
    {
     "name": "stdout",
     "output_type": "stream",
     "text": [
      "Итерация 22 >> 0:7\n",
      "Загруженная дата: April 10, 2021 / Размер датасета: 1241\n"
     ]
    },
    {
     "name": "stderr",
     "output_type": "stream",
     "text": [
      "100%|██████████| 66/66 [00:10<00:00,  6.35it/s]\n"
     ]
    },
    {
     "name": "stdout",
     "output_type": "stream",
     "text": [
      "Итерация 23 >> 0:10\n",
      "Загруженная дата: March 10, 2021 / Размер датасета: 1307\n"
     ]
    },
    {
     "name": "stderr",
     "output_type": "stream",
     "text": [
      "100%|██████████| 62/62 [00:08<00:00,  7.13it/s]\n"
     ]
    },
    {
     "name": "stdout",
     "output_type": "stream",
     "text": [
      "Итерация 24 >> 0:8\n",
      "Загруженная дата: February 9, 2021 / Размер датасета: 1369\n"
     ]
    },
    {
     "name": "stderr",
     "output_type": "stream",
     "text": [
      "100%|██████████| 54/54 [00:07<00:00,  6.85it/s]\n"
     ]
    },
    {
     "name": "stdout",
     "output_type": "stream",
     "text": [
      "Итерация 25 >> 0:7\n",
      "Загруженная дата: December 26, 2020 / Размер датасета: 1423\n"
     ]
    },
    {
     "name": "stderr",
     "output_type": "stream",
     "text": [
      "100%|██████████| 56/56 [00:08<00:00,  6.50it/s]\n"
     ]
    },
    {
     "name": "stdout",
     "output_type": "stream",
     "text": [
      "Итерация 26 >> 0:8\n",
      "Загруженная дата: November 17, 2020 / Размер датасета: 1479\n"
     ]
    },
    {
     "name": "stderr",
     "output_type": "stream",
     "text": [
      "100%|██████████| 53/53 [00:09<00:00,  5.34it/s]\n"
     ]
    },
    {
     "name": "stdout",
     "output_type": "stream",
     "text": [
      "Итерация 27 >> 0:10\n",
      "Загруженная дата: October 9, 2020 / Размер датасета: 1532\n"
     ]
    },
    {
     "name": "stderr",
     "output_type": "stream",
     "text": [
      "100%|██████████| 53/53 [00:08<00:00,  6.41it/s]\n"
     ]
    },
    {
     "name": "stdout",
     "output_type": "stream",
     "text": [
      "Итерация 28 >> 0:8\n",
      "Загруженная дата: August 21, 2020 / Размер датасета: 1585\n"
     ]
    },
    {
     "name": "stderr",
     "output_type": "stream",
     "text": [
      "100%|██████████| 56/56 [00:08<00:00,  6.95it/s]\n"
     ]
    },
    {
     "name": "stdout",
     "output_type": "stream",
     "text": [
      "Итерация 29 >> 0:8\n",
      "Загруженная дата: July 19, 2020 / Размер датасета: 1641\n"
     ]
    },
    {
     "name": "stderr",
     "output_type": "stream",
     "text": [
      "100%|██████████| 55/55 [00:08<00:00,  6.71it/s]\n"
     ]
    },
    {
     "name": "stdout",
     "output_type": "stream",
     "text": [
      "Итерация 30 >> 0:8\n",
      "Загруженная дата: May 21, 2020 / Размер датасета: 1696\n",
      "Пауза 15с...\n"
     ]
    },
    {
     "name": "stderr",
     "output_type": "stream",
     "text": [
      "100%|██████████| 15/15 [00:15<00:00,  1.01s/it]\n",
      "  0%|          | 0/33 [00:00<?, ?it/s]\n"
     ]
    },
    {
     "ename": "NoSuchElementException",
     "evalue": "Message: no such element: Unable to locate element: {\"method\":\"css selector\",\"selector\":\".text-content\"}\n  (Session info: chrome=108.0.5359.124)\nStacktrace:\n0   chromedriver                        0x000000010e25af38 chromedriver + 4910904\n1   chromedriver                        0x000000010e1daa03 chromedriver + 4385283\n2   chromedriver                        0x000000010de1f747 chromedriver + 472903\n3   chromedriver                        0x000000010de6434c chromedriver + 754508\n4   chromedriver                        0x000000010de645a1 chromedriver + 755105\n5   chromedriver                        0x000000010de56216 chromedriver + 696854\n6   chromedriver                        0x000000010de8a13d chromedriver + 909629\n7   chromedriver                        0x000000010de560ed chromedriver + 696557\n8   chromedriver                        0x000000010de8a2ce chromedriver + 910030\n9   chromedriver                        0x000000010dea528e chromedriver + 1020558\n10  chromedriver                        0x000000010de89ee3 chromedriver + 909027\n11  chromedriver                        0x000000010de5430c chromedriver + 688908\n12  chromedriver                        0x000000010de5588e chromedriver + 694414\n13  chromedriver                        0x000000010e2281de chromedriver + 4702686\n14  chromedriver                        0x000000010e22cb19 chromedriver + 4721433\n15  chromedriver                        0x000000010e23428e chromedriver + 4752014\n16  chromedriver                        0x000000010e22d91a chromedriver + 4725018\n17  chromedriver                        0x000000010e201b02 chromedriver + 4545282\n18  chromedriver                        0x000000010e24c888 chromedriver + 4851848\n19  chromedriver                        0x000000010e24ca05 chromedriver + 4852229\n20  chromedriver                        0x000000010e262e5f chromedriver + 4943455\n21  libsystem_pthread.dylib             0x00007ff81d4944e1 _pthread_start + 125\n22  libsystem_pthread.dylib             0x00007ff81d48ff6b thread_start + 15\n",
     "output_type": "error",
     "traceback": [
      "\u001b[0;31m---------------------------------------------------------------------------\u001b[0m",
      "\u001b[0;31mNoSuchElementException\u001b[0m                    Traceback (most recent call last)",
      "\u001b[1;32m/Users/antonmosharov/Documents/code/python/mipt/dataton/test.ipynb Cell 7\u001b[0m in \u001b[0;36m<cell line: 15>\u001b[0;34m()\u001b[0m\n\u001b[1;32m     <a href='vscode-notebook-cell:/Users/antonmosharov/Documents/code/python/mipt/dataton/test.ipynb#X23sZmlsZQ%3D%3D?line=32'>33</a>\u001b[0m msg_item_id \u001b[39m=\u001b[39m msg_item\u001b[39m.\u001b[39mget_attribute(\u001b[39m'\u001b[39m\u001b[39mdata-message-id\u001b[39m\u001b[39m'\u001b[39m)\n\u001b[1;32m     <a href='vscode-notebook-cell:/Users/antonmosharov/Documents/code/python/mipt/dataton/test.ipynb#X23sZmlsZQ%3D%3D?line=33'>34</a>\u001b[0m msg_date \u001b[39m=\u001b[39m msg\u001b[39m.\u001b[39mfind_element(By\u001b[39m.\u001b[39mCLASS_NAME, \u001b[39m'\u001b[39m\u001b[39msticky-date\u001b[39m\u001b[39m'\u001b[39m)\u001b[39m.\u001b[39mtext\n\u001b[0;32m---> <a href='vscode-notebook-cell:/Users/antonmosharov/Documents/code/python/mipt/dataton/test.ipynb#X23sZmlsZQ%3D%3D?line=35'>36</a>\u001b[0m msg_content \u001b[39m=\u001b[39m msg\u001b[39m.\u001b[39;49mfind_element(By\u001b[39m.\u001b[39;49mCLASS_NAME, \u001b[39m'\u001b[39;49m\u001b[39mtext-content\u001b[39;49m\u001b[39m'\u001b[39;49m)\n\u001b[1;32m     <a href='vscode-notebook-cell:/Users/antonmosharov/Documents/code/python/mipt/dataton/test.ipynb#X23sZmlsZQ%3D%3D?line=36'>37</a>\u001b[0m \u001b[39mif\u001b[39;00m \u001b[39m'\u001b[39m\u001b[39mwith-meta\u001b[39m\u001b[39m'\u001b[39m \u001b[39min\u001b[39;00m msg_content\u001b[39m.\u001b[39mget_attribute(\u001b[39m'\u001b[39m\u001b[39mclass\u001b[39m\u001b[39m'\u001b[39m):\n\u001b[1;32m     <a href='vscode-notebook-cell:/Users/antonmosharov/Documents/code/python/mipt/dataton/test.ipynb#X23sZmlsZQ%3D%3D?line=37'>38</a>\u001b[0m     msg_text_lines \u001b[39m=\u001b[39m msg_content\u001b[39m.\u001b[39mtext\u001b[39m.\u001b[39msplit(\u001b[39m'\u001b[39m\u001b[39m\\n\u001b[39;00m\u001b[39m'\u001b[39m)\n",
      "File \u001b[0;32m/Library/Frameworks/Python.framework/Versions/3.9/lib/python3.9/site-packages/selenium/webdriver/remote/webelement.py:433\u001b[0m, in \u001b[0;36mWebElement.find_element\u001b[0;34m(self, by, value)\u001b[0m\n\u001b[1;32m    430\u001b[0m     by \u001b[39m=\u001b[39m By\u001b[39m.\u001b[39mCSS_SELECTOR\n\u001b[1;32m    431\u001b[0m     value \u001b[39m=\u001b[39m \u001b[39m'\u001b[39m\u001b[39m[name=\u001b[39m\u001b[39m\"\u001b[39m\u001b[39m%s\u001b[39;00m\u001b[39m\"\u001b[39m\u001b[39m]\u001b[39m\u001b[39m'\u001b[39m \u001b[39m%\u001b[39m value\n\u001b[0;32m--> 433\u001b[0m \u001b[39mreturn\u001b[39;00m \u001b[39mself\u001b[39;49m\u001b[39m.\u001b[39;49m_execute(Command\u001b[39m.\u001b[39;49mFIND_CHILD_ELEMENT, {\u001b[39m\"\u001b[39;49m\u001b[39musing\u001b[39;49m\u001b[39m\"\u001b[39;49m: by, \u001b[39m\"\u001b[39;49m\u001b[39mvalue\u001b[39;49m\u001b[39m\"\u001b[39;49m: value})[\u001b[39m\"\u001b[39m\u001b[39mvalue\u001b[39m\u001b[39m\"\u001b[39m]\n",
      "File \u001b[0;32m/Library/Frameworks/Python.framework/Versions/3.9/lib/python3.9/site-packages/selenium/webdriver/remote/webelement.py:410\u001b[0m, in \u001b[0;36mWebElement._execute\u001b[0;34m(self, command, params)\u001b[0m\n\u001b[1;32m    408\u001b[0m     params \u001b[39m=\u001b[39m {}\n\u001b[1;32m    409\u001b[0m params[\u001b[39m\"\u001b[39m\u001b[39mid\u001b[39m\u001b[39m\"\u001b[39m] \u001b[39m=\u001b[39m \u001b[39mself\u001b[39m\u001b[39m.\u001b[39m_id\n\u001b[0;32m--> 410\u001b[0m \u001b[39mreturn\u001b[39;00m \u001b[39mself\u001b[39;49m\u001b[39m.\u001b[39;49m_parent\u001b[39m.\u001b[39;49mexecute(command, params)\n",
      "File \u001b[0;32m/Library/Frameworks/Python.framework/Versions/3.9/lib/python3.9/site-packages/selenium/webdriver/remote/webdriver.py:444\u001b[0m, in \u001b[0;36mWebDriver.execute\u001b[0;34m(self, driver_command, params)\u001b[0m\n\u001b[1;32m    442\u001b[0m response \u001b[39m=\u001b[39m \u001b[39mself\u001b[39m\u001b[39m.\u001b[39mcommand_executor\u001b[39m.\u001b[39mexecute(driver_command, params)\n\u001b[1;32m    443\u001b[0m \u001b[39mif\u001b[39;00m response:\n\u001b[0;32m--> 444\u001b[0m     \u001b[39mself\u001b[39;49m\u001b[39m.\u001b[39;49merror_handler\u001b[39m.\u001b[39;49mcheck_response(response)\n\u001b[1;32m    445\u001b[0m     response[\u001b[39m\"\u001b[39m\u001b[39mvalue\u001b[39m\u001b[39m\"\u001b[39m] \u001b[39m=\u001b[39m \u001b[39mself\u001b[39m\u001b[39m.\u001b[39m_unwrap_value(response\u001b[39m.\u001b[39mget(\u001b[39m\"\u001b[39m\u001b[39mvalue\u001b[39m\u001b[39m\"\u001b[39m, \u001b[39mNone\u001b[39;00m))\n\u001b[1;32m    446\u001b[0m     \u001b[39mreturn\u001b[39;00m response\n",
      "File \u001b[0;32m/Library/Frameworks/Python.framework/Versions/3.9/lib/python3.9/site-packages/selenium/webdriver/remote/errorhandler.py:249\u001b[0m, in \u001b[0;36mErrorHandler.check_response\u001b[0;34m(self, response)\u001b[0m\n\u001b[1;32m    247\u001b[0m         alert_text \u001b[39m=\u001b[39m value[\u001b[39m\"\u001b[39m\u001b[39malert\u001b[39m\u001b[39m\"\u001b[39m]\u001b[39m.\u001b[39mget(\u001b[39m\"\u001b[39m\u001b[39mtext\u001b[39m\u001b[39m\"\u001b[39m)\n\u001b[1;32m    248\u001b[0m     \u001b[39mraise\u001b[39;00m exception_class(message, screen, stacktrace, alert_text)  \u001b[39m# type: ignore[call-arg]  # mypy is not smart enough here\u001b[39;00m\n\u001b[0;32m--> 249\u001b[0m \u001b[39mraise\u001b[39;00m exception_class(message, screen, stacktrace)\n",
      "\u001b[0;31mNoSuchElementException\u001b[0m: Message: no such element: Unable to locate element: {\"method\":\"css selector\",\"selector\":\".text-content\"}\n  (Session info: chrome=108.0.5359.124)\nStacktrace:\n0   chromedriver                        0x000000010e25af38 chromedriver + 4910904\n1   chromedriver                        0x000000010e1daa03 chromedriver + 4385283\n2   chromedriver                        0x000000010de1f747 chromedriver + 472903\n3   chromedriver                        0x000000010de6434c chromedriver + 754508\n4   chromedriver                        0x000000010de645a1 chromedriver + 755105\n5   chromedriver                        0x000000010de56216 chromedriver + 696854\n6   chromedriver                        0x000000010de8a13d chromedriver + 909629\n7   chromedriver                        0x000000010de560ed chromedriver + 696557\n8   chromedriver                        0x000000010de8a2ce chromedriver + 910030\n9   chromedriver                        0x000000010dea528e chromedriver + 1020558\n10  chromedriver                        0x000000010de89ee3 chromedriver + 909027\n11  chromedriver                        0x000000010de5430c chromedriver + 688908\n12  chromedriver                        0x000000010de5588e chromedriver + 694414\n13  chromedriver                        0x000000010e2281de chromedriver + 4702686\n14  chromedriver                        0x000000010e22cb19 chromedriver + 4721433\n15  chromedriver                        0x000000010e23428e chromedriver + 4752014\n16  chromedriver                        0x000000010e22d91a chromedriver + 4725018\n17  chromedriver                        0x000000010e201b02 chromedriver + 4545282\n18  chromedriver                        0x000000010e24c888 chromedriver + 4851848\n19  chromedriver                        0x000000010e24ca05 chromedriver + 4852229\n20  chromedriver                        0x000000010e262e5f chromedriver + 4943455\n21  libsystem_pthread.dylib             0x00007ff81d4944e1 _pthread_start + 125\n22  libsystem_pthread.dylib             0x00007ff81d48ff6b thread_start + 15\n"
     ]
    }
   ],
   "source": [
    "start_all = datetime.now()\n",
    "\n",
    "small_sleep = 5 # количество секунд, которые ждём перед каждым скролом вверх\n",
    "long_sleep_batch = 10 # количество сколов, перед долгой паузой\n",
    "long_sleep = 15 # количество секунд, которые ждём во время долгой паузы\n",
    "\n",
    "before_long_sleep = long_sleep_batch # счётчик скролов\n",
    "i = 0 # счётчик итераций\n",
    "max_iter = 99999 # ограничитель итераций\n",
    "\n",
    "is_scrapping = True # признак продолжения скраппинга\n",
    "\n",
    "\n",
    "last_date = ''\n",
    "while is_scrapping:\n",
    "    i += 1\n",
    "    if i >= max_iter:\n",
    "        is_scrapping = False\n",
    "\n",
    "    start = datetime.now()\n",
    "\n",
    "    try: \n",
    "        container = browser.find_element(By.CLASS_NAME, 'messages-container')\n",
    "        messages = container.find_elements(By.CLASS_NAME, 'message-date-group')    \n",
    "    except NoSuchElementException as exc:\n",
    "        print('NoSuchElementException')\n",
    "        print(exc)\n",
    "        is_scrapping = False\n",
    "        messages = []\n",
    "        \n",
    "    for msg in tqdm(messages):\n",
    "        msg_item = msg.find_element(By.CLASS_NAME, 'message-list-item')\n",
    "        msg_item_id = msg_item.get_attribute('data-message-id')\n",
    "        msg_date = msg.find_element(By.CLASS_NAME, 'sticky-date').text\n",
    "\n",
    "        msg_content = msg.find_element(By.CLASS_NAME, 'text-content')\n",
    "        if 'with-meta' in msg_content.get_attribute('class'):\n",
    "            msg_text_lines = msg_content.text.split('\\n')\n",
    "            msg_time = msg_text_lines.pop() # время\n",
    "            msg_views = msg_text_lines.pop() # просмотры\n",
    "            msg_text = '\\n'.join(msg_text_lines)\n",
    "        else:\n",
    "            msg_time = msg.find_element(By.CLASS_NAME, 'message-time').text\n",
    "            msg_views = msg.find_element(By.CLASS_NAME, 'message-views').text\n",
    "            msg_text = msg_content.text\n",
    "\n",
    "        row = pd.DataFrame({\n",
    "            'msg_date': [msg_date],\n",
    "            'msg_time': [msg_time],\n",
    "            'msg_text': [msg_text],\n",
    "            'msg_views': [msg_views],\n",
    "            'msg_id': [msg_item_id],\n",
    "            })\n",
    "        df = pd.concat([df, row], ignore_index=True)\n",
    "        last_date = msg_date\n",
    "\n",
    "    df.to_csv('data.csv')\n",
    "    \n",
    "    time = (datetime.now()-start).total_seconds()\n",
    "    time_m = int(time//60)\n",
    "    time_s = int(time - time_m*60)\n",
    "    print(f'Итерация {i} >> {time_m}:{time_s}')\n",
    "    print(f'Загруженная дата: {last_date} / Размер датасета: {df.shape[0]}')\n",
    "\n",
    "    try: \n",
    "        before_long_sleep -= 1\n",
    "        if before_long_sleep <= 0:\n",
    "            print(f'Пауза {long_sleep}с...')\n",
    "            before_long_sleep = long_sleep_batch\n",
    "            for s in tqdm(range(long_sleep)):\n",
    "                sleep(1)\n",
    "        else:\n",
    "            sleep(small_sleep)\n",
    "\n",
    "        back_trigger = browser.find_element(By.CLASS_NAME, 'backwards-trigger')\n",
    "        actions = ActionChains(browser)\n",
    "        actions.move_to_element(back_trigger).perform()    \n",
    "\n",
    "    except NoSuchElementException as exc:\n",
    "        print('NoSuchElementException')\n",
    "        print(exc)\n",
    "        is_scrapping = False\n",
    "\n",
    "time_all = (datetime.now()-start_all).total_seconds()\n",
    "time_m = int(time_all//60)\n",
    "time_s = int(time_all - time_m*60)\n",
    "print(f'Общее время >> {time_m}:{time_s}')\n",
    "    "
   ]
  },
  {
   "cell_type": "code",
   "execution_count": 414,
   "metadata": {},
   "outputs": [
    {
     "data": {
      "text/plain": [
       "894"
      ]
     },
     "execution_count": 414,
     "metadata": {},
     "output_type": "execute_result"
    }
   ],
   "source": [
    "df.drop_duplicates(inplace=True)\n",
    "df.to_csv('data.csv')"
   ]
  }
 ],
 "metadata": {
  "kernelspec": {
   "display_name": "Python 3",
   "language": "python",
   "name": "python3"
  },
  "language_info": {
   "codemirror_mode": {
    "name": "ipython",
    "version": 3
   },
   "file_extension": ".py",
   "mimetype": "text/x-python",
   "name": "python",
   "nbconvert_exporter": "python",
   "pygments_lexer": "ipython3",
   "version": "3.9.13 (v3.9.13:6de2ca5339, May 17 2022, 11:37:23) \n[Clang 13.0.0 (clang-1300.0.29.30)]"
  },
  "orig_nbformat": 4,
  "vscode": {
   "interpreter": {
    "hash": "aee8b7b246df8f9039afb4144a1f6fd8d2ca17a180786b69acc140d282b71a49"
   }
  }
 },
 "nbformat": 4,
 "nbformat_minor": 2
}
