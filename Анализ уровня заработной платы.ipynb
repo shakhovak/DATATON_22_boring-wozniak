{
 "cells": [
  {
   "cell_type": "markdown",
   "id": "a79e992f",
   "metadata": {},
   "source": [
    "# Аналитика, связанная с зарплатами"
   ]
  },
  {
   "cell_type": "markdown",
   "id": "5dbd6e78",
   "metadata": {},
   "source": [
    "## 1) Первый взгляд на данные"
   ]
  },
  {
   "cell_type": "code",
   "execution_count": 1,
   "id": "cdd7bfde",
   "metadata": {},
   "outputs": [],
   "source": [
    "import pandas as pd\n",
    "import plotly.express as px\n",
    "import re"
   ]
  },
  {
   "cell_type": "code",
   "execution_count": 2,
   "id": "896a342e",
   "metadata": {},
   "outputs": [
    {
     "name": "stdout",
     "output_type": "stream",
     "text": [
      "(5990, 13)\n",
      "Index(['company', 'position', 'location', 'schedule', 'responsibilities',\n",
      "       'requirements', 'levels', 'techstack', 'source', 'date_publish',\n",
      "       'format', 'salary', 'currency'],\n",
      "      dtype='object')\n"
     ]
    },
    {
     "data": {
      "text/html": [
       "<div>\n",
       "<style scoped>\n",
       "    .dataframe tbody tr th:only-of-type {\n",
       "        vertical-align: middle;\n",
       "    }\n",
       "\n",
       "    .dataframe tbody tr th {\n",
       "        vertical-align: top;\n",
       "    }\n",
       "\n",
       "    .dataframe thead th {\n",
       "        text-align: right;\n",
       "    }\n",
       "</style>\n",
       "<table border=\"1\" class=\"dataframe\">\n",
       "  <thead>\n",
       "    <tr style=\"text-align: right;\">\n",
       "      <th></th>\n",
       "      <th>company</th>\n",
       "      <th>position</th>\n",
       "      <th>location</th>\n",
       "      <th>schedule</th>\n",
       "      <th>responsibilities</th>\n",
       "      <th>requirements</th>\n",
       "      <th>levels</th>\n",
       "      <th>techstack</th>\n",
       "      <th>source</th>\n",
       "      <th>date_publish</th>\n",
       "      <th>format</th>\n",
       "      <th>salary</th>\n",
       "      <th>currency</th>\n",
       "    </tr>\n",
       "  </thead>\n",
       "  <tbody>\n",
       "    <tr>\n",
       "      <th>0</th>\n",
       "      <td>Сбербанк</td>\n",
       "      <td>Аналитик данных</td>\n",
       "      <td>Москва</td>\n",
       "      <td>Полный рабочий день</td>\n",
       "      <td>не определено</td>\n",
       "      <td>не определено</td>\n",
       "      <td>От 1 года</td>\n",
       "      <td>['sql', 'python', 'oracle', 'субд', 'greenplum...</td>\n",
       "      <td>superjob.ru</td>\n",
       "      <td>2022-12-25 10:50:27</td>\n",
       "      <td>Не имеет значения</td>\n",
       "      <td>Договорная</td>\n",
       "      <td>RUB</td>\n",
       "    </tr>\n",
       "    <tr>\n",
       "      <th>1</th>\n",
       "      <td>Friendwork</td>\n",
       "      <td>Data Engineer (remote)</td>\n",
       "      <td>Москва</td>\n",
       "      <td>Полный рабочий день</td>\n",
       "      <td>не определено</td>\n",
       "      <td>не определено</td>\n",
       "      <td>От 3 лет</td>\n",
       "      <td>['sql', 'python', 'postgresql', 'spark', 'dock...</td>\n",
       "      <td>superjob.ru</td>\n",
       "      <td>2022-12-19 00:00:00</td>\n",
       "      <td>Удалённая работа (на дому)</td>\n",
       "      <td>Договорная</td>\n",
       "      <td>RUB</td>\n",
       "    </tr>\n",
       "    <tr>\n",
       "      <th>2</th>\n",
       "      <td>Технопарк «Сколково»</td>\n",
       "      <td>Teamlead проекта</td>\n",
       "      <td>Москва</td>\n",
       "      <td>Полный рабочий день</td>\n",
       "      <td>не определено</td>\n",
       "      <td>не определено</td>\n",
       "      <td>От 1 года</td>\n",
       "      <td>['python', 'data science', 'bi', 'ios', 'c', '...</td>\n",
       "      <td>superjob.ru</td>\n",
       "      <td>2022-12-19 11:01:29</td>\n",
       "      <td>Не имеет значения</td>\n",
       "      <td>Договорная</td>\n",
       "      <td>RUB</td>\n",
       "    </tr>\n",
       "  </tbody>\n",
       "</table>\n",
       "</div>"
      ],
      "text/plain": [
       "                company                position location             schedule  \\\n",
       "0              Сбербанк         Аналитик данных   Москва  Полный рабочий день   \n",
       "1            Friendwork  Data Engineer (remote)   Москва  Полный рабочий день   \n",
       "2  Технопарк «Сколково»        Teamlead проекта   Москва  Полный рабочий день   \n",
       "\n",
       "  responsibilities   requirements     levels  \\\n",
       "0    не определено  не определено  От 1 года   \n",
       "1    не определено  не определено   От 3 лет   \n",
       "2    не определено  не определено  От 1 года   \n",
       "\n",
       "                                           techstack       source  \\\n",
       "0  ['sql', 'python', 'oracle', 'субд', 'greenplum...  superjob.ru   \n",
       "1  ['sql', 'python', 'postgresql', 'spark', 'dock...  superjob.ru   \n",
       "2  ['python', 'data science', 'bi', 'ios', 'c', '...  superjob.ru   \n",
       "\n",
       "          date_publish                      format      salary currency  \n",
       "0  2022-12-25 10:50:27           Не имеет значения  Договорная      RUB  \n",
       "1  2022-12-19 00:00:00  Удалённая работа (на дому)  Договорная      RUB  \n",
       "2  2022-12-19 11:01:29           Не имеет значения  Договорная      RUB  "
      ]
     },
     "metadata": {},
     "output_type": "display_data"
    },
    {
     "data": {
      "text/html": [
       "<div>\n",
       "<style scoped>\n",
       "    .dataframe tbody tr th:only-of-type {\n",
       "        vertical-align: middle;\n",
       "    }\n",
       "\n",
       "    .dataframe tbody tr th {\n",
       "        vertical-align: top;\n",
       "    }\n",
       "\n",
       "    .dataframe thead th {\n",
       "        text-align: right;\n",
       "    }\n",
       "</style>\n",
       "<table border=\"1\" class=\"dataframe\">\n",
       "  <thead>\n",
       "    <tr style=\"text-align: right;\">\n",
       "      <th></th>\n",
       "      <th>company</th>\n",
       "      <th>position</th>\n",
       "      <th>location</th>\n",
       "      <th>schedule</th>\n",
       "      <th>responsibilities</th>\n",
       "      <th>requirements</th>\n",
       "      <th>levels</th>\n",
       "      <th>techstack</th>\n",
       "      <th>source</th>\n",
       "      <th>date_publish</th>\n",
       "      <th>format</th>\n",
       "      <th>salary</th>\n",
       "      <th>currency</th>\n",
       "    </tr>\n",
       "  </thead>\n",
       "  <tbody>\n",
       "    <tr>\n",
       "      <th>5987</th>\n",
       "      <td>не определено</td>\n",
       "      <td>не определено</td>\n",
       "      <td>не определено</td>\n",
       "      <td>[]</td>\n",
       "      <td>не определено</td>\n",
       "      <td>•  Высшее образование;\\n•  Опыт работы руковод...</td>\n",
       "      <td>[]</td>\n",
       "      <td>['java', 'c++', 'oracle']</td>\n",
       "      <td>https://t.me/s/datasciencejobs</td>\n",
       "      <td>2020-02-19 12:16:00</td>\n",
       "      <td>[]</td>\n",
       "      <td>400000.0</td>\n",
       "      <td>RUB</td>\n",
       "    </tr>\n",
       "    <tr>\n",
       "      <th>5988</th>\n",
       "      <td>не определено</td>\n",
       "      <td>Data Scientist</td>\n",
       "      <td>не определено</td>\n",
       "      <td>['Fulltime']</td>\n",
       "      <td>не определено</td>\n",
       "      <td>• 3 years of experience in business analysis, ...</td>\n",
       "      <td>[]</td>\n",
       "      <td>['pandas']</td>\n",
       "      <td>https://t.me/s/datasciencejobs</td>\n",
       "      <td>2020-02-20 23:04:00</td>\n",
       "      <td>['Удалёнка']</td>\n",
       "      <td>3000.0</td>\n",
       "      <td>USD</td>\n",
       "    </tr>\n",
       "    <tr>\n",
       "      <th>5989</th>\n",
       "      <td>Федеральная розничная сеть, занимающая лидирую...</td>\n",
       "      <td>Senior ML Engineer</td>\n",
       "      <td>Санкт-Петербург</td>\n",
       "      <td>[]</td>\n",
       "      <td>- Проработать совместно с партнерами архитекту...</td>\n",
       "      <td>- Опыт построения/проектирования платформы для...</td>\n",
       "      <td>['Senior']</td>\n",
       "      <td>['etl', 'linux']</td>\n",
       "      <td>https://t.me/s/datasciencejobs</td>\n",
       "      <td>2020-05-21 09:55:00</td>\n",
       "      <td>[]</td>\n",
       "      <td>260000.0</td>\n",
       "      <td>RUB</td>\n",
       "    </tr>\n",
       "  </tbody>\n",
       "</table>\n",
       "</div>"
      ],
      "text/plain": [
       "                                                company            position  \\\n",
       "5987                                      не определено       не определено   \n",
       "5988                                      не определено      Data Scientist   \n",
       "5989  Федеральная розничная сеть, занимающая лидирую...  Senior ML Engineer   \n",
       "\n",
       "             location      schedule  \\\n",
       "5987    не определено            []   \n",
       "5988    не определено  ['Fulltime']   \n",
       "5989  Санкт-Петербург            []   \n",
       "\n",
       "                                       responsibilities  \\\n",
       "5987                                      не определено   \n",
       "5988                                      не определено   \n",
       "5989  - Проработать совместно с партнерами архитекту...   \n",
       "\n",
       "                                           requirements      levels  \\\n",
       "5987  •  Высшее образование;\\n•  Опыт работы руковод...          []   \n",
       "5988  • 3 years of experience in business analysis, ...          []   \n",
       "5989  - Опыт построения/проектирования платформы для...  ['Senior']   \n",
       "\n",
       "                      techstack                          source  \\\n",
       "5987  ['java', 'c++', 'oracle']  https://t.me/s/datasciencejobs   \n",
       "5988                 ['pandas']  https://t.me/s/datasciencejobs   \n",
       "5989           ['etl', 'linux']  https://t.me/s/datasciencejobs   \n",
       "\n",
       "             date_publish        format    salary currency  \n",
       "5987  2020-02-19 12:16:00            []  400000.0      RUB  \n",
       "5988  2020-02-20 23:04:00  ['Удалёнка']    3000.0      USD  \n",
       "5989  2020-05-21 09:55:00            []  260000.0      RUB  "
      ]
     },
     "metadata": {},
     "output_type": "display_data"
    }
   ],
   "source": [
    "df = pd.read_csv('data/agg_data.csv')\n",
    "print(df.shape)\n",
    "print(df.columns)\n",
    "display(df.head(3))\n",
    "display(df.tail(3))\n",
    "df.drop(columns='date_publish', inplace=True)"
   ]
  },
  {
   "cell_type": "code",
   "execution_count": 3,
   "id": "e6845cd4",
   "metadata": {},
   "outputs": [
    {
     "name": "stdout",
     "output_type": "stream",
     "text": [
      "<class 'pandas.core.frame.DataFrame'>\n",
      "RangeIndex: 5990 entries, 0 to 5989\n",
      "Data columns (total 12 columns):\n",
      " #   Column            Non-Null Count  Dtype \n",
      "---  ------            --------------  ----- \n",
      " 0   company           5990 non-null   object\n",
      " 1   position          5990 non-null   object\n",
      " 2   location          5990 non-null   object\n",
      " 3   schedule          5990 non-null   object\n",
      " 4   responsibilities  5990 non-null   object\n",
      " 5   requirements      5990 non-null   object\n",
      " 6   levels            5990 non-null   object\n",
      " 7   techstack         5990 non-null   object\n",
      " 8   source            5990 non-null   object\n",
      " 9   format            5990 non-null   object\n",
      " 10  salary            5990 non-null   object\n",
      " 11  currency          5990 non-null   object\n",
      "dtypes: object(12)\n",
      "memory usage: 561.7+ KB\n"
     ]
    }
   ],
   "source": [
    "df.info()"
   ]
  },
  {
   "cell_type": "code",
   "execution_count": 4,
   "id": "05167cfa",
   "metadata": {},
   "outputs": [
    {
     "data": {
      "text/plain": [
       "False            3249\n",
       "True             1136\n",
       "0                 765\n",
       "не определено     252\n",
       "300000.0           46\n",
       "                 ... \n",
       "240000              1\n",
       "120.0               1\n",
       "437500              1\n",
       "170500              1\n",
       "40000               1\n",
       "Name: salary, Length: 123, dtype: int64"
      ]
     },
     "execution_count": 4,
     "metadata": {},
     "output_type": "execute_result"
    }
   ],
   "source": [
    "df['salary'].value_counts()"
   ]
  },
  {
   "cell_type": "code",
   "execution_count": 5,
   "id": "0b2bdfb5",
   "metadata": {},
   "outputs": [
    {
     "data": {
      "text/plain": [
       "0.0         5415\n",
       "250000.0      69\n",
       "300000.0      65\n",
       "200000.0      50\n",
       "350000.0      45\n",
       "            ... \n",
       "5500.0         1\n",
       "800000.0       1\n",
       "55000.0        1\n",
       "315000.0       1\n",
       "140000.0       1\n",
       "Name: salary, Length: 93, dtype: int64"
      ]
     },
     "execution_count": 5,
     "metadata": {},
     "output_type": "execute_result"
    }
   ],
   "source": [
    "df['salary'] =  pd.to_numeric(df['salary'], errors='coerce', downcast = 'float').fillna(0)\n",
    "df['salary'].value_counts()"
   ]
  },
  {
   "cell_type": "code",
   "execution_count": 6,
   "id": "6800181d",
   "metadata": {},
   "outputs": [
    {
     "data": {
      "text/plain": [
       "(575, 12)"
      ]
     },
     "execution_count": 6,
     "metadata": {},
     "output_type": "execute_result"
    }
   ],
   "source": [
    "df[df['salary'] > 0].shape"
   ]
  },
  {
   "cell_type": "code",
   "execution_count": 7,
   "id": "452f891c",
   "metadata": {},
   "outputs": [
    {
     "data": {
      "text/plain": [
       "не определено    3501\n",
       "RUB              2351\n",
       "USD               111\n",
       "EUR                26\n",
       "AZN                 1\n",
       "Name: currency, dtype: int64"
      ]
     },
     "execution_count": 7,
     "metadata": {},
     "output_type": "execute_result"
    }
   ],
   "source": [
    "df['currency'].value_counts()"
   ]
  },
  {
   "cell_type": "code",
   "execution_count": 8,
   "id": "c89f720b",
   "metadata": {},
   "outputs": [
    {
     "data": {
      "text/plain": [
       "RUB    509\n",
       "USD     56\n",
       "EUR     10\n",
       "Name: currency, dtype: int64"
      ]
     },
     "execution_count": 8,
     "metadata": {},
     "output_type": "execute_result"
    }
   ],
   "source": [
    "df[df['salary'] > 0]['currency'].value_counts()"
   ]
  },
  {
   "cell_type": "code",
   "execution_count": 9,
   "id": "e7de736d",
   "metadata": {},
   "outputs": [],
   "source": [
    "# преобразуем валюты:\n",
    "df['salary'] = df.apply(lambda row: row['salary'] if row['currency'] == 'RUB' else (row['salary']*41  if row['currency'] == 'AZN' else row['salary']*70 ), axis = 1)             "
   ]
  },
  {
   "cell_type": "code",
   "execution_count": 10,
   "id": "efbf80a4",
   "metadata": {},
   "outputs": [],
   "source": [
    "def salary_range(x):\n",
    "    step = 100000\n",
    "    if x == 0:\n",
    "        return 0\n",
    "    for i in range(0,10):\n",
    "        if x > i*step and x <= (i+1)*step:\n",
    "            return (i+1)*step\n",
    "        \n",
    "df['salary_range'] = df['salary'].apply(salary_range)"
   ]
  },
  {
   "cell_type": "code",
   "execution_count": 51,
   "id": "a25a2d86",
   "metadata": {},
   "outputs": [
    {
     "data": {
      "application/vnd.plotly.v1+json": {
       "config": {
        "plotlyServerURL": "https://plot.ly"
       },
       "data": [
        {
         "alignmentgroup": "True",
         "bingroup": "x",
         "hovertemplate": "salary_range=%{x}<br>count=%{y}<extra></extra>",
         "legendgroup": "",
         "marker": {
          "color": "steelblue",
          "pattern": {
           "shape": ""
          }
         },
         "name": "",
         "nbinsx": 10,
         "offsetgroup": "",
         "orientation": "v",
         "showlegend": false,
         "type": "histogram",
         "x": [
          100000,
          100000,
          200000,
          200000,
          200000,
          200000,
          200000,
          300000,
          200000,
          400000,
          300000,
          400000,
          200000,
          300000,
          100000,
          300000,
          200000,
          300000,
          400000,
          300000,
          400000,
          400000,
          400000,
          300000,
          200000,
          600000,
          200000,
          300000,
          300000,
          200000,
          300000,
          300000,
          300000,
          200000,
          500000,
          200000,
          400000,
          200000,
          400000,
          300000,
          300000,
          400000,
          700000,
          900000,
          700000,
          400000,
          300000,
          200000,
          500000,
          300000,
          300000,
          400000,
          200000,
          200000,
          400000,
          300000,
          300000,
          200000,
          200000,
          200000,
          200000,
          400000,
          200000,
          200000,
          300000,
          500000,
          300000,
          100000,
          500000,
          300000,
          400000,
          500000,
          300000,
          400000,
          500000,
          500000,
          100000,
          400000,
          300000,
          200000,
          300000,
          400000,
          500000,
          100000,
          300000,
          200000,
          200000,
          200000,
          400000,
          500000,
          200000,
          200000,
          400000,
          100000,
          200000,
          300000,
          200000,
          100000,
          300000,
          200000,
          300000,
          300000,
          300000,
          200000,
          300000,
          600000,
          300000,
          400000,
          300000,
          400000,
          200000,
          100000,
          200000,
          200000,
          300000,
          200000,
          200000,
          200000,
          300000,
          200000,
          200000,
          300000,
          200000,
          200000,
          200000,
          300000,
          200000,
          200000,
          300000,
          400000,
          300000,
          300000,
          200000,
          200000,
          100000,
          300000,
          300000,
          200000,
          200000,
          400000,
          300000,
          200000,
          200000,
          400000,
          200000,
          300000,
          300000,
          200000,
          400000,
          100000,
          300000,
          200000,
          400000,
          500000,
          300000,
          300000,
          200000,
          400000,
          100000,
          300000,
          500000,
          200000,
          300000,
          200000,
          300000,
          300000,
          100000,
          100000,
          200000,
          200000,
          200000,
          300000,
          100000,
          100000,
          200000,
          300000,
          200000,
          200000,
          300000,
          400000,
          300000,
          400000,
          400000,
          300000,
          400000,
          300000,
          200000,
          200000,
          600000,
          300000,
          100000,
          100000,
          100000,
          200000,
          200000,
          200000,
          200000,
          200000,
          200000,
          200000,
          200000,
          300000,
          200000,
          200000,
          300000,
          200000,
          500000,
          300000,
          200000,
          100000,
          300000,
          400000,
          200000,
          200000,
          300000,
          200000,
          200000,
          300000,
          400000,
          500000,
          300000,
          400000,
          300000,
          300000,
          200000,
          300000,
          200000,
          200000,
          300000,
          200000,
          400000,
          300000,
          400000,
          400000,
          200000,
          300000,
          200000,
          300000,
          300000,
          400000,
          200000,
          300000,
          100000,
          300000,
          300000,
          200000,
          300000,
          300000,
          100000,
          100000,
          100000,
          300000,
          500000,
          300000,
          200000,
          400000,
          400000,
          300000,
          400000,
          500000,
          100000,
          200000,
          100000,
          200000,
          300000,
          500000,
          200000,
          400000,
          300000,
          300000,
          700000,
          500000,
          300000,
          300000,
          300000,
          200000,
          500000,
          400000,
          200000,
          400000,
          300000,
          400000,
          100000,
          300000,
          500000,
          200000,
          500000,
          300000,
          600000,
          400000,
          400000,
          200000,
          400000,
          100000,
          300000,
          200000,
          200000,
          400000,
          500000,
          200000,
          300000,
          500000,
          200000,
          100000,
          400000,
          300000,
          700000,
          500000,
          300000,
          100000,
          300000,
          300000,
          400000,
          400000,
          300000,
          400000,
          100000,
          300000,
          300000,
          300000,
          400000,
          300000,
          500000,
          300000,
          400000,
          300000,
          300000,
          600000,
          200000,
          300000,
          400000,
          300000,
          300000,
          200000,
          600000,
          600000,
          300000,
          300000,
          400000,
          100000,
          300000,
          400000,
          300000,
          300000,
          300000,
          300000,
          300000,
          300000,
          300000,
          200000,
          100000,
          300000,
          400000,
          300000,
          300000,
          500000,
          300000,
          300000,
          100000,
          100000,
          300000,
          300000,
          300000,
          300000,
          300000,
          300000,
          100000,
          400000,
          300000,
          300000,
          300000,
          100000,
          400000,
          500000,
          400000,
          400000,
          300000,
          300000,
          100000,
          300000,
          400000,
          300000,
          300000,
          100000,
          300000,
          400000,
          300000,
          300000,
          500000,
          200000,
          300000,
          300000,
          400000,
          100000,
          400000,
          200000,
          300000,
          100000,
          300000,
          400000,
          300000,
          400000,
          500000,
          300000,
          300000,
          300000,
          300000,
          200000,
          200000,
          200000,
          400000,
          400000,
          200000,
          400000,
          100000,
          100000,
          300000,
          300000,
          400000,
          300000,
          100000,
          200000,
          300000,
          300000,
          200000,
          300000,
          200000,
          200000,
          100000,
          300000,
          200000,
          200000,
          200000,
          100000,
          200000,
          300000,
          200000,
          300000,
          700000,
          200000,
          300000,
          400000,
          200000,
          200000,
          300000,
          300000,
          300000,
          300000,
          300000,
          300000,
          400000,
          100000,
          300000,
          500000,
          200000,
          200000,
          200000,
          200000,
          300000,
          800000,
          300000,
          300000,
          300000,
          400000,
          300000,
          200000,
          100000,
          200000,
          300000,
          300000,
          300000,
          200000,
          100000,
          300000,
          300000,
          300000,
          300000,
          300000,
          200000,
          100000,
          300000,
          300000,
          300000,
          300000,
          200000,
          100000,
          600000,
          200000,
          100000,
          300000,
          300000,
          300000,
          400000,
          300000,
          400000,
          300000,
          500000,
          700000,
          100000,
          300000,
          100000,
          500000,
          300000,
          200000,
          100000,
          600000,
          400000,
          300000,
          500000,
          500000,
          200000,
          200000,
          200000,
          100000,
          400000,
          200000,
          300000,
          200000,
          200000,
          300000,
          200000,
          300000,
          300000,
          200000,
          300000,
          600000,
          400000,
          400000,
          200000,
          300000,
          300000,
          300000,
          300000,
          100000,
          300000,
          100000,
          300000,
          300000,
          200000,
          400000,
          400000,
          300000,
          400000,
          300000,
          300000
         ],
         "xaxis": "x",
         "yaxis": "y"
        }
       ],
       "layout": {
        "barmode": "relative",
        "legend": {
         "tracegroupgap": 0
        },
        "margin": {
         "t": 60
        },
        "template": {
         "data": {
          "bar": [
           {
            "error_x": {
             "color": "#2a3f5f"
            },
            "error_y": {
             "color": "#2a3f5f"
            },
            "marker": {
             "line": {
              "color": "#E5ECF6",
              "width": 0.5
             },
             "pattern": {
              "fillmode": "overlay",
              "size": 10,
              "solidity": 0.2
             }
            },
            "type": "bar"
           }
          ],
          "barpolar": [
           {
            "marker": {
             "line": {
              "color": "#E5ECF6",
              "width": 0.5
             },
             "pattern": {
              "fillmode": "overlay",
              "size": 10,
              "solidity": 0.2
             }
            },
            "type": "barpolar"
           }
          ],
          "carpet": [
           {
            "aaxis": {
             "endlinecolor": "#2a3f5f",
             "gridcolor": "white",
             "linecolor": "white",
             "minorgridcolor": "white",
             "startlinecolor": "#2a3f5f"
            },
            "baxis": {
             "endlinecolor": "#2a3f5f",
             "gridcolor": "white",
             "linecolor": "white",
             "minorgridcolor": "white",
             "startlinecolor": "#2a3f5f"
            },
            "type": "carpet"
           }
          ],
          "choropleth": [
           {
            "colorbar": {
             "outlinewidth": 0,
             "ticks": ""
            },
            "type": "choropleth"
           }
          ],
          "contour": [
           {
            "colorbar": {
             "outlinewidth": 0,
             "ticks": ""
            },
            "colorscale": [
             [
              0,
              "#0d0887"
             ],
             [
              0.1111111111111111,
              "#46039f"
             ],
             [
              0.2222222222222222,
              "#7201a8"
             ],
             [
              0.3333333333333333,
              "#9c179e"
             ],
             [
              0.4444444444444444,
              "#bd3786"
             ],
             [
              0.5555555555555556,
              "#d8576b"
             ],
             [
              0.6666666666666666,
              "#ed7953"
             ],
             [
              0.7777777777777778,
              "#fb9f3a"
             ],
             [
              0.8888888888888888,
              "#fdca26"
             ],
             [
              1,
              "#f0f921"
             ]
            ],
            "type": "contour"
           }
          ],
          "contourcarpet": [
           {
            "colorbar": {
             "outlinewidth": 0,
             "ticks": ""
            },
            "type": "contourcarpet"
           }
          ],
          "heatmap": [
           {
            "colorbar": {
             "outlinewidth": 0,
             "ticks": ""
            },
            "colorscale": [
             [
              0,
              "#0d0887"
             ],
             [
              0.1111111111111111,
              "#46039f"
             ],
             [
              0.2222222222222222,
              "#7201a8"
             ],
             [
              0.3333333333333333,
              "#9c179e"
             ],
             [
              0.4444444444444444,
              "#bd3786"
             ],
             [
              0.5555555555555556,
              "#d8576b"
             ],
             [
              0.6666666666666666,
              "#ed7953"
             ],
             [
              0.7777777777777778,
              "#fb9f3a"
             ],
             [
              0.8888888888888888,
              "#fdca26"
             ],
             [
              1,
              "#f0f921"
             ]
            ],
            "type": "heatmap"
           }
          ],
          "heatmapgl": [
           {
            "colorbar": {
             "outlinewidth": 0,
             "ticks": ""
            },
            "colorscale": [
             [
              0,
              "#0d0887"
             ],
             [
              0.1111111111111111,
              "#46039f"
             ],
             [
              0.2222222222222222,
              "#7201a8"
             ],
             [
              0.3333333333333333,
              "#9c179e"
             ],
             [
              0.4444444444444444,
              "#bd3786"
             ],
             [
              0.5555555555555556,
              "#d8576b"
             ],
             [
              0.6666666666666666,
              "#ed7953"
             ],
             [
              0.7777777777777778,
              "#fb9f3a"
             ],
             [
              0.8888888888888888,
              "#fdca26"
             ],
             [
              1,
              "#f0f921"
             ]
            ],
            "type": "heatmapgl"
           }
          ],
          "histogram": [
           {
            "marker": {
             "pattern": {
              "fillmode": "overlay",
              "size": 10,
              "solidity": 0.2
             }
            },
            "type": "histogram"
           }
          ],
          "histogram2d": [
           {
            "colorbar": {
             "outlinewidth": 0,
             "ticks": ""
            },
            "colorscale": [
             [
              0,
              "#0d0887"
             ],
             [
              0.1111111111111111,
              "#46039f"
             ],
             [
              0.2222222222222222,
              "#7201a8"
             ],
             [
              0.3333333333333333,
              "#9c179e"
             ],
             [
              0.4444444444444444,
              "#bd3786"
             ],
             [
              0.5555555555555556,
              "#d8576b"
             ],
             [
              0.6666666666666666,
              "#ed7953"
             ],
             [
              0.7777777777777778,
              "#fb9f3a"
             ],
             [
              0.8888888888888888,
              "#fdca26"
             ],
             [
              1,
              "#f0f921"
             ]
            ],
            "type": "histogram2d"
           }
          ],
          "histogram2dcontour": [
           {
            "colorbar": {
             "outlinewidth": 0,
             "ticks": ""
            },
            "colorscale": [
             [
              0,
              "#0d0887"
             ],
             [
              0.1111111111111111,
              "#46039f"
             ],
             [
              0.2222222222222222,
              "#7201a8"
             ],
             [
              0.3333333333333333,
              "#9c179e"
             ],
             [
              0.4444444444444444,
              "#bd3786"
             ],
             [
              0.5555555555555556,
              "#d8576b"
             ],
             [
              0.6666666666666666,
              "#ed7953"
             ],
             [
              0.7777777777777778,
              "#fb9f3a"
             ],
             [
              0.8888888888888888,
              "#fdca26"
             ],
             [
              1,
              "#f0f921"
             ]
            ],
            "type": "histogram2dcontour"
           }
          ],
          "mesh3d": [
           {
            "colorbar": {
             "outlinewidth": 0,
             "ticks": ""
            },
            "type": "mesh3d"
           }
          ],
          "parcoords": [
           {
            "line": {
             "colorbar": {
              "outlinewidth": 0,
              "ticks": ""
             }
            },
            "type": "parcoords"
           }
          ],
          "pie": [
           {
            "automargin": true,
            "type": "pie"
           }
          ],
          "scatter": [
           {
            "fillpattern": {
             "fillmode": "overlay",
             "size": 10,
             "solidity": 0.2
            },
            "type": "scatter"
           }
          ],
          "scatter3d": [
           {
            "line": {
             "colorbar": {
              "outlinewidth": 0,
              "ticks": ""
             }
            },
            "marker": {
             "colorbar": {
              "outlinewidth": 0,
              "ticks": ""
             }
            },
            "type": "scatter3d"
           }
          ],
          "scattercarpet": [
           {
            "marker": {
             "colorbar": {
              "outlinewidth": 0,
              "ticks": ""
             }
            },
            "type": "scattercarpet"
           }
          ],
          "scattergeo": [
           {
            "marker": {
             "colorbar": {
              "outlinewidth": 0,
              "ticks": ""
             }
            },
            "type": "scattergeo"
           }
          ],
          "scattergl": [
           {
            "marker": {
             "colorbar": {
              "outlinewidth": 0,
              "ticks": ""
             }
            },
            "type": "scattergl"
           }
          ],
          "scattermapbox": [
           {
            "marker": {
             "colorbar": {
              "outlinewidth": 0,
              "ticks": ""
             }
            },
            "type": "scattermapbox"
           }
          ],
          "scatterpolar": [
           {
            "marker": {
             "colorbar": {
              "outlinewidth": 0,
              "ticks": ""
             }
            },
            "type": "scatterpolar"
           }
          ],
          "scatterpolargl": [
           {
            "marker": {
             "colorbar": {
              "outlinewidth": 0,
              "ticks": ""
             }
            },
            "type": "scatterpolargl"
           }
          ],
          "scatterternary": [
           {
            "marker": {
             "colorbar": {
              "outlinewidth": 0,
              "ticks": ""
             }
            },
            "type": "scatterternary"
           }
          ],
          "surface": [
           {
            "colorbar": {
             "outlinewidth": 0,
             "ticks": ""
            },
            "colorscale": [
             [
              0,
              "#0d0887"
             ],
             [
              0.1111111111111111,
              "#46039f"
             ],
             [
              0.2222222222222222,
              "#7201a8"
             ],
             [
              0.3333333333333333,
              "#9c179e"
             ],
             [
              0.4444444444444444,
              "#bd3786"
             ],
             [
              0.5555555555555556,
              "#d8576b"
             ],
             [
              0.6666666666666666,
              "#ed7953"
             ],
             [
              0.7777777777777778,
              "#fb9f3a"
             ],
             [
              0.8888888888888888,
              "#fdca26"
             ],
             [
              1,
              "#f0f921"
             ]
            ],
            "type": "surface"
           }
          ],
          "table": [
           {
            "cells": {
             "fill": {
              "color": "#EBF0F8"
             },
             "line": {
              "color": "white"
             }
            },
            "header": {
             "fill": {
              "color": "#C8D4E3"
             },
             "line": {
              "color": "white"
             }
            },
            "type": "table"
           }
          ]
         },
         "layout": {
          "annotationdefaults": {
           "arrowcolor": "#2a3f5f",
           "arrowhead": 0,
           "arrowwidth": 1
          },
          "autotypenumbers": "strict",
          "coloraxis": {
           "colorbar": {
            "outlinewidth": 0,
            "ticks": ""
           }
          },
          "colorscale": {
           "diverging": [
            [
             0,
             "#8e0152"
            ],
            [
             0.1,
             "#c51b7d"
            ],
            [
             0.2,
             "#de77ae"
            ],
            [
             0.3,
             "#f1b6da"
            ],
            [
             0.4,
             "#fde0ef"
            ],
            [
             0.5,
             "#f7f7f7"
            ],
            [
             0.6,
             "#e6f5d0"
            ],
            [
             0.7,
             "#b8e186"
            ],
            [
             0.8,
             "#7fbc41"
            ],
            [
             0.9,
             "#4d9221"
            ],
            [
             1,
             "#276419"
            ]
           ],
           "sequential": [
            [
             0,
             "#0d0887"
            ],
            [
             0.1111111111111111,
             "#46039f"
            ],
            [
             0.2222222222222222,
             "#7201a8"
            ],
            [
             0.3333333333333333,
             "#9c179e"
            ],
            [
             0.4444444444444444,
             "#bd3786"
            ],
            [
             0.5555555555555556,
             "#d8576b"
            ],
            [
             0.6666666666666666,
             "#ed7953"
            ],
            [
             0.7777777777777778,
             "#fb9f3a"
            ],
            [
             0.8888888888888888,
             "#fdca26"
            ],
            [
             1,
             "#f0f921"
            ]
           ],
           "sequentialminus": [
            [
             0,
             "#0d0887"
            ],
            [
             0.1111111111111111,
             "#46039f"
            ],
            [
             0.2222222222222222,
             "#7201a8"
            ],
            [
             0.3333333333333333,
             "#9c179e"
            ],
            [
             0.4444444444444444,
             "#bd3786"
            ],
            [
             0.5555555555555556,
             "#d8576b"
            ],
            [
             0.6666666666666666,
             "#ed7953"
            ],
            [
             0.7777777777777778,
             "#fb9f3a"
            ],
            [
             0.8888888888888888,
             "#fdca26"
            ],
            [
             1,
             "#f0f921"
            ]
           ]
          },
          "colorway": [
           "#636efa",
           "#EF553B",
           "#00cc96",
           "#ab63fa",
           "#FFA15A",
           "#19d3f3",
           "#FF6692",
           "#B6E880",
           "#FF97FF",
           "#FECB52"
          ],
          "font": {
           "color": "#2a3f5f"
          },
          "geo": {
           "bgcolor": "white",
           "lakecolor": "white",
           "landcolor": "#E5ECF6",
           "showlakes": true,
           "showland": true,
           "subunitcolor": "white"
          },
          "hoverlabel": {
           "align": "left"
          },
          "hovermode": "closest",
          "mapbox": {
           "style": "light"
          },
          "paper_bgcolor": "white",
          "plot_bgcolor": "#E5ECF6",
          "polar": {
           "angularaxis": {
            "gridcolor": "white",
            "linecolor": "white",
            "ticks": ""
           },
           "bgcolor": "#E5ECF6",
           "radialaxis": {
            "gridcolor": "white",
            "linecolor": "white",
            "ticks": ""
           }
          },
          "scene": {
           "xaxis": {
            "backgroundcolor": "#E5ECF6",
            "gridcolor": "white",
            "gridwidth": 2,
            "linecolor": "white",
            "showbackground": true,
            "ticks": "",
            "zerolinecolor": "white"
           },
           "yaxis": {
            "backgroundcolor": "#E5ECF6",
            "gridcolor": "white",
            "gridwidth": 2,
            "linecolor": "white",
            "showbackground": true,
            "ticks": "",
            "zerolinecolor": "white"
           },
           "zaxis": {
            "backgroundcolor": "#E5ECF6",
            "gridcolor": "white",
            "gridwidth": 2,
            "linecolor": "white",
            "showbackground": true,
            "ticks": "",
            "zerolinecolor": "white"
           }
          },
          "shapedefaults": {
           "line": {
            "color": "#2a3f5f"
           }
          },
          "ternary": {
           "aaxis": {
            "gridcolor": "white",
            "linecolor": "white",
            "ticks": ""
           },
           "baxis": {
            "gridcolor": "white",
            "linecolor": "white",
            "ticks": ""
           },
           "bgcolor": "#E5ECF6",
           "caxis": {
            "gridcolor": "white",
            "linecolor": "white",
            "ticks": ""
           }
          },
          "title": {
           "x": 0.05
          },
          "xaxis": {
           "automargin": true,
           "gridcolor": "white",
           "linecolor": "white",
           "ticks": "",
           "title": {
            "standoff": 15
           },
           "zerolinecolor": "white",
           "zerolinewidth": 2
          },
          "yaxis": {
           "automargin": true,
           "gridcolor": "white",
           "linecolor": "white",
           "ticks": "",
           "title": {
            "standoff": 15
           },
           "zerolinecolor": "white",
           "zerolinewidth": 2
          }
         }
        },
        "xaxis": {
         "anchor": "y",
         "domain": [
          0,
          1
         ],
         "title": {
          "text": "salary_range"
         }
        },
        "yaxis": {
         "anchor": "x",
         "domain": [
          0,
          1
         ],
         "title": {
          "text": "count"
         }
        }
       }
      },
      "text/html": [
       "<div>                            <div id=\"9ae491c4-15ea-43f5-8361-474b18329003\" class=\"plotly-graph-div\" style=\"height:525px; width:100%;\"></div>            <script type=\"text/javascript\">                require([\"plotly\"], function(Plotly) {                    window.PLOTLYENV=window.PLOTLYENV || {};                                    if (document.getElementById(\"9ae491c4-15ea-43f5-8361-474b18329003\")) {                    Plotly.newPlot(                        \"9ae491c4-15ea-43f5-8361-474b18329003\",                        [{\"alignmentgroup\":\"True\",\"bingroup\":\"x\",\"hovertemplate\":\"salary_range=%{x}<br>count=%{y}<extra></extra>\",\"legendgroup\":\"\",\"marker\":{\"color\":\"steelblue\",\"pattern\":{\"shape\":\"\"}},\"name\":\"\",\"nbinsx\":10,\"offsetgroup\":\"\",\"orientation\":\"v\",\"showlegend\":false,\"x\":[100000,100000,200000,200000,200000,200000,200000,300000,200000,400000,300000,400000,200000,300000,100000,300000,200000,300000,400000,300000,400000,400000,400000,300000,200000,600000,200000,300000,300000,200000,300000,300000,300000,200000,500000,200000,400000,200000,400000,300000,300000,400000,700000,900000,700000,400000,300000,200000,500000,300000,300000,400000,200000,200000,400000,300000,300000,200000,200000,200000,200000,400000,200000,200000,300000,500000,300000,100000,500000,300000,400000,500000,300000,400000,500000,500000,100000,400000,300000,200000,300000,400000,500000,100000,300000,200000,200000,200000,400000,500000,200000,200000,400000,100000,200000,300000,200000,100000,300000,200000,300000,300000,300000,200000,300000,600000,300000,400000,300000,400000,200000,100000,200000,200000,300000,200000,200000,200000,300000,200000,200000,300000,200000,200000,200000,300000,200000,200000,300000,400000,300000,300000,200000,200000,100000,300000,300000,200000,200000,400000,300000,200000,200000,400000,200000,300000,300000,200000,400000,100000,300000,200000,400000,500000,300000,300000,200000,400000,100000,300000,500000,200000,300000,200000,300000,300000,100000,100000,200000,200000,200000,300000,100000,100000,200000,300000,200000,200000,300000,400000,300000,400000,400000,300000,400000,300000,200000,200000,600000,300000,100000,100000,100000,200000,200000,200000,200000,200000,200000,200000,200000,300000,200000,200000,300000,200000,500000,300000,200000,100000,300000,400000,200000,200000,300000,200000,200000,300000,400000,500000,300000,400000,300000,300000,200000,300000,200000,200000,300000,200000,400000,300000,400000,400000,200000,300000,200000,300000,300000,400000,200000,300000,100000,300000,300000,200000,300000,300000,100000,100000,100000,300000,500000,300000,200000,400000,400000,300000,400000,500000,100000,200000,100000,200000,300000,500000,200000,400000,300000,300000,700000,500000,300000,300000,300000,200000,500000,400000,200000,400000,300000,400000,100000,300000,500000,200000,500000,300000,600000,400000,400000,200000,400000,100000,300000,200000,200000,400000,500000,200000,300000,500000,200000,100000,400000,300000,700000,500000,300000,100000,300000,300000,400000,400000,300000,400000,100000,300000,300000,300000,400000,300000,500000,300000,400000,300000,300000,600000,200000,300000,400000,300000,300000,200000,600000,600000,300000,300000,400000,100000,300000,400000,300000,300000,300000,300000,300000,300000,300000,200000,100000,300000,400000,300000,300000,500000,300000,300000,100000,100000,300000,300000,300000,300000,300000,300000,100000,400000,300000,300000,300000,100000,400000,500000,400000,400000,300000,300000,100000,300000,400000,300000,300000,100000,300000,400000,300000,300000,500000,200000,300000,300000,400000,100000,400000,200000,300000,100000,300000,400000,300000,400000,500000,300000,300000,300000,300000,200000,200000,200000,400000,400000,200000,400000,100000,100000,300000,300000,400000,300000,100000,200000,300000,300000,200000,300000,200000,200000,100000,300000,200000,200000,200000,100000,200000,300000,200000,300000,700000,200000,300000,400000,200000,200000,300000,300000,300000,300000,300000,300000,400000,100000,300000,500000,200000,200000,200000,200000,300000,800000,300000,300000,300000,400000,300000,200000,100000,200000,300000,300000,300000,200000,100000,300000,300000,300000,300000,300000,200000,100000,300000,300000,300000,300000,200000,100000,600000,200000,100000,300000,300000,300000,400000,300000,400000,300000,500000,700000,100000,300000,100000,500000,300000,200000,100000,600000,400000,300000,500000,500000,200000,200000,200000,100000,400000,200000,300000,200000,200000,300000,200000,300000,300000,200000,300000,600000,400000,400000,200000,300000,300000,300000,300000,100000,300000,100000,300000,300000,200000,400000,400000,300000,400000,300000,300000],\"xaxis\":\"x\",\"yaxis\":\"y\",\"type\":\"histogram\"}],                        {\"template\":{\"data\":{\"histogram2dcontour\":[{\"type\":\"histogram2dcontour\",\"colorbar\":{\"outlinewidth\":0,\"ticks\":\"\"},\"colorscale\":[[0.0,\"#0d0887\"],[0.1111111111111111,\"#46039f\"],[0.2222222222222222,\"#7201a8\"],[0.3333333333333333,\"#9c179e\"],[0.4444444444444444,\"#bd3786\"],[0.5555555555555556,\"#d8576b\"],[0.6666666666666666,\"#ed7953\"],[0.7777777777777778,\"#fb9f3a\"],[0.8888888888888888,\"#fdca26\"],[1.0,\"#f0f921\"]]}],\"choropleth\":[{\"type\":\"choropleth\",\"colorbar\":{\"outlinewidth\":0,\"ticks\":\"\"}}],\"histogram2d\":[{\"type\":\"histogram2d\",\"colorbar\":{\"outlinewidth\":0,\"ticks\":\"\"},\"colorscale\":[[0.0,\"#0d0887\"],[0.1111111111111111,\"#46039f\"],[0.2222222222222222,\"#7201a8\"],[0.3333333333333333,\"#9c179e\"],[0.4444444444444444,\"#bd3786\"],[0.5555555555555556,\"#d8576b\"],[0.6666666666666666,\"#ed7953\"],[0.7777777777777778,\"#fb9f3a\"],[0.8888888888888888,\"#fdca26\"],[1.0,\"#f0f921\"]]}],\"heatmap\":[{\"type\":\"heatmap\",\"colorbar\":{\"outlinewidth\":0,\"ticks\":\"\"},\"colorscale\":[[0.0,\"#0d0887\"],[0.1111111111111111,\"#46039f\"],[0.2222222222222222,\"#7201a8\"],[0.3333333333333333,\"#9c179e\"],[0.4444444444444444,\"#bd3786\"],[0.5555555555555556,\"#d8576b\"],[0.6666666666666666,\"#ed7953\"],[0.7777777777777778,\"#fb9f3a\"],[0.8888888888888888,\"#fdca26\"],[1.0,\"#f0f921\"]]}],\"heatmapgl\":[{\"type\":\"heatmapgl\",\"colorbar\":{\"outlinewidth\":0,\"ticks\":\"\"},\"colorscale\":[[0.0,\"#0d0887\"],[0.1111111111111111,\"#46039f\"],[0.2222222222222222,\"#7201a8\"],[0.3333333333333333,\"#9c179e\"],[0.4444444444444444,\"#bd3786\"],[0.5555555555555556,\"#d8576b\"],[0.6666666666666666,\"#ed7953\"],[0.7777777777777778,\"#fb9f3a\"],[0.8888888888888888,\"#fdca26\"],[1.0,\"#f0f921\"]]}],\"contourcarpet\":[{\"type\":\"contourcarpet\",\"colorbar\":{\"outlinewidth\":0,\"ticks\":\"\"}}],\"contour\":[{\"type\":\"contour\",\"colorbar\":{\"outlinewidth\":0,\"ticks\":\"\"},\"colorscale\":[[0.0,\"#0d0887\"],[0.1111111111111111,\"#46039f\"],[0.2222222222222222,\"#7201a8\"],[0.3333333333333333,\"#9c179e\"],[0.4444444444444444,\"#bd3786\"],[0.5555555555555556,\"#d8576b\"],[0.6666666666666666,\"#ed7953\"],[0.7777777777777778,\"#fb9f3a\"],[0.8888888888888888,\"#fdca26\"],[1.0,\"#f0f921\"]]}],\"surface\":[{\"type\":\"surface\",\"colorbar\":{\"outlinewidth\":0,\"ticks\":\"\"},\"colorscale\":[[0.0,\"#0d0887\"],[0.1111111111111111,\"#46039f\"],[0.2222222222222222,\"#7201a8\"],[0.3333333333333333,\"#9c179e\"],[0.4444444444444444,\"#bd3786\"],[0.5555555555555556,\"#d8576b\"],[0.6666666666666666,\"#ed7953\"],[0.7777777777777778,\"#fb9f3a\"],[0.8888888888888888,\"#fdca26\"],[1.0,\"#f0f921\"]]}],\"mesh3d\":[{\"type\":\"mesh3d\",\"colorbar\":{\"outlinewidth\":0,\"ticks\":\"\"}}],\"scatter\":[{\"fillpattern\":{\"fillmode\":\"overlay\",\"size\":10,\"solidity\":0.2},\"type\":\"scatter\"}],\"parcoords\":[{\"type\":\"parcoords\",\"line\":{\"colorbar\":{\"outlinewidth\":0,\"ticks\":\"\"}}}],\"scatterpolargl\":[{\"type\":\"scatterpolargl\",\"marker\":{\"colorbar\":{\"outlinewidth\":0,\"ticks\":\"\"}}}],\"bar\":[{\"error_x\":{\"color\":\"#2a3f5f\"},\"error_y\":{\"color\":\"#2a3f5f\"},\"marker\":{\"line\":{\"color\":\"#E5ECF6\",\"width\":0.5},\"pattern\":{\"fillmode\":\"overlay\",\"size\":10,\"solidity\":0.2}},\"type\":\"bar\"}],\"scattergeo\":[{\"type\":\"scattergeo\",\"marker\":{\"colorbar\":{\"outlinewidth\":0,\"ticks\":\"\"}}}],\"scatterpolar\":[{\"type\":\"scatterpolar\",\"marker\":{\"colorbar\":{\"outlinewidth\":0,\"ticks\":\"\"}}}],\"histogram\":[{\"marker\":{\"pattern\":{\"fillmode\":\"overlay\",\"size\":10,\"solidity\":0.2}},\"type\":\"histogram\"}],\"scattergl\":[{\"type\":\"scattergl\",\"marker\":{\"colorbar\":{\"outlinewidth\":0,\"ticks\":\"\"}}}],\"scatter3d\":[{\"type\":\"scatter3d\",\"line\":{\"colorbar\":{\"outlinewidth\":0,\"ticks\":\"\"}},\"marker\":{\"colorbar\":{\"outlinewidth\":0,\"ticks\":\"\"}}}],\"scattermapbox\":[{\"type\":\"scattermapbox\",\"marker\":{\"colorbar\":{\"outlinewidth\":0,\"ticks\":\"\"}}}],\"scatterternary\":[{\"type\":\"scatterternary\",\"marker\":{\"colorbar\":{\"outlinewidth\":0,\"ticks\":\"\"}}}],\"scattercarpet\":[{\"type\":\"scattercarpet\",\"marker\":{\"colorbar\":{\"outlinewidth\":0,\"ticks\":\"\"}}}],\"carpet\":[{\"aaxis\":{\"endlinecolor\":\"#2a3f5f\",\"gridcolor\":\"white\",\"linecolor\":\"white\",\"minorgridcolor\":\"white\",\"startlinecolor\":\"#2a3f5f\"},\"baxis\":{\"endlinecolor\":\"#2a3f5f\",\"gridcolor\":\"white\",\"linecolor\":\"white\",\"minorgridcolor\":\"white\",\"startlinecolor\":\"#2a3f5f\"},\"type\":\"carpet\"}],\"table\":[{\"cells\":{\"fill\":{\"color\":\"#EBF0F8\"},\"line\":{\"color\":\"white\"}},\"header\":{\"fill\":{\"color\":\"#C8D4E3\"},\"line\":{\"color\":\"white\"}},\"type\":\"table\"}],\"barpolar\":[{\"marker\":{\"line\":{\"color\":\"#E5ECF6\",\"width\":0.5},\"pattern\":{\"fillmode\":\"overlay\",\"size\":10,\"solidity\":0.2}},\"type\":\"barpolar\"}],\"pie\":[{\"automargin\":true,\"type\":\"pie\"}]},\"layout\":{\"autotypenumbers\":\"strict\",\"colorway\":[\"#636efa\",\"#EF553B\",\"#00cc96\",\"#ab63fa\",\"#FFA15A\",\"#19d3f3\",\"#FF6692\",\"#B6E880\",\"#FF97FF\",\"#FECB52\"],\"font\":{\"color\":\"#2a3f5f\"},\"hovermode\":\"closest\",\"hoverlabel\":{\"align\":\"left\"},\"paper_bgcolor\":\"white\",\"plot_bgcolor\":\"#E5ECF6\",\"polar\":{\"bgcolor\":\"#E5ECF6\",\"angularaxis\":{\"gridcolor\":\"white\",\"linecolor\":\"white\",\"ticks\":\"\"},\"radialaxis\":{\"gridcolor\":\"white\",\"linecolor\":\"white\",\"ticks\":\"\"}},\"ternary\":{\"bgcolor\":\"#E5ECF6\",\"aaxis\":{\"gridcolor\":\"white\",\"linecolor\":\"white\",\"ticks\":\"\"},\"baxis\":{\"gridcolor\":\"white\",\"linecolor\":\"white\",\"ticks\":\"\"},\"caxis\":{\"gridcolor\":\"white\",\"linecolor\":\"white\",\"ticks\":\"\"}},\"coloraxis\":{\"colorbar\":{\"outlinewidth\":0,\"ticks\":\"\"}},\"colorscale\":{\"sequential\":[[0.0,\"#0d0887\"],[0.1111111111111111,\"#46039f\"],[0.2222222222222222,\"#7201a8\"],[0.3333333333333333,\"#9c179e\"],[0.4444444444444444,\"#bd3786\"],[0.5555555555555556,\"#d8576b\"],[0.6666666666666666,\"#ed7953\"],[0.7777777777777778,\"#fb9f3a\"],[0.8888888888888888,\"#fdca26\"],[1.0,\"#f0f921\"]],\"sequentialminus\":[[0.0,\"#0d0887\"],[0.1111111111111111,\"#46039f\"],[0.2222222222222222,\"#7201a8\"],[0.3333333333333333,\"#9c179e\"],[0.4444444444444444,\"#bd3786\"],[0.5555555555555556,\"#d8576b\"],[0.6666666666666666,\"#ed7953\"],[0.7777777777777778,\"#fb9f3a\"],[0.8888888888888888,\"#fdca26\"],[1.0,\"#f0f921\"]],\"diverging\":[[0,\"#8e0152\"],[0.1,\"#c51b7d\"],[0.2,\"#de77ae\"],[0.3,\"#f1b6da\"],[0.4,\"#fde0ef\"],[0.5,\"#f7f7f7\"],[0.6,\"#e6f5d0\"],[0.7,\"#b8e186\"],[0.8,\"#7fbc41\"],[0.9,\"#4d9221\"],[1,\"#276419\"]]},\"xaxis\":{\"gridcolor\":\"white\",\"linecolor\":\"white\",\"ticks\":\"\",\"title\":{\"standoff\":15},\"zerolinecolor\":\"white\",\"automargin\":true,\"zerolinewidth\":2},\"yaxis\":{\"gridcolor\":\"white\",\"linecolor\":\"white\",\"ticks\":\"\",\"title\":{\"standoff\":15},\"zerolinecolor\":\"white\",\"automargin\":true,\"zerolinewidth\":2},\"scene\":{\"xaxis\":{\"backgroundcolor\":\"#E5ECF6\",\"gridcolor\":\"white\",\"linecolor\":\"white\",\"showbackground\":true,\"ticks\":\"\",\"zerolinecolor\":\"white\",\"gridwidth\":2},\"yaxis\":{\"backgroundcolor\":\"#E5ECF6\",\"gridcolor\":\"white\",\"linecolor\":\"white\",\"showbackground\":true,\"ticks\":\"\",\"zerolinecolor\":\"white\",\"gridwidth\":2},\"zaxis\":{\"backgroundcolor\":\"#E5ECF6\",\"gridcolor\":\"white\",\"linecolor\":\"white\",\"showbackground\":true,\"ticks\":\"\",\"zerolinecolor\":\"white\",\"gridwidth\":2}},\"shapedefaults\":{\"line\":{\"color\":\"#2a3f5f\"}},\"annotationdefaults\":{\"arrowcolor\":\"#2a3f5f\",\"arrowhead\":0,\"arrowwidth\":1},\"geo\":{\"bgcolor\":\"white\",\"landcolor\":\"#E5ECF6\",\"subunitcolor\":\"white\",\"showland\":true,\"showlakes\":true,\"lakecolor\":\"white\"},\"title\":{\"x\":0.05},\"mapbox\":{\"style\":\"light\"}}},\"xaxis\":{\"anchor\":\"y\",\"domain\":[0.0,1.0],\"title\":{\"text\":\"salary_range\"}},\"yaxis\":{\"anchor\":\"x\",\"domain\":[0.0,1.0],\"title\":{\"text\":\"count\"}},\"legend\":{\"tracegroupgap\":0},\"margin\":{\"t\":60},\"barmode\":\"relative\"},                        {\"responsive\": true}                    ).then(function(){\n",
       "                            \n",
       "var gd = document.getElementById('9ae491c4-15ea-43f5-8361-474b18329003');\n",
       "var x = new MutationObserver(function (mutations, observer) {{\n",
       "        var display = window.getComputedStyle(gd).display;\n",
       "        if (!display || display === 'none') {{\n",
       "            console.log([gd, 'removed!']);\n",
       "            Plotly.purge(gd);\n",
       "            observer.disconnect();\n",
       "        }}\n",
       "}});\n",
       "\n",
       "// Listen for the removal of the full notebook cells\n",
       "var notebookContainer = gd.closest('#notebook-container');\n",
       "if (notebookContainer) {{\n",
       "    x.observe(notebookContainer, {childList: true});\n",
       "}}\n",
       "\n",
       "// Listen for the clearing of the current output cell\n",
       "var outputEl = gd.closest('.output');\n",
       "if (outputEl) {{\n",
       "    x.observe(outputEl, {childList: true});\n",
       "}}\n",
       "\n",
       "                        })                };                });            </script>        </div>"
      ]
     },
     "metadata": {},
     "output_type": "display_data"
    }
   ],
   "source": [
    "px.histogram(df[df['salary'] > 0], x = 'salary_range', nbins = 10, color_discrete_sequence = ['steelblue'])"
   ]
  },
  {
   "cell_type": "code",
   "execution_count": 12,
   "id": "0428ea8b",
   "metadata": {},
   "outputs": [
    {
     "data": {
      "text/html": [
       "<div>\n",
       "<style scoped>\n",
       "    .dataframe tbody tr th:only-of-type {\n",
       "        vertical-align: middle;\n",
       "    }\n",
       "\n",
       "    .dataframe tbody tr th {\n",
       "        vertical-align: top;\n",
       "    }\n",
       "\n",
       "    .dataframe thead th {\n",
       "        text-align: right;\n",
       "    }\n",
       "</style>\n",
       "<table border=\"1\" class=\"dataframe\">\n",
       "  <thead>\n",
       "    <tr style=\"text-align: right;\">\n",
       "      <th></th>\n",
       "      <th>company</th>\n",
       "      <th>position</th>\n",
       "      <th>location</th>\n",
       "      <th>schedule</th>\n",
       "      <th>responsibilities</th>\n",
       "      <th>requirements</th>\n",
       "      <th>levels</th>\n",
       "      <th>techstack</th>\n",
       "      <th>source</th>\n",
       "      <th>format</th>\n",
       "      <th>salary</th>\n",
       "      <th>currency</th>\n",
       "      <th>salary_range</th>\n",
       "    </tr>\n",
       "  </thead>\n",
       "  <tbody>\n",
       "    <tr>\n",
       "      <th>4516</th>\n",
       "      <td>NEWHR</td>\n",
       "      <td>Senior Ruby/RoR Developer for highload iPaaS p...</td>\n",
       "      <td>не определено</td>\n",
       "      <td>полный</td>\n",
       "      <td>не определено</td>\n",
       "      <td>не определено</td>\n",
       "      <td>Старший (Senior)</td>\n",
       "      <td>['Ruby on Rails', 'Высоконагруженные системы',...</td>\n",
       "      <td>habr.ru</td>\n",
       "      <td>удаленка</td>\n",
       "      <td>595000.0</td>\n",
       "      <td>RUB</td>\n",
       "      <td>600000.0</td>\n",
       "    </tr>\n",
       "    <tr>\n",
       "      <th>4588</th>\n",
       "      <td>Diabolocom</td>\n",
       "      <td>Java Developer</td>\n",
       "      <td>Not indicated</td>\n",
       "      <td>не указано</td>\n",
       "      <td>не определено</td>\n",
       "      <td>не определено</td>\n",
       "      <td>Старший (Senior)</td>\n",
       "      <td>['Английский язык', 'SQL', 'Java', 'Java Sprin...</td>\n",
       "      <td>habr.ru</td>\n",
       "      <td>не указано</td>\n",
       "      <td>700000.0</td>\n",
       "      <td>RUB</td>\n",
       "      <td>700000.0</td>\n",
       "    </tr>\n",
       "    <tr>\n",
       "      <th>4592</th>\n",
       "      <td>Reef Technologies</td>\n",
       "      <td>Senior Python Backend Engineer</td>\n",
       "      <td>не определено</td>\n",
       "      <td>не полный</td>\n",
       "      <td>не определено</td>\n",
       "      <td>не определено</td>\n",
       "      <td>Старший (Senior)</td>\n",
       "      <td>['Python', 'Проектирование баз данных']</td>\n",
       "      <td>habr.ru</td>\n",
       "      <td>удаленка</td>\n",
       "      <td>823200.0</td>\n",
       "      <td>RUB</td>\n",
       "      <td>900000.0</td>\n",
       "    </tr>\n",
       "    <tr>\n",
       "      <th>4594</th>\n",
       "      <td>Diabolocom</td>\n",
       "      <td>DevOps/SRE Engineer</td>\n",
       "      <td>Not indicated</td>\n",
       "      <td>не указано</td>\n",
       "      <td>не определено</td>\n",
       "      <td>не определено</td>\n",
       "      <td>Старший (Senior)</td>\n",
       "      <td>['Git', 'PostgreSQL', 'CI/CD', 'Kubernetes', '...</td>\n",
       "      <td>habr.ru</td>\n",
       "      <td>не указано</td>\n",
       "      <td>700000.0</td>\n",
       "      <td>RUB</td>\n",
       "      <td>700000.0</td>\n",
       "    </tr>\n",
       "    <tr>\n",
       "      <th>4819</th>\n",
       "      <td>EGGHEADS</td>\n",
       "      <td>Team Lead Backend (PHP)</td>\n",
       "      <td>не определено</td>\n",
       "      <td>полный</td>\n",
       "      <td>не определено</td>\n",
       "      <td>не определено</td>\n",
       "      <td>Ведущий (Lead)</td>\n",
       "      <td>['SQL', 'PostgreSQL', 'MySQL', 'Yii framework'...</td>\n",
       "      <td>habr.ru</td>\n",
       "      <td>удаленка</td>\n",
       "      <td>550000.0</td>\n",
       "      <td>RUB</td>\n",
       "      <td>600000.0</td>\n",
       "    </tr>\n",
       "    <tr>\n",
       "      <th>5200</th>\n",
       "      <td>CentralPay</td>\n",
       "      <td>Senior Backend Developer (PHP/Laravel)</td>\n",
       "      <td>не определено</td>\n",
       "      <td>полный</td>\n",
       "      <td>не определено</td>\n",
       "      <td>не определено</td>\n",
       "      <td>Старший (Senior)</td>\n",
       "      <td>['PHP', 'Laravel', 'Docker', 'Kubernetes']</td>\n",
       "      <td>habr.ru</td>\n",
       "      <td>удаленка</td>\n",
       "      <td>560000.0</td>\n",
       "      <td>RUB</td>\n",
       "      <td>600000.0</td>\n",
       "    </tr>\n",
       "    <tr>\n",
       "      <th>5445</th>\n",
       "      <td>ZERO (https://zerosystems.com)</td>\n",
       "      <td>не определено</td>\n",
       "      <td>не определено</td>\n",
       "      <td>[]</td>\n",
       "      <td>- Design, build, and/or deliver NLP models for...</td>\n",
       "      <td>hugging_face: library\\n- Excellent communicati...</td>\n",
       "      <td>['Middle', 'Senior', 'Lead']</td>\n",
       "      <td>['jax', 'python', 'kubernetes', 'kubeflow', 'c...</td>\n",
       "      <td>https://t.me/s/datasciencejobs</td>\n",
       "      <td>[]</td>\n",
       "      <td>700000.0</td>\n",
       "      <td>USD</td>\n",
       "      <td>700000.0</td>\n",
       "    </tr>\n",
       "    <tr>\n",
       "      <th>5488</th>\n",
       "      <td>КА SkillHunt (ищем в компанию разработчик моби...</td>\n",
       "      <td>Computer Vision разработчик, уровня Senior, и ...</td>\n",
       "      <td>Ереван/Польша/Тайланд</td>\n",
       "      <td>[]</td>\n",
       "      <td>• Ресерч.\\n• Оптимизацию и дистилляцию нейросе...</td>\n",
       "      <td>• Опыт ML-разработки от 4-х лет.\\n• Опыт работ...</td>\n",
       "      <td>['Senior', 'Lead']</td>\n",
       "      <td>[]</td>\n",
       "      <td>https://t.me/s/datasciencejobs</td>\n",
       "      <td>[]</td>\n",
       "      <td>525000.0</td>\n",
       "      <td>USD</td>\n",
       "      <td>600000.0</td>\n",
       "    </tr>\n",
       "    <tr>\n",
       "      <th>5511</th>\n",
       "      <td>не определено</td>\n",
       "      <td>не определено</td>\n",
       "      <td>не определено</td>\n",
       "      <td>[]</td>\n",
       "      <td>не определено</td>\n",
       "      <td>— уметь работать в команде: тестировать MVP на...</td>\n",
       "      <td>[]</td>\n",
       "      <td>['pytorch']</td>\n",
       "      <td>https://t.me/s/datasciencejobs</td>\n",
       "      <td>['Удалёнка', 'Офис']</td>\n",
       "      <td>700000.0</td>\n",
       "      <td>EUR</td>\n",
       "      <td>700000.0</td>\n",
       "    </tr>\n",
       "    <tr>\n",
       "      <th>5525</th>\n",
       "      <td>не определено</td>\n",
       "      <td>не определено</td>\n",
       "      <td>не определено</td>\n",
       "      <td>[]</td>\n",
       "      <td>не определено</td>\n",
       "      <td>не определено</td>\n",
       "      <td>['Middle', 'Senior']</td>\n",
       "      <td>[]</td>\n",
       "      <td>https://t.me/s/datasciencejobs</td>\n",
       "      <td>[]</td>\n",
       "      <td>7000000.0</td>\n",
       "      <td>USD</td>\n",
       "      <td>NaN</td>\n",
       "    </tr>\n",
       "    <tr>\n",
       "      <th>5540</th>\n",
       "      <td>Datafold</td>\n",
       "      <td>Python Developer</td>\n",
       "      <td>не определено</td>\n",
       "      <td>['Fulltime', 'Полная']</td>\n",
       "      <td>не определено</td>\n",
       "      <td>-Опыт системной разработки от 5 лет, из них ми...</td>\n",
       "      <td>['Senior']</td>\n",
       "      <td>['python', 'etl', 'sql']</td>\n",
       "      <td>https://t.me/s/datasciencejobs</td>\n",
       "      <td>['Удалёнка']</td>\n",
       "      <td>595000.0</td>\n",
       "      <td>USD</td>\n",
       "      <td>600000.0</td>\n",
       "    </tr>\n",
       "    <tr>\n",
       "      <th>5554</th>\n",
       "      <td>Datafold</td>\n",
       "      <td>Python Developer</td>\n",
       "      <td>не определено</td>\n",
       "      <td>['Полная']</td>\n",
       "      <td>не определено</td>\n",
       "      <td>-Опыт разработки от 5 лет, из них минимум 4 го...</td>\n",
       "      <td>['Senior']</td>\n",
       "      <td>['python', 'etl', 'sql']</td>\n",
       "      <td>https://t.me/s/datasciencejobs</td>\n",
       "      <td>['Удалёнка', 'Удалёнка']</td>\n",
       "      <td>595000.0</td>\n",
       "      <td>USD</td>\n",
       "      <td>600000.0</td>\n",
       "    </tr>\n",
       "    <tr>\n",
       "      <th>5557</th>\n",
       "      <td>Datafold</td>\n",
       "      <td>Python Developer</td>\n",
       "      <td>не определено</td>\n",
       "      <td>['Fulltime', 'Полная']</td>\n",
       "      <td>не определено</td>\n",
       "      <td>-Опыт разработки от 5 лет, из них минимум 4 го...</td>\n",
       "      <td>['Senior']</td>\n",
       "      <td>['python', 'etl', 'sql']</td>\n",
       "      <td>https://t.me/s/datasciencejobs</td>\n",
       "      <td>['Удалёнка', 'Удалёнка']</td>\n",
       "      <td>595000.0</td>\n",
       "      <td>USD</td>\n",
       "      <td>600000.0</td>\n",
       "    </tr>\n",
       "    <tr>\n",
       "      <th>5696</th>\n",
       "      <td>не определено</td>\n",
       "      <td>Data Engineer</td>\n",
       "      <td>Remote</td>\n",
       "      <td>[]</td>\n",
       "      <td>не определено</td>\n",
       "      <td>* писать / читать / ревьюить код на Python\\n* ...</td>\n",
       "      <td>[]</td>\n",
       "      <td>['spark', 'aws', 'python', 'pyspark', 'airflow...</td>\n",
       "      <td>https://t.me/s/datasciencejobs</td>\n",
       "      <td>[]</td>\n",
       "      <td>1750000.0</td>\n",
       "      <td>USD</td>\n",
       "      <td>NaN</td>\n",
       "    </tr>\n",
       "    <tr>\n",
       "      <th>5711</th>\n",
       "      <td>не определено</td>\n",
       "      <td>не определено</td>\n",
       "      <td>не определено</td>\n",
       "      <td>['Fulltime']</td>\n",
       "      <td>What would be your key responsibilities?</td>\n",
       "      <td>•  Fluency in English is required, any additio...</td>\n",
       "      <td>['Lead']</td>\n",
       "      <td>['docker', 'aws']</td>\n",
       "      <td>https://t.me/s/datasciencejobs</td>\n",
       "      <td>[]</td>\n",
       "      <td>3150000.0</td>\n",
       "      <td>EUR</td>\n",
       "      <td>NaN</td>\n",
       "    </tr>\n",
       "    <tr>\n",
       "      <th>5712</th>\n",
       "      <td>не определено</td>\n",
       "      <td>Research Engineer</td>\n",
       "      <td>не определено</td>\n",
       "      <td>['Fulltime']</td>\n",
       "      <td>RESEARCH ENGINEER (NLP) RESPONSIBILITIES</td>\n",
       "      <td>не определено</td>\n",
       "      <td>['Junior', 'Senior']</td>\n",
       "      <td>['python']</td>\n",
       "      <td>https://t.me/s/datasciencejobs</td>\n",
       "      <td>[]</td>\n",
       "      <td>8750000.0</td>\n",
       "      <td>EUR</td>\n",
       "      <td>NaN</td>\n",
       "    </tr>\n",
       "    <tr>\n",
       "      <th>5722</th>\n",
       "      <td>Fundraise Up</td>\n",
       "      <td>Lead Data Analyst</td>\n",
       "      <td>Remote</td>\n",
       "      <td>[]</td>\n",
       "      <td>- Вы сможете делать мир лучше вместе крупнейши...</td>\n",
       "      <td>- Опыт руководства DS/аналитической командой и...</td>\n",
       "      <td>['Lead']</td>\n",
       "      <td>['python']</td>\n",
       "      <td>https://t.me/s/datasciencejobs</td>\n",
       "      <td>[]</td>\n",
       "      <td>3500000.0</td>\n",
       "      <td>USD</td>\n",
       "      <td>NaN</td>\n",
       "    </tr>\n",
       "    <tr>\n",
       "      <th>5775</th>\n",
       "      <td>не определено</td>\n",
       "      <td>не определено</td>\n",
       "      <td>не определено</td>\n",
       "      <td>[]</td>\n",
       "      <td>- Написание эффективного и понятного кода для ...</td>\n",
       "      <td>- 2-3 года работы в областях, связанных с анал...</td>\n",
       "      <td>[]</td>\n",
       "      <td>['sql']</td>\n",
       "      <td>https://t.me/s/datasciencejobs</td>\n",
       "      <td>[]</td>\n",
       "      <td>700000.0</td>\n",
       "      <td>RUB</td>\n",
       "      <td>700000.0</td>\n",
       "    </tr>\n",
       "    <tr>\n",
       "      <th>5815</th>\n",
       "      <td>b2b product for poker apps analytics with ML</td>\n",
       "      <td>Team Lead\\ Senior \\ Middle Java developer</td>\n",
       "      <td>не определено</td>\n",
       "      <td>['Fulltime']</td>\n",
       "      <td>не определено</td>\n",
       "      <td>Good Java Knowledge (SE)\\nGood knowledge of th...</td>\n",
       "      <td>['Senior', 'Middle', 'Lead']</td>\n",
       "      <td>['java', 'git', 'c/c++']</td>\n",
       "      <td>https://t.me/s/datasciencejobs</td>\n",
       "      <td>['Удалёнка']</td>\n",
       "      <td>31500000.0</td>\n",
       "      <td>USD</td>\n",
       "      <td>NaN</td>\n",
       "    </tr>\n",
       "    <tr>\n",
       "      <th>5822</th>\n",
       "      <td>Eurasian Resources Group (ERG)</td>\n",
       "      <td>Senior Сomputer Vision Engineer</td>\n",
       "      <td>Нур-Султан/Алматы</td>\n",
       "      <td>[]</td>\n",
       "      <td>- Изучение, адаптация и внедрение State-Of-The...</td>\n",
       "      <td>- Практический опыт использования Deep Learnin...</td>\n",
       "      <td>['Senior']</td>\n",
       "      <td>['pytorch', 'tensorflow', 'linux', 'docker']</td>\n",
       "      <td>https://t.me/s/datasciencejobs</td>\n",
       "      <td>[]</td>\n",
       "      <td>800000.0</td>\n",
       "      <td>RUB</td>\n",
       "      <td>800000.0</td>\n",
       "    </tr>\n",
       "    <tr>\n",
       "      <th>5871</th>\n",
       "      <td>не определено</td>\n",
       "      <td>не определено</td>\n",
       "      <td>не определено</td>\n",
       "      <td>['Свободный', 'Полная', 'Гибкий']</td>\n",
       "      <td>- создание команды анализа данных;\\n- построен...</td>\n",
       "      <td>Ищем Head of Data Science с опытом в трейдинге...</td>\n",
       "      <td>['Head']</td>\n",
       "      <td>[]</td>\n",
       "      <td>https://t.me/s/datasciencejobs</td>\n",
       "      <td>['Удалёнка', 'Офис']</td>\n",
       "      <td>550000.0</td>\n",
       "      <td>RUB</td>\n",
       "      <td>600000.0</td>\n",
       "    </tr>\n",
       "    <tr>\n",
       "      <th>5888</th>\n",
       "      <td>не определено</td>\n",
       "      <td>не определено</td>\n",
       "      <td>не определено</td>\n",
       "      <td>[]</td>\n",
       "      <td>Responsibilities</td>\n",
       "      <td>Requirements</td>\n",
       "      <td>['Lead']</td>\n",
       "      <td>['c++']</td>\n",
       "      <td>https://t.me/s/datasciencejobs</td>\n",
       "      <td>[]</td>\n",
       "      <td>700000.0</td>\n",
       "      <td>RUB</td>\n",
       "      <td>700000.0</td>\n",
       "    </tr>\n",
       "    <tr>\n",
       "      <th>5904</th>\n",
       "      <td>не определено</td>\n",
       "      <td>Head Of Data Science</td>\n",
       "      <td>Санкт-Петербург</td>\n",
       "      <td>[]</td>\n",
       "      <td>⭕️Сейчас у ребят амбициозные планы по развитию...</td>\n",
       "      <td>Современная IT-компания, которая занимается ра...</td>\n",
       "      <td>['Head']</td>\n",
       "      <td>[]</td>\n",
       "      <td>https://t.me/s/datasciencejobs</td>\n",
       "      <td>['Удалёнка', 'Офис']</td>\n",
       "      <td>590000.0</td>\n",
       "      <td>RUB</td>\n",
       "      <td>600000.0</td>\n",
       "    </tr>\n",
       "    <tr>\n",
       "      <th>5920</th>\n",
       "      <td>PeakData AG</td>\n",
       "      <td>не определено</td>\n",
       "      <td>не определено</td>\n",
       "      <td>[]</td>\n",
       "      <td>не определено</td>\n",
       "      <td>не определено</td>\n",
       "      <td>['Senior']</td>\n",
       "      <td>['python', 'docker']</td>\n",
       "      <td>https://t.me/s/datasciencejobs</td>\n",
       "      <td>['Удалёнка', 'Удалёнка']</td>\n",
       "      <td>2520000.0</td>\n",
       "      <td>USD</td>\n",
       "      <td>NaN</td>\n",
       "    </tr>\n",
       "    <tr>\n",
       "      <th>5924</th>\n",
       "      <td>Peakdata (http://peakdata.ch/)</td>\n",
       "      <td>Data Engineer</td>\n",
       "      <td>не определено</td>\n",
       "      <td>[]</td>\n",
       "      <td>• Be able to process and integrate disparate d...</td>\n",
       "      <td>• At least 1 year of professional experience i...</td>\n",
       "      <td>['Lead']</td>\n",
       "      <td>['git', 'python', 'docker']</td>\n",
       "      <td>https://t.me/s/datasciencejobs</td>\n",
       "      <td>['Удалёнка']</td>\n",
       "      <td>16100000.0</td>\n",
       "      <td>USD</td>\n",
       "      <td>NaN</td>\n",
       "    </tr>\n",
       "    <tr>\n",
       "      <th>5932</th>\n",
       "      <td>Peakdata (http://peakdata.ch/)</td>\n",
       "      <td>Data Engineer</td>\n",
       "      <td>не определено</td>\n",
       "      <td>[]</td>\n",
       "      <td>• Be able to process and integrate disparate d...</td>\n",
       "      <td>• At least 1 year of professional experience i...</td>\n",
       "      <td>['Lead']</td>\n",
       "      <td>['git', 'python', 'docker']</td>\n",
       "      <td>https://t.me/s/datasciencejobs</td>\n",
       "      <td>['Удалёнка']</td>\n",
       "      <td>16100000.0</td>\n",
       "      <td>USD</td>\n",
       "      <td>NaN</td>\n",
       "    </tr>\n",
       "    <tr>\n",
       "      <th>5937</th>\n",
       "      <td>Peakdata (http://peakdata.ch/)</td>\n",
       "      <td>Data Engineer</td>\n",
       "      <td>не определено</td>\n",
       "      <td>[]</td>\n",
       "      <td>• Be able to process and integrate disparate d...</td>\n",
       "      <td>• At least 1 year of professional experience i...</td>\n",
       "      <td>['Lead']</td>\n",
       "      <td>['git', 'python', 'docker']</td>\n",
       "      <td>https://t.me/s/datasciencejobs</td>\n",
       "      <td>['Удалёнка']</td>\n",
       "      <td>16100000.0</td>\n",
       "      <td>USD</td>\n",
       "      <td>NaN</td>\n",
       "    </tr>\n",
       "    <tr>\n",
       "      <th>5939</th>\n",
       "      <td>PeakData AG</td>\n",
       "      <td>не определено</td>\n",
       "      <td>не определено</td>\n",
       "      <td>[]</td>\n",
       "      <td>не определено</td>\n",
       "      <td>не определено</td>\n",
       "      <td>['Senior']</td>\n",
       "      <td>['python', 'docker']</td>\n",
       "      <td>https://t.me/s/datasciencejobs</td>\n",
       "      <td>['Удалёнка', 'Удалёнка']</td>\n",
       "      <td>2520000.0</td>\n",
       "      <td>USD</td>\n",
       "      <td>NaN</td>\n",
       "    </tr>\n",
       "    <tr>\n",
       "      <th>5942</th>\n",
       "      <td>PeakData AG</td>\n",
       "      <td>не определено</td>\n",
       "      <td>не определено</td>\n",
       "      <td>[]</td>\n",
       "      <td>не определено</td>\n",
       "      <td>не определено</td>\n",
       "      <td>['Senior']</td>\n",
       "      <td>['docker']</td>\n",
       "      <td>https://t.me/s/datasciencejobs</td>\n",
       "      <td>['Удалёнка', 'Удалёнка']</td>\n",
       "      <td>2520000.0</td>\n",
       "      <td>USD</td>\n",
       "      <td>NaN</td>\n",
       "    </tr>\n",
       "    <tr>\n",
       "      <th>5951</th>\n",
       "      <td>Mercari, a marketplace where people can buy an...</td>\n",
       "      <td>не определено</td>\n",
       "      <td>не определено</td>\n",
       "      <td>['Fulltime']</td>\n",
       "      <td>не определено</td>\n",
       "      <td>Requirements</td>\n",
       "      <td>[]</td>\n",
       "      <td>[]</td>\n",
       "      <td>https://t.me/s/datasciencejobs</td>\n",
       "      <td>[]</td>\n",
       "      <td>14000000.0</td>\n",
       "      <td>USD</td>\n",
       "      <td>NaN</td>\n",
       "    </tr>\n",
       "    <tr>\n",
       "      <th>5953</th>\n",
       "      <td>российская IT-компания, специализирующаяся на ...</td>\n",
       "      <td>не определено</td>\n",
       "      <td>Москва</td>\n",
       "      <td>['Гибкий']</td>\n",
       "      <td>•  Опыт проработки задачи от бизнес-постановки...</td>\n",
       "      <td>•  Опыт использования ml библиотек на Python (...</td>\n",
       "      <td>['Senior', 'Lead']</td>\n",
       "      <td>['python', 'hive', 'airflow', 'docker']</td>\n",
       "      <td>https://t.me/s/datasciencejobs</td>\n",
       "      <td>['Офис']</td>\n",
       "      <td>600000.0</td>\n",
       "      <td>RUB</td>\n",
       "      <td>600000.0</td>\n",
       "    </tr>\n",
       "    <tr>\n",
       "      <th>5965</th>\n",
       "      <td>не определено</td>\n",
       "      <td>не определено</td>\n",
       "      <td>не определено</td>\n",
       "      <td>['Fulltime', 'Полная', 'Гибкое', 'Гибким']</td>\n",
       "      <td>- прототипирование и разработка алгоритмов на ...</td>\n",
       "      <td>- хорошие знания в области deep learning, пони...</td>\n",
       "      <td>['Middle', 'Senior']</td>\n",
       "      <td>[]</td>\n",
       "      <td>https://t.me/s/datasciencejobs</td>\n",
       "      <td>['Удалёнка', 'Удалёнка', 'Офис']</td>\n",
       "      <td>300000000.0</td>\n",
       "      <td>RUB</td>\n",
       "      <td>NaN</td>\n",
       "    </tr>\n",
       "    <tr>\n",
       "      <th>5974</th>\n",
       "      <td>не определено</td>\n",
       "      <td>не определено</td>\n",
       "      <td>не определено</td>\n",
       "      <td>[]</td>\n",
       "      <td>не определено</td>\n",
       "      <td>не определено</td>\n",
       "      <td>['Senior']</td>\n",
       "      <td>['airflow', 'kubernetes']</td>\n",
       "      <td>https://t.me/s/datasciencejobs</td>\n",
       "      <td>[]</td>\n",
       "      <td>3500000.0</td>\n",
       "      <td>USD</td>\n",
       "      <td>NaN</td>\n",
       "    </tr>\n",
       "    <tr>\n",
       "      <th>5984</th>\n",
       "      <td>не определено</td>\n",
       "      <td>не определено</td>\n",
       "      <td>не определено</td>\n",
       "      <td>['Fulltime', 'Полная', 'Гибкое', 'Гибким']</td>\n",
       "      <td>- прототипирование и разработка алгоритмов на ...</td>\n",
       "      <td>- глубокие знания в области deep learning, пон...</td>\n",
       "      <td>['Senior']</td>\n",
       "      <td>[]</td>\n",
       "      <td>https://t.me/s/datasciencejobs</td>\n",
       "      <td>['Офис']</td>\n",
       "      <td>300000000.0</td>\n",
       "      <td>RUB</td>\n",
       "      <td>NaN</td>\n",
       "    </tr>\n",
       "    <tr>\n",
       "      <th>5986</th>\n",
       "      <td>российская IT-компания, специализирующаяся на ...</td>\n",
       "      <td>не определено</td>\n",
       "      <td>Москва</td>\n",
       "      <td>['Гибкий']</td>\n",
       "      <td>•  Опыт проработки задачи от бизнес-постановки...</td>\n",
       "      <td>•  Опыт использования ml библиотек на Python (...</td>\n",
       "      <td>['Senior', 'Lead']</td>\n",
       "      <td>['python', 'hive', 'airflow', 'docker']</td>\n",
       "      <td>https://t.me/s/datasciencejobs</td>\n",
       "      <td>['Офис']</td>\n",
       "      <td>600000.0</td>\n",
       "      <td>RUB</td>\n",
       "      <td>600000.0</td>\n",
       "    </tr>\n",
       "  </tbody>\n",
       "</table>\n",
       "</div>"
      ],
      "text/plain": [
       "                                                company  \\\n",
       "4516                                              NEWHR   \n",
       "4588                                         Diabolocom   \n",
       "4592                                  Reef Technologies   \n",
       "4594                                         Diabolocom   \n",
       "4819                                           EGGHEADS   \n",
       "5200                                         CentralPay   \n",
       "5445                     ZERO (https://zerosystems.com)   \n",
       "5488  КА SkillHunt (ищем в компанию разработчик моби...   \n",
       "5511                                      не определено   \n",
       "5525                                      не определено   \n",
       "5540                                           Datafold   \n",
       "5554                                           Datafold   \n",
       "5557                                           Datafold   \n",
       "5696                                      не определено   \n",
       "5711                                      не определено   \n",
       "5712                                      не определено   \n",
       "5722                                       Fundraise Up   \n",
       "5775                                      не определено   \n",
       "5815       b2b product for poker apps analytics with ML   \n",
       "5822                     Eurasian Resources Group (ERG)   \n",
       "5871                                      не определено   \n",
       "5888                                      не определено   \n",
       "5904                                      не определено   \n",
       "5920                                        PeakData AG   \n",
       "5924                     Peakdata (http://peakdata.ch/)   \n",
       "5932                     Peakdata (http://peakdata.ch/)   \n",
       "5937                     Peakdata (http://peakdata.ch/)   \n",
       "5939                                        PeakData AG   \n",
       "5942                                        PeakData AG   \n",
       "5951  Mercari, a marketplace where people can buy an...   \n",
       "5953  российская IT-компания, специализирующаяся на ...   \n",
       "5965                                      не определено   \n",
       "5974                                      не определено   \n",
       "5984                                      не определено   \n",
       "5986  российская IT-компания, специализирующаяся на ...   \n",
       "\n",
       "                                               position  \\\n",
       "4516  Senior Ruby/RoR Developer for highload iPaaS p...   \n",
       "4588                                     Java Developer   \n",
       "4592                     Senior Python Backend Engineer   \n",
       "4594                                DevOps/SRE Engineer   \n",
       "4819                            Team Lead Backend (PHP)   \n",
       "5200             Senior Backend Developer (PHP/Laravel)   \n",
       "5445                                      не определено   \n",
       "5488  Computer Vision разработчик, уровня Senior, и ...   \n",
       "5511                                      не определено   \n",
       "5525                                      не определено   \n",
       "5540                                   Python Developer   \n",
       "5554                                   Python Developer   \n",
       "5557                                   Python Developer   \n",
       "5696                                      Data Engineer   \n",
       "5711                                      не определено   \n",
       "5712                                  Research Engineer   \n",
       "5722                                  Lead Data Analyst   \n",
       "5775                                      не определено   \n",
       "5815          Team Lead\\ Senior \\ Middle Java developer   \n",
       "5822                    Senior Сomputer Vision Engineer   \n",
       "5871                                      не определено   \n",
       "5888                                      не определено   \n",
       "5904                               Head Of Data Science   \n",
       "5920                                      не определено   \n",
       "5924                                      Data Engineer   \n",
       "5932                                      Data Engineer   \n",
       "5937                                      Data Engineer   \n",
       "5939                                      не определено   \n",
       "5942                                      не определено   \n",
       "5951                                      не определено   \n",
       "5953                                      не определено   \n",
       "5965                                      не определено   \n",
       "5974                                      не определено   \n",
       "5984                                      не определено   \n",
       "5986                                      не определено   \n",
       "\n",
       "                   location                                    schedule  \\\n",
       "4516          не определено                                      полный   \n",
       "4588          Not indicated                                  не указано   \n",
       "4592          не определено                                   не полный   \n",
       "4594          Not indicated                                  не указано   \n",
       "4819          не определено                                      полный   \n",
       "5200          не определено                                      полный   \n",
       "5445          не определено                                          []   \n",
       "5488  Ереван/Польша/Тайланд                                          []   \n",
       "5511          не определено                                          []   \n",
       "5525          не определено                                          []   \n",
       "5540          не определено                      ['Fulltime', 'Полная']   \n",
       "5554          не определено                                  ['Полная']   \n",
       "5557          не определено                      ['Fulltime', 'Полная']   \n",
       "5696                 Remote                                          []   \n",
       "5711          не определено                                ['Fulltime']   \n",
       "5712          не определено                                ['Fulltime']   \n",
       "5722                 Remote                                          []   \n",
       "5775          не определено                                          []   \n",
       "5815          не определено                                ['Fulltime']   \n",
       "5822      Нур-Султан/Алматы                                          []   \n",
       "5871          не определено           ['Свободный', 'Полная', 'Гибкий']   \n",
       "5888          не определено                                          []   \n",
       "5904        Санкт-Петербург                                          []   \n",
       "5920          не определено                                          []   \n",
       "5924          не определено                                          []   \n",
       "5932          не определено                                          []   \n",
       "5937          не определено                                          []   \n",
       "5939          не определено                                          []   \n",
       "5942          не определено                                          []   \n",
       "5951          не определено                                ['Fulltime']   \n",
       "5953                 Москва                                  ['Гибкий']   \n",
       "5965          не определено  ['Fulltime', 'Полная', 'Гибкое', 'Гибким']   \n",
       "5974          не определено                                          []   \n",
       "5984          не определено  ['Fulltime', 'Полная', 'Гибкое', 'Гибким']   \n",
       "5986                 Москва                                  ['Гибкий']   \n",
       "\n",
       "                                       responsibilities  \\\n",
       "4516                                      не определено   \n",
       "4588                                      не определено   \n",
       "4592                                      не определено   \n",
       "4594                                      не определено   \n",
       "4819                                      не определено   \n",
       "5200                                      не определено   \n",
       "5445  - Design, build, and/or deliver NLP models for...   \n",
       "5488  • Ресерч.\\n• Оптимизацию и дистилляцию нейросе...   \n",
       "5511                                      не определено   \n",
       "5525                                      не определено   \n",
       "5540                                      не определено   \n",
       "5554                                      не определено   \n",
       "5557                                      не определено   \n",
       "5696                                      не определено   \n",
       "5711           What would be your key responsibilities?   \n",
       "5712           RESEARCH ENGINEER (NLP) RESPONSIBILITIES   \n",
       "5722  - Вы сможете делать мир лучше вместе крупнейши...   \n",
       "5775  - Написание эффективного и понятного кода для ...   \n",
       "5815                                      не определено   \n",
       "5822  - Изучение, адаптация и внедрение State-Of-The...   \n",
       "5871  - создание команды анализа данных;\\n- построен...   \n",
       "5888                                   Responsibilities   \n",
       "5904  ⭕️Сейчас у ребят амбициозные планы по развитию...   \n",
       "5920                                      не определено   \n",
       "5924  • Be able to process and integrate disparate d...   \n",
       "5932  • Be able to process and integrate disparate d...   \n",
       "5937  • Be able to process and integrate disparate d...   \n",
       "5939                                      не определено   \n",
       "5942                                      не определено   \n",
       "5951                                      не определено   \n",
       "5953  •  Опыт проработки задачи от бизнес-постановки...   \n",
       "5965  - прототипирование и разработка алгоритмов на ...   \n",
       "5974                                      не определено   \n",
       "5984  - прототипирование и разработка алгоритмов на ...   \n",
       "5986  •  Опыт проработки задачи от бизнес-постановки...   \n",
       "\n",
       "                                           requirements  \\\n",
       "4516                                      не определено   \n",
       "4588                                      не определено   \n",
       "4592                                      не определено   \n",
       "4594                                      не определено   \n",
       "4819                                      не определено   \n",
       "5200                                      не определено   \n",
       "5445  hugging_face: library\\n- Excellent communicati...   \n",
       "5488  • Опыт ML-разработки от 4-х лет.\\n• Опыт работ...   \n",
       "5511  — уметь работать в команде: тестировать MVP на...   \n",
       "5525                                      не определено   \n",
       "5540  -Опыт системной разработки от 5 лет, из них ми...   \n",
       "5554  -Опыт разработки от 5 лет, из них минимум 4 го...   \n",
       "5557  -Опыт разработки от 5 лет, из них минимум 4 го...   \n",
       "5696  * писать / читать / ревьюить код на Python\\n* ...   \n",
       "5711  •  Fluency in English is required, any additio...   \n",
       "5712                                      не определено   \n",
       "5722  - Опыт руководства DS/аналитической командой и...   \n",
       "5775  - 2-3 года работы в областях, связанных с анал...   \n",
       "5815  Good Java Knowledge (SE)\\nGood knowledge of th...   \n",
       "5822  - Практический опыт использования Deep Learnin...   \n",
       "5871  Ищем Head of Data Science с опытом в трейдинге...   \n",
       "5888                                       Requirements   \n",
       "5904  Современная IT-компания, которая занимается ра...   \n",
       "5920                                      не определено   \n",
       "5924  • At least 1 year of professional experience i...   \n",
       "5932  • At least 1 year of professional experience i...   \n",
       "5937  • At least 1 year of professional experience i...   \n",
       "5939                                      не определено   \n",
       "5942                                      не определено   \n",
       "5951                                       Requirements   \n",
       "5953  •  Опыт использования ml библиотек на Python (...   \n",
       "5965  - хорошие знания в области deep learning, пони...   \n",
       "5974                                      не определено   \n",
       "5984  - глубокие знания в области deep learning, пон...   \n",
       "5986  •  Опыт использования ml библиотек на Python (...   \n",
       "\n",
       "                            levels  \\\n",
       "4516              Старший (Senior)   \n",
       "4588              Старший (Senior)   \n",
       "4592              Старший (Senior)   \n",
       "4594              Старший (Senior)   \n",
       "4819                Ведущий (Lead)   \n",
       "5200              Старший (Senior)   \n",
       "5445  ['Middle', 'Senior', 'Lead']   \n",
       "5488            ['Senior', 'Lead']   \n",
       "5511                            []   \n",
       "5525          ['Middle', 'Senior']   \n",
       "5540                    ['Senior']   \n",
       "5554                    ['Senior']   \n",
       "5557                    ['Senior']   \n",
       "5696                            []   \n",
       "5711                      ['Lead']   \n",
       "5712          ['Junior', 'Senior']   \n",
       "5722                      ['Lead']   \n",
       "5775                            []   \n",
       "5815  ['Senior', 'Middle', 'Lead']   \n",
       "5822                    ['Senior']   \n",
       "5871                      ['Head']   \n",
       "5888                      ['Lead']   \n",
       "5904                      ['Head']   \n",
       "5920                    ['Senior']   \n",
       "5924                      ['Lead']   \n",
       "5932                      ['Lead']   \n",
       "5937                      ['Lead']   \n",
       "5939                    ['Senior']   \n",
       "5942                    ['Senior']   \n",
       "5951                            []   \n",
       "5953            ['Senior', 'Lead']   \n",
       "5965          ['Middle', 'Senior']   \n",
       "5974                    ['Senior']   \n",
       "5984                    ['Senior']   \n",
       "5986            ['Senior', 'Lead']   \n",
       "\n",
       "                                              techstack  \\\n",
       "4516  ['Ruby on Rails', 'Высоконагруженные системы',...   \n",
       "4588  ['Английский язык', 'SQL', 'Java', 'Java Sprin...   \n",
       "4592            ['Python', 'Проектирование баз данных']   \n",
       "4594  ['Git', 'PostgreSQL', 'CI/CD', 'Kubernetes', '...   \n",
       "4819  ['SQL', 'PostgreSQL', 'MySQL', 'Yii framework'...   \n",
       "5200         ['PHP', 'Laravel', 'Docker', 'Kubernetes']   \n",
       "5445  ['jax', 'python', 'kubernetes', 'kubeflow', 'c...   \n",
       "5488                                                 []   \n",
       "5511                                        ['pytorch']   \n",
       "5525                                                 []   \n",
       "5540                           ['python', 'etl', 'sql']   \n",
       "5554                           ['python', 'etl', 'sql']   \n",
       "5557                           ['python', 'etl', 'sql']   \n",
       "5696  ['spark', 'aws', 'python', 'pyspark', 'airflow...   \n",
       "5711                                  ['docker', 'aws']   \n",
       "5712                                         ['python']   \n",
       "5722                                         ['python']   \n",
       "5775                                            ['sql']   \n",
       "5815                           ['java', 'git', 'c/c++']   \n",
       "5822       ['pytorch', 'tensorflow', 'linux', 'docker']   \n",
       "5871                                                 []   \n",
       "5888                                            ['c++']   \n",
       "5904                                                 []   \n",
       "5920                               ['python', 'docker']   \n",
       "5924                        ['git', 'python', 'docker']   \n",
       "5932                        ['git', 'python', 'docker']   \n",
       "5937                        ['git', 'python', 'docker']   \n",
       "5939                               ['python', 'docker']   \n",
       "5942                                         ['docker']   \n",
       "5951                                                 []   \n",
       "5953            ['python', 'hive', 'airflow', 'docker']   \n",
       "5965                                                 []   \n",
       "5974                          ['airflow', 'kubernetes']   \n",
       "5984                                                 []   \n",
       "5986            ['python', 'hive', 'airflow', 'docker']   \n",
       "\n",
       "                              source                            format  \\\n",
       "4516                         habr.ru                          удаленка   \n",
       "4588                         habr.ru                        не указано   \n",
       "4592                         habr.ru                          удаленка   \n",
       "4594                         habr.ru                        не указано   \n",
       "4819                         habr.ru                          удаленка   \n",
       "5200                         habr.ru                          удаленка   \n",
       "5445  https://t.me/s/datasciencejobs                                []   \n",
       "5488  https://t.me/s/datasciencejobs                                []   \n",
       "5511  https://t.me/s/datasciencejobs              ['Удалёнка', 'Офис']   \n",
       "5525  https://t.me/s/datasciencejobs                                []   \n",
       "5540  https://t.me/s/datasciencejobs                      ['Удалёнка']   \n",
       "5554  https://t.me/s/datasciencejobs          ['Удалёнка', 'Удалёнка']   \n",
       "5557  https://t.me/s/datasciencejobs          ['Удалёнка', 'Удалёнка']   \n",
       "5696  https://t.me/s/datasciencejobs                                []   \n",
       "5711  https://t.me/s/datasciencejobs                                []   \n",
       "5712  https://t.me/s/datasciencejobs                                []   \n",
       "5722  https://t.me/s/datasciencejobs                                []   \n",
       "5775  https://t.me/s/datasciencejobs                                []   \n",
       "5815  https://t.me/s/datasciencejobs                      ['Удалёнка']   \n",
       "5822  https://t.me/s/datasciencejobs                                []   \n",
       "5871  https://t.me/s/datasciencejobs              ['Удалёнка', 'Офис']   \n",
       "5888  https://t.me/s/datasciencejobs                                []   \n",
       "5904  https://t.me/s/datasciencejobs              ['Удалёнка', 'Офис']   \n",
       "5920  https://t.me/s/datasciencejobs          ['Удалёнка', 'Удалёнка']   \n",
       "5924  https://t.me/s/datasciencejobs                      ['Удалёнка']   \n",
       "5932  https://t.me/s/datasciencejobs                      ['Удалёнка']   \n",
       "5937  https://t.me/s/datasciencejobs                      ['Удалёнка']   \n",
       "5939  https://t.me/s/datasciencejobs          ['Удалёнка', 'Удалёнка']   \n",
       "5942  https://t.me/s/datasciencejobs          ['Удалёнка', 'Удалёнка']   \n",
       "5951  https://t.me/s/datasciencejobs                                []   \n",
       "5953  https://t.me/s/datasciencejobs                          ['Офис']   \n",
       "5965  https://t.me/s/datasciencejobs  ['Удалёнка', 'Удалёнка', 'Офис']   \n",
       "5974  https://t.me/s/datasciencejobs                                []   \n",
       "5984  https://t.me/s/datasciencejobs                          ['Офис']   \n",
       "5986  https://t.me/s/datasciencejobs                          ['Офис']   \n",
       "\n",
       "           salary currency  salary_range  \n",
       "4516     595000.0      RUB      600000.0  \n",
       "4588     700000.0      RUB      700000.0  \n",
       "4592     823200.0      RUB      900000.0  \n",
       "4594     700000.0      RUB      700000.0  \n",
       "4819     550000.0      RUB      600000.0  \n",
       "5200     560000.0      RUB      600000.0  \n",
       "5445     700000.0      USD      700000.0  \n",
       "5488     525000.0      USD      600000.0  \n",
       "5511     700000.0      EUR      700000.0  \n",
       "5525    7000000.0      USD           NaN  \n",
       "5540     595000.0      USD      600000.0  \n",
       "5554     595000.0      USD      600000.0  \n",
       "5557     595000.0      USD      600000.0  \n",
       "5696    1750000.0      USD           NaN  \n",
       "5711    3150000.0      EUR           NaN  \n",
       "5712    8750000.0      EUR           NaN  \n",
       "5722    3500000.0      USD           NaN  \n",
       "5775     700000.0      RUB      700000.0  \n",
       "5815   31500000.0      USD           NaN  \n",
       "5822     800000.0      RUB      800000.0  \n",
       "5871     550000.0      RUB      600000.0  \n",
       "5888     700000.0      RUB      700000.0  \n",
       "5904     590000.0      RUB      600000.0  \n",
       "5920    2520000.0      USD           NaN  \n",
       "5924   16100000.0      USD           NaN  \n",
       "5932   16100000.0      USD           NaN  \n",
       "5937   16100000.0      USD           NaN  \n",
       "5939    2520000.0      USD           NaN  \n",
       "5942    2520000.0      USD           NaN  \n",
       "5951   14000000.0      USD           NaN  \n",
       "5953     600000.0      RUB      600000.0  \n",
       "5965  300000000.0      RUB           NaN  \n",
       "5974    3500000.0      USD           NaN  \n",
       "5984  300000000.0      RUB           NaN  \n",
       "5986     600000.0      RUB      600000.0  "
      ]
     },
     "execution_count": 12,
     "metadata": {},
     "output_type": "execute_result"
    }
   ],
   "source": [
    "# посмотрим на зарпалты более 500к\n",
    "df[df['salary'] > 500000]"
   ]
  },
  {
   "cell_type": "markdown",
   "id": "8c608a3c",
   "metadata": {},
   "source": [
    "Некоторые компании публикуют одну и ту же вакансию в разных регионах. \n",
    "По сути это одна вакансия, поэтому мы будем рассматривать такие строки как дубликаты и удалять их\n",
    "Такие вакансии отнесем к Москве."
   ]
  },
  {
   "cell_type": "code",
   "execution_count": 13,
   "id": "4c2b507f",
   "metadata": {},
   "outputs": [
    {
     "data": {
      "text/plain": [
       "(327, 13)"
      ]
     },
     "execution_count": 13,
     "metadata": {},
     "output_type": "execute_result"
    }
   ],
   "source": [
    "ss = df.groupby(by = ['company', 'position', 'schedule', 'responsibilities',\n",
    "       'requirements', 'levels', 'techstack', 'source',\n",
    "       'format', 'salary', 'currency', 'salary_range'], as_index = False).size().sort_values(ascending=False, by = 'size')\n",
    "\n",
    "ss[ss['size']>1].shape"
   ]
  },
  {
   "cell_type": "code",
   "execution_count": 14,
   "id": "0e0e5693",
   "metadata": {},
   "outputs": [],
   "source": [
    "df = pd.merge(left = df, right = ss, how = 'inner', validate = 'm:1', on=['company', 'position', 'schedule', 'responsibilities',\n",
    "       'requirements', 'levels', 'techstack', 'source',\n",
    "       'format', 'salary', 'currency', 'salary_range'], suffixes = ('', '_r'))[['company', 'position', 'location', 'schedule', 'responsibilities','requirements', 'levels', 'techstack', 'source', 'format', 'salary', 'currency', 'salary_range', 'size']]"
   ]
  },
  {
   "cell_type": "code",
   "execution_count": null,
   "id": "173b4998",
   "metadata": {},
   "outputs": [],
   "source": []
  },
  {
   "cell_type": "code",
   "execution_count": 15,
   "id": "52fbc023",
   "metadata": {},
   "outputs": [],
   "source": [
    "df['location'] = df.apply(lambda r: 'Москва' if r['size']>1 else r['location'], axis = 1)"
   ]
  },
  {
   "cell_type": "code",
   "execution_count": 16,
   "id": "e95acc2d",
   "metadata": {},
   "outputs": [],
   "source": [
    "df.drop_duplicates(inplace = True, ignore_index = True)"
   ]
  },
  {
   "cell_type": "code",
   "execution_count": 17,
   "id": "0036d662",
   "metadata": {},
   "outputs": [
    {
     "data": {
      "text/html": [
       "<div>\n",
       "<style scoped>\n",
       "    .dataframe tbody tr th:only-of-type {\n",
       "        vertical-align: middle;\n",
       "    }\n",
       "\n",
       "    .dataframe tbody tr th {\n",
       "        vertical-align: top;\n",
       "    }\n",
       "\n",
       "    .dataframe thead th {\n",
       "        text-align: right;\n",
       "    }\n",
       "</style>\n",
       "<table border=\"1\" class=\"dataframe\">\n",
       "  <thead>\n",
       "    <tr style=\"text-align: right;\">\n",
       "      <th></th>\n",
       "      <th>company</th>\n",
       "      <th>position</th>\n",
       "      <th>schedule</th>\n",
       "      <th>responsibilities</th>\n",
       "      <th>requirements</th>\n",
       "      <th>levels</th>\n",
       "      <th>techstack</th>\n",
       "      <th>source</th>\n",
       "      <th>format</th>\n",
       "      <th>salary</th>\n",
       "      <th>currency</th>\n",
       "      <th>salary_range</th>\n",
       "      <th>size</th>\n",
       "    </tr>\n",
       "  </thead>\n",
       "  <tbody>\n",
       "  </tbody>\n",
       "</table>\n",
       "</div>"
      ],
      "text/plain": [
       "Empty DataFrame\n",
       "Columns: [company, position, schedule, responsibilities, requirements, levels, techstack, source, format, salary, currency, salary_range, size]\n",
       "Index: []"
      ]
     },
     "execution_count": 17,
     "metadata": {},
     "output_type": "execute_result"
    }
   ],
   "source": [
    "ss = df.groupby(by = ['company', 'position', 'schedule', 'responsibilities',\n",
    "       'requirements', 'levels', 'techstack', 'source',\n",
    "       'format', 'salary', 'currency', 'salary_range'], as_index = False).size().sort_values(ascending=False, by = 'size')\n",
    "\n",
    "ss[ss['size']>1]"
   ]
  },
  {
   "cell_type": "code",
   "execution_count": 18,
   "id": "e23066c5",
   "metadata": {},
   "outputs": [],
   "source": [
    "df.drop(columns=['size'], inplace=True)"
   ]
  },
  {
   "cell_type": "markdown",
   "id": "e94943a3",
   "metadata": {},
   "source": [
    "После удаления дублей смотрим на распределене зарплат в двух масштабах еще раз:"
   ]
  },
  {
   "cell_type": "code",
   "execution_count": 52,
   "id": "8f123e84",
   "metadata": {},
   "outputs": [
    {
     "data": {
      "application/vnd.plotly.v1+json": {
       "config": {
        "plotlyServerURL": "https://plot.ly"
       },
       "data": [
        {
         "alignmentgroup": "True",
         "bingroup": "x",
         "hovertemplate": "salary_range=%{x}<br>count=%{y}<extra></extra>",
         "legendgroup": "",
         "marker": {
          "color": "steelblue",
          "pattern": {
           "shape": ""
          }
         },
         "name": "",
         "nbinsx": 100,
         "offsetgroup": "",
         "orientation": "v",
         "showlegend": false,
         "type": "histogram",
         "x": [
          60000,
          30000,
          120000,
          180000,
          200000,
          200000,
          150000,
          300000,
          200000,
          350000,
          250000,
          350000,
          200000,
          250000,
          80000,
          300000,
          120000,
          280000,
          350000,
          250000,
          350000,
          350000,
          400000,
          300000,
          150000,
          600000,
          180000,
          250000,
          270000,
          160000,
          250000,
          210000,
          300000,
          200000,
          420000,
          200000,
          350000,
          200000,
          400000,
          300000,
          300000,
          350000,
          700000,
          830000,
          700000,
          320000,
          250000,
          200000,
          440000,
          210000,
          280000,
          350000,
          200000,
          200000,
          390000,
          280000,
          250000,
          150000,
          160000,
          150000,
          150000,
          400000,
          200000,
          110000,
          250000,
          420000,
          250000,
          40000,
          420000,
          250000,
          400000,
          420000,
          280000,
          350000,
          420000,
          420000,
          70000,
          350000,
          250000,
          150000,
          250000,
          380000,
          420000,
          70000,
          250000,
          130000,
          110000,
          170000,
          350000,
          500000,
          200000,
          180000,
          400000,
          100000,
          160000,
          280000,
          150000,
          30000,
          300000,
          200000,
          210000,
          250000,
          220000,
          200000,
          250000,
          550000,
          280000,
          350000,
          250000,
          350000,
          130000,
          80000,
          200000,
          160000,
          220000,
          170000,
          160000,
          120000,
          220000,
          110000,
          150000,
          300000,
          200000,
          150000,
          170000,
          300000,
          180000,
          130000,
          250000,
          350000,
          300000,
          250000,
          200000,
          200000,
          80000,
          250000,
          250000,
          170000,
          150000,
          380000,
          300000,
          120000,
          200000,
          380000,
          190000,
          250000,
          300000,
          130000,
          350000,
          90000,
          280000,
          190000,
          350000,
          420000,
          300000,
          230000,
          200000,
          350000,
          100000,
          260000,
          440000,
          200000,
          220000,
          200000,
          300000,
          250000,
          30000,
          80000,
          200000,
          150000,
          200000,
          250000,
          70000,
          80000,
          150000,
          280000,
          200000,
          200000,
          250000,
          320000,
          220000,
          400000,
          350000,
          250000,
          350000,
          250000,
          200000,
          150000,
          560000,
          250000,
          100000,
          40000,
          100000,
          130000,
          180000,
          200000,
          150000,
          140000,
          170000,
          150000,
          150000,
          250000,
          200000,
          180000,
          250000,
          200000,
          450000,
          250000,
          190000,
          90000,
          280000,
          350000,
          150000,
          200000,
          230000,
          150000,
          150000,
          240000,
          350000,
          420000,
          250000,
          350000,
          250000,
          230000,
          150000,
          300000,
          160000,
          180000,
          220000,
          160000,
          400000,
          300000,
          350000,
          400000,
          180000,
          250000,
          150000,
          250000,
          300000,
          400000,
          200000,
          250000,
          90000,
          280000,
          230000,
          130000,
          250000,
          220000,
          100000,
          70000,
          30000,
          300000,
          420000,
          300000,
          130000,
          400000,
          350000,
          240000,
          360000,
          480000,
          100000,
          200000,
          10000,
          120000,
          300000,
          420000,
          150000,
          350000,
          300000,
          300000,
          700000,
          450000,
          250000,
          220000,
          250000,
          110000,
          450000,
          390000,
          150000,
          350000,
          250000,
          320000,
          10000,
          280000,
          490000,
          180000,
          420000,
          250000,
          530000,
          350000,
          350000,
          150000,
          320000,
          10000,
          300000,
          200000,
          140000,
          350000,
          490000,
          120000,
          300000,
          500000,
          200000,
          10000,
          400000,
          250000,
          700000,
          420000,
          260000,
          80000,
          280000,
          300000,
          350000,
          350000,
          300000,
          350000,
          10000,
          280000,
          250000,
          250000,
          350000,
          250000,
          420000,
          300000,
          350000,
          300000,
          210000,
          600000,
          200000,
          300000,
          350000,
          300000,
          300000,
          180000,
          600000,
          600000,
          300000,
          300000,
          350000,
          10000,
          210000,
          350000,
          240000,
          280000,
          220000,
          240000,
          300000,
          260000,
          250000,
          150000,
          10000,
          220000,
          350000,
          300000,
          300000,
          450000,
          300000,
          250000,
          90000,
          30000,
          300000,
          250000,
          250000,
          270000,
          300000,
          230000,
          10000,
          350000,
          250000,
          250000,
          300000,
          100000,
          400000,
          420000,
          350000,
          400000,
          270000,
          250000,
          10000,
          300000,
          350000,
          300000,
          210000,
          80000,
          300000,
          310000,
          300000,
          230000,
          500000,
          150000,
          300000,
          280000,
          350000,
          10000,
          350000,
          200000,
          220000,
          100000,
          250000,
          400000,
          250000,
          350000,
          420000,
          300000,
          250000,
          250000,
          220000,
          200000,
          200000,
          200000,
          400000,
          350000,
          200000,
          350000,
          10000,
          10000,
          300000,
          300000,
          350000,
          300000,
          90000,
          120000,
          270000,
          270000,
          120000,
          230000,
          200000,
          150000,
          10000,
          300000,
          200000,
          200000,
          180000,
          10000,
          180000,
          280000,
          180000,
          250000,
          700000,
          160000,
          210000,
          350000,
          150000,
          150000,
          250000,
          250000,
          300000,
          280000,
          250000,
          300000,
          320000,
          100000,
          270000,
          420000,
          150000,
          180000,
          180000,
          180000,
          220000,
          800000,
          250000,
          260000,
          270000,
          350000,
          300000,
          150000,
          10000,
          200000,
          260000,
          260000,
          280000,
          150000,
          50000,
          300000,
          230000,
          250000,
          270000,
          250000,
          180000,
          10000,
          260000,
          250000,
          230000,
          300000,
          180000,
          80000,
          550000,
          140000,
          80000,
          250000,
          230000,
          250000,
          350000,
          300000,
          400000,
          250000,
          500000,
          700000,
          10000,
          250000,
          60000,
          500000,
          260000,
          120000,
          10000,
          590000,
          400000,
          300000,
          420000,
          450000,
          200000,
          200000,
          200000,
          100000,
          350000,
          160000,
          250000,
          200000,
          130000,
          260000,
          180000,
          220000,
          250000,
          150000,
          280000,
          600000,
          350000,
          350000,
          120000,
          300000,
          250000,
          300000,
          270000,
          100000,
          250000,
          90000,
          220000,
          300000,
          200000,
          330000,
          350000,
          250000,
          400000,
          210000,
          260000
         ],
         "xaxis": "x",
         "yaxis": "y"
        }
       ],
       "layout": {
        "barmode": "relative",
        "legend": {
         "tracegroupgap": 0
        },
        "margin": {
         "t": 60
        },
        "template": {
         "data": {
          "bar": [
           {
            "error_x": {
             "color": "#2a3f5f"
            },
            "error_y": {
             "color": "#2a3f5f"
            },
            "marker": {
             "line": {
              "color": "#E5ECF6",
              "width": 0.5
             },
             "pattern": {
              "fillmode": "overlay",
              "size": 10,
              "solidity": 0.2
             }
            },
            "type": "bar"
           }
          ],
          "barpolar": [
           {
            "marker": {
             "line": {
              "color": "#E5ECF6",
              "width": 0.5
             },
             "pattern": {
              "fillmode": "overlay",
              "size": 10,
              "solidity": 0.2
             }
            },
            "type": "barpolar"
           }
          ],
          "carpet": [
           {
            "aaxis": {
             "endlinecolor": "#2a3f5f",
             "gridcolor": "white",
             "linecolor": "white",
             "minorgridcolor": "white",
             "startlinecolor": "#2a3f5f"
            },
            "baxis": {
             "endlinecolor": "#2a3f5f",
             "gridcolor": "white",
             "linecolor": "white",
             "minorgridcolor": "white",
             "startlinecolor": "#2a3f5f"
            },
            "type": "carpet"
           }
          ],
          "choropleth": [
           {
            "colorbar": {
             "outlinewidth": 0,
             "ticks": ""
            },
            "type": "choropleth"
           }
          ],
          "contour": [
           {
            "colorbar": {
             "outlinewidth": 0,
             "ticks": ""
            },
            "colorscale": [
             [
              0,
              "#0d0887"
             ],
             [
              0.1111111111111111,
              "#46039f"
             ],
             [
              0.2222222222222222,
              "#7201a8"
             ],
             [
              0.3333333333333333,
              "#9c179e"
             ],
             [
              0.4444444444444444,
              "#bd3786"
             ],
             [
              0.5555555555555556,
              "#d8576b"
             ],
             [
              0.6666666666666666,
              "#ed7953"
             ],
             [
              0.7777777777777778,
              "#fb9f3a"
             ],
             [
              0.8888888888888888,
              "#fdca26"
             ],
             [
              1,
              "#f0f921"
             ]
            ],
            "type": "contour"
           }
          ],
          "contourcarpet": [
           {
            "colorbar": {
             "outlinewidth": 0,
             "ticks": ""
            },
            "type": "contourcarpet"
           }
          ],
          "heatmap": [
           {
            "colorbar": {
             "outlinewidth": 0,
             "ticks": ""
            },
            "colorscale": [
             [
              0,
              "#0d0887"
             ],
             [
              0.1111111111111111,
              "#46039f"
             ],
             [
              0.2222222222222222,
              "#7201a8"
             ],
             [
              0.3333333333333333,
              "#9c179e"
             ],
             [
              0.4444444444444444,
              "#bd3786"
             ],
             [
              0.5555555555555556,
              "#d8576b"
             ],
             [
              0.6666666666666666,
              "#ed7953"
             ],
             [
              0.7777777777777778,
              "#fb9f3a"
             ],
             [
              0.8888888888888888,
              "#fdca26"
             ],
             [
              1,
              "#f0f921"
             ]
            ],
            "type": "heatmap"
           }
          ],
          "heatmapgl": [
           {
            "colorbar": {
             "outlinewidth": 0,
             "ticks": ""
            },
            "colorscale": [
             [
              0,
              "#0d0887"
             ],
             [
              0.1111111111111111,
              "#46039f"
             ],
             [
              0.2222222222222222,
              "#7201a8"
             ],
             [
              0.3333333333333333,
              "#9c179e"
             ],
             [
              0.4444444444444444,
              "#bd3786"
             ],
             [
              0.5555555555555556,
              "#d8576b"
             ],
             [
              0.6666666666666666,
              "#ed7953"
             ],
             [
              0.7777777777777778,
              "#fb9f3a"
             ],
             [
              0.8888888888888888,
              "#fdca26"
             ],
             [
              1,
              "#f0f921"
             ]
            ],
            "type": "heatmapgl"
           }
          ],
          "histogram": [
           {
            "marker": {
             "pattern": {
              "fillmode": "overlay",
              "size": 10,
              "solidity": 0.2
             }
            },
            "type": "histogram"
           }
          ],
          "histogram2d": [
           {
            "colorbar": {
             "outlinewidth": 0,
             "ticks": ""
            },
            "colorscale": [
             [
              0,
              "#0d0887"
             ],
             [
              0.1111111111111111,
              "#46039f"
             ],
             [
              0.2222222222222222,
              "#7201a8"
             ],
             [
              0.3333333333333333,
              "#9c179e"
             ],
             [
              0.4444444444444444,
              "#bd3786"
             ],
             [
              0.5555555555555556,
              "#d8576b"
             ],
             [
              0.6666666666666666,
              "#ed7953"
             ],
             [
              0.7777777777777778,
              "#fb9f3a"
             ],
             [
              0.8888888888888888,
              "#fdca26"
             ],
             [
              1,
              "#f0f921"
             ]
            ],
            "type": "histogram2d"
           }
          ],
          "histogram2dcontour": [
           {
            "colorbar": {
             "outlinewidth": 0,
             "ticks": ""
            },
            "colorscale": [
             [
              0,
              "#0d0887"
             ],
             [
              0.1111111111111111,
              "#46039f"
             ],
             [
              0.2222222222222222,
              "#7201a8"
             ],
             [
              0.3333333333333333,
              "#9c179e"
             ],
             [
              0.4444444444444444,
              "#bd3786"
             ],
             [
              0.5555555555555556,
              "#d8576b"
             ],
             [
              0.6666666666666666,
              "#ed7953"
             ],
             [
              0.7777777777777778,
              "#fb9f3a"
             ],
             [
              0.8888888888888888,
              "#fdca26"
             ],
             [
              1,
              "#f0f921"
             ]
            ],
            "type": "histogram2dcontour"
           }
          ],
          "mesh3d": [
           {
            "colorbar": {
             "outlinewidth": 0,
             "ticks": ""
            },
            "type": "mesh3d"
           }
          ],
          "parcoords": [
           {
            "line": {
             "colorbar": {
              "outlinewidth": 0,
              "ticks": ""
             }
            },
            "type": "parcoords"
           }
          ],
          "pie": [
           {
            "automargin": true,
            "type": "pie"
           }
          ],
          "scatter": [
           {
            "fillpattern": {
             "fillmode": "overlay",
             "size": 10,
             "solidity": 0.2
            },
            "type": "scatter"
           }
          ],
          "scatter3d": [
           {
            "line": {
             "colorbar": {
              "outlinewidth": 0,
              "ticks": ""
             }
            },
            "marker": {
             "colorbar": {
              "outlinewidth": 0,
              "ticks": ""
             }
            },
            "type": "scatter3d"
           }
          ],
          "scattercarpet": [
           {
            "marker": {
             "colorbar": {
              "outlinewidth": 0,
              "ticks": ""
             }
            },
            "type": "scattercarpet"
           }
          ],
          "scattergeo": [
           {
            "marker": {
             "colorbar": {
              "outlinewidth": 0,
              "ticks": ""
             }
            },
            "type": "scattergeo"
           }
          ],
          "scattergl": [
           {
            "marker": {
             "colorbar": {
              "outlinewidth": 0,
              "ticks": ""
             }
            },
            "type": "scattergl"
           }
          ],
          "scattermapbox": [
           {
            "marker": {
             "colorbar": {
              "outlinewidth": 0,
              "ticks": ""
             }
            },
            "type": "scattermapbox"
           }
          ],
          "scatterpolar": [
           {
            "marker": {
             "colorbar": {
              "outlinewidth": 0,
              "ticks": ""
             }
            },
            "type": "scatterpolar"
           }
          ],
          "scatterpolargl": [
           {
            "marker": {
             "colorbar": {
              "outlinewidth": 0,
              "ticks": ""
             }
            },
            "type": "scatterpolargl"
           }
          ],
          "scatterternary": [
           {
            "marker": {
             "colorbar": {
              "outlinewidth": 0,
              "ticks": ""
             }
            },
            "type": "scatterternary"
           }
          ],
          "surface": [
           {
            "colorbar": {
             "outlinewidth": 0,
             "ticks": ""
            },
            "colorscale": [
             [
              0,
              "#0d0887"
             ],
             [
              0.1111111111111111,
              "#46039f"
             ],
             [
              0.2222222222222222,
              "#7201a8"
             ],
             [
              0.3333333333333333,
              "#9c179e"
             ],
             [
              0.4444444444444444,
              "#bd3786"
             ],
             [
              0.5555555555555556,
              "#d8576b"
             ],
             [
              0.6666666666666666,
              "#ed7953"
             ],
             [
              0.7777777777777778,
              "#fb9f3a"
             ],
             [
              0.8888888888888888,
              "#fdca26"
             ],
             [
              1,
              "#f0f921"
             ]
            ],
            "type": "surface"
           }
          ],
          "table": [
           {
            "cells": {
             "fill": {
              "color": "#EBF0F8"
             },
             "line": {
              "color": "white"
             }
            },
            "header": {
             "fill": {
              "color": "#C8D4E3"
             },
             "line": {
              "color": "white"
             }
            },
            "type": "table"
           }
          ]
         },
         "layout": {
          "annotationdefaults": {
           "arrowcolor": "#2a3f5f",
           "arrowhead": 0,
           "arrowwidth": 1
          },
          "autotypenumbers": "strict",
          "coloraxis": {
           "colorbar": {
            "outlinewidth": 0,
            "ticks": ""
           }
          },
          "colorscale": {
           "diverging": [
            [
             0,
             "#8e0152"
            ],
            [
             0.1,
             "#c51b7d"
            ],
            [
             0.2,
             "#de77ae"
            ],
            [
             0.3,
             "#f1b6da"
            ],
            [
             0.4,
             "#fde0ef"
            ],
            [
             0.5,
             "#f7f7f7"
            ],
            [
             0.6,
             "#e6f5d0"
            ],
            [
             0.7,
             "#b8e186"
            ],
            [
             0.8,
             "#7fbc41"
            ],
            [
             0.9,
             "#4d9221"
            ],
            [
             1,
             "#276419"
            ]
           ],
           "sequential": [
            [
             0,
             "#0d0887"
            ],
            [
             0.1111111111111111,
             "#46039f"
            ],
            [
             0.2222222222222222,
             "#7201a8"
            ],
            [
             0.3333333333333333,
             "#9c179e"
            ],
            [
             0.4444444444444444,
             "#bd3786"
            ],
            [
             0.5555555555555556,
             "#d8576b"
            ],
            [
             0.6666666666666666,
             "#ed7953"
            ],
            [
             0.7777777777777778,
             "#fb9f3a"
            ],
            [
             0.8888888888888888,
             "#fdca26"
            ],
            [
             1,
             "#f0f921"
            ]
           ],
           "sequentialminus": [
            [
             0,
             "#0d0887"
            ],
            [
             0.1111111111111111,
             "#46039f"
            ],
            [
             0.2222222222222222,
             "#7201a8"
            ],
            [
             0.3333333333333333,
             "#9c179e"
            ],
            [
             0.4444444444444444,
             "#bd3786"
            ],
            [
             0.5555555555555556,
             "#d8576b"
            ],
            [
             0.6666666666666666,
             "#ed7953"
            ],
            [
             0.7777777777777778,
             "#fb9f3a"
            ],
            [
             0.8888888888888888,
             "#fdca26"
            ],
            [
             1,
             "#f0f921"
            ]
           ]
          },
          "colorway": [
           "#636efa",
           "#EF553B",
           "#00cc96",
           "#ab63fa",
           "#FFA15A",
           "#19d3f3",
           "#FF6692",
           "#B6E880",
           "#FF97FF",
           "#FECB52"
          ],
          "font": {
           "color": "#2a3f5f"
          },
          "geo": {
           "bgcolor": "white",
           "lakecolor": "white",
           "landcolor": "#E5ECF6",
           "showlakes": true,
           "showland": true,
           "subunitcolor": "white"
          },
          "hoverlabel": {
           "align": "left"
          },
          "hovermode": "closest",
          "mapbox": {
           "style": "light"
          },
          "paper_bgcolor": "white",
          "plot_bgcolor": "#E5ECF6",
          "polar": {
           "angularaxis": {
            "gridcolor": "white",
            "linecolor": "white",
            "ticks": ""
           },
           "bgcolor": "#E5ECF6",
           "radialaxis": {
            "gridcolor": "white",
            "linecolor": "white",
            "ticks": ""
           }
          },
          "scene": {
           "xaxis": {
            "backgroundcolor": "#E5ECF6",
            "gridcolor": "white",
            "gridwidth": 2,
            "linecolor": "white",
            "showbackground": true,
            "ticks": "",
            "zerolinecolor": "white"
           },
           "yaxis": {
            "backgroundcolor": "#E5ECF6",
            "gridcolor": "white",
            "gridwidth": 2,
            "linecolor": "white",
            "showbackground": true,
            "ticks": "",
            "zerolinecolor": "white"
           },
           "zaxis": {
            "backgroundcolor": "#E5ECF6",
            "gridcolor": "white",
            "gridwidth": 2,
            "linecolor": "white",
            "showbackground": true,
            "ticks": "",
            "zerolinecolor": "white"
           }
          },
          "shapedefaults": {
           "line": {
            "color": "#2a3f5f"
           }
          },
          "ternary": {
           "aaxis": {
            "gridcolor": "white",
            "linecolor": "white",
            "ticks": ""
           },
           "baxis": {
            "gridcolor": "white",
            "linecolor": "white",
            "ticks": ""
           },
           "bgcolor": "#E5ECF6",
           "caxis": {
            "gridcolor": "white",
            "linecolor": "white",
            "ticks": ""
           }
          },
          "title": {
           "x": 0.05
          },
          "xaxis": {
           "automargin": true,
           "gridcolor": "white",
           "linecolor": "white",
           "ticks": "",
           "title": {
            "standoff": 15
           },
           "zerolinecolor": "white",
           "zerolinewidth": 2
          },
          "yaxis": {
           "automargin": true,
           "gridcolor": "white",
           "linecolor": "white",
           "ticks": "",
           "title": {
            "standoff": 15
           },
           "zerolinecolor": "white",
           "zerolinewidth": 2
          }
         }
        },
        "xaxis": {
         "anchor": "y",
         "domain": [
          0,
          1
         ],
         "title": {
          "text": "salary_range"
         }
        },
        "yaxis": {
         "anchor": "x",
         "domain": [
          0,
          1
         ],
         "title": {
          "text": "count"
         }
        }
       }
      },
      "text/html": [
       "<div>                            <div id=\"fdb1f74b-cec2-4243-a536-c07988abdc09\" class=\"plotly-graph-div\" style=\"height:525px; width:100%;\"></div>            <script type=\"text/javascript\">                require([\"plotly\"], function(Plotly) {                    window.PLOTLYENV=window.PLOTLYENV || {};                                    if (document.getElementById(\"fdb1f74b-cec2-4243-a536-c07988abdc09\")) {                    Plotly.newPlot(                        \"fdb1f74b-cec2-4243-a536-c07988abdc09\",                        [{\"alignmentgroup\":\"True\",\"bingroup\":\"x\",\"hovertemplate\":\"salary_range=%{x}<br>count=%{y}<extra></extra>\",\"legendgroup\":\"\",\"marker\":{\"color\":\"steelblue\",\"pattern\":{\"shape\":\"\"}},\"name\":\"\",\"nbinsx\":100,\"offsetgroup\":\"\",\"orientation\":\"v\",\"showlegend\":false,\"x\":[60000,30000,120000,180000,200000,200000,150000,300000,200000,350000,250000,350000,200000,250000,80000,300000,120000,280000,350000,250000,350000,350000,400000,300000,150000,600000,180000,250000,270000,160000,250000,210000,300000,200000,420000,200000,350000,200000,400000,300000,300000,350000,700000,830000,700000,320000,250000,200000,440000,210000,280000,350000,200000,200000,390000,280000,250000,150000,160000,150000,150000,400000,200000,110000,250000,420000,250000,40000,420000,250000,400000,420000,280000,350000,420000,420000,70000,350000,250000,150000,250000,380000,420000,70000,250000,130000,110000,170000,350000,500000,200000,180000,400000,100000,160000,280000,150000,30000,300000,200000,210000,250000,220000,200000,250000,550000,280000,350000,250000,350000,130000,80000,200000,160000,220000,170000,160000,120000,220000,110000,150000,300000,200000,150000,170000,300000,180000,130000,250000,350000,300000,250000,200000,200000,80000,250000,250000,170000,150000,380000,300000,120000,200000,380000,190000,250000,300000,130000,350000,90000,280000,190000,350000,420000,300000,230000,200000,350000,100000,260000,440000,200000,220000,200000,300000,250000,30000,80000,200000,150000,200000,250000,70000,80000,150000,280000,200000,200000,250000,320000,220000,400000,350000,250000,350000,250000,200000,150000,560000,250000,100000,40000,100000,130000,180000,200000,150000,140000,170000,150000,150000,250000,200000,180000,250000,200000,450000,250000,190000,90000,280000,350000,150000,200000,230000,150000,150000,240000,350000,420000,250000,350000,250000,230000,150000,300000,160000,180000,220000,160000,400000,300000,350000,400000,180000,250000,150000,250000,300000,400000,200000,250000,90000,280000,230000,130000,250000,220000,100000,70000,30000,300000,420000,300000,130000,400000,350000,240000,360000,480000,100000,200000,10000,120000,300000,420000,150000,350000,300000,300000,700000,450000,250000,220000,250000,110000,450000,390000,150000,350000,250000,320000,10000,280000,490000,180000,420000,250000,530000,350000,350000,150000,320000,10000,300000,200000,140000,350000,490000,120000,300000,500000,200000,10000,400000,250000,700000,420000,260000,80000,280000,300000,350000,350000,300000,350000,10000,280000,250000,250000,350000,250000,420000,300000,350000,300000,210000,600000,200000,300000,350000,300000,300000,180000,600000,600000,300000,300000,350000,10000,210000,350000,240000,280000,220000,240000,300000,260000,250000,150000,10000,220000,350000,300000,300000,450000,300000,250000,90000,30000,300000,250000,250000,270000,300000,230000,10000,350000,250000,250000,300000,100000,400000,420000,350000,400000,270000,250000,10000,300000,350000,300000,210000,80000,300000,310000,300000,230000,500000,150000,300000,280000,350000,10000,350000,200000,220000,100000,250000,400000,250000,350000,420000,300000,250000,250000,220000,200000,200000,200000,400000,350000,200000,350000,10000,10000,300000,300000,350000,300000,90000,120000,270000,270000,120000,230000,200000,150000,10000,300000,200000,200000,180000,10000,180000,280000,180000,250000,700000,160000,210000,350000,150000,150000,250000,250000,300000,280000,250000,300000,320000,100000,270000,420000,150000,180000,180000,180000,220000,800000,250000,260000,270000,350000,300000,150000,10000,200000,260000,260000,280000,150000,50000,300000,230000,250000,270000,250000,180000,10000,260000,250000,230000,300000,180000,80000,550000,140000,80000,250000,230000,250000,350000,300000,400000,250000,500000,700000,10000,250000,60000,500000,260000,120000,10000,590000,400000,300000,420000,450000,200000,200000,200000,100000,350000,160000,250000,200000,130000,260000,180000,220000,250000,150000,280000,600000,350000,350000,120000,300000,250000,300000,270000,100000,250000,90000,220000,300000,200000,330000,350000,250000,400000,210000,260000],\"xaxis\":\"x\",\"yaxis\":\"y\",\"type\":\"histogram\"}],                        {\"template\":{\"data\":{\"histogram2dcontour\":[{\"type\":\"histogram2dcontour\",\"colorbar\":{\"outlinewidth\":0,\"ticks\":\"\"},\"colorscale\":[[0.0,\"#0d0887\"],[0.1111111111111111,\"#46039f\"],[0.2222222222222222,\"#7201a8\"],[0.3333333333333333,\"#9c179e\"],[0.4444444444444444,\"#bd3786\"],[0.5555555555555556,\"#d8576b\"],[0.6666666666666666,\"#ed7953\"],[0.7777777777777778,\"#fb9f3a\"],[0.8888888888888888,\"#fdca26\"],[1.0,\"#f0f921\"]]}],\"choropleth\":[{\"type\":\"choropleth\",\"colorbar\":{\"outlinewidth\":0,\"ticks\":\"\"}}],\"histogram2d\":[{\"type\":\"histogram2d\",\"colorbar\":{\"outlinewidth\":0,\"ticks\":\"\"},\"colorscale\":[[0.0,\"#0d0887\"],[0.1111111111111111,\"#46039f\"],[0.2222222222222222,\"#7201a8\"],[0.3333333333333333,\"#9c179e\"],[0.4444444444444444,\"#bd3786\"],[0.5555555555555556,\"#d8576b\"],[0.6666666666666666,\"#ed7953\"],[0.7777777777777778,\"#fb9f3a\"],[0.8888888888888888,\"#fdca26\"],[1.0,\"#f0f921\"]]}],\"heatmap\":[{\"type\":\"heatmap\",\"colorbar\":{\"outlinewidth\":0,\"ticks\":\"\"},\"colorscale\":[[0.0,\"#0d0887\"],[0.1111111111111111,\"#46039f\"],[0.2222222222222222,\"#7201a8\"],[0.3333333333333333,\"#9c179e\"],[0.4444444444444444,\"#bd3786\"],[0.5555555555555556,\"#d8576b\"],[0.6666666666666666,\"#ed7953\"],[0.7777777777777778,\"#fb9f3a\"],[0.8888888888888888,\"#fdca26\"],[1.0,\"#f0f921\"]]}],\"heatmapgl\":[{\"type\":\"heatmapgl\",\"colorbar\":{\"outlinewidth\":0,\"ticks\":\"\"},\"colorscale\":[[0.0,\"#0d0887\"],[0.1111111111111111,\"#46039f\"],[0.2222222222222222,\"#7201a8\"],[0.3333333333333333,\"#9c179e\"],[0.4444444444444444,\"#bd3786\"],[0.5555555555555556,\"#d8576b\"],[0.6666666666666666,\"#ed7953\"],[0.7777777777777778,\"#fb9f3a\"],[0.8888888888888888,\"#fdca26\"],[1.0,\"#f0f921\"]]}],\"contourcarpet\":[{\"type\":\"contourcarpet\",\"colorbar\":{\"outlinewidth\":0,\"ticks\":\"\"}}],\"contour\":[{\"type\":\"contour\",\"colorbar\":{\"outlinewidth\":0,\"ticks\":\"\"},\"colorscale\":[[0.0,\"#0d0887\"],[0.1111111111111111,\"#46039f\"],[0.2222222222222222,\"#7201a8\"],[0.3333333333333333,\"#9c179e\"],[0.4444444444444444,\"#bd3786\"],[0.5555555555555556,\"#d8576b\"],[0.6666666666666666,\"#ed7953\"],[0.7777777777777778,\"#fb9f3a\"],[0.8888888888888888,\"#fdca26\"],[1.0,\"#f0f921\"]]}],\"surface\":[{\"type\":\"surface\",\"colorbar\":{\"outlinewidth\":0,\"ticks\":\"\"},\"colorscale\":[[0.0,\"#0d0887\"],[0.1111111111111111,\"#46039f\"],[0.2222222222222222,\"#7201a8\"],[0.3333333333333333,\"#9c179e\"],[0.4444444444444444,\"#bd3786\"],[0.5555555555555556,\"#d8576b\"],[0.6666666666666666,\"#ed7953\"],[0.7777777777777778,\"#fb9f3a\"],[0.8888888888888888,\"#fdca26\"],[1.0,\"#f0f921\"]]}],\"mesh3d\":[{\"type\":\"mesh3d\",\"colorbar\":{\"outlinewidth\":0,\"ticks\":\"\"}}],\"scatter\":[{\"fillpattern\":{\"fillmode\":\"overlay\",\"size\":10,\"solidity\":0.2},\"type\":\"scatter\"}],\"parcoords\":[{\"type\":\"parcoords\",\"line\":{\"colorbar\":{\"outlinewidth\":0,\"ticks\":\"\"}}}],\"scatterpolargl\":[{\"type\":\"scatterpolargl\",\"marker\":{\"colorbar\":{\"outlinewidth\":0,\"ticks\":\"\"}}}],\"bar\":[{\"error_x\":{\"color\":\"#2a3f5f\"},\"error_y\":{\"color\":\"#2a3f5f\"},\"marker\":{\"line\":{\"color\":\"#E5ECF6\",\"width\":0.5},\"pattern\":{\"fillmode\":\"overlay\",\"size\":10,\"solidity\":0.2}},\"type\":\"bar\"}],\"scattergeo\":[{\"type\":\"scattergeo\",\"marker\":{\"colorbar\":{\"outlinewidth\":0,\"ticks\":\"\"}}}],\"scatterpolar\":[{\"type\":\"scatterpolar\",\"marker\":{\"colorbar\":{\"outlinewidth\":0,\"ticks\":\"\"}}}],\"histogram\":[{\"marker\":{\"pattern\":{\"fillmode\":\"overlay\",\"size\":10,\"solidity\":0.2}},\"type\":\"histogram\"}],\"scattergl\":[{\"type\":\"scattergl\",\"marker\":{\"colorbar\":{\"outlinewidth\":0,\"ticks\":\"\"}}}],\"scatter3d\":[{\"type\":\"scatter3d\",\"line\":{\"colorbar\":{\"outlinewidth\":0,\"ticks\":\"\"}},\"marker\":{\"colorbar\":{\"outlinewidth\":0,\"ticks\":\"\"}}}],\"scattermapbox\":[{\"type\":\"scattermapbox\",\"marker\":{\"colorbar\":{\"outlinewidth\":0,\"ticks\":\"\"}}}],\"scatterternary\":[{\"type\":\"scatterternary\",\"marker\":{\"colorbar\":{\"outlinewidth\":0,\"ticks\":\"\"}}}],\"scattercarpet\":[{\"type\":\"scattercarpet\",\"marker\":{\"colorbar\":{\"outlinewidth\":0,\"ticks\":\"\"}}}],\"carpet\":[{\"aaxis\":{\"endlinecolor\":\"#2a3f5f\",\"gridcolor\":\"white\",\"linecolor\":\"white\",\"minorgridcolor\":\"white\",\"startlinecolor\":\"#2a3f5f\"},\"baxis\":{\"endlinecolor\":\"#2a3f5f\",\"gridcolor\":\"white\",\"linecolor\":\"white\",\"minorgridcolor\":\"white\",\"startlinecolor\":\"#2a3f5f\"},\"type\":\"carpet\"}],\"table\":[{\"cells\":{\"fill\":{\"color\":\"#EBF0F8\"},\"line\":{\"color\":\"white\"}},\"header\":{\"fill\":{\"color\":\"#C8D4E3\"},\"line\":{\"color\":\"white\"}},\"type\":\"table\"}],\"barpolar\":[{\"marker\":{\"line\":{\"color\":\"#E5ECF6\",\"width\":0.5},\"pattern\":{\"fillmode\":\"overlay\",\"size\":10,\"solidity\":0.2}},\"type\":\"barpolar\"}],\"pie\":[{\"automargin\":true,\"type\":\"pie\"}]},\"layout\":{\"autotypenumbers\":\"strict\",\"colorway\":[\"#636efa\",\"#EF553B\",\"#00cc96\",\"#ab63fa\",\"#FFA15A\",\"#19d3f3\",\"#FF6692\",\"#B6E880\",\"#FF97FF\",\"#FECB52\"],\"font\":{\"color\":\"#2a3f5f\"},\"hovermode\":\"closest\",\"hoverlabel\":{\"align\":\"left\"},\"paper_bgcolor\":\"white\",\"plot_bgcolor\":\"#E5ECF6\",\"polar\":{\"bgcolor\":\"#E5ECF6\",\"angularaxis\":{\"gridcolor\":\"white\",\"linecolor\":\"white\",\"ticks\":\"\"},\"radialaxis\":{\"gridcolor\":\"white\",\"linecolor\":\"white\",\"ticks\":\"\"}},\"ternary\":{\"bgcolor\":\"#E5ECF6\",\"aaxis\":{\"gridcolor\":\"white\",\"linecolor\":\"white\",\"ticks\":\"\"},\"baxis\":{\"gridcolor\":\"white\",\"linecolor\":\"white\",\"ticks\":\"\"},\"caxis\":{\"gridcolor\":\"white\",\"linecolor\":\"white\",\"ticks\":\"\"}},\"coloraxis\":{\"colorbar\":{\"outlinewidth\":0,\"ticks\":\"\"}},\"colorscale\":{\"sequential\":[[0.0,\"#0d0887\"],[0.1111111111111111,\"#46039f\"],[0.2222222222222222,\"#7201a8\"],[0.3333333333333333,\"#9c179e\"],[0.4444444444444444,\"#bd3786\"],[0.5555555555555556,\"#d8576b\"],[0.6666666666666666,\"#ed7953\"],[0.7777777777777778,\"#fb9f3a\"],[0.8888888888888888,\"#fdca26\"],[1.0,\"#f0f921\"]],\"sequentialminus\":[[0.0,\"#0d0887\"],[0.1111111111111111,\"#46039f\"],[0.2222222222222222,\"#7201a8\"],[0.3333333333333333,\"#9c179e\"],[0.4444444444444444,\"#bd3786\"],[0.5555555555555556,\"#d8576b\"],[0.6666666666666666,\"#ed7953\"],[0.7777777777777778,\"#fb9f3a\"],[0.8888888888888888,\"#fdca26\"],[1.0,\"#f0f921\"]],\"diverging\":[[0,\"#8e0152\"],[0.1,\"#c51b7d\"],[0.2,\"#de77ae\"],[0.3,\"#f1b6da\"],[0.4,\"#fde0ef\"],[0.5,\"#f7f7f7\"],[0.6,\"#e6f5d0\"],[0.7,\"#b8e186\"],[0.8,\"#7fbc41\"],[0.9,\"#4d9221\"],[1,\"#276419\"]]},\"xaxis\":{\"gridcolor\":\"white\",\"linecolor\":\"white\",\"ticks\":\"\",\"title\":{\"standoff\":15},\"zerolinecolor\":\"white\",\"automargin\":true,\"zerolinewidth\":2},\"yaxis\":{\"gridcolor\":\"white\",\"linecolor\":\"white\",\"ticks\":\"\",\"title\":{\"standoff\":15},\"zerolinecolor\":\"white\",\"automargin\":true,\"zerolinewidth\":2},\"scene\":{\"xaxis\":{\"backgroundcolor\":\"#E5ECF6\",\"gridcolor\":\"white\",\"linecolor\":\"white\",\"showbackground\":true,\"ticks\":\"\",\"zerolinecolor\":\"white\",\"gridwidth\":2},\"yaxis\":{\"backgroundcolor\":\"#E5ECF6\",\"gridcolor\":\"white\",\"linecolor\":\"white\",\"showbackground\":true,\"ticks\":\"\",\"zerolinecolor\":\"white\",\"gridwidth\":2},\"zaxis\":{\"backgroundcolor\":\"#E5ECF6\",\"gridcolor\":\"white\",\"linecolor\":\"white\",\"showbackground\":true,\"ticks\":\"\",\"zerolinecolor\":\"white\",\"gridwidth\":2}},\"shapedefaults\":{\"line\":{\"color\":\"#2a3f5f\"}},\"annotationdefaults\":{\"arrowcolor\":\"#2a3f5f\",\"arrowhead\":0,\"arrowwidth\":1},\"geo\":{\"bgcolor\":\"white\",\"landcolor\":\"#E5ECF6\",\"subunitcolor\":\"white\",\"showland\":true,\"showlakes\":true,\"lakecolor\":\"white\"},\"title\":{\"x\":0.05},\"mapbox\":{\"style\":\"light\"}}},\"xaxis\":{\"anchor\":\"y\",\"domain\":[0.0,1.0],\"title\":{\"text\":\"salary_range\"}},\"yaxis\":{\"anchor\":\"x\",\"domain\":[0.0,1.0],\"title\":{\"text\":\"count\"}},\"legend\":{\"tracegroupgap\":0},\"margin\":{\"t\":60},\"barmode\":\"relative\"},                        {\"responsive\": true}                    ).then(function(){\n",
       "                            \n",
       "var gd = document.getElementById('fdb1f74b-cec2-4243-a536-c07988abdc09');\n",
       "var x = new MutationObserver(function (mutations, observer) {{\n",
       "        var display = window.getComputedStyle(gd).display;\n",
       "        if (!display || display === 'none') {{\n",
       "            console.log([gd, 'removed!']);\n",
       "            Plotly.purge(gd);\n",
       "            observer.disconnect();\n",
       "        }}\n",
       "}});\n",
       "\n",
       "// Listen for the removal of the full notebook cells\n",
       "var notebookContainer = gd.closest('#notebook-container');\n",
       "if (notebookContainer) {{\n",
       "    x.observe(notebookContainer, {childList: true});\n",
       "}}\n",
       "\n",
       "// Listen for the clearing of the current output cell\n",
       "var outputEl = gd.closest('.output');\n",
       "if (outputEl) {{\n",
       "    x.observe(outputEl, {childList: true});\n",
       "}}\n",
       "\n",
       "                        })                };                });            </script>        </div>"
      ]
     },
     "metadata": {},
     "output_type": "display_data"
    }
   ],
   "source": [
    "def salary_range(x):\n",
    "    step = 10000\n",
    "    if x == 0:\n",
    "        return 0\n",
    "    for i in range(0,100):\n",
    "        if x > i*step and x <= (i+1)*step:\n",
    "            return (i+1)*step\n",
    "        \n",
    "df['salary_range'] = df['salary'].apply(salary_range)\n",
    "px.histogram(df[df['salary'] > 0], x = 'salary_range', nbins = 100, color_discrete_sequence = ['steelblue'])"
   ]
  },
  {
   "cell_type": "code",
   "execution_count": 53,
   "id": "7c1191c7",
   "metadata": {},
   "outputs": [
    {
     "data": {
      "application/vnd.plotly.v1+json": {
       "config": {
        "plotlyServerURL": "https://plot.ly"
       },
       "data": [
        {
         "alignmentgroup": "True",
         "bingroup": "x",
         "hovertemplate": "salary_range=%{x}<br>count=%{y}<extra></extra>",
         "legendgroup": "",
         "marker": {
          "color": "steelblue",
          "pattern": {
           "shape": ""
          }
         },
         "name": "",
         "nbinsx": 10,
         "offsetgroup": "",
         "orientation": "v",
         "showlegend": false,
         "type": "histogram",
         "x": [
          100000,
          100000,
          200000,
          200000,
          200000,
          200000,
          200000,
          300000,
          200000,
          400000,
          300000,
          400000,
          200000,
          300000,
          100000,
          300000,
          200000,
          300000,
          400000,
          300000,
          400000,
          400000,
          400000,
          300000,
          200000,
          600000,
          200000,
          300000,
          300000,
          200000,
          300000,
          300000,
          300000,
          200000,
          500000,
          200000,
          400000,
          200000,
          400000,
          300000,
          300000,
          400000,
          700000,
          900000,
          700000,
          400000,
          300000,
          200000,
          500000,
          300000,
          300000,
          400000,
          200000,
          200000,
          400000,
          300000,
          300000,
          200000,
          200000,
          200000,
          200000,
          400000,
          200000,
          200000,
          300000,
          500000,
          300000,
          100000,
          500000,
          300000,
          400000,
          500000,
          300000,
          400000,
          500000,
          500000,
          100000,
          400000,
          300000,
          200000,
          300000,
          400000,
          500000,
          100000,
          300000,
          200000,
          200000,
          200000,
          400000,
          500000,
          200000,
          200000,
          400000,
          100000,
          200000,
          300000,
          200000,
          100000,
          300000,
          200000,
          300000,
          300000,
          300000,
          200000,
          300000,
          600000,
          300000,
          400000,
          300000,
          400000,
          200000,
          100000,
          200000,
          200000,
          300000,
          200000,
          200000,
          200000,
          300000,
          200000,
          200000,
          300000,
          200000,
          200000,
          200000,
          300000,
          200000,
          200000,
          300000,
          400000,
          300000,
          300000,
          200000,
          200000,
          100000,
          300000,
          300000,
          200000,
          200000,
          400000,
          300000,
          200000,
          200000,
          400000,
          200000,
          300000,
          300000,
          200000,
          400000,
          100000,
          300000,
          200000,
          400000,
          500000,
          300000,
          300000,
          200000,
          400000,
          100000,
          300000,
          500000,
          200000,
          300000,
          200000,
          300000,
          300000,
          100000,
          100000,
          200000,
          200000,
          200000,
          300000,
          100000,
          100000,
          200000,
          300000,
          200000,
          200000,
          300000,
          400000,
          300000,
          400000,
          400000,
          300000,
          400000,
          300000,
          200000,
          200000,
          600000,
          300000,
          100000,
          100000,
          100000,
          200000,
          200000,
          200000,
          200000,
          200000,
          200000,
          200000,
          200000,
          300000,
          200000,
          200000,
          300000,
          200000,
          500000,
          300000,
          200000,
          100000,
          300000,
          400000,
          200000,
          200000,
          300000,
          200000,
          200000,
          300000,
          400000,
          500000,
          300000,
          400000,
          300000,
          300000,
          200000,
          300000,
          200000,
          200000,
          300000,
          200000,
          400000,
          300000,
          400000,
          400000,
          200000,
          300000,
          200000,
          300000,
          300000,
          400000,
          200000,
          300000,
          100000,
          300000,
          300000,
          200000,
          300000,
          300000,
          100000,
          100000,
          100000,
          300000,
          500000,
          300000,
          200000,
          400000,
          400000,
          300000,
          400000,
          500000,
          100000,
          200000,
          100000,
          200000,
          300000,
          500000,
          200000,
          400000,
          300000,
          300000,
          700000,
          500000,
          300000,
          300000,
          300000,
          200000,
          500000,
          400000,
          200000,
          400000,
          300000,
          400000,
          100000,
          300000,
          500000,
          200000,
          500000,
          300000,
          600000,
          400000,
          400000,
          200000,
          400000,
          100000,
          300000,
          200000,
          200000,
          400000,
          500000,
          200000,
          300000,
          500000,
          200000,
          100000,
          400000,
          300000,
          700000,
          500000,
          300000,
          100000,
          300000,
          300000,
          400000,
          400000,
          300000,
          400000,
          100000,
          300000,
          300000,
          300000,
          400000,
          300000,
          500000,
          300000,
          400000,
          300000,
          300000,
          600000,
          200000,
          300000,
          400000,
          300000,
          300000,
          200000,
          600000,
          600000,
          300000,
          300000,
          400000,
          100000,
          300000,
          400000,
          300000,
          300000,
          300000,
          300000,
          300000,
          300000,
          300000,
          200000,
          100000,
          300000,
          400000,
          300000,
          300000,
          500000,
          300000,
          300000,
          100000,
          100000,
          300000,
          300000,
          300000,
          300000,
          300000,
          300000,
          100000,
          400000,
          300000,
          300000,
          300000,
          100000,
          400000,
          500000,
          400000,
          400000,
          300000,
          300000,
          100000,
          300000,
          400000,
          300000,
          300000,
          100000,
          300000,
          400000,
          300000,
          300000,
          500000,
          200000,
          300000,
          300000,
          400000,
          100000,
          400000,
          200000,
          300000,
          100000,
          300000,
          400000,
          300000,
          400000,
          500000,
          300000,
          300000,
          300000,
          300000,
          200000,
          200000,
          200000,
          400000,
          400000,
          200000,
          400000,
          100000,
          100000,
          300000,
          300000,
          400000,
          300000,
          100000,
          200000,
          300000,
          300000,
          200000,
          300000,
          200000,
          200000,
          100000,
          300000,
          200000,
          200000,
          200000,
          100000,
          200000,
          300000,
          200000,
          300000,
          700000,
          200000,
          300000,
          400000,
          200000,
          200000,
          300000,
          300000,
          300000,
          300000,
          300000,
          300000,
          400000,
          100000,
          300000,
          500000,
          200000,
          200000,
          200000,
          200000,
          300000,
          800000,
          300000,
          300000,
          300000,
          400000,
          300000,
          200000,
          100000,
          200000,
          300000,
          300000,
          300000,
          200000,
          100000,
          300000,
          300000,
          300000,
          300000,
          300000,
          200000,
          100000,
          300000,
          300000,
          300000,
          300000,
          200000,
          100000,
          600000,
          200000,
          100000,
          300000,
          300000,
          300000,
          400000,
          300000,
          400000,
          300000,
          500000,
          700000,
          100000,
          300000,
          100000,
          500000,
          300000,
          200000,
          100000,
          600000,
          400000,
          300000,
          500000,
          500000,
          200000,
          200000,
          200000,
          100000,
          400000,
          200000,
          300000,
          200000,
          200000,
          300000,
          200000,
          300000,
          300000,
          200000,
          300000,
          600000,
          400000,
          400000,
          200000,
          300000,
          300000,
          300000,
          300000,
          100000,
          300000,
          100000,
          300000,
          300000,
          200000,
          400000,
          400000,
          300000,
          400000,
          300000,
          300000
         ],
         "xaxis": "x",
         "yaxis": "y"
        }
       ],
       "layout": {
        "barmode": "relative",
        "legend": {
         "tracegroupgap": 0
        },
        "margin": {
         "t": 60
        },
        "template": {
         "data": {
          "bar": [
           {
            "error_x": {
             "color": "#2a3f5f"
            },
            "error_y": {
             "color": "#2a3f5f"
            },
            "marker": {
             "line": {
              "color": "#E5ECF6",
              "width": 0.5
             },
             "pattern": {
              "fillmode": "overlay",
              "size": 10,
              "solidity": 0.2
             }
            },
            "type": "bar"
           }
          ],
          "barpolar": [
           {
            "marker": {
             "line": {
              "color": "#E5ECF6",
              "width": 0.5
             },
             "pattern": {
              "fillmode": "overlay",
              "size": 10,
              "solidity": 0.2
             }
            },
            "type": "barpolar"
           }
          ],
          "carpet": [
           {
            "aaxis": {
             "endlinecolor": "#2a3f5f",
             "gridcolor": "white",
             "linecolor": "white",
             "minorgridcolor": "white",
             "startlinecolor": "#2a3f5f"
            },
            "baxis": {
             "endlinecolor": "#2a3f5f",
             "gridcolor": "white",
             "linecolor": "white",
             "minorgridcolor": "white",
             "startlinecolor": "#2a3f5f"
            },
            "type": "carpet"
           }
          ],
          "choropleth": [
           {
            "colorbar": {
             "outlinewidth": 0,
             "ticks": ""
            },
            "type": "choropleth"
           }
          ],
          "contour": [
           {
            "colorbar": {
             "outlinewidth": 0,
             "ticks": ""
            },
            "colorscale": [
             [
              0,
              "#0d0887"
             ],
             [
              0.1111111111111111,
              "#46039f"
             ],
             [
              0.2222222222222222,
              "#7201a8"
             ],
             [
              0.3333333333333333,
              "#9c179e"
             ],
             [
              0.4444444444444444,
              "#bd3786"
             ],
             [
              0.5555555555555556,
              "#d8576b"
             ],
             [
              0.6666666666666666,
              "#ed7953"
             ],
             [
              0.7777777777777778,
              "#fb9f3a"
             ],
             [
              0.8888888888888888,
              "#fdca26"
             ],
             [
              1,
              "#f0f921"
             ]
            ],
            "type": "contour"
           }
          ],
          "contourcarpet": [
           {
            "colorbar": {
             "outlinewidth": 0,
             "ticks": ""
            },
            "type": "contourcarpet"
           }
          ],
          "heatmap": [
           {
            "colorbar": {
             "outlinewidth": 0,
             "ticks": ""
            },
            "colorscale": [
             [
              0,
              "#0d0887"
             ],
             [
              0.1111111111111111,
              "#46039f"
             ],
             [
              0.2222222222222222,
              "#7201a8"
             ],
             [
              0.3333333333333333,
              "#9c179e"
             ],
             [
              0.4444444444444444,
              "#bd3786"
             ],
             [
              0.5555555555555556,
              "#d8576b"
             ],
             [
              0.6666666666666666,
              "#ed7953"
             ],
             [
              0.7777777777777778,
              "#fb9f3a"
             ],
             [
              0.8888888888888888,
              "#fdca26"
             ],
             [
              1,
              "#f0f921"
             ]
            ],
            "type": "heatmap"
           }
          ],
          "heatmapgl": [
           {
            "colorbar": {
             "outlinewidth": 0,
             "ticks": ""
            },
            "colorscale": [
             [
              0,
              "#0d0887"
             ],
             [
              0.1111111111111111,
              "#46039f"
             ],
             [
              0.2222222222222222,
              "#7201a8"
             ],
             [
              0.3333333333333333,
              "#9c179e"
             ],
             [
              0.4444444444444444,
              "#bd3786"
             ],
             [
              0.5555555555555556,
              "#d8576b"
             ],
             [
              0.6666666666666666,
              "#ed7953"
             ],
             [
              0.7777777777777778,
              "#fb9f3a"
             ],
             [
              0.8888888888888888,
              "#fdca26"
             ],
             [
              1,
              "#f0f921"
             ]
            ],
            "type": "heatmapgl"
           }
          ],
          "histogram": [
           {
            "marker": {
             "pattern": {
              "fillmode": "overlay",
              "size": 10,
              "solidity": 0.2
             }
            },
            "type": "histogram"
           }
          ],
          "histogram2d": [
           {
            "colorbar": {
             "outlinewidth": 0,
             "ticks": ""
            },
            "colorscale": [
             [
              0,
              "#0d0887"
             ],
             [
              0.1111111111111111,
              "#46039f"
             ],
             [
              0.2222222222222222,
              "#7201a8"
             ],
             [
              0.3333333333333333,
              "#9c179e"
             ],
             [
              0.4444444444444444,
              "#bd3786"
             ],
             [
              0.5555555555555556,
              "#d8576b"
             ],
             [
              0.6666666666666666,
              "#ed7953"
             ],
             [
              0.7777777777777778,
              "#fb9f3a"
             ],
             [
              0.8888888888888888,
              "#fdca26"
             ],
             [
              1,
              "#f0f921"
             ]
            ],
            "type": "histogram2d"
           }
          ],
          "histogram2dcontour": [
           {
            "colorbar": {
             "outlinewidth": 0,
             "ticks": ""
            },
            "colorscale": [
             [
              0,
              "#0d0887"
             ],
             [
              0.1111111111111111,
              "#46039f"
             ],
             [
              0.2222222222222222,
              "#7201a8"
             ],
             [
              0.3333333333333333,
              "#9c179e"
             ],
             [
              0.4444444444444444,
              "#bd3786"
             ],
             [
              0.5555555555555556,
              "#d8576b"
             ],
             [
              0.6666666666666666,
              "#ed7953"
             ],
             [
              0.7777777777777778,
              "#fb9f3a"
             ],
             [
              0.8888888888888888,
              "#fdca26"
             ],
             [
              1,
              "#f0f921"
             ]
            ],
            "type": "histogram2dcontour"
           }
          ],
          "mesh3d": [
           {
            "colorbar": {
             "outlinewidth": 0,
             "ticks": ""
            },
            "type": "mesh3d"
           }
          ],
          "parcoords": [
           {
            "line": {
             "colorbar": {
              "outlinewidth": 0,
              "ticks": ""
             }
            },
            "type": "parcoords"
           }
          ],
          "pie": [
           {
            "automargin": true,
            "type": "pie"
           }
          ],
          "scatter": [
           {
            "fillpattern": {
             "fillmode": "overlay",
             "size": 10,
             "solidity": 0.2
            },
            "type": "scatter"
           }
          ],
          "scatter3d": [
           {
            "line": {
             "colorbar": {
              "outlinewidth": 0,
              "ticks": ""
             }
            },
            "marker": {
             "colorbar": {
              "outlinewidth": 0,
              "ticks": ""
             }
            },
            "type": "scatter3d"
           }
          ],
          "scattercarpet": [
           {
            "marker": {
             "colorbar": {
              "outlinewidth": 0,
              "ticks": ""
             }
            },
            "type": "scattercarpet"
           }
          ],
          "scattergeo": [
           {
            "marker": {
             "colorbar": {
              "outlinewidth": 0,
              "ticks": ""
             }
            },
            "type": "scattergeo"
           }
          ],
          "scattergl": [
           {
            "marker": {
             "colorbar": {
              "outlinewidth": 0,
              "ticks": ""
             }
            },
            "type": "scattergl"
           }
          ],
          "scattermapbox": [
           {
            "marker": {
             "colorbar": {
              "outlinewidth": 0,
              "ticks": ""
             }
            },
            "type": "scattermapbox"
           }
          ],
          "scatterpolar": [
           {
            "marker": {
             "colorbar": {
              "outlinewidth": 0,
              "ticks": ""
             }
            },
            "type": "scatterpolar"
           }
          ],
          "scatterpolargl": [
           {
            "marker": {
             "colorbar": {
              "outlinewidth": 0,
              "ticks": ""
             }
            },
            "type": "scatterpolargl"
           }
          ],
          "scatterternary": [
           {
            "marker": {
             "colorbar": {
              "outlinewidth": 0,
              "ticks": ""
             }
            },
            "type": "scatterternary"
           }
          ],
          "surface": [
           {
            "colorbar": {
             "outlinewidth": 0,
             "ticks": ""
            },
            "colorscale": [
             [
              0,
              "#0d0887"
             ],
             [
              0.1111111111111111,
              "#46039f"
             ],
             [
              0.2222222222222222,
              "#7201a8"
             ],
             [
              0.3333333333333333,
              "#9c179e"
             ],
             [
              0.4444444444444444,
              "#bd3786"
             ],
             [
              0.5555555555555556,
              "#d8576b"
             ],
             [
              0.6666666666666666,
              "#ed7953"
             ],
             [
              0.7777777777777778,
              "#fb9f3a"
             ],
             [
              0.8888888888888888,
              "#fdca26"
             ],
             [
              1,
              "#f0f921"
             ]
            ],
            "type": "surface"
           }
          ],
          "table": [
           {
            "cells": {
             "fill": {
              "color": "#EBF0F8"
             },
             "line": {
              "color": "white"
             }
            },
            "header": {
             "fill": {
              "color": "#C8D4E3"
             },
             "line": {
              "color": "white"
             }
            },
            "type": "table"
           }
          ]
         },
         "layout": {
          "annotationdefaults": {
           "arrowcolor": "#2a3f5f",
           "arrowhead": 0,
           "arrowwidth": 1
          },
          "autotypenumbers": "strict",
          "coloraxis": {
           "colorbar": {
            "outlinewidth": 0,
            "ticks": ""
           }
          },
          "colorscale": {
           "diverging": [
            [
             0,
             "#8e0152"
            ],
            [
             0.1,
             "#c51b7d"
            ],
            [
             0.2,
             "#de77ae"
            ],
            [
             0.3,
             "#f1b6da"
            ],
            [
             0.4,
             "#fde0ef"
            ],
            [
             0.5,
             "#f7f7f7"
            ],
            [
             0.6,
             "#e6f5d0"
            ],
            [
             0.7,
             "#b8e186"
            ],
            [
             0.8,
             "#7fbc41"
            ],
            [
             0.9,
             "#4d9221"
            ],
            [
             1,
             "#276419"
            ]
           ],
           "sequential": [
            [
             0,
             "#0d0887"
            ],
            [
             0.1111111111111111,
             "#46039f"
            ],
            [
             0.2222222222222222,
             "#7201a8"
            ],
            [
             0.3333333333333333,
             "#9c179e"
            ],
            [
             0.4444444444444444,
             "#bd3786"
            ],
            [
             0.5555555555555556,
             "#d8576b"
            ],
            [
             0.6666666666666666,
             "#ed7953"
            ],
            [
             0.7777777777777778,
             "#fb9f3a"
            ],
            [
             0.8888888888888888,
             "#fdca26"
            ],
            [
             1,
             "#f0f921"
            ]
           ],
           "sequentialminus": [
            [
             0,
             "#0d0887"
            ],
            [
             0.1111111111111111,
             "#46039f"
            ],
            [
             0.2222222222222222,
             "#7201a8"
            ],
            [
             0.3333333333333333,
             "#9c179e"
            ],
            [
             0.4444444444444444,
             "#bd3786"
            ],
            [
             0.5555555555555556,
             "#d8576b"
            ],
            [
             0.6666666666666666,
             "#ed7953"
            ],
            [
             0.7777777777777778,
             "#fb9f3a"
            ],
            [
             0.8888888888888888,
             "#fdca26"
            ],
            [
             1,
             "#f0f921"
            ]
           ]
          },
          "colorway": [
           "#636efa",
           "#EF553B",
           "#00cc96",
           "#ab63fa",
           "#FFA15A",
           "#19d3f3",
           "#FF6692",
           "#B6E880",
           "#FF97FF",
           "#FECB52"
          ],
          "font": {
           "color": "#2a3f5f"
          },
          "geo": {
           "bgcolor": "white",
           "lakecolor": "white",
           "landcolor": "#E5ECF6",
           "showlakes": true,
           "showland": true,
           "subunitcolor": "white"
          },
          "hoverlabel": {
           "align": "left"
          },
          "hovermode": "closest",
          "mapbox": {
           "style": "light"
          },
          "paper_bgcolor": "white",
          "plot_bgcolor": "#E5ECF6",
          "polar": {
           "angularaxis": {
            "gridcolor": "white",
            "linecolor": "white",
            "ticks": ""
           },
           "bgcolor": "#E5ECF6",
           "radialaxis": {
            "gridcolor": "white",
            "linecolor": "white",
            "ticks": ""
           }
          },
          "scene": {
           "xaxis": {
            "backgroundcolor": "#E5ECF6",
            "gridcolor": "white",
            "gridwidth": 2,
            "linecolor": "white",
            "showbackground": true,
            "ticks": "",
            "zerolinecolor": "white"
           },
           "yaxis": {
            "backgroundcolor": "#E5ECF6",
            "gridcolor": "white",
            "gridwidth": 2,
            "linecolor": "white",
            "showbackground": true,
            "ticks": "",
            "zerolinecolor": "white"
           },
           "zaxis": {
            "backgroundcolor": "#E5ECF6",
            "gridcolor": "white",
            "gridwidth": 2,
            "linecolor": "white",
            "showbackground": true,
            "ticks": "",
            "zerolinecolor": "white"
           }
          },
          "shapedefaults": {
           "line": {
            "color": "#2a3f5f"
           }
          },
          "ternary": {
           "aaxis": {
            "gridcolor": "white",
            "linecolor": "white",
            "ticks": ""
           },
           "baxis": {
            "gridcolor": "white",
            "linecolor": "white",
            "ticks": ""
           },
           "bgcolor": "#E5ECF6",
           "caxis": {
            "gridcolor": "white",
            "linecolor": "white",
            "ticks": ""
           }
          },
          "title": {
           "x": 0.05
          },
          "xaxis": {
           "automargin": true,
           "gridcolor": "white",
           "linecolor": "white",
           "ticks": "",
           "title": {
            "standoff": 15
           },
           "zerolinecolor": "white",
           "zerolinewidth": 2
          },
          "yaxis": {
           "automargin": true,
           "gridcolor": "white",
           "linecolor": "white",
           "ticks": "",
           "title": {
            "standoff": 15
           },
           "zerolinecolor": "white",
           "zerolinewidth": 2
          }
         }
        },
        "xaxis": {
         "anchor": "y",
         "domain": [
          0,
          1
         ],
         "title": {
          "text": "salary_range"
         }
        },
        "yaxis": {
         "anchor": "x",
         "domain": [
          0,
          1
         ],
         "title": {
          "text": "count"
         }
        }
       }
      },
      "text/html": [
       "<div>                            <div id=\"58218dab-5c7d-4d77-ae09-da2e651cf15d\" class=\"plotly-graph-div\" style=\"height:525px; width:100%;\"></div>            <script type=\"text/javascript\">                require([\"plotly\"], function(Plotly) {                    window.PLOTLYENV=window.PLOTLYENV || {};                                    if (document.getElementById(\"58218dab-5c7d-4d77-ae09-da2e651cf15d\")) {                    Plotly.newPlot(                        \"58218dab-5c7d-4d77-ae09-da2e651cf15d\",                        [{\"alignmentgroup\":\"True\",\"bingroup\":\"x\",\"hovertemplate\":\"salary_range=%{x}<br>count=%{y}<extra></extra>\",\"legendgroup\":\"\",\"marker\":{\"color\":\"steelblue\",\"pattern\":{\"shape\":\"\"}},\"name\":\"\",\"nbinsx\":10,\"offsetgroup\":\"\",\"orientation\":\"v\",\"showlegend\":false,\"x\":[100000,100000,200000,200000,200000,200000,200000,300000,200000,400000,300000,400000,200000,300000,100000,300000,200000,300000,400000,300000,400000,400000,400000,300000,200000,600000,200000,300000,300000,200000,300000,300000,300000,200000,500000,200000,400000,200000,400000,300000,300000,400000,700000,900000,700000,400000,300000,200000,500000,300000,300000,400000,200000,200000,400000,300000,300000,200000,200000,200000,200000,400000,200000,200000,300000,500000,300000,100000,500000,300000,400000,500000,300000,400000,500000,500000,100000,400000,300000,200000,300000,400000,500000,100000,300000,200000,200000,200000,400000,500000,200000,200000,400000,100000,200000,300000,200000,100000,300000,200000,300000,300000,300000,200000,300000,600000,300000,400000,300000,400000,200000,100000,200000,200000,300000,200000,200000,200000,300000,200000,200000,300000,200000,200000,200000,300000,200000,200000,300000,400000,300000,300000,200000,200000,100000,300000,300000,200000,200000,400000,300000,200000,200000,400000,200000,300000,300000,200000,400000,100000,300000,200000,400000,500000,300000,300000,200000,400000,100000,300000,500000,200000,300000,200000,300000,300000,100000,100000,200000,200000,200000,300000,100000,100000,200000,300000,200000,200000,300000,400000,300000,400000,400000,300000,400000,300000,200000,200000,600000,300000,100000,100000,100000,200000,200000,200000,200000,200000,200000,200000,200000,300000,200000,200000,300000,200000,500000,300000,200000,100000,300000,400000,200000,200000,300000,200000,200000,300000,400000,500000,300000,400000,300000,300000,200000,300000,200000,200000,300000,200000,400000,300000,400000,400000,200000,300000,200000,300000,300000,400000,200000,300000,100000,300000,300000,200000,300000,300000,100000,100000,100000,300000,500000,300000,200000,400000,400000,300000,400000,500000,100000,200000,100000,200000,300000,500000,200000,400000,300000,300000,700000,500000,300000,300000,300000,200000,500000,400000,200000,400000,300000,400000,100000,300000,500000,200000,500000,300000,600000,400000,400000,200000,400000,100000,300000,200000,200000,400000,500000,200000,300000,500000,200000,100000,400000,300000,700000,500000,300000,100000,300000,300000,400000,400000,300000,400000,100000,300000,300000,300000,400000,300000,500000,300000,400000,300000,300000,600000,200000,300000,400000,300000,300000,200000,600000,600000,300000,300000,400000,100000,300000,400000,300000,300000,300000,300000,300000,300000,300000,200000,100000,300000,400000,300000,300000,500000,300000,300000,100000,100000,300000,300000,300000,300000,300000,300000,100000,400000,300000,300000,300000,100000,400000,500000,400000,400000,300000,300000,100000,300000,400000,300000,300000,100000,300000,400000,300000,300000,500000,200000,300000,300000,400000,100000,400000,200000,300000,100000,300000,400000,300000,400000,500000,300000,300000,300000,300000,200000,200000,200000,400000,400000,200000,400000,100000,100000,300000,300000,400000,300000,100000,200000,300000,300000,200000,300000,200000,200000,100000,300000,200000,200000,200000,100000,200000,300000,200000,300000,700000,200000,300000,400000,200000,200000,300000,300000,300000,300000,300000,300000,400000,100000,300000,500000,200000,200000,200000,200000,300000,800000,300000,300000,300000,400000,300000,200000,100000,200000,300000,300000,300000,200000,100000,300000,300000,300000,300000,300000,200000,100000,300000,300000,300000,300000,200000,100000,600000,200000,100000,300000,300000,300000,400000,300000,400000,300000,500000,700000,100000,300000,100000,500000,300000,200000,100000,600000,400000,300000,500000,500000,200000,200000,200000,100000,400000,200000,300000,200000,200000,300000,200000,300000,300000,200000,300000,600000,400000,400000,200000,300000,300000,300000,300000,100000,300000,100000,300000,300000,200000,400000,400000,300000,400000,300000,300000],\"xaxis\":\"x\",\"yaxis\":\"y\",\"type\":\"histogram\"}],                        {\"template\":{\"data\":{\"histogram2dcontour\":[{\"type\":\"histogram2dcontour\",\"colorbar\":{\"outlinewidth\":0,\"ticks\":\"\"},\"colorscale\":[[0.0,\"#0d0887\"],[0.1111111111111111,\"#46039f\"],[0.2222222222222222,\"#7201a8\"],[0.3333333333333333,\"#9c179e\"],[0.4444444444444444,\"#bd3786\"],[0.5555555555555556,\"#d8576b\"],[0.6666666666666666,\"#ed7953\"],[0.7777777777777778,\"#fb9f3a\"],[0.8888888888888888,\"#fdca26\"],[1.0,\"#f0f921\"]]}],\"choropleth\":[{\"type\":\"choropleth\",\"colorbar\":{\"outlinewidth\":0,\"ticks\":\"\"}}],\"histogram2d\":[{\"type\":\"histogram2d\",\"colorbar\":{\"outlinewidth\":0,\"ticks\":\"\"},\"colorscale\":[[0.0,\"#0d0887\"],[0.1111111111111111,\"#46039f\"],[0.2222222222222222,\"#7201a8\"],[0.3333333333333333,\"#9c179e\"],[0.4444444444444444,\"#bd3786\"],[0.5555555555555556,\"#d8576b\"],[0.6666666666666666,\"#ed7953\"],[0.7777777777777778,\"#fb9f3a\"],[0.8888888888888888,\"#fdca26\"],[1.0,\"#f0f921\"]]}],\"heatmap\":[{\"type\":\"heatmap\",\"colorbar\":{\"outlinewidth\":0,\"ticks\":\"\"},\"colorscale\":[[0.0,\"#0d0887\"],[0.1111111111111111,\"#46039f\"],[0.2222222222222222,\"#7201a8\"],[0.3333333333333333,\"#9c179e\"],[0.4444444444444444,\"#bd3786\"],[0.5555555555555556,\"#d8576b\"],[0.6666666666666666,\"#ed7953\"],[0.7777777777777778,\"#fb9f3a\"],[0.8888888888888888,\"#fdca26\"],[1.0,\"#f0f921\"]]}],\"heatmapgl\":[{\"type\":\"heatmapgl\",\"colorbar\":{\"outlinewidth\":0,\"ticks\":\"\"},\"colorscale\":[[0.0,\"#0d0887\"],[0.1111111111111111,\"#46039f\"],[0.2222222222222222,\"#7201a8\"],[0.3333333333333333,\"#9c179e\"],[0.4444444444444444,\"#bd3786\"],[0.5555555555555556,\"#d8576b\"],[0.6666666666666666,\"#ed7953\"],[0.7777777777777778,\"#fb9f3a\"],[0.8888888888888888,\"#fdca26\"],[1.0,\"#f0f921\"]]}],\"contourcarpet\":[{\"type\":\"contourcarpet\",\"colorbar\":{\"outlinewidth\":0,\"ticks\":\"\"}}],\"contour\":[{\"type\":\"contour\",\"colorbar\":{\"outlinewidth\":0,\"ticks\":\"\"},\"colorscale\":[[0.0,\"#0d0887\"],[0.1111111111111111,\"#46039f\"],[0.2222222222222222,\"#7201a8\"],[0.3333333333333333,\"#9c179e\"],[0.4444444444444444,\"#bd3786\"],[0.5555555555555556,\"#d8576b\"],[0.6666666666666666,\"#ed7953\"],[0.7777777777777778,\"#fb9f3a\"],[0.8888888888888888,\"#fdca26\"],[1.0,\"#f0f921\"]]}],\"surface\":[{\"type\":\"surface\",\"colorbar\":{\"outlinewidth\":0,\"ticks\":\"\"},\"colorscale\":[[0.0,\"#0d0887\"],[0.1111111111111111,\"#46039f\"],[0.2222222222222222,\"#7201a8\"],[0.3333333333333333,\"#9c179e\"],[0.4444444444444444,\"#bd3786\"],[0.5555555555555556,\"#d8576b\"],[0.6666666666666666,\"#ed7953\"],[0.7777777777777778,\"#fb9f3a\"],[0.8888888888888888,\"#fdca26\"],[1.0,\"#f0f921\"]]}],\"mesh3d\":[{\"type\":\"mesh3d\",\"colorbar\":{\"outlinewidth\":0,\"ticks\":\"\"}}],\"scatter\":[{\"fillpattern\":{\"fillmode\":\"overlay\",\"size\":10,\"solidity\":0.2},\"type\":\"scatter\"}],\"parcoords\":[{\"type\":\"parcoords\",\"line\":{\"colorbar\":{\"outlinewidth\":0,\"ticks\":\"\"}}}],\"scatterpolargl\":[{\"type\":\"scatterpolargl\",\"marker\":{\"colorbar\":{\"outlinewidth\":0,\"ticks\":\"\"}}}],\"bar\":[{\"error_x\":{\"color\":\"#2a3f5f\"},\"error_y\":{\"color\":\"#2a3f5f\"},\"marker\":{\"line\":{\"color\":\"#E5ECF6\",\"width\":0.5},\"pattern\":{\"fillmode\":\"overlay\",\"size\":10,\"solidity\":0.2}},\"type\":\"bar\"}],\"scattergeo\":[{\"type\":\"scattergeo\",\"marker\":{\"colorbar\":{\"outlinewidth\":0,\"ticks\":\"\"}}}],\"scatterpolar\":[{\"type\":\"scatterpolar\",\"marker\":{\"colorbar\":{\"outlinewidth\":0,\"ticks\":\"\"}}}],\"histogram\":[{\"marker\":{\"pattern\":{\"fillmode\":\"overlay\",\"size\":10,\"solidity\":0.2}},\"type\":\"histogram\"}],\"scattergl\":[{\"type\":\"scattergl\",\"marker\":{\"colorbar\":{\"outlinewidth\":0,\"ticks\":\"\"}}}],\"scatter3d\":[{\"type\":\"scatter3d\",\"line\":{\"colorbar\":{\"outlinewidth\":0,\"ticks\":\"\"}},\"marker\":{\"colorbar\":{\"outlinewidth\":0,\"ticks\":\"\"}}}],\"scattermapbox\":[{\"type\":\"scattermapbox\",\"marker\":{\"colorbar\":{\"outlinewidth\":0,\"ticks\":\"\"}}}],\"scatterternary\":[{\"type\":\"scatterternary\",\"marker\":{\"colorbar\":{\"outlinewidth\":0,\"ticks\":\"\"}}}],\"scattercarpet\":[{\"type\":\"scattercarpet\",\"marker\":{\"colorbar\":{\"outlinewidth\":0,\"ticks\":\"\"}}}],\"carpet\":[{\"aaxis\":{\"endlinecolor\":\"#2a3f5f\",\"gridcolor\":\"white\",\"linecolor\":\"white\",\"minorgridcolor\":\"white\",\"startlinecolor\":\"#2a3f5f\"},\"baxis\":{\"endlinecolor\":\"#2a3f5f\",\"gridcolor\":\"white\",\"linecolor\":\"white\",\"minorgridcolor\":\"white\",\"startlinecolor\":\"#2a3f5f\"},\"type\":\"carpet\"}],\"table\":[{\"cells\":{\"fill\":{\"color\":\"#EBF0F8\"},\"line\":{\"color\":\"white\"}},\"header\":{\"fill\":{\"color\":\"#C8D4E3\"},\"line\":{\"color\":\"white\"}},\"type\":\"table\"}],\"barpolar\":[{\"marker\":{\"line\":{\"color\":\"#E5ECF6\",\"width\":0.5},\"pattern\":{\"fillmode\":\"overlay\",\"size\":10,\"solidity\":0.2}},\"type\":\"barpolar\"}],\"pie\":[{\"automargin\":true,\"type\":\"pie\"}]},\"layout\":{\"autotypenumbers\":\"strict\",\"colorway\":[\"#636efa\",\"#EF553B\",\"#00cc96\",\"#ab63fa\",\"#FFA15A\",\"#19d3f3\",\"#FF6692\",\"#B6E880\",\"#FF97FF\",\"#FECB52\"],\"font\":{\"color\":\"#2a3f5f\"},\"hovermode\":\"closest\",\"hoverlabel\":{\"align\":\"left\"},\"paper_bgcolor\":\"white\",\"plot_bgcolor\":\"#E5ECF6\",\"polar\":{\"bgcolor\":\"#E5ECF6\",\"angularaxis\":{\"gridcolor\":\"white\",\"linecolor\":\"white\",\"ticks\":\"\"},\"radialaxis\":{\"gridcolor\":\"white\",\"linecolor\":\"white\",\"ticks\":\"\"}},\"ternary\":{\"bgcolor\":\"#E5ECF6\",\"aaxis\":{\"gridcolor\":\"white\",\"linecolor\":\"white\",\"ticks\":\"\"},\"baxis\":{\"gridcolor\":\"white\",\"linecolor\":\"white\",\"ticks\":\"\"},\"caxis\":{\"gridcolor\":\"white\",\"linecolor\":\"white\",\"ticks\":\"\"}},\"coloraxis\":{\"colorbar\":{\"outlinewidth\":0,\"ticks\":\"\"}},\"colorscale\":{\"sequential\":[[0.0,\"#0d0887\"],[0.1111111111111111,\"#46039f\"],[0.2222222222222222,\"#7201a8\"],[0.3333333333333333,\"#9c179e\"],[0.4444444444444444,\"#bd3786\"],[0.5555555555555556,\"#d8576b\"],[0.6666666666666666,\"#ed7953\"],[0.7777777777777778,\"#fb9f3a\"],[0.8888888888888888,\"#fdca26\"],[1.0,\"#f0f921\"]],\"sequentialminus\":[[0.0,\"#0d0887\"],[0.1111111111111111,\"#46039f\"],[0.2222222222222222,\"#7201a8\"],[0.3333333333333333,\"#9c179e\"],[0.4444444444444444,\"#bd3786\"],[0.5555555555555556,\"#d8576b\"],[0.6666666666666666,\"#ed7953\"],[0.7777777777777778,\"#fb9f3a\"],[0.8888888888888888,\"#fdca26\"],[1.0,\"#f0f921\"]],\"diverging\":[[0,\"#8e0152\"],[0.1,\"#c51b7d\"],[0.2,\"#de77ae\"],[0.3,\"#f1b6da\"],[0.4,\"#fde0ef\"],[0.5,\"#f7f7f7\"],[0.6,\"#e6f5d0\"],[0.7,\"#b8e186\"],[0.8,\"#7fbc41\"],[0.9,\"#4d9221\"],[1,\"#276419\"]]},\"xaxis\":{\"gridcolor\":\"white\",\"linecolor\":\"white\",\"ticks\":\"\",\"title\":{\"standoff\":15},\"zerolinecolor\":\"white\",\"automargin\":true,\"zerolinewidth\":2},\"yaxis\":{\"gridcolor\":\"white\",\"linecolor\":\"white\",\"ticks\":\"\",\"title\":{\"standoff\":15},\"zerolinecolor\":\"white\",\"automargin\":true,\"zerolinewidth\":2},\"scene\":{\"xaxis\":{\"backgroundcolor\":\"#E5ECF6\",\"gridcolor\":\"white\",\"linecolor\":\"white\",\"showbackground\":true,\"ticks\":\"\",\"zerolinecolor\":\"white\",\"gridwidth\":2},\"yaxis\":{\"backgroundcolor\":\"#E5ECF6\",\"gridcolor\":\"white\",\"linecolor\":\"white\",\"showbackground\":true,\"ticks\":\"\",\"zerolinecolor\":\"white\",\"gridwidth\":2},\"zaxis\":{\"backgroundcolor\":\"#E5ECF6\",\"gridcolor\":\"white\",\"linecolor\":\"white\",\"showbackground\":true,\"ticks\":\"\",\"zerolinecolor\":\"white\",\"gridwidth\":2}},\"shapedefaults\":{\"line\":{\"color\":\"#2a3f5f\"}},\"annotationdefaults\":{\"arrowcolor\":\"#2a3f5f\",\"arrowhead\":0,\"arrowwidth\":1},\"geo\":{\"bgcolor\":\"white\",\"landcolor\":\"#E5ECF6\",\"subunitcolor\":\"white\",\"showland\":true,\"showlakes\":true,\"lakecolor\":\"white\"},\"title\":{\"x\":0.05},\"mapbox\":{\"style\":\"light\"}}},\"xaxis\":{\"anchor\":\"y\",\"domain\":[0.0,1.0],\"title\":{\"text\":\"salary_range\"}},\"yaxis\":{\"anchor\":\"x\",\"domain\":[0.0,1.0],\"title\":{\"text\":\"count\"}},\"legend\":{\"tracegroupgap\":0},\"margin\":{\"t\":60},\"barmode\":\"relative\"},                        {\"responsive\": true}                    ).then(function(){\n",
       "                            \n",
       "var gd = document.getElementById('58218dab-5c7d-4d77-ae09-da2e651cf15d');\n",
       "var x = new MutationObserver(function (mutations, observer) {{\n",
       "        var display = window.getComputedStyle(gd).display;\n",
       "        if (!display || display === 'none') {{\n",
       "            console.log([gd, 'removed!']);\n",
       "            Plotly.purge(gd);\n",
       "            observer.disconnect();\n",
       "        }}\n",
       "}});\n",
       "\n",
       "// Listen for the removal of the full notebook cells\n",
       "var notebookContainer = gd.closest('#notebook-container');\n",
       "if (notebookContainer) {{\n",
       "    x.observe(notebookContainer, {childList: true});\n",
       "}}\n",
       "\n",
       "// Listen for the clearing of the current output cell\n",
       "var outputEl = gd.closest('.output');\n",
       "if (outputEl) {{\n",
       "    x.observe(outputEl, {childList: true});\n",
       "}}\n",
       "\n",
       "                        })                };                });            </script>        </div>"
      ]
     },
     "metadata": {},
     "output_type": "display_data"
    }
   ],
   "source": [
    "def salary_range(x):\n",
    "    step = 100000\n",
    "    if x == 0:\n",
    "        return 0\n",
    "    for i in range(0,10):\n",
    "        if x > i*step and x <= (i+1)*step:\n",
    "            return (i+1)*step\n",
    "        \n",
    "df['salary_range'] = df['salary'].apply(salary_range)\n",
    "px.histogram(df[df['salary'] > 0], x = 'salary_range', nbins = 10, color_discrete_sequence = ['steelblue'])"
   ]
  },
  {
   "cell_type": "code",
   "execution_count": 21,
   "id": "b95d99f8",
   "metadata": {},
   "outputs": [
    {
     "data": {
      "text/plain": [
       "'adas,dsadad'"
      ]
     },
     "execution_count": 21,
     "metadata": {},
     "output_type": "execute_result"
    }
   ],
   "source": [
    "lst = ['adas','dsadad']\n",
    "skill_str = ','.join(lst)\n",
    "skill_str"
   ]
  },
  {
   "cell_type": "markdown",
   "id": "fe1c910a",
   "metadata": {},
   "source": [
    "Отработаем метод удаления лишних символов:"
   ]
  },
  {
   "cell_type": "code",
   "execution_count": 22,
   "id": "4999a48c",
   "metadata": {},
   "outputs": [
    {
     "data": {
      "text/plain": [
       "0       ['sql', 'python', 'oracle', 'субд', 'greenplum...\n",
       "1       ['sql', 'python', 'postgresql', 'spark', 'dock...\n",
       "2       ['python', 'data science', 'bi', 'ios', 'c', '...\n",
       "3       ['python', 'data science', 'bi', 'ios', 'c', '...\n",
       "4       ['python', 'data science', 'bi', 'ios', 'c', '...\n",
       "                              ...                        \n",
       "5348                                                   []\n",
       "5349                                ['python', 'tableau']\n",
       "5350                            ['java', 'c++', 'oracle']\n",
       "5351                                           ['pandas']\n",
       "5352                                     ['etl', 'linux']\n",
       "Name: techstack, Length: 5353, dtype: object"
      ]
     },
     "execution_count": 22,
     "metadata": {},
     "output_type": "execute_result"
    }
   ],
   "source": [
    "df['techstack']"
   ]
  },
  {
   "cell_type": "code",
   "execution_count": 23,
   "id": "11a8e06f",
   "metadata": {},
   "outputs": [
    {
     "data": {
      "text/plain": [
       "0       sql, python, oracle, субд, greenplum, power bi...\n",
       "1       sql, python, postgresql, spark, docker, kafka,...\n",
       "2       python, data science, bi, ios, c, it, r, data,...\n",
       "3       python, data science, bi, ios, c, r, data, раз...\n",
       "4       python, data science, bi, ios, c, r, data, раз...\n",
       "                              ...                        \n",
       "5348                                                     \n",
       "5349                                      python, tableau\n",
       "5350                                    java, c++, oracle\n",
       "5351                                               pandas\n",
       "5352                                           etl, linux\n",
       "Name: techstack, Length: 5353, dtype: object"
      ]
     },
     "execution_count": 23,
     "metadata": {},
     "output_type": "execute_result"
    }
   ],
   "source": [
    "df['techstack'].apply(lambda x: x.replace('[','').replace(']','').replace('\\'',''))"
   ]
  },
  {
   "cell_type": "markdown",
   "id": "613c4eed",
   "metadata": {},
   "source": [
    "### 2) Средняя зарплата в разбивке \"удаленка\\не удаленка\""
   ]
  },
  {
   "cell_type": "code",
   "execution_count": 24,
   "id": "68644a1e",
   "metadata": {},
   "outputs": [
    {
     "data": {
      "text/plain": [
       "88"
      ]
     },
     "execution_count": 24,
     "metadata": {},
     "output_type": "execute_result"
    }
   ],
   "source": [
    "df['schedule'].nunique()\n",
    "# schedule format"
   ]
  },
  {
   "cell_type": "code",
   "execution_count": 25,
   "id": "37149838",
   "metadata": {},
   "outputs": [
    {
     "data": {
      "text/plain": [
       "15"
      ]
     },
     "execution_count": 25,
     "metadata": {},
     "output_type": "execute_result"
    }
   ],
   "source": [
    "df['format'].nunique()\n",
    "# schedule format"
   ]
  },
  {
   "cell_type": "code",
   "execution_count": 26,
   "id": "ee443603",
   "metadata": {},
   "outputs": [],
   "source": [
    "pd.set_option('display.max_rows', 500)\n",
    "pd.set_option('display.max_columns', 500)\n",
    "pd.set_option('display.width', 1000)"
   ]
  },
  {
   "cell_type": "code",
   "execution_count": 27,
   "id": "c8ff6bc9",
   "metadata": {},
   "outputs": [
    {
     "data": {
      "text/plain": [
       "полная занятость              3731\n",
       "удаленка                       753\n",
       "не указано                     351\n",
       "                               258\n",
       "удаленка, офис                  84\n",
       "офис                            55\n",
       "стажировка                      43\n",
       "частичная занятость             37\n",
       "проектная работа                15\n",
       "не имеет значения               13\n",
       "удаленка, удаленка               6\n",
       "удаленка, удаленка, офис         4\n",
       "удаленная работа (на дому)       2\n",
       "удаленка, гибид                  1\n",
       "Name: format2, dtype: int64"
      ]
     },
     "metadata": {},
     "output_type": "display_data"
    }
   ],
   "source": [
    "df['format2'] = df['format'].apply(lambda x: x.replace('[','').replace(']','').replace('\\'','').lower().replace('ё','е'))\n",
    "display(df['format2'].value_counts())"
   ]
  },
  {
   "cell_type": "code",
   "execution_count": 28,
   "id": "7960610f",
   "metadata": {},
   "outputs": [
    {
     "data": {
      "text/plain": [
       "schedule          format             \n",
       "Полный день       Полная занятость       2968\n",
       "Удаленная работа  Полная занятость        628\n",
       "Гибкий график     Полная занятость        119\n",
       "Полный день       Стажировка               26\n",
       "Удаленная работа  Частичная занятость      24\n",
       "Сменный график    Полная занятость         13\n",
       "Удаленная работа  Стажировка                9\n",
       "Гибкий график     Стажировка                8\n",
       "Полный день       Частичная занятость       7\n",
       "Удаленная работа  Проектная работа          7\n",
       "Гибкий график     Частичная занятость       6\n",
       "Полный день       Проектная работа          6\n",
       "Вахтовый метод    Полная занятость          3\n",
       "Гибкий график     Проектная работа          2\n",
       "dtype: int64"
      ]
     },
     "execution_count": 28,
     "metadata": {},
     "output_type": "execute_result"
    }
   ],
   "source": [
    "df[df['source'] == 'hh.ru'][['schedule','format']].value_counts()"
   ]
  },
  {
   "cell_type": "code",
   "execution_count": 29,
   "id": "02b896d5",
   "metadata": {},
   "outputs": [
    {
     "data": {
      "text/plain": [
       "schedule                                         format                          \n",
       "полный                                           удаленка                            639\n",
       "не указано                                       не указано                          351\n",
       "[]                                               []                                  151\n",
       "                                                 ['Удалёнка']                         34\n",
       "['Fulltime']                                     []                                   21\n",
       "[]                                               ['Офис']                             18\n",
       "                                                 ['Удалёнка', 'Офис']                 17\n",
       "не полный                                        удаленка                             16\n",
       "['Fulltime']                                     ['Удалёнка']                         16\n",
       "['Гибкое']                                       []                                   13\n",
       "Полный рабочий день                              Не имеет значения                    12\n",
       "['Гибкий']                                       []                                   10\n",
       "['Полная']                                       ['Удалёнка', 'Офис']                  9\n",
       "                                                 []                                    9\n",
       "['Гибкий']                                       ['Удалёнка', 'Офис']                  8\n",
       "['Fulltime']                                     ['Офис']                              7\n",
       "['Полная']                                       ['Удалёнка']                          7\n",
       "['Fulltime']                                     ['Удалёнка', 'Офис']                  7\n",
       "['Полная']                                       ['Офис']                              7\n",
       "['Fulltime', 'Гибкий']                           ['Удалёнка', 'Офис']                  6\n",
       "['Гибкий']                                       ['Удалёнка']                          6\n",
       "['Fulltime', 'Полная']                           ['Удалёнка']                          4\n",
       "                                                 []                                    4\n",
       "['Гибкий']                                       ['Офис']                              4\n",
       "['Гибкое']                                       ['Офис']                              3\n",
       "                                                 ['Удалёнка']                          3\n",
       "['Свободный']                                    []                                    3\n",
       "['Полная', 'Гибкий']                             ['Удалёнка', 'Офис']                  3\n",
       "['Полного']                                      ['Удалёнка', 'Офис']                  3\n",
       "['Полный']                                       []                                    3\n",
       "                                                 ['Удалёнка', 'Офис']                  3\n",
       "['Частичная']                                    ['Удалёнка']                          3\n",
       "['Фултайм']                                      []                                    3\n",
       "['Fulltime', 'Полная']                           ['Удалёнка', 'Офис']                  3\n",
       "['Fulltime', 'Гибкий']                           ['Офис']                              3\n",
       "                                                 ['Удалёнка']                          3\n",
       "[]                                               ['Удалёнка', 'Удалёнка']              3\n",
       "['Гибкое']                                       ['Удалёнка', 'Офис']                  2\n",
       "['Гибкого']                                      []                                    2\n",
       "['Гибким']                                       []                                    2\n",
       "['Полное']                                       []                                    2\n",
       "['Fulltime', 'Полная', 'Гибкое', 'Гибкий']       ['Удалёнка']                          2\n",
       "['Полной']                                       []                                    2\n",
       "['Полного']                                      []                                    2\n",
       "['Полная', 'Гибким']                             []                                    2\n",
       "Полный рабочий день                              Удалённая работа (на дому)            2\n",
       "['Полная', 'Полное']                             ['Удалёнка']                          2\n",
       "['Fulltime', 'Гибкий']                           []                                    2\n",
       "['Полная']                                       ['Удалёнка', 'Удалёнка']              2\n",
       "['Fulltime', 'Полное']                           []                                    2\n",
       "['Свободный', 'Гибкий']                          []                                    2\n",
       "['Свободный', 'Полная', 'Гибкий']                ['Удалёнка', 'Офис']                  2\n",
       "['Свободный']                                    ['Удалёнка']                          2\n",
       "['Fulltime', 'Полный']                           ['Удалёнка', 'Офис']                  2\n",
       "['Частичная']                                    []                                    2\n",
       "['Полного', 'Гибкое']                            ['Офис']                              1\n",
       "Сменный график работы                            Не имеет значения                     1\n",
       "['Полная', 'Частичный', 'Гибкий']                ['Офис']                              1\n",
       "['Полное']                                       ['Удалёнка', 'Удалёнка', 'Офис']      1\n",
       "                                                 ['Удалёнка']                          1\n",
       "[]                                               ['Удалёнка', 'Удалёнка', 'Офис']      1\n",
       "['Фултайм']                                      ['Удалёнка', 'Офис']                  1\n",
       "['Полной']                                       ['Удалёнка', 'Офис']                  1\n",
       "['Частичная', 'Гибкое']                          ['Удалёнка']                          1\n",
       "['Полная', 'Свободный']                          ['Офис']                              1\n",
       "['Полный']                                       ['Офис']                              1\n",
       "['Полный', 'Частичная']                          ['Удалёнка']                          1\n",
       "['Частичная', 'Гибкий']                          ['Удалёнка', 'Офис']                  1\n",
       "['Полный', 'Гибкий']                             ['Удалёнка']                          1\n",
       "['Частичная', 'Гибкий']                          []                                    1\n",
       "['Частичная', 'Полная', 'Гибкое']                ['Удалёнка', 'Офис']                  1\n",
       "['Фултайм', 'Полная']                            ['Удалёнка']                          1\n",
       "['Полную']                                       []                                    1\n",
       "['Полную', 'Полная']                             []                                    1\n",
       "['Полную', 'Гибким']                             []                                    1\n",
       "['Полную', 'Гибкий']                             []                                    1\n",
       "['Частичная', 'Полная']                          []                                    1\n",
       "['Частичная']                                    ['Удалёнка', 'Офис']                  1\n",
       "['Полная', 'Частичная', 'Гибкого']               ['Удалёнка']                          1\n",
       "['Fulltime', 'Halftime', 'Полная']               ['Удалёнка', 'Удалёнка', 'Офис']      1\n",
       "['Полная', 'Пятидневная']                        ['Удалёнка', 'Офис']                  1\n",
       "['Fulltime', 'Полная', 'Гибкое']                 ['Удалёнка', 'Офис']                  1\n",
       "['Fulltime', 'Полный', 'Полная']                 ['Офис']                              1\n",
       "['Fulltime', 'Полный', 'Гибкое']                 ['Офис']                              1\n",
       "['Fulltime', 'Полную', 'Частичной']              ['Удалёнка']                          1\n",
       "['Fulltime', 'Полное']                           ['Удалёнка', 'Офис']                  1\n",
       "                                                 ['Офис']                              1\n",
       "['Fulltime', 'Полное', 'Пятидневную', 'Полную']  ['Удалёнка']                          1\n",
       "['Fulltime', 'Полная']                           ['Удалёнка', 'Удалёнка']              1\n",
       "['Fulltime', 'Полная', 'Частичная']              []                                    1\n",
       "['Fulltime', 'Полная', 'Полную', 'Свободную']    ['Удалёнка', 'Офис']                  1\n",
       "['Fulltime', 'Полная', 'Гибкое']                 ['Удалёнка', 'Удалёнка', 'Офис']      1\n",
       "['Fulltime', 'Полная', 'Гибким']                 ['Удалёнка']                          1\n",
       "['Fulltime', 'Фултайм', 'Гибкое']                ['Удалёнка', 'Офис']                  1\n",
       "['Fulltime', 'Полная', 'Гибким', 'Гибкая']       ['Удалёнка']                          1\n",
       "['Fulltime', 'Полная', 'Гибкий']                 ['Удалёнка', 'Офис']                  1\n",
       "['Fulltime', 'Полная', 'Гибкий', 'Частичная']    ['Удалёнка', 'Офис']                  1\n",
       "['Fulltime', 'Гибкую']                           []                                    1\n",
       "['Fulltime', 'Гибкой']                           ['Офис']                              1\n",
       "['Fulltime', 'Гибкой', 'Полного']                []                                    1\n",
       "['Fulltime', 'Гибкое']                           []                                    1\n",
       "                                                 ['Удалёнка', 'Офис']                  1\n",
       "['Fulltime', 'Гибким', 'Гибкий']                 []                                    1\n",
       "['Fulltime', 'Гибкий', 'Полный', 'Гибкой']       ['Офис']                              1\n",
       "['Fulltime', 'Полный']                           []                                    1\n",
       "['Fulltime', 'Фултайм', 'Гибкое']                []                                    1\n",
       "['Полная', 'Полный']                             []                                    1\n",
       "['Гибким']                                       ['Офис']                              1\n",
       "['Полная', 'Полный']                             ['Удалёнка', 'Офис']                  1\n",
       "['Полная', 'Полный', 'Пятидневная']              []                                    1\n",
       "['Полная', 'Полный', 'Полного']                  ['Удалёнка']                          1\n",
       "['Полная', 'Полный', 'Гибкий']                   ['Офис']                              1\n",
       "['Полная', 'Полную']                             ['Удалёнка']                          1\n",
       "['Полная', 'Полной', 'Полный']                   ['Удалёнка', 'Офис']                  1\n",
       "['Полная', 'Полное']                             ['Удалёнка', 'Офис']                  1\n",
       "['Полная', 'Гибкий']                             []                                    1\n",
       "['Fulltime', 'Гибкий', 'Гибкое']                 ['Удалёнка', 'Офис']                  1\n",
       "['Полная', 'Гибкий', 'Полный']                   []                                    1\n",
       "['Гибким', 'Гибкий']                             ['Удалёнка']                          1\n",
       "['Fulltime', 'Фултайм']                          ['Удалёнка']                          1\n",
       "['Гибкий', 'Фултайм']                            []                                    1\n",
       "['Гибкий', 'Полное']                             []                                    1\n",
       "['Гибкий', 'Гибким']                             []                                    1\n",
       "                                                 ['Удалёнка', 'Офис']                  1\n",
       "['Гибкий', 'Fulltime']                           ['Офис']                              1\n",
       "['Fulltime']                                     ['Удалёнка', 'Гибид']                 1\n",
       "['Fulltime', 'Частичный', 'Полная']              ['Офис']                              1\n",
       "['Fulltime', 'Частичная']                        ['Удалёнка']                          1\n",
       "['Fulltime', 'Частичная', 'Полная', 'Гибким']    []                                    1\n",
       "['Fulltime', 'Частичная', 'Полная', 'Гибкий']    ['Удалёнка', 'Офис']                  1\n",
       "['Полная', 'Гибкий', 'Частичной']                ['Удалёнка']                          1\n",
       "dtype: int64"
      ]
     },
     "execution_count": 29,
     "metadata": {},
     "output_type": "execute_result"
    }
   ],
   "source": [
    "df[df['source'] != 'hh.ru'][['schedule','format']].value_counts()"
   ]
  },
  {
   "cell_type": "code",
   "execution_count": 30,
   "id": "31890b2b",
   "metadata": {},
   "outputs": [],
   "source": [
    "df['format'] = df.apply(lambda r: r['schedule'] if r['source'] == 'hh.ru' else r['format'], axis = 1 )"
   ]
  },
  {
   "cell_type": "code",
   "execution_count": 31,
   "id": "1dfb8a85",
   "metadata": {},
   "outputs": [
    {
     "data": {
      "text/plain": [
       "полный день                   3007\n",
       "удаленка                       753\n",
       "удаленная работа               668\n",
       "не указано                     351\n",
       "                               258\n",
       "гибкий график                  135\n",
       "удаленка, офис                  84\n",
       "офис                            55\n",
       "не имеет значения               13\n",
       "сменный график                  13\n",
       "удаленка, удаленка               6\n",
       "удаленка, удаленка, офис         4\n",
       "вахтовый метод                   3\n",
       "удаленная работа (на дому)       2\n",
       "удаленка, гибид                  1\n",
       "Name: format2, dtype: int64"
      ]
     },
     "metadata": {},
     "output_type": "display_data"
    }
   ],
   "source": [
    "df['format2'] = df['format'].apply(lambda x: x.replace('[','').replace(']','').replace('\\'','').lower().replace('ё','е'))\n",
    "display(df['format2'].value_counts())"
   ]
  },
  {
   "cell_type": "code",
   "execution_count": 32,
   "id": "57a28239",
   "metadata": {},
   "outputs": [
    {
     "data": {
      "text/plain": [
       "не указано    3780\n",
       "удаленка      1518\n",
       "офис            55\n",
       "Name: format2, dtype: int64"
      ]
     },
     "metadata": {},
     "output_type": "display_data"
    }
   ],
   "source": [
    "df['format2'] = df['format2'].apply(lambda x: 'удаленка' if x.rfind('удал') >= 0 else ('офис' if x.rfind('офис') >= 0 else 'не указано' ))\n",
    "display(df['format2'].value_counts())"
   ]
  },
  {
   "cell_type": "code",
   "execution_count": 54,
   "id": "04faf677",
   "metadata": {},
   "outputs": [
    {
     "data": {
      "application/vnd.plotly.v1+json": {
       "config": {
        "plotlyServerURL": "https://plot.ly"
       },
       "data": [
        {
         "alignmentgroup": "True",
         "hovertemplate": "salary=%{x}<br>format2=%{y}<extra></extra>",
         "legendgroup": "",
         "marker": {
          "color": "steelblue"
         },
         "name": "",
         "notched": false,
         "offsetgroup": "",
         "orientation": "h",
         "showlegend": false,
         "type": "box",
         "x": [
          55000,
          30000,
          120000,
          180000,
          200000,
          200000,
          150000,
          300000,
          200000,
          350000,
          245000,
          350000,
          200000,
          250000,
          76900,
          300000,
          120000,
          280000,
          350000,
          250000,
          350000,
          350000,
          400000,
          300000,
          150000,
          595000,
          175000,
          250000,
          270000,
          160000,
          250000,
          210000,
          300000,
          199000,
          420000,
          200000,
          350000,
          200000,
          400000,
          300000,
          300000,
          350000,
          700000,
          823200,
          700000,
          315000,
          250000,
          200000,
          440000,
          210000,
          280000,
          350000,
          200000,
          200000,
          385000,
          280000,
          250000,
          150000,
          160000,
          150000,
          150000,
          400000,
          200000,
          105000,
          250000,
          420000,
          250000,
          40000,
          420000,
          250000,
          400000,
          420000,
          280000,
          350000,
          420000,
          420000,
          70000,
          350000,
          250000,
          150000,
          250000,
          380000,
          420000,
          61800,
          250000,
          130000,
          105000,
          170000,
          350000,
          500000,
          200000,
          180000,
          400000,
          100000,
          160000,
          280000,
          150000,
          30000,
          300000,
          200000,
          210000,
          250000,
          220000,
          200000,
          250000,
          550000,
          280000,
          350000,
          250000,
          350000,
          130000,
          80000,
          200000,
          160000,
          220000,
          170000,
          160000,
          120000,
          218000,
          110000,
          150000,
          300000,
          200000,
          145200,
          170000,
          300000,
          180000,
          130000,
          250000,
          350000,
          300000,
          250000,
          200000,
          200000,
          80000,
          250000,
          250000,
          170000,
          150000,
          380000,
          300000,
          120000,
          200000,
          380000,
          190000,
          250000,
          300000,
          130000,
          350000,
          90000,
          280000,
          190000,
          350000,
          420000,
          300000,
          230000,
          200000,
          350000,
          100000,
          260000,
          437500,
          200000,
          220000,
          200000,
          300000,
          250000,
          25000,
          80000,
          200000,
          150000,
          200000,
          250000,
          70000,
          80000,
          150000,
          280000,
          200000,
          200000,
          250000,
          320000,
          220000,
          400000,
          350000,
          250000,
          350000,
          250000,
          200000,
          150000,
          560000,
          250000,
          100000,
          35000,
          100000,
          130000,
          180000,
          200000,
          150000,
          140000,
          170000,
          150000,
          150000,
          250000,
          200000,
          180000,
          250000,
          200000,
          450000,
          250000,
          190000,
          90000,
          280000,
          350000,
          150000,
          200000,
          230000,
          150000,
          150000,
          240000,
          350000,
          420000,
          250000,
          350000,
          250000,
          230000,
          150000,
          300000,
          160000,
          170500,
          220000,
          160000,
          400000,
          300000,
          350000,
          392000,
          175000,
          250000,
          150000,
          250000,
          300000,
          392000,
          200000,
          250000,
          90000,
          280000,
          230000,
          130000,
          250000,
          220000,
          100000,
          70000,
          21000,
          300000,
          420000,
          300000,
          130000,
          400000,
          350000,
          238000,
          360000,
          480000,
          100000,
          200000,
          4000,
          120000,
          300000,
          420000,
          150000,
          350000,
          300000,
          300000,
          700000,
          450000,
          250000,
          217000,
          250000,
          105000,
          450000,
          385000,
          150000,
          350000,
          250000,
          320000,
          10000,
          280000,
          490000,
          180000,
          420000,
          250000,
          525000,
          350000,
          350000,
          150000,
          315000,
          7500,
          300000,
          200000,
          140000,
          350000,
          490000,
          120000,
          300000,
          500000,
          200000,
          2022,
          400000,
          250000,
          700000,
          420000,
          259000,
          77000,
          280000,
          300000,
          350000,
          350000,
          300000,
          350000,
          6000,
          280000,
          250000,
          250000,
          350000,
          250000,
          420000,
          300000,
          350000,
          300000,
          207000,
          595000,
          200000,
          300000,
          350000,
          300000,
          300000,
          175000,
          595000,
          595000,
          300000,
          300000,
          350000,
          7000,
          207000,
          350000,
          240000,
          280000,
          220000,
          240000,
          300000,
          260000,
          250000,
          150000,
          8400,
          220000,
          350000,
          300000,
          300000,
          450000,
          300000,
          250000,
          90000,
          30000,
          300000,
          245000,
          250000,
          270000,
          300000,
          230000,
          5000,
          350000,
          250000,
          250000,
          300000,
          100000,
          400000,
          420000,
          350000,
          400000,
          270000,
          250000,
          1000,
          300000,
          350000,
          300000,
          210000,
          80000,
          300000,
          310000,
          300000,
          230000,
          500000,
          150000,
          300000,
          280000,
          350000,
          5000,
          350000,
          200000,
          220000,
          100000,
          250000,
          400000,
          250000,
          350000,
          420000,
          300000,
          250000,
          250000,
          220000,
          200000,
          200000,
          200000,
          400000,
          350000,
          200000,
          350000,
          6000,
          1000,
          300000,
          300000,
          350000,
          300000,
          90000,
          120000,
          270000,
          270000,
          120000,
          230000,
          200000,
          150000,
          6000,
          300000,
          200000,
          200000,
          180000,
          5000,
          180000,
          280000,
          180000,
          250000,
          700000,
          160000,
          210000,
          350000,
          150000,
          150000,
          250000,
          250000,
          300000,
          280000,
          250000,
          300000,
          315000,
          100000,
          270000,
          420000,
          150000,
          180000,
          180000,
          180000,
          220000,
          800000,
          250000,
          260000,
          270000,
          350000,
          300000,
          150000,
          6000,
          200000,
          260000,
          260000,
          280000,
          150000,
          50000,
          300000,
          230000,
          250000,
          266000,
          250000,
          180000,
          5000,
          260000,
          250000,
          230000,
          300000,
          180000,
          80000,
          550000,
          140000,
          80000,
          245000,
          230000,
          250000,
          350000,
          300000,
          400000,
          250000,
          500000,
          700000,
          5000,
          245000,
          60000,
          500000,
          260000,
          120000,
          6000,
          590000,
          400000,
          300000,
          420000,
          450000,
          200000,
          200000,
          200000,
          100000,
          350000,
          160000,
          250000,
          200000,
          125000,
          260000,
          180000,
          220000,
          250000,
          150000,
          280000,
          600000,
          350000,
          350000,
          120000,
          300000,
          245000,
          300000,
          266000,
          100000,
          250000,
          90000,
          220000,
          300000,
          196000,
          330000,
          350000,
          250000,
          400000,
          210000,
          260000
         ],
         "x0": " ",
         "xaxis": "x",
         "y": [
          "не указано",
          "не указано",
          "удаленка",
          "удаленка",
          "не указано",
          "удаленка",
          "удаленка",
          "удаленка",
          "удаленка",
          "удаленка",
          "удаленка",
          "не указано",
          "удаленка",
          "удаленка",
          "удаленка",
          "удаленка",
          "удаленка",
          "удаленка",
          "удаленка",
          "удаленка",
          "удаленка",
          "удаленка",
          "не указано",
          "не указано",
          "удаленка",
          "удаленка",
          "удаленка",
          "удаленка",
          "удаленка",
          "удаленка",
          "удаленка",
          "удаленка",
          "удаленка",
          "не указано",
          "удаленка",
          "не указано",
          "удаленка",
          "не указано",
          "не указано",
          "удаленка",
          "не указано",
          "удаленка",
          "не указано",
          "удаленка",
          "не указано",
          "не указано",
          "не указано",
          "удаленка",
          "удаленка",
          "удаленка",
          "удаленка",
          "не указано",
          "не указано",
          "удаленка",
          "удаленка",
          "удаленка",
          "удаленка",
          "удаленка",
          "удаленка",
          "не указано",
          "удаленка",
          "удаленка",
          "удаленка",
          "удаленка",
          "удаленка",
          "удаленка",
          "не указано",
          "удаленка",
          "удаленка",
          "удаленка",
          "не указано",
          "удаленка",
          "удаленка",
          "не указано",
          "удаленка",
          "удаленка",
          "удаленка",
          "не указано",
          "удаленка",
          "удаленка",
          "не указано",
          "не указано",
          "удаленка",
          "не указано",
          "удаленка",
          "удаленка",
          "удаленка",
          "удаленка",
          "удаленка",
          "не указано",
          "удаленка",
          "удаленка",
          "удаленка",
          "удаленка",
          "удаленка",
          "не указано",
          "удаленка",
          "удаленка",
          "удаленка",
          "удаленка",
          "не указано",
          "удаленка",
          "удаленка",
          "удаленка",
          "удаленка",
          "удаленка",
          "удаленка",
          "не указано",
          "удаленка",
          "удаленка",
          "не указано",
          "не указано",
          "удаленка",
          "не указано",
          "удаленка",
          "удаленка",
          "не указано",
          "удаленка",
          "не указано",
          "не указано",
          "удаленка",
          "не указано",
          "удаленка",
          "не указано",
          "удаленка",
          "удаленка",
          "удаленка",
          "удаленка",
          "удаленка",
          "удаленка",
          "не указано",
          "не указано",
          "не указано",
          "не указано",
          "не указано",
          "удаленка",
          "не указано",
          "удаленка",
          "не указано",
          "удаленка",
          "удаленка",
          "удаленка",
          "удаленка",
          "удаленка",
          "удаленка",
          "удаленка",
          "удаленка",
          "удаленка",
          "не указано",
          "удаленка",
          "удаленка",
          "не указано",
          "удаленка",
          "удаленка",
          "удаленка",
          "удаленка",
          "удаленка",
          "не указано",
          "удаленка",
          "удаленка",
          "удаленка",
          "удаленка",
          "не указано",
          "удаленка",
          "удаленка",
          "удаленка",
          "не указано",
          "не указано",
          "удаленка",
          "удаленка",
          "удаленка",
          "удаленка",
          "не указано",
          "удаленка",
          "удаленка",
          "удаленка",
          "не указано",
          "не указано",
          "не указано",
          "удаленка",
          "не указано",
          "удаленка",
          "не указано",
          "удаленка",
          "удаленка",
          "не указано",
          "удаленка",
          "удаленка",
          "удаленка",
          "удаленка",
          "удаленка",
          "удаленка",
          "удаленка",
          "удаленка",
          "удаленка",
          "удаленка",
          "удаленка",
          "удаленка",
          "удаленка",
          "удаленка",
          "удаленка",
          "удаленка",
          "не указано",
          "удаленка",
          "удаленка",
          "не указано",
          "не указано",
          "удаленка",
          "удаленка",
          "удаленка",
          "удаленка",
          "удаленка",
          "не указано",
          "удаленка",
          "не указано",
          "удаленка",
          "не указано",
          "удаленка",
          "удаленка",
          "удаленка",
          "удаленка",
          "удаленка",
          "удаленка",
          "не указано",
          "не указано",
          "удаленка",
          "удаленка",
          "не указано",
          "удаленка",
          "удаленка",
          "не указано",
          "удаленка",
          "не указано",
          "не указано",
          "не указано",
          "удаленка",
          "не указано",
          "удаленка",
          "не указано",
          "не указано",
          "удаленка",
          "не указано",
          "удаленка",
          "удаленка",
          "удаленка",
          "не указано",
          "удаленка",
          "не указано",
          "удаленка",
          "удаленка",
          "удаленка",
          "удаленка",
          "удаленка",
          "удаленка",
          "удаленка",
          "не указано",
          "удаленка",
          "удаленка",
          "не указано",
          "не указано",
          "офис",
          "удаленка",
          "удаленка",
          "офис",
          "не указано",
          "не указано",
          "удаленка",
          "удаленка",
          "не указано",
          "офис",
          "не указано",
          "удаленка",
          "не указано",
          "офис",
          "не указано",
          "не указано",
          "удаленка",
          "удаленка",
          "не указано",
          "удаленка",
          "не указано",
          "удаленка",
          "не указано",
          "не указано",
          "удаленка",
          "офис",
          "удаленка",
          "удаленка",
          "не указано",
          "удаленка",
          "не указано",
          "удаленка",
          "удаленка",
          "удаленка",
          "удаленка",
          "удаленка",
          "удаленка",
          "не указано",
          "удаленка",
          "удаленка",
          "не указано",
          "удаленка",
          "офис",
          "не указано",
          "удаленка",
          "не указано",
          "удаленка",
          "не указано",
          "удаленка",
          "удаленка",
          "удаленка",
          "не указано",
          "удаленка",
          "офис",
          "не указано",
          "офис",
          "не указано",
          "удаленка",
          "удаленка",
          "офис",
          "не указано",
          "удаленка",
          "удаленка",
          "удаленка",
          "удаленка",
          "офис",
          "офис",
          "удаленка",
          "офис",
          "не указано",
          "удаленка",
          "удаленка",
          "удаленка",
          "удаленка",
          "удаленка",
          "удаленка",
          "офис",
          "офис",
          "удаленка",
          "удаленка",
          "не указано",
          "не указано",
          "удаленка",
          "не указано",
          "удаленка",
          "удаленка",
          "удаленка",
          "удаленка",
          "офис",
          "офис",
          "удаленка",
          "не указано",
          "не указано",
          "не указано",
          "не указано",
          "удаленка",
          "удаленка",
          "офис",
          "офис",
          "удаленка",
          "не указано",
          "удаленка",
          "не указано",
          "удаленка",
          "не указано",
          "не указано",
          "не указано",
          "удаленка",
          "офис",
          "удаленка",
          "не указано",
          "не указано",
          "не указано",
          "удаленка",
          "удаленка",
          "офис",
          "удаленка",
          "не указано",
          "удаленка",
          "удаленка",
          "не указано",
          "удаленка",
          "удаленка",
          "удаленка",
          "удаленка",
          "не указано",
          "не указано",
          "удаленка",
          "не указано",
          "удаленка",
          "офис",
          "удаленка",
          "не указано",
          "удаленка",
          "удаленка",
          "не указано",
          "удаленка",
          "удаленка",
          "не указано",
          "удаленка",
          "не указано",
          "удаленка",
          "офис",
          "удаленка",
          "удаленка",
          "удаленка",
          "не указано",
          "удаленка",
          "удаленка",
          "удаленка",
          "не указано",
          "не указано",
          "удаленка",
          "не указано",
          "не указано",
          "удаленка",
          "не указано",
          "удаленка",
          "не указано",
          "не указано",
          "удаленка",
          "удаленка",
          "удаленка",
          "удаленка",
          "офис",
          "не указано",
          "не указано",
          "не указано",
          "офис",
          "удаленка",
          "не указано",
          "офис",
          "удаленка",
          "удаленка",
          "не указано",
          "удаленка",
          "удаленка",
          "не указано",
          "не указано",
          "удаленка",
          "не указано",
          "удаленка",
          "удаленка",
          "удаленка",
          "не указано",
          "не указано",
          "не указано",
          "не указано",
          "удаленка",
          "не указано",
          "удаленка",
          "не указано",
          "удаленка",
          "удаленка",
          "удаленка",
          "не указано",
          "удаленка",
          "удаленка",
          "удаленка",
          "не указано",
          "удаленка",
          "не указано",
          "удаленка",
          "удаленка",
          "не указано",
          "удаленка",
          "офис",
          "удаленка",
          "не указано",
          "удаленка",
          "не указано",
          "удаленка",
          "удаленка",
          "не указано",
          "не указано",
          "не указано",
          "удаленка",
          "не указано",
          "удаленка",
          "офис",
          "удаленка",
          "удаленка",
          "удаленка",
          "удаленка",
          "не указано",
          "удаленка",
          "удаленка",
          "удаленка",
          "не указано",
          "удаленка",
          "не указано",
          "не указано",
          "удаленка",
          "офис",
          "удаленка",
          "не указано",
          "удаленка",
          "не указано",
          "офис",
          "удаленка",
          "удаленка",
          "удаленка",
          "удаленка",
          "офис",
          "офис",
          "удаленка",
          "удаленка",
          "офис",
          "удаленка",
          "удаленка",
          "не указано",
          "офис",
          "не указано",
          "не указано",
          "не указано",
          "офис",
          "удаленка",
          "удаленка",
          "офис",
          "удаленка",
          "не указано",
          "не указано",
          "удаленка",
          "не указано",
          "удаленка",
          "офис",
          "не указано",
          "не указано",
          "удаленка",
          "офис",
          "не указано",
          "не указано",
          "удаленка",
          "офис",
          "не указано",
          "не указано",
          "удаленка",
          "офис",
          "удаленка",
          "удаленка",
          "не указано",
          "офис",
          "не указано",
          "удаленка",
          "не указано"
         ],
         "y0": " ",
         "yaxis": "y"
        }
       ],
       "layout": {
        "boxmode": "group",
        "legend": {
         "tracegroupgap": 0
        },
        "margin": {
         "t": 60
        },
        "template": {
         "data": {
          "bar": [
           {
            "error_x": {
             "color": "#2a3f5f"
            },
            "error_y": {
             "color": "#2a3f5f"
            },
            "marker": {
             "line": {
              "color": "#E5ECF6",
              "width": 0.5
             },
             "pattern": {
              "fillmode": "overlay",
              "size": 10,
              "solidity": 0.2
             }
            },
            "type": "bar"
           }
          ],
          "barpolar": [
           {
            "marker": {
             "line": {
              "color": "#E5ECF6",
              "width": 0.5
             },
             "pattern": {
              "fillmode": "overlay",
              "size": 10,
              "solidity": 0.2
             }
            },
            "type": "barpolar"
           }
          ],
          "carpet": [
           {
            "aaxis": {
             "endlinecolor": "#2a3f5f",
             "gridcolor": "white",
             "linecolor": "white",
             "minorgridcolor": "white",
             "startlinecolor": "#2a3f5f"
            },
            "baxis": {
             "endlinecolor": "#2a3f5f",
             "gridcolor": "white",
             "linecolor": "white",
             "minorgridcolor": "white",
             "startlinecolor": "#2a3f5f"
            },
            "type": "carpet"
           }
          ],
          "choropleth": [
           {
            "colorbar": {
             "outlinewidth": 0,
             "ticks": ""
            },
            "type": "choropleth"
           }
          ],
          "contour": [
           {
            "colorbar": {
             "outlinewidth": 0,
             "ticks": ""
            },
            "colorscale": [
             [
              0,
              "#0d0887"
             ],
             [
              0.1111111111111111,
              "#46039f"
             ],
             [
              0.2222222222222222,
              "#7201a8"
             ],
             [
              0.3333333333333333,
              "#9c179e"
             ],
             [
              0.4444444444444444,
              "#bd3786"
             ],
             [
              0.5555555555555556,
              "#d8576b"
             ],
             [
              0.6666666666666666,
              "#ed7953"
             ],
             [
              0.7777777777777778,
              "#fb9f3a"
             ],
             [
              0.8888888888888888,
              "#fdca26"
             ],
             [
              1,
              "#f0f921"
             ]
            ],
            "type": "contour"
           }
          ],
          "contourcarpet": [
           {
            "colorbar": {
             "outlinewidth": 0,
             "ticks": ""
            },
            "type": "contourcarpet"
           }
          ],
          "heatmap": [
           {
            "colorbar": {
             "outlinewidth": 0,
             "ticks": ""
            },
            "colorscale": [
             [
              0,
              "#0d0887"
             ],
             [
              0.1111111111111111,
              "#46039f"
             ],
             [
              0.2222222222222222,
              "#7201a8"
             ],
             [
              0.3333333333333333,
              "#9c179e"
             ],
             [
              0.4444444444444444,
              "#bd3786"
             ],
             [
              0.5555555555555556,
              "#d8576b"
             ],
             [
              0.6666666666666666,
              "#ed7953"
             ],
             [
              0.7777777777777778,
              "#fb9f3a"
             ],
             [
              0.8888888888888888,
              "#fdca26"
             ],
             [
              1,
              "#f0f921"
             ]
            ],
            "type": "heatmap"
           }
          ],
          "heatmapgl": [
           {
            "colorbar": {
             "outlinewidth": 0,
             "ticks": ""
            },
            "colorscale": [
             [
              0,
              "#0d0887"
             ],
             [
              0.1111111111111111,
              "#46039f"
             ],
             [
              0.2222222222222222,
              "#7201a8"
             ],
             [
              0.3333333333333333,
              "#9c179e"
             ],
             [
              0.4444444444444444,
              "#bd3786"
             ],
             [
              0.5555555555555556,
              "#d8576b"
             ],
             [
              0.6666666666666666,
              "#ed7953"
             ],
             [
              0.7777777777777778,
              "#fb9f3a"
             ],
             [
              0.8888888888888888,
              "#fdca26"
             ],
             [
              1,
              "#f0f921"
             ]
            ],
            "type": "heatmapgl"
           }
          ],
          "histogram": [
           {
            "marker": {
             "pattern": {
              "fillmode": "overlay",
              "size": 10,
              "solidity": 0.2
             }
            },
            "type": "histogram"
           }
          ],
          "histogram2d": [
           {
            "colorbar": {
             "outlinewidth": 0,
             "ticks": ""
            },
            "colorscale": [
             [
              0,
              "#0d0887"
             ],
             [
              0.1111111111111111,
              "#46039f"
             ],
             [
              0.2222222222222222,
              "#7201a8"
             ],
             [
              0.3333333333333333,
              "#9c179e"
             ],
             [
              0.4444444444444444,
              "#bd3786"
             ],
             [
              0.5555555555555556,
              "#d8576b"
             ],
             [
              0.6666666666666666,
              "#ed7953"
             ],
             [
              0.7777777777777778,
              "#fb9f3a"
             ],
             [
              0.8888888888888888,
              "#fdca26"
             ],
             [
              1,
              "#f0f921"
             ]
            ],
            "type": "histogram2d"
           }
          ],
          "histogram2dcontour": [
           {
            "colorbar": {
             "outlinewidth": 0,
             "ticks": ""
            },
            "colorscale": [
             [
              0,
              "#0d0887"
             ],
             [
              0.1111111111111111,
              "#46039f"
             ],
             [
              0.2222222222222222,
              "#7201a8"
             ],
             [
              0.3333333333333333,
              "#9c179e"
             ],
             [
              0.4444444444444444,
              "#bd3786"
             ],
             [
              0.5555555555555556,
              "#d8576b"
             ],
             [
              0.6666666666666666,
              "#ed7953"
             ],
             [
              0.7777777777777778,
              "#fb9f3a"
             ],
             [
              0.8888888888888888,
              "#fdca26"
             ],
             [
              1,
              "#f0f921"
             ]
            ],
            "type": "histogram2dcontour"
           }
          ],
          "mesh3d": [
           {
            "colorbar": {
             "outlinewidth": 0,
             "ticks": ""
            },
            "type": "mesh3d"
           }
          ],
          "parcoords": [
           {
            "line": {
             "colorbar": {
              "outlinewidth": 0,
              "ticks": ""
             }
            },
            "type": "parcoords"
           }
          ],
          "pie": [
           {
            "automargin": true,
            "type": "pie"
           }
          ],
          "scatter": [
           {
            "fillpattern": {
             "fillmode": "overlay",
             "size": 10,
             "solidity": 0.2
            },
            "type": "scatter"
           }
          ],
          "scatter3d": [
           {
            "line": {
             "colorbar": {
              "outlinewidth": 0,
              "ticks": ""
             }
            },
            "marker": {
             "colorbar": {
              "outlinewidth": 0,
              "ticks": ""
             }
            },
            "type": "scatter3d"
           }
          ],
          "scattercarpet": [
           {
            "marker": {
             "colorbar": {
              "outlinewidth": 0,
              "ticks": ""
             }
            },
            "type": "scattercarpet"
           }
          ],
          "scattergeo": [
           {
            "marker": {
             "colorbar": {
              "outlinewidth": 0,
              "ticks": ""
             }
            },
            "type": "scattergeo"
           }
          ],
          "scattergl": [
           {
            "marker": {
             "colorbar": {
              "outlinewidth": 0,
              "ticks": ""
             }
            },
            "type": "scattergl"
           }
          ],
          "scattermapbox": [
           {
            "marker": {
             "colorbar": {
              "outlinewidth": 0,
              "ticks": ""
             }
            },
            "type": "scattermapbox"
           }
          ],
          "scatterpolar": [
           {
            "marker": {
             "colorbar": {
              "outlinewidth": 0,
              "ticks": ""
             }
            },
            "type": "scatterpolar"
           }
          ],
          "scatterpolargl": [
           {
            "marker": {
             "colorbar": {
              "outlinewidth": 0,
              "ticks": ""
             }
            },
            "type": "scatterpolargl"
           }
          ],
          "scatterternary": [
           {
            "marker": {
             "colorbar": {
              "outlinewidth": 0,
              "ticks": ""
             }
            },
            "type": "scatterternary"
           }
          ],
          "surface": [
           {
            "colorbar": {
             "outlinewidth": 0,
             "ticks": ""
            },
            "colorscale": [
             [
              0,
              "#0d0887"
             ],
             [
              0.1111111111111111,
              "#46039f"
             ],
             [
              0.2222222222222222,
              "#7201a8"
             ],
             [
              0.3333333333333333,
              "#9c179e"
             ],
             [
              0.4444444444444444,
              "#bd3786"
             ],
             [
              0.5555555555555556,
              "#d8576b"
             ],
             [
              0.6666666666666666,
              "#ed7953"
             ],
             [
              0.7777777777777778,
              "#fb9f3a"
             ],
             [
              0.8888888888888888,
              "#fdca26"
             ],
             [
              1,
              "#f0f921"
             ]
            ],
            "type": "surface"
           }
          ],
          "table": [
           {
            "cells": {
             "fill": {
              "color": "#EBF0F8"
             },
             "line": {
              "color": "white"
             }
            },
            "header": {
             "fill": {
              "color": "#C8D4E3"
             },
             "line": {
              "color": "white"
             }
            },
            "type": "table"
           }
          ]
         },
         "layout": {
          "annotationdefaults": {
           "arrowcolor": "#2a3f5f",
           "arrowhead": 0,
           "arrowwidth": 1
          },
          "autotypenumbers": "strict",
          "coloraxis": {
           "colorbar": {
            "outlinewidth": 0,
            "ticks": ""
           }
          },
          "colorscale": {
           "diverging": [
            [
             0,
             "#8e0152"
            ],
            [
             0.1,
             "#c51b7d"
            ],
            [
             0.2,
             "#de77ae"
            ],
            [
             0.3,
             "#f1b6da"
            ],
            [
             0.4,
             "#fde0ef"
            ],
            [
             0.5,
             "#f7f7f7"
            ],
            [
             0.6,
             "#e6f5d0"
            ],
            [
             0.7,
             "#b8e186"
            ],
            [
             0.8,
             "#7fbc41"
            ],
            [
             0.9,
             "#4d9221"
            ],
            [
             1,
             "#276419"
            ]
           ],
           "sequential": [
            [
             0,
             "#0d0887"
            ],
            [
             0.1111111111111111,
             "#46039f"
            ],
            [
             0.2222222222222222,
             "#7201a8"
            ],
            [
             0.3333333333333333,
             "#9c179e"
            ],
            [
             0.4444444444444444,
             "#bd3786"
            ],
            [
             0.5555555555555556,
             "#d8576b"
            ],
            [
             0.6666666666666666,
             "#ed7953"
            ],
            [
             0.7777777777777778,
             "#fb9f3a"
            ],
            [
             0.8888888888888888,
             "#fdca26"
            ],
            [
             1,
             "#f0f921"
            ]
           ],
           "sequentialminus": [
            [
             0,
             "#0d0887"
            ],
            [
             0.1111111111111111,
             "#46039f"
            ],
            [
             0.2222222222222222,
             "#7201a8"
            ],
            [
             0.3333333333333333,
             "#9c179e"
            ],
            [
             0.4444444444444444,
             "#bd3786"
            ],
            [
             0.5555555555555556,
             "#d8576b"
            ],
            [
             0.6666666666666666,
             "#ed7953"
            ],
            [
             0.7777777777777778,
             "#fb9f3a"
            ],
            [
             0.8888888888888888,
             "#fdca26"
            ],
            [
             1,
             "#f0f921"
            ]
           ]
          },
          "colorway": [
           "#636efa",
           "#EF553B",
           "#00cc96",
           "#ab63fa",
           "#FFA15A",
           "#19d3f3",
           "#FF6692",
           "#B6E880",
           "#FF97FF",
           "#FECB52"
          ],
          "font": {
           "color": "#2a3f5f"
          },
          "geo": {
           "bgcolor": "white",
           "lakecolor": "white",
           "landcolor": "#E5ECF6",
           "showlakes": true,
           "showland": true,
           "subunitcolor": "white"
          },
          "hoverlabel": {
           "align": "left"
          },
          "hovermode": "closest",
          "mapbox": {
           "style": "light"
          },
          "paper_bgcolor": "white",
          "plot_bgcolor": "#E5ECF6",
          "polar": {
           "angularaxis": {
            "gridcolor": "white",
            "linecolor": "white",
            "ticks": ""
           },
           "bgcolor": "#E5ECF6",
           "radialaxis": {
            "gridcolor": "white",
            "linecolor": "white",
            "ticks": ""
           }
          },
          "scene": {
           "xaxis": {
            "backgroundcolor": "#E5ECF6",
            "gridcolor": "white",
            "gridwidth": 2,
            "linecolor": "white",
            "showbackground": true,
            "ticks": "",
            "zerolinecolor": "white"
           },
           "yaxis": {
            "backgroundcolor": "#E5ECF6",
            "gridcolor": "white",
            "gridwidth": 2,
            "linecolor": "white",
            "showbackground": true,
            "ticks": "",
            "zerolinecolor": "white"
           },
           "zaxis": {
            "backgroundcolor": "#E5ECF6",
            "gridcolor": "white",
            "gridwidth": 2,
            "linecolor": "white",
            "showbackground": true,
            "ticks": "",
            "zerolinecolor": "white"
           }
          },
          "shapedefaults": {
           "line": {
            "color": "#2a3f5f"
           }
          },
          "ternary": {
           "aaxis": {
            "gridcolor": "white",
            "linecolor": "white",
            "ticks": ""
           },
           "baxis": {
            "gridcolor": "white",
            "linecolor": "white",
            "ticks": ""
           },
           "bgcolor": "#E5ECF6",
           "caxis": {
            "gridcolor": "white",
            "linecolor": "white",
            "ticks": ""
           }
          },
          "title": {
           "x": 0.05
          },
          "xaxis": {
           "automargin": true,
           "gridcolor": "white",
           "linecolor": "white",
           "ticks": "",
           "title": {
            "standoff": 15
           },
           "zerolinecolor": "white",
           "zerolinewidth": 2
          },
          "yaxis": {
           "automargin": true,
           "gridcolor": "white",
           "linecolor": "white",
           "ticks": "",
           "title": {
            "standoff": 15
           },
           "zerolinecolor": "white",
           "zerolinewidth": 2
          }
         }
        },
        "xaxis": {
         "anchor": "y",
         "domain": [
          0,
          1
         ],
         "title": {
          "text": "salary"
         }
        },
        "yaxis": {
         "anchor": "x",
         "domain": [
          0,
          1
         ],
         "title": {
          "text": "format2"
         }
        }
       }
      },
      "text/html": [
       "<div>                            <div id=\"e80d5274-5195-4049-b051-8539313ce810\" class=\"plotly-graph-div\" style=\"height:525px; width:100%;\"></div>            <script type=\"text/javascript\">                require([\"plotly\"], function(Plotly) {                    window.PLOTLYENV=window.PLOTLYENV || {};                                    if (document.getElementById(\"e80d5274-5195-4049-b051-8539313ce810\")) {                    Plotly.newPlot(                        \"e80d5274-5195-4049-b051-8539313ce810\",                        [{\"alignmentgroup\":\"True\",\"hovertemplate\":\"salary=%{x}<br>format2=%{y}<extra></extra>\",\"legendgroup\":\"\",\"marker\":{\"color\":\"steelblue\"},\"name\":\"\",\"notched\":false,\"offsetgroup\":\"\",\"orientation\":\"h\",\"showlegend\":false,\"x\":[55000.0,30000.0,120000.0,180000.0,200000.0,200000.0,150000.0,300000.0,200000.0,350000.0,245000.0,350000.0,200000.0,250000.0,76900.0,300000.0,120000.0,280000.0,350000.0,250000.0,350000.0,350000.0,400000.0,300000.0,150000.0,595000.0,175000.0,250000.0,270000.0,160000.0,250000.0,210000.0,300000.0,199000.0,420000.0,200000.0,350000.0,200000.0,400000.0,300000.0,300000.0,350000.0,700000.0,823200.0,700000.0,315000.0,250000.0,200000.0,440000.0,210000.0,280000.0,350000.0,200000.0,200000.0,385000.0,280000.0,250000.0,150000.0,160000.0,150000.0,150000.0,400000.0,200000.0,105000.0,250000.0,420000.0,250000.0,40000.0,420000.0,250000.0,400000.0,420000.0,280000.0,350000.0,420000.0,420000.0,70000.0,350000.0,250000.0,150000.0,250000.0,380000.0,420000.0,61800.0,250000.0,130000.0,105000.0,170000.0,350000.0,500000.0,200000.0,180000.0,400000.0,100000.0,160000.0,280000.0,150000.0,30000.0,300000.0,200000.0,210000.0,250000.0,220000.0,200000.0,250000.0,550000.0,280000.0,350000.0,250000.0,350000.0,130000.0,80000.0,200000.0,160000.0,220000.0,170000.0,160000.0,120000.0,218000.0,110000.0,150000.0,300000.0,200000.0,145200.0,170000.0,300000.0,180000.0,130000.0,250000.0,350000.0,300000.0,250000.0,200000.0,200000.0,80000.0,250000.0,250000.0,170000.0,150000.0,380000.0,300000.0,120000.0,200000.0,380000.0,190000.0,250000.0,300000.0,130000.0,350000.0,90000.0,280000.0,190000.0,350000.0,420000.0,300000.0,230000.0,200000.0,350000.0,100000.0,260000.0,437500.0,200000.0,220000.0,200000.0,300000.0,250000.0,25000.0,80000.0,200000.0,150000.0,200000.0,250000.0,70000.0,80000.0,150000.0,280000.0,200000.0,200000.0,250000.0,320000.0,220000.0,400000.0,350000.0,250000.0,350000.0,250000.0,200000.0,150000.0,560000.0,250000.0,100000.0,35000.0,100000.0,130000.0,180000.0,200000.0,150000.0,140000.0,170000.0,150000.0,150000.0,250000.0,200000.0,180000.0,250000.0,200000.0,450000.0,250000.0,190000.0,90000.0,280000.0,350000.0,150000.0,200000.0,230000.0,150000.0,150000.0,240000.0,350000.0,420000.0,250000.0,350000.0,250000.0,230000.0,150000.0,300000.0,160000.0,170500.0,220000.0,160000.0,400000.0,300000.0,350000.0,392000.0,175000.0,250000.0,150000.0,250000.0,300000.0,392000.0,200000.0,250000.0,90000.0,280000.0,230000.0,130000.0,250000.0,220000.0,100000.0,70000.0,21000.0,300000.0,420000.0,300000.0,130000.0,400000.0,350000.0,238000.0,360000.0,480000.0,100000.0,200000.0,4000.0,120000.0,300000.0,420000.0,150000.0,350000.0,300000.0,300000.0,700000.0,450000.0,250000.0,217000.0,250000.0,105000.0,450000.0,385000.0,150000.0,350000.0,250000.0,320000.0,10000.0,280000.0,490000.0,180000.0,420000.0,250000.0,525000.0,350000.0,350000.0,150000.0,315000.0,7500.0,300000.0,200000.0,140000.0,350000.0,490000.0,120000.0,300000.0,500000.0,200000.0,2022.0,400000.0,250000.0,700000.0,420000.0,259000.0,77000.0,280000.0,300000.0,350000.0,350000.0,300000.0,350000.0,6000.0,280000.0,250000.0,250000.0,350000.0,250000.0,420000.0,300000.0,350000.0,300000.0,207000.0,595000.0,200000.0,300000.0,350000.0,300000.0,300000.0,175000.0,595000.0,595000.0,300000.0,300000.0,350000.0,7000.0,207000.0,350000.0,240000.0,280000.0,220000.0,240000.0,300000.0,260000.0,250000.0,150000.0,8400.0,220000.0,350000.0,300000.0,300000.0,450000.0,300000.0,250000.0,90000.0,30000.0,300000.0,245000.0,250000.0,270000.0,300000.0,230000.0,5000.0,350000.0,250000.0,250000.0,300000.0,100000.0,400000.0,420000.0,350000.0,400000.0,270000.0,250000.0,1000.0,300000.0,350000.0,300000.0,210000.0,80000.0,300000.0,310000.0,300000.0,230000.0,500000.0,150000.0,300000.0,280000.0,350000.0,5000.0,350000.0,200000.0,220000.0,100000.0,250000.0,400000.0,250000.0,350000.0,420000.0,300000.0,250000.0,250000.0,220000.0,200000.0,200000.0,200000.0,400000.0,350000.0,200000.0,350000.0,6000.0,1000.0,300000.0,300000.0,350000.0,300000.0,90000.0,120000.0,270000.0,270000.0,120000.0,230000.0,200000.0,150000.0,6000.0,300000.0,200000.0,200000.0,180000.0,5000.0,180000.0,280000.0,180000.0,250000.0,700000.0,160000.0,210000.0,350000.0,150000.0,150000.0,250000.0,250000.0,300000.0,280000.0,250000.0,300000.0,315000.0,100000.0,270000.0,420000.0,150000.0,180000.0,180000.0,180000.0,220000.0,800000.0,250000.0,260000.0,270000.0,350000.0,300000.0,150000.0,6000.0,200000.0,260000.0,260000.0,280000.0,150000.0,50000.0,300000.0,230000.0,250000.0,266000.0,250000.0,180000.0,5000.0,260000.0,250000.0,230000.0,300000.0,180000.0,80000.0,550000.0,140000.0,80000.0,245000.0,230000.0,250000.0,350000.0,300000.0,400000.0,250000.0,500000.0,700000.0,5000.0,245000.0,60000.0,500000.0,260000.0,120000.0,6000.0,590000.0,400000.0,300000.0,420000.0,450000.0,200000.0,200000.0,200000.0,100000.0,350000.0,160000.0,250000.0,200000.0,125000.0,260000.0,180000.0,220000.0,250000.0,150000.0,280000.0,600000.0,350000.0,350000.0,120000.0,300000.0,245000.0,300000.0,266000.0,100000.0,250000.0,90000.0,220000.0,300000.0,196000.0,330000.0,350000.0,250000.0,400000.0,210000.0,260000.0],\"x0\":\" \",\"xaxis\":\"x\",\"y\":[\"\\u043d\\u0435 \\u0443\\u043a\\u0430\\u0437\\u0430\\u043d\\u043e\",\"\\u043d\\u0435 \\u0443\\u043a\\u0430\\u0437\\u0430\\u043d\\u043e\",\"\\u0443\\u0434\\u0430\\u043b\\u0435\\u043d\\u043a\\u0430\",\"\\u0443\\u0434\\u0430\\u043b\\u0435\\u043d\\u043a\\u0430\",\"\\u043d\\u0435 \\u0443\\u043a\\u0430\\u0437\\u0430\\u043d\\u043e\",\"\\u0443\\u0434\\u0430\\u043b\\u0435\\u043d\\u043a\\u0430\",\"\\u0443\\u0434\\u0430\\u043b\\u0435\\u043d\\u043a\\u0430\",\"\\u0443\\u0434\\u0430\\u043b\\u0435\\u043d\\u043a\\u0430\",\"\\u0443\\u0434\\u0430\\u043b\\u0435\\u043d\\u043a\\u0430\",\"\\u0443\\u0434\\u0430\\u043b\\u0435\\u043d\\u043a\\u0430\",\"\\u0443\\u0434\\u0430\\u043b\\u0435\\u043d\\u043a\\u0430\",\"\\u043d\\u0435 \\u0443\\u043a\\u0430\\u0437\\u0430\\u043d\\u043e\",\"\\u0443\\u0434\\u0430\\u043b\\u0435\\u043d\\u043a\\u0430\",\"\\u0443\\u0434\\u0430\\u043b\\u0435\\u043d\\u043a\\u0430\",\"\\u0443\\u0434\\u0430\\u043b\\u0435\\u043d\\u043a\\u0430\",\"\\u0443\\u0434\\u0430\\u043b\\u0435\\u043d\\u043a\\u0430\",\"\\u0443\\u0434\\u0430\\u043b\\u0435\\u043d\\u043a\\u0430\",\"\\u0443\\u0434\\u0430\\u043b\\u0435\\u043d\\u043a\\u0430\",\"\\u0443\\u0434\\u0430\\u043b\\u0435\\u043d\\u043a\\u0430\",\"\\u0443\\u0434\\u0430\\u043b\\u0435\\u043d\\u043a\\u0430\",\"\\u0443\\u0434\\u0430\\u043b\\u0435\\u043d\\u043a\\u0430\",\"\\u0443\\u0434\\u0430\\u043b\\u0435\\u043d\\u043a\\u0430\",\"\\u043d\\u0435 \\u0443\\u043a\\u0430\\u0437\\u0430\\u043d\\u043e\",\"\\u043d\\u0435 \\u0443\\u043a\\u0430\\u0437\\u0430\\u043d\\u043e\",\"\\u0443\\u0434\\u0430\\u043b\\u0435\\u043d\\u043a\\u0430\",\"\\u0443\\u0434\\u0430\\u043b\\u0435\\u043d\\u043a\\u0430\",\"\\u0443\\u0434\\u0430\\u043b\\u0435\\u043d\\u043a\\u0430\",\"\\u0443\\u0434\\u0430\\u043b\\u0435\\u043d\\u043a\\u0430\",\"\\u0443\\u0434\\u0430\\u043b\\u0435\\u043d\\u043a\\u0430\",\"\\u0443\\u0434\\u0430\\u043b\\u0435\\u043d\\u043a\\u0430\",\"\\u0443\\u0434\\u0430\\u043b\\u0435\\u043d\\u043a\\u0430\",\"\\u0443\\u0434\\u0430\\u043b\\u0435\\u043d\\u043a\\u0430\",\"\\u0443\\u0434\\u0430\\u043b\\u0435\\u043d\\u043a\\u0430\",\"\\u043d\\u0435 \\u0443\\u043a\\u0430\\u0437\\u0430\\u043d\\u043e\",\"\\u0443\\u0434\\u0430\\u043b\\u0435\\u043d\\u043a\\u0430\",\"\\u043d\\u0435 \\u0443\\u043a\\u0430\\u0437\\u0430\\u043d\\u043e\",\"\\u0443\\u0434\\u0430\\u043b\\u0435\\u043d\\u043a\\u0430\",\"\\u043d\\u0435 \\u0443\\u043a\\u0430\\u0437\\u0430\\u043d\\u043e\",\"\\u043d\\u0435 \\u0443\\u043a\\u0430\\u0437\\u0430\\u043d\\u043e\",\"\\u0443\\u0434\\u0430\\u043b\\u0435\\u043d\\u043a\\u0430\",\"\\u043d\\u0435 \\u0443\\u043a\\u0430\\u0437\\u0430\\u043d\\u043e\",\"\\u0443\\u0434\\u0430\\u043b\\u0435\\u043d\\u043a\\u0430\",\"\\u043d\\u0435 \\u0443\\u043a\\u0430\\u0437\\u0430\\u043d\\u043e\",\"\\u0443\\u0434\\u0430\\u043b\\u0435\\u043d\\u043a\\u0430\",\"\\u043d\\u0435 \\u0443\\u043a\\u0430\\u0437\\u0430\\u043d\\u043e\",\"\\u043d\\u0435 \\u0443\\u043a\\u0430\\u0437\\u0430\\u043d\\u043e\",\"\\u043d\\u0435 \\u0443\\u043a\\u0430\\u0437\\u0430\\u043d\\u043e\",\"\\u0443\\u0434\\u0430\\u043b\\u0435\\u043d\\u043a\\u0430\",\"\\u0443\\u0434\\u0430\\u043b\\u0435\\u043d\\u043a\\u0430\",\"\\u0443\\u0434\\u0430\\u043b\\u0435\\u043d\\u043a\\u0430\",\"\\u0443\\u0434\\u0430\\u043b\\u0435\\u043d\\u043a\\u0430\",\"\\u043d\\u0435 \\u0443\\u043a\\u0430\\u0437\\u0430\\u043d\\u043e\",\"\\u043d\\u0435 \\u0443\\u043a\\u0430\\u0437\\u0430\\u043d\\u043e\",\"\\u0443\\u0434\\u0430\\u043b\\u0435\\u043d\\u043a\\u0430\",\"\\u0443\\u0434\\u0430\\u043b\\u0435\\u043d\\u043a\\u0430\",\"\\u0443\\u0434\\u0430\\u043b\\u0435\\u043d\\u043a\\u0430\",\"\\u0443\\u0434\\u0430\\u043b\\u0435\\u043d\\u043a\\u0430\",\"\\u0443\\u0434\\u0430\\u043b\\u0435\\u043d\\u043a\\u0430\",\"\\u0443\\u0434\\u0430\\u043b\\u0435\\u043d\\u043a\\u0430\",\"\\u043d\\u0435 \\u0443\\u043a\\u0430\\u0437\\u0430\\u043d\\u043e\",\"\\u0443\\u0434\\u0430\\u043b\\u0435\\u043d\\u043a\\u0430\",\"\\u0443\\u0434\\u0430\\u043b\\u0435\\u043d\\u043a\\u0430\",\"\\u0443\\u0434\\u0430\\u043b\\u0435\\u043d\\u043a\\u0430\",\"\\u0443\\u0434\\u0430\\u043b\\u0435\\u043d\\u043a\\u0430\",\"\\u0443\\u0434\\u0430\\u043b\\u0435\\u043d\\u043a\\u0430\",\"\\u0443\\u0434\\u0430\\u043b\\u0435\\u043d\\u043a\\u0430\",\"\\u043d\\u0435 \\u0443\\u043a\\u0430\\u0437\\u0430\\u043d\\u043e\",\"\\u0443\\u0434\\u0430\\u043b\\u0435\\u043d\\u043a\\u0430\",\"\\u0443\\u0434\\u0430\\u043b\\u0435\\u043d\\u043a\\u0430\",\"\\u0443\\u0434\\u0430\\u043b\\u0435\\u043d\\u043a\\u0430\",\"\\u043d\\u0435 \\u0443\\u043a\\u0430\\u0437\\u0430\\u043d\\u043e\",\"\\u0443\\u0434\\u0430\\u043b\\u0435\\u043d\\u043a\\u0430\",\"\\u0443\\u0434\\u0430\\u043b\\u0435\\u043d\\u043a\\u0430\",\"\\u043d\\u0435 \\u0443\\u043a\\u0430\\u0437\\u0430\\u043d\\u043e\",\"\\u0443\\u0434\\u0430\\u043b\\u0435\\u043d\\u043a\\u0430\",\"\\u0443\\u0434\\u0430\\u043b\\u0435\\u043d\\u043a\\u0430\",\"\\u0443\\u0434\\u0430\\u043b\\u0435\\u043d\\u043a\\u0430\",\"\\u043d\\u0435 \\u0443\\u043a\\u0430\\u0437\\u0430\\u043d\\u043e\",\"\\u0443\\u0434\\u0430\\u043b\\u0435\\u043d\\u043a\\u0430\",\"\\u0443\\u0434\\u0430\\u043b\\u0435\\u043d\\u043a\\u0430\",\"\\u043d\\u0435 \\u0443\\u043a\\u0430\\u0437\\u0430\\u043d\\u043e\",\"\\u043d\\u0435 \\u0443\\u043a\\u0430\\u0437\\u0430\\u043d\\u043e\",\"\\u0443\\u0434\\u0430\\u043b\\u0435\\u043d\\u043a\\u0430\",\"\\u043d\\u0435 \\u0443\\u043a\\u0430\\u0437\\u0430\\u043d\\u043e\",\"\\u0443\\u0434\\u0430\\u043b\\u0435\\u043d\\u043a\\u0430\",\"\\u0443\\u0434\\u0430\\u043b\\u0435\\u043d\\u043a\\u0430\",\"\\u0443\\u0434\\u0430\\u043b\\u0435\\u043d\\u043a\\u0430\",\"\\u0443\\u0434\\u0430\\u043b\\u0435\\u043d\\u043a\\u0430\",\"\\u0443\\u0434\\u0430\\u043b\\u0435\\u043d\\u043a\\u0430\",\"\\u043d\\u0435 \\u0443\\u043a\\u0430\\u0437\\u0430\\u043d\\u043e\",\"\\u0443\\u0434\\u0430\\u043b\\u0435\\u043d\\u043a\\u0430\",\"\\u0443\\u0434\\u0430\\u043b\\u0435\\u043d\\u043a\\u0430\",\"\\u0443\\u0434\\u0430\\u043b\\u0435\\u043d\\u043a\\u0430\",\"\\u0443\\u0434\\u0430\\u043b\\u0435\\u043d\\u043a\\u0430\",\"\\u0443\\u0434\\u0430\\u043b\\u0435\\u043d\\u043a\\u0430\",\"\\u043d\\u0435 \\u0443\\u043a\\u0430\\u0437\\u0430\\u043d\\u043e\",\"\\u0443\\u0434\\u0430\\u043b\\u0435\\u043d\\u043a\\u0430\",\"\\u0443\\u0434\\u0430\\u043b\\u0435\\u043d\\u043a\\u0430\",\"\\u0443\\u0434\\u0430\\u043b\\u0435\\u043d\\u043a\\u0430\",\"\\u0443\\u0434\\u0430\\u043b\\u0435\\u043d\\u043a\\u0430\",\"\\u043d\\u0435 \\u0443\\u043a\\u0430\\u0437\\u0430\\u043d\\u043e\",\"\\u0443\\u0434\\u0430\\u043b\\u0435\\u043d\\u043a\\u0430\",\"\\u0443\\u0434\\u0430\\u043b\\u0435\\u043d\\u043a\\u0430\",\"\\u0443\\u0434\\u0430\\u043b\\u0435\\u043d\\u043a\\u0430\",\"\\u0443\\u0434\\u0430\\u043b\\u0435\\u043d\\u043a\\u0430\",\"\\u0443\\u0434\\u0430\\u043b\\u0435\\u043d\\u043a\\u0430\",\"\\u0443\\u0434\\u0430\\u043b\\u0435\\u043d\\u043a\\u0430\",\"\\u043d\\u0435 \\u0443\\u043a\\u0430\\u0437\\u0430\\u043d\\u043e\",\"\\u0443\\u0434\\u0430\\u043b\\u0435\\u043d\\u043a\\u0430\",\"\\u0443\\u0434\\u0430\\u043b\\u0435\\u043d\\u043a\\u0430\",\"\\u043d\\u0435 \\u0443\\u043a\\u0430\\u0437\\u0430\\u043d\\u043e\",\"\\u043d\\u0435 \\u0443\\u043a\\u0430\\u0437\\u0430\\u043d\\u043e\",\"\\u0443\\u0434\\u0430\\u043b\\u0435\\u043d\\u043a\\u0430\",\"\\u043d\\u0435 \\u0443\\u043a\\u0430\\u0437\\u0430\\u043d\\u043e\",\"\\u0443\\u0434\\u0430\\u043b\\u0435\\u043d\\u043a\\u0430\",\"\\u0443\\u0434\\u0430\\u043b\\u0435\\u043d\\u043a\\u0430\",\"\\u043d\\u0435 \\u0443\\u043a\\u0430\\u0437\\u0430\\u043d\\u043e\",\"\\u0443\\u0434\\u0430\\u043b\\u0435\\u043d\\u043a\\u0430\",\"\\u043d\\u0435 \\u0443\\u043a\\u0430\\u0437\\u0430\\u043d\\u043e\",\"\\u043d\\u0435 \\u0443\\u043a\\u0430\\u0437\\u0430\\u043d\\u043e\",\"\\u0443\\u0434\\u0430\\u043b\\u0435\\u043d\\u043a\\u0430\",\"\\u043d\\u0435 \\u0443\\u043a\\u0430\\u0437\\u0430\\u043d\\u043e\",\"\\u0443\\u0434\\u0430\\u043b\\u0435\\u043d\\u043a\\u0430\",\"\\u043d\\u0435 \\u0443\\u043a\\u0430\\u0437\\u0430\\u043d\\u043e\",\"\\u0443\\u0434\\u0430\\u043b\\u0435\\u043d\\u043a\\u0430\",\"\\u0443\\u0434\\u0430\\u043b\\u0435\\u043d\\u043a\\u0430\",\"\\u0443\\u0434\\u0430\\u043b\\u0435\\u043d\\u043a\\u0430\",\"\\u0443\\u0434\\u0430\\u043b\\u0435\\u043d\\u043a\\u0430\",\"\\u0443\\u0434\\u0430\\u043b\\u0435\\u043d\\u043a\\u0430\",\"\\u0443\\u0434\\u0430\\u043b\\u0435\\u043d\\u043a\\u0430\",\"\\u043d\\u0435 \\u0443\\u043a\\u0430\\u0437\\u0430\\u043d\\u043e\",\"\\u043d\\u0435 \\u0443\\u043a\\u0430\\u0437\\u0430\\u043d\\u043e\",\"\\u043d\\u0435 \\u0443\\u043a\\u0430\\u0437\\u0430\\u043d\\u043e\",\"\\u043d\\u0435 \\u0443\\u043a\\u0430\\u0437\\u0430\\u043d\\u043e\",\"\\u043d\\u0435 \\u0443\\u043a\\u0430\\u0437\\u0430\\u043d\\u043e\",\"\\u0443\\u0434\\u0430\\u043b\\u0435\\u043d\\u043a\\u0430\",\"\\u043d\\u0435 \\u0443\\u043a\\u0430\\u0437\\u0430\\u043d\\u043e\",\"\\u0443\\u0434\\u0430\\u043b\\u0435\\u043d\\u043a\\u0430\",\"\\u043d\\u0435 \\u0443\\u043a\\u0430\\u0437\\u0430\\u043d\\u043e\",\"\\u0443\\u0434\\u0430\\u043b\\u0435\\u043d\\u043a\\u0430\",\"\\u0443\\u0434\\u0430\\u043b\\u0435\\u043d\\u043a\\u0430\",\"\\u0443\\u0434\\u0430\\u043b\\u0435\\u043d\\u043a\\u0430\",\"\\u0443\\u0434\\u0430\\u043b\\u0435\\u043d\\u043a\\u0430\",\"\\u0443\\u0434\\u0430\\u043b\\u0435\\u043d\\u043a\\u0430\",\"\\u0443\\u0434\\u0430\\u043b\\u0435\\u043d\\u043a\\u0430\",\"\\u0443\\u0434\\u0430\\u043b\\u0435\\u043d\\u043a\\u0430\",\"\\u0443\\u0434\\u0430\\u043b\\u0435\\u043d\\u043a\\u0430\",\"\\u0443\\u0434\\u0430\\u043b\\u0435\\u043d\\u043a\\u0430\",\"\\u043d\\u0435 \\u0443\\u043a\\u0430\\u0437\\u0430\\u043d\\u043e\",\"\\u0443\\u0434\\u0430\\u043b\\u0435\\u043d\\u043a\\u0430\",\"\\u0443\\u0434\\u0430\\u043b\\u0435\\u043d\\u043a\\u0430\",\"\\u043d\\u0435 \\u0443\\u043a\\u0430\\u0437\\u0430\\u043d\\u043e\",\"\\u0443\\u0434\\u0430\\u043b\\u0435\\u043d\\u043a\\u0430\",\"\\u0443\\u0434\\u0430\\u043b\\u0435\\u043d\\u043a\\u0430\",\"\\u0443\\u0434\\u0430\\u043b\\u0435\\u043d\\u043a\\u0430\",\"\\u0443\\u0434\\u0430\\u043b\\u0435\\u043d\\u043a\\u0430\",\"\\u0443\\u0434\\u0430\\u043b\\u0435\\u043d\\u043a\\u0430\",\"\\u043d\\u0435 \\u0443\\u043a\\u0430\\u0437\\u0430\\u043d\\u043e\",\"\\u0443\\u0434\\u0430\\u043b\\u0435\\u043d\\u043a\\u0430\",\"\\u0443\\u0434\\u0430\\u043b\\u0435\\u043d\\u043a\\u0430\",\"\\u0443\\u0434\\u0430\\u043b\\u0435\\u043d\\u043a\\u0430\",\"\\u0443\\u0434\\u0430\\u043b\\u0435\\u043d\\u043a\\u0430\",\"\\u043d\\u0435 \\u0443\\u043a\\u0430\\u0437\\u0430\\u043d\\u043e\",\"\\u0443\\u0434\\u0430\\u043b\\u0435\\u043d\\u043a\\u0430\",\"\\u0443\\u0434\\u0430\\u043b\\u0435\\u043d\\u043a\\u0430\",\"\\u0443\\u0434\\u0430\\u043b\\u0435\\u043d\\u043a\\u0430\",\"\\u043d\\u0435 \\u0443\\u043a\\u0430\\u0437\\u0430\\u043d\\u043e\",\"\\u043d\\u0435 \\u0443\\u043a\\u0430\\u0437\\u0430\\u043d\\u043e\",\"\\u0443\\u0434\\u0430\\u043b\\u0435\\u043d\\u043a\\u0430\",\"\\u0443\\u0434\\u0430\\u043b\\u0435\\u043d\\u043a\\u0430\",\"\\u0443\\u0434\\u0430\\u043b\\u0435\\u043d\\u043a\\u0430\",\"\\u0443\\u0434\\u0430\\u043b\\u0435\\u043d\\u043a\\u0430\",\"\\u043d\\u0435 \\u0443\\u043a\\u0430\\u0437\\u0430\\u043d\\u043e\",\"\\u0443\\u0434\\u0430\\u043b\\u0435\\u043d\\u043a\\u0430\",\"\\u0443\\u0434\\u0430\\u043b\\u0435\\u043d\\u043a\\u0430\",\"\\u0443\\u0434\\u0430\\u043b\\u0435\\u043d\\u043a\\u0430\",\"\\u043d\\u0435 \\u0443\\u043a\\u0430\\u0437\\u0430\\u043d\\u043e\",\"\\u043d\\u0435 \\u0443\\u043a\\u0430\\u0437\\u0430\\u043d\\u043e\",\"\\u043d\\u0435 \\u0443\\u043a\\u0430\\u0437\\u0430\\u043d\\u043e\",\"\\u0443\\u0434\\u0430\\u043b\\u0435\\u043d\\u043a\\u0430\",\"\\u043d\\u0435 \\u0443\\u043a\\u0430\\u0437\\u0430\\u043d\\u043e\",\"\\u0443\\u0434\\u0430\\u043b\\u0435\\u043d\\u043a\\u0430\",\"\\u043d\\u0435 \\u0443\\u043a\\u0430\\u0437\\u0430\\u043d\\u043e\",\"\\u0443\\u0434\\u0430\\u043b\\u0435\\u043d\\u043a\\u0430\",\"\\u0443\\u0434\\u0430\\u043b\\u0435\\u043d\\u043a\\u0430\",\"\\u043d\\u0435 \\u0443\\u043a\\u0430\\u0437\\u0430\\u043d\\u043e\",\"\\u0443\\u0434\\u0430\\u043b\\u0435\\u043d\\u043a\\u0430\",\"\\u0443\\u0434\\u0430\\u043b\\u0435\\u043d\\u043a\\u0430\",\"\\u0443\\u0434\\u0430\\u043b\\u0435\\u043d\\u043a\\u0430\",\"\\u0443\\u0434\\u0430\\u043b\\u0435\\u043d\\u043a\\u0430\",\"\\u0443\\u0434\\u0430\\u043b\\u0435\\u043d\\u043a\\u0430\",\"\\u0443\\u0434\\u0430\\u043b\\u0435\\u043d\\u043a\\u0430\",\"\\u0443\\u0434\\u0430\\u043b\\u0435\\u043d\\u043a\\u0430\",\"\\u0443\\u0434\\u0430\\u043b\\u0435\\u043d\\u043a\\u0430\",\"\\u0443\\u0434\\u0430\\u043b\\u0435\\u043d\\u043a\\u0430\",\"\\u0443\\u0434\\u0430\\u043b\\u0435\\u043d\\u043a\\u0430\",\"\\u0443\\u0434\\u0430\\u043b\\u0435\\u043d\\u043a\\u0430\",\"\\u0443\\u0434\\u0430\\u043b\\u0435\\u043d\\u043a\\u0430\",\"\\u0443\\u0434\\u0430\\u043b\\u0435\\u043d\\u043a\\u0430\",\"\\u0443\\u0434\\u0430\\u043b\\u0435\\u043d\\u043a\\u0430\",\"\\u0443\\u0434\\u0430\\u043b\\u0435\\u043d\\u043a\\u0430\",\"\\u0443\\u0434\\u0430\\u043b\\u0435\\u043d\\u043a\\u0430\",\"\\u043d\\u0435 \\u0443\\u043a\\u0430\\u0437\\u0430\\u043d\\u043e\",\"\\u0443\\u0434\\u0430\\u043b\\u0435\\u043d\\u043a\\u0430\",\"\\u0443\\u0434\\u0430\\u043b\\u0435\\u043d\\u043a\\u0430\",\"\\u043d\\u0435 \\u0443\\u043a\\u0430\\u0437\\u0430\\u043d\\u043e\",\"\\u043d\\u0435 \\u0443\\u043a\\u0430\\u0437\\u0430\\u043d\\u043e\",\"\\u0443\\u0434\\u0430\\u043b\\u0435\\u043d\\u043a\\u0430\",\"\\u0443\\u0434\\u0430\\u043b\\u0435\\u043d\\u043a\\u0430\",\"\\u0443\\u0434\\u0430\\u043b\\u0435\\u043d\\u043a\\u0430\",\"\\u0443\\u0434\\u0430\\u043b\\u0435\\u043d\\u043a\\u0430\",\"\\u0443\\u0434\\u0430\\u043b\\u0435\\u043d\\u043a\\u0430\",\"\\u043d\\u0435 \\u0443\\u043a\\u0430\\u0437\\u0430\\u043d\\u043e\",\"\\u0443\\u0434\\u0430\\u043b\\u0435\\u043d\\u043a\\u0430\",\"\\u043d\\u0435 \\u0443\\u043a\\u0430\\u0437\\u0430\\u043d\\u043e\",\"\\u0443\\u0434\\u0430\\u043b\\u0435\\u043d\\u043a\\u0430\",\"\\u043d\\u0435 \\u0443\\u043a\\u0430\\u0437\\u0430\\u043d\\u043e\",\"\\u0443\\u0434\\u0430\\u043b\\u0435\\u043d\\u043a\\u0430\",\"\\u0443\\u0434\\u0430\\u043b\\u0435\\u043d\\u043a\\u0430\",\"\\u0443\\u0434\\u0430\\u043b\\u0435\\u043d\\u043a\\u0430\",\"\\u0443\\u0434\\u0430\\u043b\\u0435\\u043d\\u043a\\u0430\",\"\\u0443\\u0434\\u0430\\u043b\\u0435\\u043d\\u043a\\u0430\",\"\\u0443\\u0434\\u0430\\u043b\\u0435\\u043d\\u043a\\u0430\",\"\\u043d\\u0435 \\u0443\\u043a\\u0430\\u0437\\u0430\\u043d\\u043e\",\"\\u043d\\u0435 \\u0443\\u043a\\u0430\\u0437\\u0430\\u043d\\u043e\",\"\\u0443\\u0434\\u0430\\u043b\\u0435\\u043d\\u043a\\u0430\",\"\\u0443\\u0434\\u0430\\u043b\\u0435\\u043d\\u043a\\u0430\",\"\\u043d\\u0435 \\u0443\\u043a\\u0430\\u0437\\u0430\\u043d\\u043e\",\"\\u0443\\u0434\\u0430\\u043b\\u0435\\u043d\\u043a\\u0430\",\"\\u0443\\u0434\\u0430\\u043b\\u0435\\u043d\\u043a\\u0430\",\"\\u043d\\u0435 \\u0443\\u043a\\u0430\\u0437\\u0430\\u043d\\u043e\",\"\\u0443\\u0434\\u0430\\u043b\\u0435\\u043d\\u043a\\u0430\",\"\\u043d\\u0435 \\u0443\\u043a\\u0430\\u0437\\u0430\\u043d\\u043e\",\"\\u043d\\u0435 \\u0443\\u043a\\u0430\\u0437\\u0430\\u043d\\u043e\",\"\\u043d\\u0435 \\u0443\\u043a\\u0430\\u0437\\u0430\\u043d\\u043e\",\"\\u0443\\u0434\\u0430\\u043b\\u0435\\u043d\\u043a\\u0430\",\"\\u043d\\u0435 \\u0443\\u043a\\u0430\\u0437\\u0430\\u043d\\u043e\",\"\\u0443\\u0434\\u0430\\u043b\\u0435\\u043d\\u043a\\u0430\",\"\\u043d\\u0435 \\u0443\\u043a\\u0430\\u0437\\u0430\\u043d\\u043e\",\"\\u043d\\u0435 \\u0443\\u043a\\u0430\\u0437\\u0430\\u043d\\u043e\",\"\\u0443\\u0434\\u0430\\u043b\\u0435\\u043d\\u043a\\u0430\",\"\\u043d\\u0435 \\u0443\\u043a\\u0430\\u0437\\u0430\\u043d\\u043e\",\"\\u0443\\u0434\\u0430\\u043b\\u0435\\u043d\\u043a\\u0430\",\"\\u0443\\u0434\\u0430\\u043b\\u0435\\u043d\\u043a\\u0430\",\"\\u0443\\u0434\\u0430\\u043b\\u0435\\u043d\\u043a\\u0430\",\"\\u043d\\u0435 \\u0443\\u043a\\u0430\\u0437\\u0430\\u043d\\u043e\",\"\\u0443\\u0434\\u0430\\u043b\\u0435\\u043d\\u043a\\u0430\",\"\\u043d\\u0435 \\u0443\\u043a\\u0430\\u0437\\u0430\\u043d\\u043e\",\"\\u0443\\u0434\\u0430\\u043b\\u0435\\u043d\\u043a\\u0430\",\"\\u0443\\u0434\\u0430\\u043b\\u0435\\u043d\\u043a\\u0430\",\"\\u0443\\u0434\\u0430\\u043b\\u0435\\u043d\\u043a\\u0430\",\"\\u0443\\u0434\\u0430\\u043b\\u0435\\u043d\\u043a\\u0430\",\"\\u0443\\u0434\\u0430\\u043b\\u0435\\u043d\\u043a\\u0430\",\"\\u0443\\u0434\\u0430\\u043b\\u0435\\u043d\\u043a\\u0430\",\"\\u0443\\u0434\\u0430\\u043b\\u0435\\u043d\\u043a\\u0430\",\"\\u043d\\u0435 \\u0443\\u043a\\u0430\\u0437\\u0430\\u043d\\u043e\",\"\\u0443\\u0434\\u0430\\u043b\\u0435\\u043d\\u043a\\u0430\",\"\\u0443\\u0434\\u0430\\u043b\\u0435\\u043d\\u043a\\u0430\",\"\\u043d\\u0435 \\u0443\\u043a\\u0430\\u0437\\u0430\\u043d\\u043e\",\"\\u043d\\u0435 \\u0443\\u043a\\u0430\\u0437\\u0430\\u043d\\u043e\",\"\\u043e\\u0444\\u0438\\u0441\",\"\\u0443\\u0434\\u0430\\u043b\\u0435\\u043d\\u043a\\u0430\",\"\\u0443\\u0434\\u0430\\u043b\\u0435\\u043d\\u043a\\u0430\",\"\\u043e\\u0444\\u0438\\u0441\",\"\\u043d\\u0435 \\u0443\\u043a\\u0430\\u0437\\u0430\\u043d\\u043e\",\"\\u043d\\u0435 \\u0443\\u043a\\u0430\\u0437\\u0430\\u043d\\u043e\",\"\\u0443\\u0434\\u0430\\u043b\\u0435\\u043d\\u043a\\u0430\",\"\\u0443\\u0434\\u0430\\u043b\\u0435\\u043d\\u043a\\u0430\",\"\\u043d\\u0435 \\u0443\\u043a\\u0430\\u0437\\u0430\\u043d\\u043e\",\"\\u043e\\u0444\\u0438\\u0441\",\"\\u043d\\u0435 \\u0443\\u043a\\u0430\\u0437\\u0430\\u043d\\u043e\",\"\\u0443\\u0434\\u0430\\u043b\\u0435\\u043d\\u043a\\u0430\",\"\\u043d\\u0435 \\u0443\\u043a\\u0430\\u0437\\u0430\\u043d\\u043e\",\"\\u043e\\u0444\\u0438\\u0441\",\"\\u043d\\u0435 \\u0443\\u043a\\u0430\\u0437\\u0430\\u043d\\u043e\",\"\\u043d\\u0435 \\u0443\\u043a\\u0430\\u0437\\u0430\\u043d\\u043e\",\"\\u0443\\u0434\\u0430\\u043b\\u0435\\u043d\\u043a\\u0430\",\"\\u0443\\u0434\\u0430\\u043b\\u0435\\u043d\\u043a\\u0430\",\"\\u043d\\u0435 \\u0443\\u043a\\u0430\\u0437\\u0430\\u043d\\u043e\",\"\\u0443\\u0434\\u0430\\u043b\\u0435\\u043d\\u043a\\u0430\",\"\\u043d\\u0435 \\u0443\\u043a\\u0430\\u0437\\u0430\\u043d\\u043e\",\"\\u0443\\u0434\\u0430\\u043b\\u0435\\u043d\\u043a\\u0430\",\"\\u043d\\u0435 \\u0443\\u043a\\u0430\\u0437\\u0430\\u043d\\u043e\",\"\\u043d\\u0435 \\u0443\\u043a\\u0430\\u0437\\u0430\\u043d\\u043e\",\"\\u0443\\u0434\\u0430\\u043b\\u0435\\u043d\\u043a\\u0430\",\"\\u043e\\u0444\\u0438\\u0441\",\"\\u0443\\u0434\\u0430\\u043b\\u0435\\u043d\\u043a\\u0430\",\"\\u0443\\u0434\\u0430\\u043b\\u0435\\u043d\\u043a\\u0430\",\"\\u043d\\u0435 \\u0443\\u043a\\u0430\\u0437\\u0430\\u043d\\u043e\",\"\\u0443\\u0434\\u0430\\u043b\\u0435\\u043d\\u043a\\u0430\",\"\\u043d\\u0435 \\u0443\\u043a\\u0430\\u0437\\u0430\\u043d\\u043e\",\"\\u0443\\u0434\\u0430\\u043b\\u0435\\u043d\\u043a\\u0430\",\"\\u0443\\u0434\\u0430\\u043b\\u0435\\u043d\\u043a\\u0430\",\"\\u0443\\u0434\\u0430\\u043b\\u0435\\u043d\\u043a\\u0430\",\"\\u0443\\u0434\\u0430\\u043b\\u0435\\u043d\\u043a\\u0430\",\"\\u0443\\u0434\\u0430\\u043b\\u0435\\u043d\\u043a\\u0430\",\"\\u0443\\u0434\\u0430\\u043b\\u0435\\u043d\\u043a\\u0430\",\"\\u043d\\u0435 \\u0443\\u043a\\u0430\\u0437\\u0430\\u043d\\u043e\",\"\\u0443\\u0434\\u0430\\u043b\\u0435\\u043d\\u043a\\u0430\",\"\\u0443\\u0434\\u0430\\u043b\\u0435\\u043d\\u043a\\u0430\",\"\\u043d\\u0435 \\u0443\\u043a\\u0430\\u0437\\u0430\\u043d\\u043e\",\"\\u0443\\u0434\\u0430\\u043b\\u0435\\u043d\\u043a\\u0430\",\"\\u043e\\u0444\\u0438\\u0441\",\"\\u043d\\u0435 \\u0443\\u043a\\u0430\\u0437\\u0430\\u043d\\u043e\",\"\\u0443\\u0434\\u0430\\u043b\\u0435\\u043d\\u043a\\u0430\",\"\\u043d\\u0435 \\u0443\\u043a\\u0430\\u0437\\u0430\\u043d\\u043e\",\"\\u0443\\u0434\\u0430\\u043b\\u0435\\u043d\\u043a\\u0430\",\"\\u043d\\u0435 \\u0443\\u043a\\u0430\\u0437\\u0430\\u043d\\u043e\",\"\\u0443\\u0434\\u0430\\u043b\\u0435\\u043d\\u043a\\u0430\",\"\\u0443\\u0434\\u0430\\u043b\\u0435\\u043d\\u043a\\u0430\",\"\\u0443\\u0434\\u0430\\u043b\\u0435\\u043d\\u043a\\u0430\",\"\\u043d\\u0435 \\u0443\\u043a\\u0430\\u0437\\u0430\\u043d\\u043e\",\"\\u0443\\u0434\\u0430\\u043b\\u0435\\u043d\\u043a\\u0430\",\"\\u043e\\u0444\\u0438\\u0441\",\"\\u043d\\u0435 \\u0443\\u043a\\u0430\\u0437\\u0430\\u043d\\u043e\",\"\\u043e\\u0444\\u0438\\u0441\",\"\\u043d\\u0435 \\u0443\\u043a\\u0430\\u0437\\u0430\\u043d\\u043e\",\"\\u0443\\u0434\\u0430\\u043b\\u0435\\u043d\\u043a\\u0430\",\"\\u0443\\u0434\\u0430\\u043b\\u0435\\u043d\\u043a\\u0430\",\"\\u043e\\u0444\\u0438\\u0441\",\"\\u043d\\u0435 \\u0443\\u043a\\u0430\\u0437\\u0430\\u043d\\u043e\",\"\\u0443\\u0434\\u0430\\u043b\\u0435\\u043d\\u043a\\u0430\",\"\\u0443\\u0434\\u0430\\u043b\\u0435\\u043d\\u043a\\u0430\",\"\\u0443\\u0434\\u0430\\u043b\\u0435\\u043d\\u043a\\u0430\",\"\\u0443\\u0434\\u0430\\u043b\\u0435\\u043d\\u043a\\u0430\",\"\\u043e\\u0444\\u0438\\u0441\",\"\\u043e\\u0444\\u0438\\u0441\",\"\\u0443\\u0434\\u0430\\u043b\\u0435\\u043d\\u043a\\u0430\",\"\\u043e\\u0444\\u0438\\u0441\",\"\\u043d\\u0435 \\u0443\\u043a\\u0430\\u0437\\u0430\\u043d\\u043e\",\"\\u0443\\u0434\\u0430\\u043b\\u0435\\u043d\\u043a\\u0430\",\"\\u0443\\u0434\\u0430\\u043b\\u0435\\u043d\\u043a\\u0430\",\"\\u0443\\u0434\\u0430\\u043b\\u0435\\u043d\\u043a\\u0430\",\"\\u0443\\u0434\\u0430\\u043b\\u0435\\u043d\\u043a\\u0430\",\"\\u0443\\u0434\\u0430\\u043b\\u0435\\u043d\\u043a\\u0430\",\"\\u0443\\u0434\\u0430\\u043b\\u0435\\u043d\\u043a\\u0430\",\"\\u043e\\u0444\\u0438\\u0441\",\"\\u043e\\u0444\\u0438\\u0441\",\"\\u0443\\u0434\\u0430\\u043b\\u0435\\u043d\\u043a\\u0430\",\"\\u0443\\u0434\\u0430\\u043b\\u0435\\u043d\\u043a\\u0430\",\"\\u043d\\u0435 \\u0443\\u043a\\u0430\\u0437\\u0430\\u043d\\u043e\",\"\\u043d\\u0435 \\u0443\\u043a\\u0430\\u0437\\u0430\\u043d\\u043e\",\"\\u0443\\u0434\\u0430\\u043b\\u0435\\u043d\\u043a\\u0430\",\"\\u043d\\u0435 \\u0443\\u043a\\u0430\\u0437\\u0430\\u043d\\u043e\",\"\\u0443\\u0434\\u0430\\u043b\\u0435\\u043d\\u043a\\u0430\",\"\\u0443\\u0434\\u0430\\u043b\\u0435\\u043d\\u043a\\u0430\",\"\\u0443\\u0434\\u0430\\u043b\\u0435\\u043d\\u043a\\u0430\",\"\\u0443\\u0434\\u0430\\u043b\\u0435\\u043d\\u043a\\u0430\",\"\\u043e\\u0444\\u0438\\u0441\",\"\\u043e\\u0444\\u0438\\u0441\",\"\\u0443\\u0434\\u0430\\u043b\\u0435\\u043d\\u043a\\u0430\",\"\\u043d\\u0435 \\u0443\\u043a\\u0430\\u0437\\u0430\\u043d\\u043e\",\"\\u043d\\u0435 \\u0443\\u043a\\u0430\\u0437\\u0430\\u043d\\u043e\",\"\\u043d\\u0435 \\u0443\\u043a\\u0430\\u0437\\u0430\\u043d\\u043e\",\"\\u043d\\u0435 \\u0443\\u043a\\u0430\\u0437\\u0430\\u043d\\u043e\",\"\\u0443\\u0434\\u0430\\u043b\\u0435\\u043d\\u043a\\u0430\",\"\\u0443\\u0434\\u0430\\u043b\\u0435\\u043d\\u043a\\u0430\",\"\\u043e\\u0444\\u0438\\u0441\",\"\\u043e\\u0444\\u0438\\u0441\",\"\\u0443\\u0434\\u0430\\u043b\\u0435\\u043d\\u043a\\u0430\",\"\\u043d\\u0435 \\u0443\\u043a\\u0430\\u0437\\u0430\\u043d\\u043e\",\"\\u0443\\u0434\\u0430\\u043b\\u0435\\u043d\\u043a\\u0430\",\"\\u043d\\u0435 \\u0443\\u043a\\u0430\\u0437\\u0430\\u043d\\u043e\",\"\\u0443\\u0434\\u0430\\u043b\\u0435\\u043d\\u043a\\u0430\",\"\\u043d\\u0435 \\u0443\\u043a\\u0430\\u0437\\u0430\\u043d\\u043e\",\"\\u043d\\u0435 \\u0443\\u043a\\u0430\\u0437\\u0430\\u043d\\u043e\",\"\\u043d\\u0435 \\u0443\\u043a\\u0430\\u0437\\u0430\\u043d\\u043e\",\"\\u0443\\u0434\\u0430\\u043b\\u0435\\u043d\\u043a\\u0430\",\"\\u043e\\u0444\\u0438\\u0441\",\"\\u0443\\u0434\\u0430\\u043b\\u0435\\u043d\\u043a\\u0430\",\"\\u043d\\u0435 \\u0443\\u043a\\u0430\\u0437\\u0430\\u043d\\u043e\",\"\\u043d\\u0435 \\u0443\\u043a\\u0430\\u0437\\u0430\\u043d\\u043e\",\"\\u043d\\u0435 \\u0443\\u043a\\u0430\\u0437\\u0430\\u043d\\u043e\",\"\\u0443\\u0434\\u0430\\u043b\\u0435\\u043d\\u043a\\u0430\",\"\\u0443\\u0434\\u0430\\u043b\\u0435\\u043d\\u043a\\u0430\",\"\\u043e\\u0444\\u0438\\u0441\",\"\\u0443\\u0434\\u0430\\u043b\\u0435\\u043d\\u043a\\u0430\",\"\\u043d\\u0435 \\u0443\\u043a\\u0430\\u0437\\u0430\\u043d\\u043e\",\"\\u0443\\u0434\\u0430\\u043b\\u0435\\u043d\\u043a\\u0430\",\"\\u0443\\u0434\\u0430\\u043b\\u0435\\u043d\\u043a\\u0430\",\"\\u043d\\u0435 \\u0443\\u043a\\u0430\\u0437\\u0430\\u043d\\u043e\",\"\\u0443\\u0434\\u0430\\u043b\\u0435\\u043d\\u043a\\u0430\",\"\\u0443\\u0434\\u0430\\u043b\\u0435\\u043d\\u043a\\u0430\",\"\\u0443\\u0434\\u0430\\u043b\\u0435\\u043d\\u043a\\u0430\",\"\\u0443\\u0434\\u0430\\u043b\\u0435\\u043d\\u043a\\u0430\",\"\\u043d\\u0435 \\u0443\\u043a\\u0430\\u0437\\u0430\\u043d\\u043e\",\"\\u043d\\u0435 \\u0443\\u043a\\u0430\\u0437\\u0430\\u043d\\u043e\",\"\\u0443\\u0434\\u0430\\u043b\\u0435\\u043d\\u043a\\u0430\",\"\\u043d\\u0435 \\u0443\\u043a\\u0430\\u0437\\u0430\\u043d\\u043e\",\"\\u0443\\u0434\\u0430\\u043b\\u0435\\u043d\\u043a\\u0430\",\"\\u043e\\u0444\\u0438\\u0441\",\"\\u0443\\u0434\\u0430\\u043b\\u0435\\u043d\\u043a\\u0430\",\"\\u043d\\u0435 \\u0443\\u043a\\u0430\\u0437\\u0430\\u043d\\u043e\",\"\\u0443\\u0434\\u0430\\u043b\\u0435\\u043d\\u043a\\u0430\",\"\\u0443\\u0434\\u0430\\u043b\\u0435\\u043d\\u043a\\u0430\",\"\\u043d\\u0435 \\u0443\\u043a\\u0430\\u0437\\u0430\\u043d\\u043e\",\"\\u0443\\u0434\\u0430\\u043b\\u0435\\u043d\\u043a\\u0430\",\"\\u0443\\u0434\\u0430\\u043b\\u0435\\u043d\\u043a\\u0430\",\"\\u043d\\u0435 \\u0443\\u043a\\u0430\\u0437\\u0430\\u043d\\u043e\",\"\\u0443\\u0434\\u0430\\u043b\\u0435\\u043d\\u043a\\u0430\",\"\\u043d\\u0435 \\u0443\\u043a\\u0430\\u0437\\u0430\\u043d\\u043e\",\"\\u0443\\u0434\\u0430\\u043b\\u0435\\u043d\\u043a\\u0430\",\"\\u043e\\u0444\\u0438\\u0441\",\"\\u0443\\u0434\\u0430\\u043b\\u0435\\u043d\\u043a\\u0430\",\"\\u0443\\u0434\\u0430\\u043b\\u0435\\u043d\\u043a\\u0430\",\"\\u0443\\u0434\\u0430\\u043b\\u0435\\u043d\\u043a\\u0430\",\"\\u043d\\u0435 \\u0443\\u043a\\u0430\\u0437\\u0430\\u043d\\u043e\",\"\\u0443\\u0434\\u0430\\u043b\\u0435\\u043d\\u043a\\u0430\",\"\\u0443\\u0434\\u0430\\u043b\\u0435\\u043d\\u043a\\u0430\",\"\\u0443\\u0434\\u0430\\u043b\\u0435\\u043d\\u043a\\u0430\",\"\\u043d\\u0435 \\u0443\\u043a\\u0430\\u0437\\u0430\\u043d\\u043e\",\"\\u043d\\u0435 \\u0443\\u043a\\u0430\\u0437\\u0430\\u043d\\u043e\",\"\\u0443\\u0434\\u0430\\u043b\\u0435\\u043d\\u043a\\u0430\",\"\\u043d\\u0435 \\u0443\\u043a\\u0430\\u0437\\u0430\\u043d\\u043e\",\"\\u043d\\u0435 \\u0443\\u043a\\u0430\\u0437\\u0430\\u043d\\u043e\",\"\\u0443\\u0434\\u0430\\u043b\\u0435\\u043d\\u043a\\u0430\",\"\\u043d\\u0435 \\u0443\\u043a\\u0430\\u0437\\u0430\\u043d\\u043e\",\"\\u0443\\u0434\\u0430\\u043b\\u0435\\u043d\\u043a\\u0430\",\"\\u043d\\u0435 \\u0443\\u043a\\u0430\\u0437\\u0430\\u043d\\u043e\",\"\\u043d\\u0435 \\u0443\\u043a\\u0430\\u0437\\u0430\\u043d\\u043e\",\"\\u0443\\u0434\\u0430\\u043b\\u0435\\u043d\\u043a\\u0430\",\"\\u0443\\u0434\\u0430\\u043b\\u0435\\u043d\\u043a\\u0430\",\"\\u0443\\u0434\\u0430\\u043b\\u0435\\u043d\\u043a\\u0430\",\"\\u0443\\u0434\\u0430\\u043b\\u0435\\u043d\\u043a\\u0430\",\"\\u043e\\u0444\\u0438\\u0441\",\"\\u043d\\u0435 \\u0443\\u043a\\u0430\\u0437\\u0430\\u043d\\u043e\",\"\\u043d\\u0435 \\u0443\\u043a\\u0430\\u0437\\u0430\\u043d\\u043e\",\"\\u043d\\u0435 \\u0443\\u043a\\u0430\\u0437\\u0430\\u043d\\u043e\",\"\\u043e\\u0444\\u0438\\u0441\",\"\\u0443\\u0434\\u0430\\u043b\\u0435\\u043d\\u043a\\u0430\",\"\\u043d\\u0435 \\u0443\\u043a\\u0430\\u0437\\u0430\\u043d\\u043e\",\"\\u043e\\u0444\\u0438\\u0441\",\"\\u0443\\u0434\\u0430\\u043b\\u0435\\u043d\\u043a\\u0430\",\"\\u0443\\u0434\\u0430\\u043b\\u0435\\u043d\\u043a\\u0430\",\"\\u043d\\u0435 \\u0443\\u043a\\u0430\\u0437\\u0430\\u043d\\u043e\",\"\\u0443\\u0434\\u0430\\u043b\\u0435\\u043d\\u043a\\u0430\",\"\\u0443\\u0434\\u0430\\u043b\\u0435\\u043d\\u043a\\u0430\",\"\\u043d\\u0435 \\u0443\\u043a\\u0430\\u0437\\u0430\\u043d\\u043e\",\"\\u043d\\u0435 \\u0443\\u043a\\u0430\\u0437\\u0430\\u043d\\u043e\",\"\\u0443\\u0434\\u0430\\u043b\\u0435\\u043d\\u043a\\u0430\",\"\\u043d\\u0435 \\u0443\\u043a\\u0430\\u0437\\u0430\\u043d\\u043e\",\"\\u0443\\u0434\\u0430\\u043b\\u0435\\u043d\\u043a\\u0430\",\"\\u0443\\u0434\\u0430\\u043b\\u0435\\u043d\\u043a\\u0430\",\"\\u0443\\u0434\\u0430\\u043b\\u0435\\u043d\\u043a\\u0430\",\"\\u043d\\u0435 \\u0443\\u043a\\u0430\\u0437\\u0430\\u043d\\u043e\",\"\\u043d\\u0435 \\u0443\\u043a\\u0430\\u0437\\u0430\\u043d\\u043e\",\"\\u043d\\u0435 \\u0443\\u043a\\u0430\\u0437\\u0430\\u043d\\u043e\",\"\\u043d\\u0435 \\u0443\\u043a\\u0430\\u0437\\u0430\\u043d\\u043e\",\"\\u0443\\u0434\\u0430\\u043b\\u0435\\u043d\\u043a\\u0430\",\"\\u043d\\u0435 \\u0443\\u043a\\u0430\\u0437\\u0430\\u043d\\u043e\",\"\\u0443\\u0434\\u0430\\u043b\\u0435\\u043d\\u043a\\u0430\",\"\\u043d\\u0435 \\u0443\\u043a\\u0430\\u0437\\u0430\\u043d\\u043e\",\"\\u0443\\u0434\\u0430\\u043b\\u0435\\u043d\\u043a\\u0430\",\"\\u0443\\u0434\\u0430\\u043b\\u0435\\u043d\\u043a\\u0430\",\"\\u0443\\u0434\\u0430\\u043b\\u0435\\u043d\\u043a\\u0430\",\"\\u043d\\u0435 \\u0443\\u043a\\u0430\\u0437\\u0430\\u043d\\u043e\",\"\\u0443\\u0434\\u0430\\u043b\\u0435\\u043d\\u043a\\u0430\",\"\\u0443\\u0434\\u0430\\u043b\\u0435\\u043d\\u043a\\u0430\",\"\\u0443\\u0434\\u0430\\u043b\\u0435\\u043d\\u043a\\u0430\",\"\\u043d\\u0435 \\u0443\\u043a\\u0430\\u0437\\u0430\\u043d\\u043e\",\"\\u0443\\u0434\\u0430\\u043b\\u0435\\u043d\\u043a\\u0430\",\"\\u043d\\u0435 \\u0443\\u043a\\u0430\\u0437\\u0430\\u043d\\u043e\",\"\\u0443\\u0434\\u0430\\u043b\\u0435\\u043d\\u043a\\u0430\",\"\\u0443\\u0434\\u0430\\u043b\\u0435\\u043d\\u043a\\u0430\",\"\\u043d\\u0435 \\u0443\\u043a\\u0430\\u0437\\u0430\\u043d\\u043e\",\"\\u0443\\u0434\\u0430\\u043b\\u0435\\u043d\\u043a\\u0430\",\"\\u043e\\u0444\\u0438\\u0441\",\"\\u0443\\u0434\\u0430\\u043b\\u0435\\u043d\\u043a\\u0430\",\"\\u043d\\u0435 \\u0443\\u043a\\u0430\\u0437\\u0430\\u043d\\u043e\",\"\\u0443\\u0434\\u0430\\u043b\\u0435\\u043d\\u043a\\u0430\",\"\\u043d\\u0435 \\u0443\\u043a\\u0430\\u0437\\u0430\\u043d\\u043e\",\"\\u0443\\u0434\\u0430\\u043b\\u0435\\u043d\\u043a\\u0430\",\"\\u0443\\u0434\\u0430\\u043b\\u0435\\u043d\\u043a\\u0430\",\"\\u043d\\u0435 \\u0443\\u043a\\u0430\\u0437\\u0430\\u043d\\u043e\",\"\\u043d\\u0435 \\u0443\\u043a\\u0430\\u0437\\u0430\\u043d\\u043e\",\"\\u043d\\u0435 \\u0443\\u043a\\u0430\\u0437\\u0430\\u043d\\u043e\",\"\\u0443\\u0434\\u0430\\u043b\\u0435\\u043d\\u043a\\u0430\",\"\\u043d\\u0435 \\u0443\\u043a\\u0430\\u0437\\u0430\\u043d\\u043e\",\"\\u0443\\u0434\\u0430\\u043b\\u0435\\u043d\\u043a\\u0430\",\"\\u043e\\u0444\\u0438\\u0441\",\"\\u0443\\u0434\\u0430\\u043b\\u0435\\u043d\\u043a\\u0430\",\"\\u0443\\u0434\\u0430\\u043b\\u0435\\u043d\\u043a\\u0430\",\"\\u0443\\u0434\\u0430\\u043b\\u0435\\u043d\\u043a\\u0430\",\"\\u0443\\u0434\\u0430\\u043b\\u0435\\u043d\\u043a\\u0430\",\"\\u043d\\u0435 \\u0443\\u043a\\u0430\\u0437\\u0430\\u043d\\u043e\",\"\\u0443\\u0434\\u0430\\u043b\\u0435\\u043d\\u043a\\u0430\",\"\\u0443\\u0434\\u0430\\u043b\\u0435\\u043d\\u043a\\u0430\",\"\\u0443\\u0434\\u0430\\u043b\\u0435\\u043d\\u043a\\u0430\",\"\\u043d\\u0435 \\u0443\\u043a\\u0430\\u0437\\u0430\\u043d\\u043e\",\"\\u0443\\u0434\\u0430\\u043b\\u0435\\u043d\\u043a\\u0430\",\"\\u043d\\u0435 \\u0443\\u043a\\u0430\\u0437\\u0430\\u043d\\u043e\",\"\\u043d\\u0435 \\u0443\\u043a\\u0430\\u0437\\u0430\\u043d\\u043e\",\"\\u0443\\u0434\\u0430\\u043b\\u0435\\u043d\\u043a\\u0430\",\"\\u043e\\u0444\\u0438\\u0441\",\"\\u0443\\u0434\\u0430\\u043b\\u0435\\u043d\\u043a\\u0430\",\"\\u043d\\u0435 \\u0443\\u043a\\u0430\\u0437\\u0430\\u043d\\u043e\",\"\\u0443\\u0434\\u0430\\u043b\\u0435\\u043d\\u043a\\u0430\",\"\\u043d\\u0435 \\u0443\\u043a\\u0430\\u0437\\u0430\\u043d\\u043e\",\"\\u043e\\u0444\\u0438\\u0441\",\"\\u0443\\u0434\\u0430\\u043b\\u0435\\u043d\\u043a\\u0430\",\"\\u0443\\u0434\\u0430\\u043b\\u0435\\u043d\\u043a\\u0430\",\"\\u0443\\u0434\\u0430\\u043b\\u0435\\u043d\\u043a\\u0430\",\"\\u0443\\u0434\\u0430\\u043b\\u0435\\u043d\\u043a\\u0430\",\"\\u043e\\u0444\\u0438\\u0441\",\"\\u043e\\u0444\\u0438\\u0441\",\"\\u0443\\u0434\\u0430\\u043b\\u0435\\u043d\\u043a\\u0430\",\"\\u0443\\u0434\\u0430\\u043b\\u0435\\u043d\\u043a\\u0430\",\"\\u043e\\u0444\\u0438\\u0441\",\"\\u0443\\u0434\\u0430\\u043b\\u0435\\u043d\\u043a\\u0430\",\"\\u0443\\u0434\\u0430\\u043b\\u0435\\u043d\\u043a\\u0430\",\"\\u043d\\u0435 \\u0443\\u043a\\u0430\\u0437\\u0430\\u043d\\u043e\",\"\\u043e\\u0444\\u0438\\u0441\",\"\\u043d\\u0435 \\u0443\\u043a\\u0430\\u0437\\u0430\\u043d\\u043e\",\"\\u043d\\u0435 \\u0443\\u043a\\u0430\\u0437\\u0430\\u043d\\u043e\",\"\\u043d\\u0435 \\u0443\\u043a\\u0430\\u0437\\u0430\\u043d\\u043e\",\"\\u043e\\u0444\\u0438\\u0441\",\"\\u0443\\u0434\\u0430\\u043b\\u0435\\u043d\\u043a\\u0430\",\"\\u0443\\u0434\\u0430\\u043b\\u0435\\u043d\\u043a\\u0430\",\"\\u043e\\u0444\\u0438\\u0441\",\"\\u0443\\u0434\\u0430\\u043b\\u0435\\u043d\\u043a\\u0430\",\"\\u043d\\u0435 \\u0443\\u043a\\u0430\\u0437\\u0430\\u043d\\u043e\",\"\\u043d\\u0435 \\u0443\\u043a\\u0430\\u0437\\u0430\\u043d\\u043e\",\"\\u0443\\u0434\\u0430\\u043b\\u0435\\u043d\\u043a\\u0430\",\"\\u043d\\u0435 \\u0443\\u043a\\u0430\\u0437\\u0430\\u043d\\u043e\",\"\\u0443\\u0434\\u0430\\u043b\\u0435\\u043d\\u043a\\u0430\",\"\\u043e\\u0444\\u0438\\u0441\",\"\\u043d\\u0435 \\u0443\\u043a\\u0430\\u0437\\u0430\\u043d\\u043e\",\"\\u043d\\u0435 \\u0443\\u043a\\u0430\\u0437\\u0430\\u043d\\u043e\",\"\\u0443\\u0434\\u0430\\u043b\\u0435\\u043d\\u043a\\u0430\",\"\\u043e\\u0444\\u0438\\u0441\",\"\\u043d\\u0435 \\u0443\\u043a\\u0430\\u0437\\u0430\\u043d\\u043e\",\"\\u043d\\u0435 \\u0443\\u043a\\u0430\\u0437\\u0430\\u043d\\u043e\",\"\\u0443\\u0434\\u0430\\u043b\\u0435\\u043d\\u043a\\u0430\",\"\\u043e\\u0444\\u0438\\u0441\",\"\\u043d\\u0435 \\u0443\\u043a\\u0430\\u0437\\u0430\\u043d\\u043e\",\"\\u043d\\u0435 \\u0443\\u043a\\u0430\\u0437\\u0430\\u043d\\u043e\",\"\\u0443\\u0434\\u0430\\u043b\\u0435\\u043d\\u043a\\u0430\",\"\\u043e\\u0444\\u0438\\u0441\",\"\\u0443\\u0434\\u0430\\u043b\\u0435\\u043d\\u043a\\u0430\",\"\\u0443\\u0434\\u0430\\u043b\\u0435\\u043d\\u043a\\u0430\",\"\\u043d\\u0435 \\u0443\\u043a\\u0430\\u0437\\u0430\\u043d\\u043e\",\"\\u043e\\u0444\\u0438\\u0441\",\"\\u043d\\u0435 \\u0443\\u043a\\u0430\\u0437\\u0430\\u043d\\u043e\",\"\\u0443\\u0434\\u0430\\u043b\\u0435\\u043d\\u043a\\u0430\",\"\\u043d\\u0435 \\u0443\\u043a\\u0430\\u0437\\u0430\\u043d\\u043e\"],\"y0\":\" \",\"yaxis\":\"y\",\"type\":\"box\"}],                        {\"template\":{\"data\":{\"histogram2dcontour\":[{\"type\":\"histogram2dcontour\",\"colorbar\":{\"outlinewidth\":0,\"ticks\":\"\"},\"colorscale\":[[0.0,\"#0d0887\"],[0.1111111111111111,\"#46039f\"],[0.2222222222222222,\"#7201a8\"],[0.3333333333333333,\"#9c179e\"],[0.4444444444444444,\"#bd3786\"],[0.5555555555555556,\"#d8576b\"],[0.6666666666666666,\"#ed7953\"],[0.7777777777777778,\"#fb9f3a\"],[0.8888888888888888,\"#fdca26\"],[1.0,\"#f0f921\"]]}],\"choropleth\":[{\"type\":\"choropleth\",\"colorbar\":{\"outlinewidth\":0,\"ticks\":\"\"}}],\"histogram2d\":[{\"type\":\"histogram2d\",\"colorbar\":{\"outlinewidth\":0,\"ticks\":\"\"},\"colorscale\":[[0.0,\"#0d0887\"],[0.1111111111111111,\"#46039f\"],[0.2222222222222222,\"#7201a8\"],[0.3333333333333333,\"#9c179e\"],[0.4444444444444444,\"#bd3786\"],[0.5555555555555556,\"#d8576b\"],[0.6666666666666666,\"#ed7953\"],[0.7777777777777778,\"#fb9f3a\"],[0.8888888888888888,\"#fdca26\"],[1.0,\"#f0f921\"]]}],\"heatmap\":[{\"type\":\"heatmap\",\"colorbar\":{\"outlinewidth\":0,\"ticks\":\"\"},\"colorscale\":[[0.0,\"#0d0887\"],[0.1111111111111111,\"#46039f\"],[0.2222222222222222,\"#7201a8\"],[0.3333333333333333,\"#9c179e\"],[0.4444444444444444,\"#bd3786\"],[0.5555555555555556,\"#d8576b\"],[0.6666666666666666,\"#ed7953\"],[0.7777777777777778,\"#fb9f3a\"],[0.8888888888888888,\"#fdca26\"],[1.0,\"#f0f921\"]]}],\"heatmapgl\":[{\"type\":\"heatmapgl\",\"colorbar\":{\"outlinewidth\":0,\"ticks\":\"\"},\"colorscale\":[[0.0,\"#0d0887\"],[0.1111111111111111,\"#46039f\"],[0.2222222222222222,\"#7201a8\"],[0.3333333333333333,\"#9c179e\"],[0.4444444444444444,\"#bd3786\"],[0.5555555555555556,\"#d8576b\"],[0.6666666666666666,\"#ed7953\"],[0.7777777777777778,\"#fb9f3a\"],[0.8888888888888888,\"#fdca26\"],[1.0,\"#f0f921\"]]}],\"contourcarpet\":[{\"type\":\"contourcarpet\",\"colorbar\":{\"outlinewidth\":0,\"ticks\":\"\"}}],\"contour\":[{\"type\":\"contour\",\"colorbar\":{\"outlinewidth\":0,\"ticks\":\"\"},\"colorscale\":[[0.0,\"#0d0887\"],[0.1111111111111111,\"#46039f\"],[0.2222222222222222,\"#7201a8\"],[0.3333333333333333,\"#9c179e\"],[0.4444444444444444,\"#bd3786\"],[0.5555555555555556,\"#d8576b\"],[0.6666666666666666,\"#ed7953\"],[0.7777777777777778,\"#fb9f3a\"],[0.8888888888888888,\"#fdca26\"],[1.0,\"#f0f921\"]]}],\"surface\":[{\"type\":\"surface\",\"colorbar\":{\"outlinewidth\":0,\"ticks\":\"\"},\"colorscale\":[[0.0,\"#0d0887\"],[0.1111111111111111,\"#46039f\"],[0.2222222222222222,\"#7201a8\"],[0.3333333333333333,\"#9c179e\"],[0.4444444444444444,\"#bd3786\"],[0.5555555555555556,\"#d8576b\"],[0.6666666666666666,\"#ed7953\"],[0.7777777777777778,\"#fb9f3a\"],[0.8888888888888888,\"#fdca26\"],[1.0,\"#f0f921\"]]}],\"mesh3d\":[{\"type\":\"mesh3d\",\"colorbar\":{\"outlinewidth\":0,\"ticks\":\"\"}}],\"scatter\":[{\"fillpattern\":{\"fillmode\":\"overlay\",\"size\":10,\"solidity\":0.2},\"type\":\"scatter\"}],\"parcoords\":[{\"type\":\"parcoords\",\"line\":{\"colorbar\":{\"outlinewidth\":0,\"ticks\":\"\"}}}],\"scatterpolargl\":[{\"type\":\"scatterpolargl\",\"marker\":{\"colorbar\":{\"outlinewidth\":0,\"ticks\":\"\"}}}],\"bar\":[{\"error_x\":{\"color\":\"#2a3f5f\"},\"error_y\":{\"color\":\"#2a3f5f\"},\"marker\":{\"line\":{\"color\":\"#E5ECF6\",\"width\":0.5},\"pattern\":{\"fillmode\":\"overlay\",\"size\":10,\"solidity\":0.2}},\"type\":\"bar\"}],\"scattergeo\":[{\"type\":\"scattergeo\",\"marker\":{\"colorbar\":{\"outlinewidth\":0,\"ticks\":\"\"}}}],\"scatterpolar\":[{\"type\":\"scatterpolar\",\"marker\":{\"colorbar\":{\"outlinewidth\":0,\"ticks\":\"\"}}}],\"histogram\":[{\"marker\":{\"pattern\":{\"fillmode\":\"overlay\",\"size\":10,\"solidity\":0.2}},\"type\":\"histogram\"}],\"scattergl\":[{\"type\":\"scattergl\",\"marker\":{\"colorbar\":{\"outlinewidth\":0,\"ticks\":\"\"}}}],\"scatter3d\":[{\"type\":\"scatter3d\",\"line\":{\"colorbar\":{\"outlinewidth\":0,\"ticks\":\"\"}},\"marker\":{\"colorbar\":{\"outlinewidth\":0,\"ticks\":\"\"}}}],\"scattermapbox\":[{\"type\":\"scattermapbox\",\"marker\":{\"colorbar\":{\"outlinewidth\":0,\"ticks\":\"\"}}}],\"scatterternary\":[{\"type\":\"scatterternary\",\"marker\":{\"colorbar\":{\"outlinewidth\":0,\"ticks\":\"\"}}}],\"scattercarpet\":[{\"type\":\"scattercarpet\",\"marker\":{\"colorbar\":{\"outlinewidth\":0,\"ticks\":\"\"}}}],\"carpet\":[{\"aaxis\":{\"endlinecolor\":\"#2a3f5f\",\"gridcolor\":\"white\",\"linecolor\":\"white\",\"minorgridcolor\":\"white\",\"startlinecolor\":\"#2a3f5f\"},\"baxis\":{\"endlinecolor\":\"#2a3f5f\",\"gridcolor\":\"white\",\"linecolor\":\"white\",\"minorgridcolor\":\"white\",\"startlinecolor\":\"#2a3f5f\"},\"type\":\"carpet\"}],\"table\":[{\"cells\":{\"fill\":{\"color\":\"#EBF0F8\"},\"line\":{\"color\":\"white\"}},\"header\":{\"fill\":{\"color\":\"#C8D4E3\"},\"line\":{\"color\":\"white\"}},\"type\":\"table\"}],\"barpolar\":[{\"marker\":{\"line\":{\"color\":\"#E5ECF6\",\"width\":0.5},\"pattern\":{\"fillmode\":\"overlay\",\"size\":10,\"solidity\":0.2}},\"type\":\"barpolar\"}],\"pie\":[{\"automargin\":true,\"type\":\"pie\"}]},\"layout\":{\"autotypenumbers\":\"strict\",\"colorway\":[\"#636efa\",\"#EF553B\",\"#00cc96\",\"#ab63fa\",\"#FFA15A\",\"#19d3f3\",\"#FF6692\",\"#B6E880\",\"#FF97FF\",\"#FECB52\"],\"font\":{\"color\":\"#2a3f5f\"},\"hovermode\":\"closest\",\"hoverlabel\":{\"align\":\"left\"},\"paper_bgcolor\":\"white\",\"plot_bgcolor\":\"#E5ECF6\",\"polar\":{\"bgcolor\":\"#E5ECF6\",\"angularaxis\":{\"gridcolor\":\"white\",\"linecolor\":\"white\",\"ticks\":\"\"},\"radialaxis\":{\"gridcolor\":\"white\",\"linecolor\":\"white\",\"ticks\":\"\"}},\"ternary\":{\"bgcolor\":\"#E5ECF6\",\"aaxis\":{\"gridcolor\":\"white\",\"linecolor\":\"white\",\"ticks\":\"\"},\"baxis\":{\"gridcolor\":\"white\",\"linecolor\":\"white\",\"ticks\":\"\"},\"caxis\":{\"gridcolor\":\"white\",\"linecolor\":\"white\",\"ticks\":\"\"}},\"coloraxis\":{\"colorbar\":{\"outlinewidth\":0,\"ticks\":\"\"}},\"colorscale\":{\"sequential\":[[0.0,\"#0d0887\"],[0.1111111111111111,\"#46039f\"],[0.2222222222222222,\"#7201a8\"],[0.3333333333333333,\"#9c179e\"],[0.4444444444444444,\"#bd3786\"],[0.5555555555555556,\"#d8576b\"],[0.6666666666666666,\"#ed7953\"],[0.7777777777777778,\"#fb9f3a\"],[0.8888888888888888,\"#fdca26\"],[1.0,\"#f0f921\"]],\"sequentialminus\":[[0.0,\"#0d0887\"],[0.1111111111111111,\"#46039f\"],[0.2222222222222222,\"#7201a8\"],[0.3333333333333333,\"#9c179e\"],[0.4444444444444444,\"#bd3786\"],[0.5555555555555556,\"#d8576b\"],[0.6666666666666666,\"#ed7953\"],[0.7777777777777778,\"#fb9f3a\"],[0.8888888888888888,\"#fdca26\"],[1.0,\"#f0f921\"]],\"diverging\":[[0,\"#8e0152\"],[0.1,\"#c51b7d\"],[0.2,\"#de77ae\"],[0.3,\"#f1b6da\"],[0.4,\"#fde0ef\"],[0.5,\"#f7f7f7\"],[0.6,\"#e6f5d0\"],[0.7,\"#b8e186\"],[0.8,\"#7fbc41\"],[0.9,\"#4d9221\"],[1,\"#276419\"]]},\"xaxis\":{\"gridcolor\":\"white\",\"linecolor\":\"white\",\"ticks\":\"\",\"title\":{\"standoff\":15},\"zerolinecolor\":\"white\",\"automargin\":true,\"zerolinewidth\":2},\"yaxis\":{\"gridcolor\":\"white\",\"linecolor\":\"white\",\"ticks\":\"\",\"title\":{\"standoff\":15},\"zerolinecolor\":\"white\",\"automargin\":true,\"zerolinewidth\":2},\"scene\":{\"xaxis\":{\"backgroundcolor\":\"#E5ECF6\",\"gridcolor\":\"white\",\"linecolor\":\"white\",\"showbackground\":true,\"ticks\":\"\",\"zerolinecolor\":\"white\",\"gridwidth\":2},\"yaxis\":{\"backgroundcolor\":\"#E5ECF6\",\"gridcolor\":\"white\",\"linecolor\":\"white\",\"showbackground\":true,\"ticks\":\"\",\"zerolinecolor\":\"white\",\"gridwidth\":2},\"zaxis\":{\"backgroundcolor\":\"#E5ECF6\",\"gridcolor\":\"white\",\"linecolor\":\"white\",\"showbackground\":true,\"ticks\":\"\",\"zerolinecolor\":\"white\",\"gridwidth\":2}},\"shapedefaults\":{\"line\":{\"color\":\"#2a3f5f\"}},\"annotationdefaults\":{\"arrowcolor\":\"#2a3f5f\",\"arrowhead\":0,\"arrowwidth\":1},\"geo\":{\"bgcolor\":\"white\",\"landcolor\":\"#E5ECF6\",\"subunitcolor\":\"white\",\"showland\":true,\"showlakes\":true,\"lakecolor\":\"white\"},\"title\":{\"x\":0.05},\"mapbox\":{\"style\":\"light\"}}},\"xaxis\":{\"anchor\":\"y\",\"domain\":[0.0,1.0],\"title\":{\"text\":\"salary\"}},\"yaxis\":{\"anchor\":\"x\",\"domain\":[0.0,1.0],\"title\":{\"text\":\"format2\"}},\"legend\":{\"tracegroupgap\":0},\"margin\":{\"t\":60},\"boxmode\":\"group\"},                        {\"responsive\": true}                    ).then(function(){\n",
       "                            \n",
       "var gd = document.getElementById('e80d5274-5195-4049-b051-8539313ce810');\n",
       "var x = new MutationObserver(function (mutations, observer) {{\n",
       "        var display = window.getComputedStyle(gd).display;\n",
       "        if (!display || display === 'none') {{\n",
       "            console.log([gd, 'removed!']);\n",
       "            Plotly.purge(gd);\n",
       "            observer.disconnect();\n",
       "        }}\n",
       "}});\n",
       "\n",
       "// Listen for the removal of the full notebook cells\n",
       "var notebookContainer = gd.closest('#notebook-container');\n",
       "if (notebookContainer) {{\n",
       "    x.observe(notebookContainer, {childList: true});\n",
       "}}\n",
       "\n",
       "// Listen for the clearing of the current output cell\n",
       "var outputEl = gd.closest('.output');\n",
       "if (outputEl) {{\n",
       "    x.observe(outputEl, {childList: true});\n",
       "}}\n",
       "\n",
       "                        })                };                });            </script>        </div>"
      ]
     },
     "metadata": {},
     "output_type": "display_data"
    }
   ],
   "source": [
    "px.box(df[df['salary'] != 0], x = 'salary', y = 'format2', orientation = 'h', color_discrete_sequence = ['steelblue'])"
   ]
  },
  {
   "cell_type": "markdown",
   "id": "3faa5f41",
   "metadata": {},
   "source": [
    "вывод: работа в офисе и на удаленке оплачивается примерно одинаков, но медиана в офисе на 30 тысяч выше."
   ]
  },
  {
   "cell_type": "code",
   "execution_count": 34,
   "id": "89b71a25",
   "metadata": {},
   "outputs": [],
   "source": [
    "# Средняя зарплата в разбивке \"удаленка\\не удаленка\"\n",
    "# Средняя зарплата в разбивке levels (поле надо преобразовывать!)\n",
    "# Средняя зарплата в разбивке company"
   ]
  },
  {
   "cell_type": "markdown",
   "id": "e442eafe",
   "metadata": {},
   "source": [
    "### 3) Средняя зарплата в разбивке по опыту работы"
   ]
  },
  {
   "cell_type": "code",
   "execution_count": 35,
   "id": "068d4759",
   "metadata": {},
   "outputs": [
    {
     "data": {
      "text/plain": [
       "От 1 года до 3 лет                                   1971\n",
       "От 3 до 6 лет                                        1472\n",
       "Средний (Middle)                                      446\n",
       "Старший (Senior)                                      353\n",
       "[]                                                    269\n",
       "Нет опыта                                             242\n",
       "Более 6 лет                                           141\n",
       "Not indicated                                         110\n",
       "Ведущий (Lead)                                         71\n",
       "['Senior']                                             55\n",
       "['Middle', 'Senior']                                   43\n",
       "['Middle']                                             31\n",
       "Младший (Junior)                                       22\n",
       "['Lead']                                               14\n",
       "['Junior']                                             14\n",
       "['Руководитель']                                       13\n",
       "['Senior', 'Middle']                                   12\n",
       "От 1 года                                              10\n",
       "['Senior', 'Lead']                                     10\n",
       "['Junior', 'Middle']                                    6\n",
       "['Junior', 'Middle', 'Senior']                          6\n",
       "['Head']                                                5\n",
       "Стажёр (Intern)                                         4\n",
       "['Middle', 'Senior', 'Lead']                            3\n",
       "['Manager']                                             3\n",
       "От 3 лет                                                3\n",
       "['Lead', 'Senior']                                      3\n",
       "Без опыта                                               2\n",
       "['Middle', 'Manager', 'Head']                           1\n",
       "['Менеджер']                                            1\n",
       "['Senior', 'Руководитель', 'Director', 'Head']          1\n",
       "['Middle', 'Senior', 'Manager']                         1\n",
       "['Manager', 'Junior']                                   1\n",
       "['Senior', 'Junior']                                    1\n",
       "['Head', 'Senior']                                      1\n",
       "['President']                                           1\n",
       "['Senior', 'Middle', 'Manager', 'Junior', 'Lead']       1\n",
       "['Middle', 'Senior', 'Junior']                          1\n",
       "['Manager', 'Руководитель']                             1\n",
       "['Lead', 'Head']                                        1\n",
       "['Senior', 'Manager']                                   1\n",
       "['Senior', 'Middle', 'Junior']                          1\n",
       "['Senior', 'Head']                                      1\n",
       "['Senior', 'Lead', 'Руководитель']                      1\n",
       "['Junior', 'Middle', 'Руководитель']                    1\n",
       "['Junior', 'Lead', 'Middle']                            1\n",
       "['Стажёр']                                              1\n",
       "Name: levels, dtype: int64"
      ]
     },
     "metadata": {},
     "output_type": "display_data"
    },
    {
     "data": {
      "text/plain": [
       "От 1 года до 3 лет                       1971\n",
       "От 3 до 6 лет                            1472\n",
       "Средний (Middle)                          446\n",
       "Старший (Senior)                          353\n",
       "                                          269\n",
       "Нет опыта                                 242\n",
       "Более 6 лет                               141\n",
       "Not indicated                             110\n",
       "Ведущий (Lead)                             71\n",
       "Senior                                     55\n",
       "Middle, Senior                             43\n",
       "Middle                                     31\n",
       "Младший (Junior)                           22\n",
       "Lead                                       14\n",
       "Junior                                     14\n",
       "Руководитель                               13\n",
       "Senior, Middle                             12\n",
       "От 1 года                                  10\n",
       "Senior, Lead                               10\n",
       "Junior, Middle, Senior                      6\n",
       "Junior, Middle                              6\n",
       "Head                                        5\n",
       "Стажёр (Intern)                             4\n",
       "Lead, Senior                                3\n",
       "Manager                                     3\n",
       "Middle, Senior, Lead                        3\n",
       "От 3 лет                                    3\n",
       "Без опыта                                   2\n",
       "Senior, Lead, Руководитель                  1\n",
       "President                                   1\n",
       "Senior, Руководитель, Director, Head        1\n",
       "Senior, Manager                             1\n",
       "Middle, Manager, Head                       1\n",
       "Стажёр                                      1\n",
       "Менеджер                                    1\n",
       "Senior, Junior                              1\n",
       "Senior, Middle, Junior                      1\n",
       "Lead, Head                                  1\n",
       "Senior, Middle, Manager, Junior, Lead       1\n",
       "Manager, Руководитель                       1\n",
       "Junior, Middle, Руководитель                1\n",
       "Head, Senior                                1\n",
       "Junior, Lead, Middle                        1\n",
       "Middle, Senior, Junior                      1\n",
       "Middle, Senior, Manager                     1\n",
       "Manager, Junior                             1\n",
       "Senior, Head                                1\n",
       "Name: levels2, dtype: int64"
      ]
     },
     "metadata": {},
     "output_type": "display_data"
    },
    {
     "data": {
      "text/plain": [
       "От 1 года до 3 лет    2417\n",
       "От 3 до 6 лет         1880\n",
       "не определено          379\n",
       "От 0 до 1 года         248\n",
       "От 6 лет               226\n",
       "другое                 203\n",
       "Name: levels2, dtype: int64"
      ]
     },
     "metadata": {},
     "output_type": "display_data"
    }
   ],
   "source": [
    "display(df['levels'].value_counts())\n",
    "\n",
    "df['levels2'] = df['levels'].apply(lambda x: x.replace('[','').replace(']','').replace('\\'',''))\n",
    "display(df['levels2'].value_counts())\n",
    "\n",
    "def levels_clr(x):\n",
    "    if x == 'От 1 года до 3 лет': return 'От 1 года до 3 лет'\n",
    "    if x == 'От 3 до 6 лет': return 'От 3 до 6 лет'\n",
    "    if x == 'Средний (Middle)': return 'От 1 года до 3 лет'\n",
    "    if x == 'Старший (Senior)': return 'От 3 до 6 лет'\n",
    "    if x in ('Нет опыта','Стажёр (Intern)','Без опыта'): return 'От 0 до 1 года'\n",
    "    if x == 'Более 6 лет': return 'От 6 лет'\n",
    "    if x in ('Ведущий (Lead)','Lead'): return 'От 6 лет'\n",
    "    if x == 'Senior': return 'От 3 до 6 лет'\n",
    "    if x == 'Младший \\(Junior\\)': return 'От 1 года до 3 лет'\n",
    "    if x in ('','Not indicated'): return 'не определено'\n",
    "    else: return 'другое'\n",
    "    \n",
    "df['levels2'] = df['levels2'].apply(levels_clr)\n",
    "\n",
    "display(df['levels2'].value_counts())\n",
    "    "
   ]
  },
  {
   "cell_type": "code",
   "execution_count": 55,
   "id": "cf6dda08",
   "metadata": {},
   "outputs": [
    {
     "data": {
      "application/vnd.plotly.v1+json": {
       "config": {
        "plotlyServerURL": "https://plot.ly"
       },
       "data": [
        {
         "alignmentgroup": "True",
         "hovertemplate": "salary=%{x}<br>levels2=%{y}<extra></extra>",
         "legendgroup": "",
         "marker": {
          "color": "steelblue"
         },
         "name": "",
         "notched": false,
         "offsetgroup": "",
         "orientation": "h",
         "showlegend": false,
         "type": "box",
         "x": [
          55000,
          30000,
          120000,
          180000,
          200000,
          200000,
          150000,
          300000,
          200000,
          350000,
          245000,
          350000,
          200000,
          250000,
          76900,
          300000,
          120000,
          280000,
          350000,
          250000,
          350000,
          350000,
          400000,
          300000,
          150000,
          595000,
          175000,
          250000,
          270000,
          160000,
          250000,
          210000,
          300000,
          199000,
          420000,
          200000,
          350000,
          200000,
          400000,
          300000,
          300000,
          350000,
          700000,
          823200,
          700000,
          315000,
          250000,
          200000,
          440000,
          210000,
          280000,
          350000,
          200000,
          200000,
          385000,
          280000,
          250000,
          150000,
          160000,
          150000,
          150000,
          400000,
          200000,
          105000,
          250000,
          420000,
          250000,
          40000,
          420000,
          250000,
          400000,
          420000,
          280000,
          350000,
          420000,
          420000,
          70000,
          350000,
          250000,
          150000,
          250000,
          380000,
          420000,
          61800,
          250000,
          130000,
          105000,
          170000,
          350000,
          500000,
          200000,
          180000,
          400000,
          100000,
          160000,
          280000,
          150000,
          30000,
          300000,
          200000,
          210000,
          250000,
          220000,
          200000,
          250000,
          550000,
          280000,
          350000,
          250000,
          350000,
          130000,
          80000,
          200000,
          160000,
          220000,
          170000,
          160000,
          120000,
          218000,
          110000,
          150000,
          300000,
          200000,
          145200,
          170000,
          300000,
          180000,
          130000,
          250000,
          350000,
          300000,
          250000,
          200000,
          200000,
          80000,
          250000,
          250000,
          170000,
          150000,
          380000,
          300000,
          120000,
          200000,
          380000,
          190000,
          250000,
          300000,
          130000,
          350000,
          90000,
          280000,
          190000,
          350000,
          420000,
          300000,
          230000,
          200000,
          350000,
          100000,
          260000,
          437500,
          200000,
          220000,
          200000,
          300000,
          250000,
          25000,
          80000,
          200000,
          150000,
          200000,
          250000,
          70000,
          80000,
          150000,
          280000,
          200000,
          200000,
          250000,
          320000,
          220000,
          400000,
          350000,
          250000,
          350000,
          250000,
          200000,
          150000,
          560000,
          250000,
          100000,
          35000,
          100000,
          130000,
          180000,
          200000,
          150000,
          140000,
          170000,
          150000,
          150000,
          250000,
          200000,
          180000,
          250000,
          200000,
          450000,
          250000,
          190000,
          90000,
          280000,
          350000,
          150000,
          200000,
          230000,
          150000,
          150000,
          240000,
          350000,
          420000,
          250000,
          350000,
          250000,
          230000,
          150000,
          300000,
          160000,
          170500,
          220000,
          160000,
          400000,
          300000,
          350000,
          392000,
          175000,
          250000,
          150000,
          250000,
          300000,
          392000,
          200000,
          250000,
          90000,
          280000,
          230000,
          130000,
          250000,
          220000,
          100000,
          70000,
          21000,
          300000,
          420000,
          300000,
          130000,
          400000,
          350000,
          238000,
          360000,
          480000,
          100000,
          200000,
          4000,
          120000,
          300000,
          420000,
          150000,
          350000,
          300000,
          300000,
          700000,
          450000,
          250000,
          217000,
          250000,
          105000,
          450000,
          385000,
          150000,
          350000,
          250000,
          320000,
          10000,
          280000,
          490000,
          180000,
          420000,
          250000,
          525000,
          350000,
          350000,
          150000,
          315000,
          7500,
          300000,
          200000,
          140000,
          350000,
          490000,
          120000,
          300000,
          500000,
          200000,
          2022,
          400000,
          250000,
          700000,
          420000,
          259000,
          77000,
          280000,
          300000,
          350000,
          350000,
          300000,
          350000,
          6000,
          280000,
          250000,
          250000,
          350000,
          250000,
          420000,
          300000,
          350000,
          300000,
          207000,
          595000,
          200000,
          300000,
          350000,
          300000,
          300000,
          175000,
          595000,
          595000,
          300000,
          300000,
          350000,
          7000,
          207000,
          350000,
          240000,
          280000,
          220000,
          240000,
          300000,
          260000,
          250000,
          150000,
          8400,
          220000,
          350000,
          300000,
          300000,
          450000,
          300000,
          250000,
          90000,
          30000,
          300000,
          245000,
          250000,
          270000,
          300000,
          230000,
          5000,
          350000,
          250000,
          250000,
          300000,
          100000,
          400000,
          420000,
          350000,
          400000,
          270000,
          250000,
          1000,
          300000,
          350000,
          300000,
          210000,
          80000,
          300000,
          310000,
          300000,
          230000,
          500000,
          150000,
          300000,
          280000,
          350000,
          5000,
          350000,
          200000,
          220000,
          100000,
          250000,
          400000,
          250000,
          350000,
          420000,
          300000,
          250000,
          250000,
          220000,
          200000,
          200000,
          200000,
          400000,
          350000,
          200000,
          350000,
          6000,
          1000,
          300000,
          300000,
          350000,
          300000,
          90000,
          120000,
          270000,
          270000,
          120000,
          230000,
          200000,
          150000,
          6000,
          300000,
          200000,
          200000,
          180000,
          5000,
          180000,
          280000,
          180000,
          250000,
          700000,
          160000,
          210000,
          350000,
          150000,
          150000,
          250000,
          250000,
          300000,
          280000,
          250000,
          300000,
          315000,
          100000,
          270000,
          420000,
          150000,
          180000,
          180000,
          180000,
          220000,
          800000,
          250000,
          260000,
          270000,
          350000,
          300000,
          150000,
          6000,
          200000,
          260000,
          260000,
          280000,
          150000,
          50000,
          300000,
          230000,
          250000,
          266000,
          250000,
          180000,
          5000,
          260000,
          250000,
          230000,
          300000,
          180000,
          80000,
          550000,
          140000,
          80000,
          245000,
          230000,
          250000,
          350000,
          300000,
          400000,
          250000,
          500000,
          700000,
          5000,
          245000,
          60000,
          500000,
          260000,
          120000,
          6000,
          590000,
          400000,
          300000,
          420000,
          450000,
          200000,
          200000,
          200000,
          100000,
          350000,
          160000,
          250000,
          200000,
          125000,
          260000,
          180000,
          220000,
          250000,
          150000,
          280000,
          600000,
          350000,
          350000,
          120000,
          300000,
          245000,
          300000,
          266000,
          100000,
          250000,
          90000,
          220000,
          300000,
          196000,
          330000,
          350000,
          250000,
          400000,
          210000,
          260000
         ],
         "x0": " ",
         "xaxis": "x",
         "y": [
          "другое",
          "От 0 до 1 года",
          "От 1 года до 3 лет",
          "От 1 года до 3 лет",
          "От 1 года до 3 лет",
          "От 3 до 6 лет",
          "От 3 до 6 лет",
          "От 1 года до 3 лет",
          "От 3 до 6 лет",
          "От 1 года до 3 лет",
          "От 1 года до 3 лет",
          "От 3 до 6 лет",
          "От 1 года до 3 лет",
          "От 3 до 6 лет",
          "От 3 до 6 лет",
          "От 1 года до 3 лет",
          "От 3 до 6 лет",
          "От 3 до 6 лет",
          "От 1 года до 3 лет",
          "От 3 до 6 лет",
          "От 3 до 6 лет",
          "От 1 года до 3 лет",
          "От 3 до 6 лет",
          "От 3 до 6 лет",
          "От 1 года до 3 лет",
          "От 3 до 6 лет",
          "От 1 года до 3 лет",
          "От 3 до 6 лет",
          "От 1 года до 3 лет",
          "не определено",
          "От 3 до 6 лет",
          "От 1 года до 3 лет",
          "От 3 до 6 лет",
          "От 1 года до 3 лет",
          "От 3 до 6 лет",
          "От 6 лет",
          "От 3 до 6 лет",
          "От 3 до 6 лет",
          "От 3 до 6 лет",
          "От 3 до 6 лет",
          "От 1 года до 3 лет",
          "От 6 лет",
          "От 3 до 6 лет",
          "От 3 до 6 лет",
          "От 3 до 6 лет",
          "От 3 до 6 лет",
          "От 3 до 6 лет",
          "От 1 года до 3 лет",
          "От 3 до 6 лет",
          "От 1 года до 3 лет",
          "От 1 года до 3 лет",
          "От 3 до 6 лет",
          "От 3 до 6 лет",
          "От 3 до 6 лет",
          "не определено",
          "От 1 года до 3 лет",
          "От 1 года до 3 лет",
          "другое",
          "От 3 до 6 лет",
          "От 1 года до 3 лет",
          "другое",
          "От 3 до 6 лет",
          "От 1 года до 3 лет",
          "От 1 года до 3 лет",
          "От 1 года до 3 лет",
          "От 1 года до 3 лет",
          "От 1 года до 3 лет",
          "От 0 до 1 года",
          "От 1 года до 3 лет",
          "От 1 года до 3 лет",
          "От 3 до 6 лет",
          "не определено",
          "не определено",
          "От 6 лет",
          "От 3 до 6 лет",
          "От 3 до 6 лет",
          "другое",
          "не определено",
          "От 1 года до 3 лет",
          "От 1 года до 3 лет",
          "От 3 до 6 лет",
          "От 1 года до 3 лет",
          "От 1 года до 3 лет",
          "От 1 года до 3 лет",
          "От 3 до 6 лет",
          "От 1 года до 3 лет",
          "От 1 года до 3 лет",
          "От 1 года до 3 лет",
          "От 1 года до 3 лет",
          "От 6 лет",
          "От 1 года до 3 лет",
          "От 1 года до 3 лет",
          "От 3 до 6 лет",
          "От 1 года до 3 лет",
          "От 1 года до 3 лет",
          "От 3 до 6 лет",
          "От 1 года до 3 лет",
          "От 1 года до 3 лет",
          "От 3 до 6 лет",
          "От 1 года до 3 лет",
          "От 1 года до 3 лет",
          "От 1 года до 3 лет",
          "От 6 лет",
          "От 1 года до 3 лет",
          "От 3 до 6 лет",
          "От 6 лет",
          "От 3 до 6 лет",
          "От 6 лет",
          "От 3 до 6 лет",
          "От 6 лет",
          "От 3 до 6 лет",
          "другое",
          "не определено",
          "От 1 года до 3 лет",
          "От 1 года до 3 лет",
          "От 1 года до 3 лет",
          "От 1 года до 3 лет",
          "другое",
          "От 1 года до 3 лет",
          "От 1 года до 3 лет",
          "От 1 года до 3 лет",
          "От 1 года до 3 лет",
          "От 1 года до 3 лет",
          "другое",
          "От 1 года до 3 лет",
          "От 1 года до 3 лет",
          "От 1 года до 3 лет",
          "От 1 года до 3 лет",
          "От 3 до 6 лет",
          "От 3 до 6 лет",
          "От 3 до 6 лет",
          "От 1 года до 3 лет",
          "От 3 до 6 лет",
          "От 3 до 6 лет",
          "От 1 года до 3 лет",
          "От 1 года до 3 лет",
          "не определено",
          "От 1 года до 3 лет",
          "От 3 до 6 лет",
          "От 3 до 6 лет",
          "не определено",
          "От 1 года до 3 лет",
          "От 1 года до 3 лет",
          "От 3 до 6 лет",
          "От 1 года до 3 лет",
          "От 1 года до 3 лет",
          "От 3 до 6 лет",
          "От 1 года до 3 лет",
          "От 3 до 6 лет",
          "От 1 года до 3 лет",
          "От 1 года до 3 лет",
          "От 1 года до 3 лет",
          "От 1 года до 3 лет",
          "От 3 до 6 лет",
          "От 3 до 6 лет",
          "От 1 года до 3 лет",
          "От 1 года до 3 лет",
          "От 3 до 6 лет",
          "От 1 года до 3 лет",
          "От 3 до 6 лет",
          "От 3 до 6 лет",
          "От 1 года до 3 лет",
          "От 1 года до 3 лет",
          "От 1 года до 3 лет",
          "От 1 года до 3 лет",
          "От 3 до 6 лет",
          "От 0 до 1 года",
          "От 1 года до 3 лет",
          "От 1 года до 3 лет",
          "От 1 года до 3 лет",
          "От 3 до 6 лет",
          "От 6 лет",
          "другое",
          "От 1 года до 3 лет",
          "От 1 года до 3 лет",
          "От 3 до 6 лет",
          "не определено",
          "От 6 лет",
          "От 1 года до 3 лет",
          "От 3 до 6 лет",
          "От 3 до 6 лет",
          "От 3 до 6 лет",
          "От 6 лет",
          "От 1 года до 3 лет",
          "От 3 до 6 лет",
          "не определено",
          "От 3 до 6 лет",
          "От 1 года до 3 лет",
          "От 3 до 6 лет",
          "От 3 до 6 лет",
          "От 1 года до 3 лет",
          "От 1 года до 3 лет",
          "От 1 года до 3 лет",
          "От 1 года до 3 лет",
          "От 1 года до 3 лет",
          "От 3 до 6 лет",
          "От 1 года до 3 лет",
          "От 1 года до 3 лет",
          "От 1 года до 3 лет",
          "От 3 до 6 лет",
          "От 1 года до 3 лет",
          "От 1 года до 3 лет",
          "От 1 года до 3 лет",
          "От 1 года до 3 лет",
          "От 1 года до 3 лет",
          "не определено",
          "От 3 до 6 лет",
          "От 6 лет",
          "От 1 года до 3 лет",
          "От 1 года до 3 лет",
          "От 3 до 6 лет",
          "не определено",
          "От 1 года до 3 лет",
          "От 1 года до 3 лет",
          "От 3 до 6 лет",
          "От 1 года до 3 лет",
          "От 1 года до 3 лет",
          "От 3 до 6 лет",
          "От 3 до 6 лет",
          "От 3 до 6 лет",
          "От 1 года до 3 лет",
          "От 3 до 6 лет",
          "От 1 года до 3 лет",
          "От 1 года до 3 лет",
          "От 1 года до 3 лет",
          "От 1 года до 3 лет",
          "От 1 года до 3 лет",
          "не определено",
          "От 3 до 6 лет",
          "От 1 года до 3 лет",
          "От 3 до 6 лет",
          "От 3 до 6 лет",
          "От 3 до 6 лет",
          "От 3 до 6 лет",
          "От 1 года до 3 лет",
          "От 3 до 6 лет",
          "От 1 года до 3 лет",
          "От 1 года до 3 лет",
          "От 3 до 6 лет",
          "От 1 года до 3 лет",
          "От 1 года до 3 лет",
          "не определено",
          "От 1 года до 3 лет",
          "От 3 до 6 лет",
          "От 1 года до 3 лет",
          "От 1 года до 3 лет",
          "От 1 года до 3 лет",
          "От 3 до 6 лет",
          "От 1 года до 3 лет",
          "От 1 года до 3 лет",
          "От 1 года до 3 лет",
          "От 1 года до 3 лет",
          "От 6 лет",
          "От 3 до 6 лет",
          "От 1 года до 3 лет",
          "От 3 до 6 лет",
          "От 1 года до 3 лет",
          "От 3 до 6 лет",
          "От 1 года до 3 лет",
          "От 3 до 6 лет",
          "От 6 лет",
          "другое",
          "От 3 до 6 лет",
          "не определено",
          "От 3 до 6 лет",
          "другое",
          "другое",
          "другое",
          "не определено",
          "другое",
          "другое",
          "От 3 до 6 лет",
          "не определено",
          "другое",
          "не определено",
          "другое",
          "не определено",
          "другое",
          "не определено",
          "другое",
          "От 3 до 6 лет",
          "не определено",
          "не определено",
          "другое",
          "другое",
          "другое",
          "не определено",
          "другое",
          "другое",
          "не определено",
          "От 3 до 6 лет",
          "другое",
          "другое",
          "другое",
          "не определено",
          "не определено",
          "От 3 до 6 лет",
          "другое",
          "не определено",
          "не определено",
          "другое",
          "другое",
          "другое",
          "не определено",
          "От 3 до 6 лет",
          "другое",
          "не определено",
          "другое",
          "не определено",
          "не определено",
          "не определено",
          "не определено",
          "другое",
          "От 3 до 6 лет",
          "другое",
          "другое",
          "От 3 до 6 лет",
          "не определено",
          "другое",
          "не определено",
          "другое",
          "другое",
          "не определено",
          "От 6 лет",
          "другое",
          "другое",
          "другое",
          "От 3 до 6 лет",
          "другое",
          "другое",
          "не определено",
          "другое",
          "не определено",
          "не определено",
          "От 3 до 6 лет",
          "От 3 до 6 лет",
          "другое",
          "другое",
          "другое",
          "другое",
          "не определено",
          "От 3 до 6 лет",
          "не определено",
          "другое",
          "другое",
          "другое",
          "другое",
          "другое",
          "другое",
          "не определено",
          "не определено",
          "не определено",
          "От 3 до 6 лет",
          "другое",
          "не определено",
          "От 3 до 6 лет",
          "не определено",
          "другое",
          "другое",
          "не определено",
          "От 3 до 6 лет",
          "не определено",
          "другое",
          "другое",
          "От 3 до 6 лет",
          "другое",
          "От 3 до 6 лет",
          "не определено",
          "другое",
          "не определено",
          "другое",
          "другое",
          "другое",
          "не определено",
          "другое",
          "другое",
          "другое",
          "не определено",
          "не определено",
          "не определено",
          "другое",
          "другое",
          "другое",
          "не определено",
          "не определено",
          "От 3 до 6 лет",
          "другое",
          "другое",
          "От 3 до 6 лет",
          "не определено",
          "От 3 до 6 лет",
          "другое",
          "не определено",
          "не определено",
          "другое",
          "не определено",
          "другое",
          "другое",
          "другое",
          "не определено",
          "другое",
          "От 3 до 6 лет",
          "не определено",
          "не определено",
          "другое",
          "не определено",
          "не определено",
          "не определено",
          "От 3 до 6 лет",
          "другое",
          "другое",
          "От 3 до 6 лет",
          "не определено",
          "другое",
          "От 3 до 6 лет",
          "не определено",
          "другое",
          "не определено",
          "От 6 лет",
          "не определено",
          "не определено",
          "другое",
          "не определено",
          "От 3 до 6 лет",
          "не определено",
          "другое",
          "не определено",
          "не определено",
          "От 3 до 6 лет",
          "другое",
          "не определено",
          "не определено",
          "не определено",
          "не определено",
          "другое",
          "другое",
          "другое",
          "не определено",
          "не определено",
          "не определено",
          "От 3 до 6 лет",
          "От 6 лет",
          "От 6 лет",
          "не определено",
          "другое",
          "не определено",
          "не определено",
          "другое",
          "не определено",
          "не определено",
          "другое",
          "не определено",
          "От 3 до 6 лет",
          "не определено",
          "не определено",
          "не определено",
          "не определено",
          "не определено",
          "не определено",
          "От 3 до 6 лет",
          "не определено",
          "От 6 лет",
          "не определено",
          "не определено",
          "другое",
          "другое",
          "От 3 до 6 лет",
          "не определено",
          "не определено",
          "другое",
          "От 6 лет",
          "другое",
          "другое",
          "От 3 до 6 лет",
          "не определено",
          "не определено",
          "не определено",
          "не определено",
          "другое",
          "не определено",
          "не определено",
          "не определено",
          "не определено",
          "не определено",
          "другое",
          "другое",
          "другое",
          "другое",
          "другое",
          "не определено",
          "От 3 до 6 лет",
          "другое",
          "не определено",
          "От 3 до 6 лет",
          "не определено",
          "не определено",
          "другое",
          "От 6 лет",
          "От 3 до 6 лет",
          "другое",
          "не определено",
          "другое",
          "другое",
          "не определено",
          "От 3 до 6 лет",
          "другое",
          "не определено",
          "не определено",
          "не определено",
          "не определено",
          "От 3 до 6 лет",
          "От 3 до 6 лет",
          "не определено",
          "не определено",
          "другое",
          "не определено",
          "От 6 лет",
          "не определено",
          "другое",
          "От 3 до 6 лет",
          "не определено",
          "От 3 до 6 лет",
          "другое",
          "не определено",
          "не определено",
          "другое",
          "От 3 до 6 лет",
          "не определено",
          "не определено",
          "не определено",
          "не определено",
          "другое",
          "не определено",
          "не определено",
          "не определено",
          "не определено",
          "не определено",
          "другое",
          "не определено",
          "не определено",
          "не определено",
          "другое",
          "не определено",
          "не определено",
          "От 3 до 6 лет"
         ],
         "y0": " ",
         "yaxis": "y"
        }
       ],
       "layout": {
        "boxmode": "group",
        "legend": {
         "tracegroupgap": 0
        },
        "margin": {
         "t": 60
        },
        "template": {
         "data": {
          "bar": [
           {
            "error_x": {
             "color": "#2a3f5f"
            },
            "error_y": {
             "color": "#2a3f5f"
            },
            "marker": {
             "line": {
              "color": "#E5ECF6",
              "width": 0.5
             },
             "pattern": {
              "fillmode": "overlay",
              "size": 10,
              "solidity": 0.2
             }
            },
            "type": "bar"
           }
          ],
          "barpolar": [
           {
            "marker": {
             "line": {
              "color": "#E5ECF6",
              "width": 0.5
             },
             "pattern": {
              "fillmode": "overlay",
              "size": 10,
              "solidity": 0.2
             }
            },
            "type": "barpolar"
           }
          ],
          "carpet": [
           {
            "aaxis": {
             "endlinecolor": "#2a3f5f",
             "gridcolor": "white",
             "linecolor": "white",
             "minorgridcolor": "white",
             "startlinecolor": "#2a3f5f"
            },
            "baxis": {
             "endlinecolor": "#2a3f5f",
             "gridcolor": "white",
             "linecolor": "white",
             "minorgridcolor": "white",
             "startlinecolor": "#2a3f5f"
            },
            "type": "carpet"
           }
          ],
          "choropleth": [
           {
            "colorbar": {
             "outlinewidth": 0,
             "ticks": ""
            },
            "type": "choropleth"
           }
          ],
          "contour": [
           {
            "colorbar": {
             "outlinewidth": 0,
             "ticks": ""
            },
            "colorscale": [
             [
              0,
              "#0d0887"
             ],
             [
              0.1111111111111111,
              "#46039f"
             ],
             [
              0.2222222222222222,
              "#7201a8"
             ],
             [
              0.3333333333333333,
              "#9c179e"
             ],
             [
              0.4444444444444444,
              "#bd3786"
             ],
             [
              0.5555555555555556,
              "#d8576b"
             ],
             [
              0.6666666666666666,
              "#ed7953"
             ],
             [
              0.7777777777777778,
              "#fb9f3a"
             ],
             [
              0.8888888888888888,
              "#fdca26"
             ],
             [
              1,
              "#f0f921"
             ]
            ],
            "type": "contour"
           }
          ],
          "contourcarpet": [
           {
            "colorbar": {
             "outlinewidth": 0,
             "ticks": ""
            },
            "type": "contourcarpet"
           }
          ],
          "heatmap": [
           {
            "colorbar": {
             "outlinewidth": 0,
             "ticks": ""
            },
            "colorscale": [
             [
              0,
              "#0d0887"
             ],
             [
              0.1111111111111111,
              "#46039f"
             ],
             [
              0.2222222222222222,
              "#7201a8"
             ],
             [
              0.3333333333333333,
              "#9c179e"
             ],
             [
              0.4444444444444444,
              "#bd3786"
             ],
             [
              0.5555555555555556,
              "#d8576b"
             ],
             [
              0.6666666666666666,
              "#ed7953"
             ],
             [
              0.7777777777777778,
              "#fb9f3a"
             ],
             [
              0.8888888888888888,
              "#fdca26"
             ],
             [
              1,
              "#f0f921"
             ]
            ],
            "type": "heatmap"
           }
          ],
          "heatmapgl": [
           {
            "colorbar": {
             "outlinewidth": 0,
             "ticks": ""
            },
            "colorscale": [
             [
              0,
              "#0d0887"
             ],
             [
              0.1111111111111111,
              "#46039f"
             ],
             [
              0.2222222222222222,
              "#7201a8"
             ],
             [
              0.3333333333333333,
              "#9c179e"
             ],
             [
              0.4444444444444444,
              "#bd3786"
             ],
             [
              0.5555555555555556,
              "#d8576b"
             ],
             [
              0.6666666666666666,
              "#ed7953"
             ],
             [
              0.7777777777777778,
              "#fb9f3a"
             ],
             [
              0.8888888888888888,
              "#fdca26"
             ],
             [
              1,
              "#f0f921"
             ]
            ],
            "type": "heatmapgl"
           }
          ],
          "histogram": [
           {
            "marker": {
             "pattern": {
              "fillmode": "overlay",
              "size": 10,
              "solidity": 0.2
             }
            },
            "type": "histogram"
           }
          ],
          "histogram2d": [
           {
            "colorbar": {
             "outlinewidth": 0,
             "ticks": ""
            },
            "colorscale": [
             [
              0,
              "#0d0887"
             ],
             [
              0.1111111111111111,
              "#46039f"
             ],
             [
              0.2222222222222222,
              "#7201a8"
             ],
             [
              0.3333333333333333,
              "#9c179e"
             ],
             [
              0.4444444444444444,
              "#bd3786"
             ],
             [
              0.5555555555555556,
              "#d8576b"
             ],
             [
              0.6666666666666666,
              "#ed7953"
             ],
             [
              0.7777777777777778,
              "#fb9f3a"
             ],
             [
              0.8888888888888888,
              "#fdca26"
             ],
             [
              1,
              "#f0f921"
             ]
            ],
            "type": "histogram2d"
           }
          ],
          "histogram2dcontour": [
           {
            "colorbar": {
             "outlinewidth": 0,
             "ticks": ""
            },
            "colorscale": [
             [
              0,
              "#0d0887"
             ],
             [
              0.1111111111111111,
              "#46039f"
             ],
             [
              0.2222222222222222,
              "#7201a8"
             ],
             [
              0.3333333333333333,
              "#9c179e"
             ],
             [
              0.4444444444444444,
              "#bd3786"
             ],
             [
              0.5555555555555556,
              "#d8576b"
             ],
             [
              0.6666666666666666,
              "#ed7953"
             ],
             [
              0.7777777777777778,
              "#fb9f3a"
             ],
             [
              0.8888888888888888,
              "#fdca26"
             ],
             [
              1,
              "#f0f921"
             ]
            ],
            "type": "histogram2dcontour"
           }
          ],
          "mesh3d": [
           {
            "colorbar": {
             "outlinewidth": 0,
             "ticks": ""
            },
            "type": "mesh3d"
           }
          ],
          "parcoords": [
           {
            "line": {
             "colorbar": {
              "outlinewidth": 0,
              "ticks": ""
             }
            },
            "type": "parcoords"
           }
          ],
          "pie": [
           {
            "automargin": true,
            "type": "pie"
           }
          ],
          "scatter": [
           {
            "fillpattern": {
             "fillmode": "overlay",
             "size": 10,
             "solidity": 0.2
            },
            "type": "scatter"
           }
          ],
          "scatter3d": [
           {
            "line": {
             "colorbar": {
              "outlinewidth": 0,
              "ticks": ""
             }
            },
            "marker": {
             "colorbar": {
              "outlinewidth": 0,
              "ticks": ""
             }
            },
            "type": "scatter3d"
           }
          ],
          "scattercarpet": [
           {
            "marker": {
             "colorbar": {
              "outlinewidth": 0,
              "ticks": ""
             }
            },
            "type": "scattercarpet"
           }
          ],
          "scattergeo": [
           {
            "marker": {
             "colorbar": {
              "outlinewidth": 0,
              "ticks": ""
             }
            },
            "type": "scattergeo"
           }
          ],
          "scattergl": [
           {
            "marker": {
             "colorbar": {
              "outlinewidth": 0,
              "ticks": ""
             }
            },
            "type": "scattergl"
           }
          ],
          "scattermapbox": [
           {
            "marker": {
             "colorbar": {
              "outlinewidth": 0,
              "ticks": ""
             }
            },
            "type": "scattermapbox"
           }
          ],
          "scatterpolar": [
           {
            "marker": {
             "colorbar": {
              "outlinewidth": 0,
              "ticks": ""
             }
            },
            "type": "scatterpolar"
           }
          ],
          "scatterpolargl": [
           {
            "marker": {
             "colorbar": {
              "outlinewidth": 0,
              "ticks": ""
             }
            },
            "type": "scatterpolargl"
           }
          ],
          "scatterternary": [
           {
            "marker": {
             "colorbar": {
              "outlinewidth": 0,
              "ticks": ""
             }
            },
            "type": "scatterternary"
           }
          ],
          "surface": [
           {
            "colorbar": {
             "outlinewidth": 0,
             "ticks": ""
            },
            "colorscale": [
             [
              0,
              "#0d0887"
             ],
             [
              0.1111111111111111,
              "#46039f"
             ],
             [
              0.2222222222222222,
              "#7201a8"
             ],
             [
              0.3333333333333333,
              "#9c179e"
             ],
             [
              0.4444444444444444,
              "#bd3786"
             ],
             [
              0.5555555555555556,
              "#d8576b"
             ],
             [
              0.6666666666666666,
              "#ed7953"
             ],
             [
              0.7777777777777778,
              "#fb9f3a"
             ],
             [
              0.8888888888888888,
              "#fdca26"
             ],
             [
              1,
              "#f0f921"
             ]
            ],
            "type": "surface"
           }
          ],
          "table": [
           {
            "cells": {
             "fill": {
              "color": "#EBF0F8"
             },
             "line": {
              "color": "white"
             }
            },
            "header": {
             "fill": {
              "color": "#C8D4E3"
             },
             "line": {
              "color": "white"
             }
            },
            "type": "table"
           }
          ]
         },
         "layout": {
          "annotationdefaults": {
           "arrowcolor": "#2a3f5f",
           "arrowhead": 0,
           "arrowwidth": 1
          },
          "autotypenumbers": "strict",
          "coloraxis": {
           "colorbar": {
            "outlinewidth": 0,
            "ticks": ""
           }
          },
          "colorscale": {
           "diverging": [
            [
             0,
             "#8e0152"
            ],
            [
             0.1,
             "#c51b7d"
            ],
            [
             0.2,
             "#de77ae"
            ],
            [
             0.3,
             "#f1b6da"
            ],
            [
             0.4,
             "#fde0ef"
            ],
            [
             0.5,
             "#f7f7f7"
            ],
            [
             0.6,
             "#e6f5d0"
            ],
            [
             0.7,
             "#b8e186"
            ],
            [
             0.8,
             "#7fbc41"
            ],
            [
             0.9,
             "#4d9221"
            ],
            [
             1,
             "#276419"
            ]
           ],
           "sequential": [
            [
             0,
             "#0d0887"
            ],
            [
             0.1111111111111111,
             "#46039f"
            ],
            [
             0.2222222222222222,
             "#7201a8"
            ],
            [
             0.3333333333333333,
             "#9c179e"
            ],
            [
             0.4444444444444444,
             "#bd3786"
            ],
            [
             0.5555555555555556,
             "#d8576b"
            ],
            [
             0.6666666666666666,
             "#ed7953"
            ],
            [
             0.7777777777777778,
             "#fb9f3a"
            ],
            [
             0.8888888888888888,
             "#fdca26"
            ],
            [
             1,
             "#f0f921"
            ]
           ],
           "sequentialminus": [
            [
             0,
             "#0d0887"
            ],
            [
             0.1111111111111111,
             "#46039f"
            ],
            [
             0.2222222222222222,
             "#7201a8"
            ],
            [
             0.3333333333333333,
             "#9c179e"
            ],
            [
             0.4444444444444444,
             "#bd3786"
            ],
            [
             0.5555555555555556,
             "#d8576b"
            ],
            [
             0.6666666666666666,
             "#ed7953"
            ],
            [
             0.7777777777777778,
             "#fb9f3a"
            ],
            [
             0.8888888888888888,
             "#fdca26"
            ],
            [
             1,
             "#f0f921"
            ]
           ]
          },
          "colorway": [
           "#636efa",
           "#EF553B",
           "#00cc96",
           "#ab63fa",
           "#FFA15A",
           "#19d3f3",
           "#FF6692",
           "#B6E880",
           "#FF97FF",
           "#FECB52"
          ],
          "font": {
           "color": "#2a3f5f"
          },
          "geo": {
           "bgcolor": "white",
           "lakecolor": "white",
           "landcolor": "#E5ECF6",
           "showlakes": true,
           "showland": true,
           "subunitcolor": "white"
          },
          "hoverlabel": {
           "align": "left"
          },
          "hovermode": "closest",
          "mapbox": {
           "style": "light"
          },
          "paper_bgcolor": "white",
          "plot_bgcolor": "#E5ECF6",
          "polar": {
           "angularaxis": {
            "gridcolor": "white",
            "linecolor": "white",
            "ticks": ""
           },
           "bgcolor": "#E5ECF6",
           "radialaxis": {
            "gridcolor": "white",
            "linecolor": "white",
            "ticks": ""
           }
          },
          "scene": {
           "xaxis": {
            "backgroundcolor": "#E5ECF6",
            "gridcolor": "white",
            "gridwidth": 2,
            "linecolor": "white",
            "showbackground": true,
            "ticks": "",
            "zerolinecolor": "white"
           },
           "yaxis": {
            "backgroundcolor": "#E5ECF6",
            "gridcolor": "white",
            "gridwidth": 2,
            "linecolor": "white",
            "showbackground": true,
            "ticks": "",
            "zerolinecolor": "white"
           },
           "zaxis": {
            "backgroundcolor": "#E5ECF6",
            "gridcolor": "white",
            "gridwidth": 2,
            "linecolor": "white",
            "showbackground": true,
            "ticks": "",
            "zerolinecolor": "white"
           }
          },
          "shapedefaults": {
           "line": {
            "color": "#2a3f5f"
           }
          },
          "ternary": {
           "aaxis": {
            "gridcolor": "white",
            "linecolor": "white",
            "ticks": ""
           },
           "baxis": {
            "gridcolor": "white",
            "linecolor": "white",
            "ticks": ""
           },
           "bgcolor": "#E5ECF6",
           "caxis": {
            "gridcolor": "white",
            "linecolor": "white",
            "ticks": ""
           }
          },
          "title": {
           "x": 0.05
          },
          "xaxis": {
           "automargin": true,
           "gridcolor": "white",
           "linecolor": "white",
           "ticks": "",
           "title": {
            "standoff": 15
           },
           "zerolinecolor": "white",
           "zerolinewidth": 2
          },
          "yaxis": {
           "automargin": true,
           "gridcolor": "white",
           "linecolor": "white",
           "ticks": "",
           "title": {
            "standoff": 15
           },
           "zerolinecolor": "white",
           "zerolinewidth": 2
          }
         }
        },
        "xaxis": {
         "anchor": "y",
         "domain": [
          0,
          1
         ],
         "title": {
          "text": "salary"
         }
        },
        "yaxis": {
         "anchor": "x",
         "categoryarray": [
          "не определено",
          "другое",
          "От 6 лет",
          "От 3 до 6 лет",
          "От 1 года до 3 лет",
          "От 0 до 1 года"
         ],
         "categoryorder": "array",
         "domain": [
          0,
          1
         ],
         "title": {
          "text": "levels2"
         }
        }
       }
      },
      "text/html": [
       "<div>                            <div id=\"e309c083-beda-4933-b8c8-7c4776398eae\" class=\"plotly-graph-div\" style=\"height:525px; width:100%;\"></div>            <script type=\"text/javascript\">                require([\"plotly\"], function(Plotly) {                    window.PLOTLYENV=window.PLOTLYENV || {};                                    if (document.getElementById(\"e309c083-beda-4933-b8c8-7c4776398eae\")) {                    Plotly.newPlot(                        \"e309c083-beda-4933-b8c8-7c4776398eae\",                        [{\"alignmentgroup\":\"True\",\"hovertemplate\":\"salary=%{x}<br>levels2=%{y}<extra></extra>\",\"legendgroup\":\"\",\"marker\":{\"color\":\"steelblue\"},\"name\":\"\",\"notched\":false,\"offsetgroup\":\"\",\"orientation\":\"h\",\"showlegend\":false,\"x\":[55000.0,30000.0,120000.0,180000.0,200000.0,200000.0,150000.0,300000.0,200000.0,350000.0,245000.0,350000.0,200000.0,250000.0,76900.0,300000.0,120000.0,280000.0,350000.0,250000.0,350000.0,350000.0,400000.0,300000.0,150000.0,595000.0,175000.0,250000.0,270000.0,160000.0,250000.0,210000.0,300000.0,199000.0,420000.0,200000.0,350000.0,200000.0,400000.0,300000.0,300000.0,350000.0,700000.0,823200.0,700000.0,315000.0,250000.0,200000.0,440000.0,210000.0,280000.0,350000.0,200000.0,200000.0,385000.0,280000.0,250000.0,150000.0,160000.0,150000.0,150000.0,400000.0,200000.0,105000.0,250000.0,420000.0,250000.0,40000.0,420000.0,250000.0,400000.0,420000.0,280000.0,350000.0,420000.0,420000.0,70000.0,350000.0,250000.0,150000.0,250000.0,380000.0,420000.0,61800.0,250000.0,130000.0,105000.0,170000.0,350000.0,500000.0,200000.0,180000.0,400000.0,100000.0,160000.0,280000.0,150000.0,30000.0,300000.0,200000.0,210000.0,250000.0,220000.0,200000.0,250000.0,550000.0,280000.0,350000.0,250000.0,350000.0,130000.0,80000.0,200000.0,160000.0,220000.0,170000.0,160000.0,120000.0,218000.0,110000.0,150000.0,300000.0,200000.0,145200.0,170000.0,300000.0,180000.0,130000.0,250000.0,350000.0,300000.0,250000.0,200000.0,200000.0,80000.0,250000.0,250000.0,170000.0,150000.0,380000.0,300000.0,120000.0,200000.0,380000.0,190000.0,250000.0,300000.0,130000.0,350000.0,90000.0,280000.0,190000.0,350000.0,420000.0,300000.0,230000.0,200000.0,350000.0,100000.0,260000.0,437500.0,200000.0,220000.0,200000.0,300000.0,250000.0,25000.0,80000.0,200000.0,150000.0,200000.0,250000.0,70000.0,80000.0,150000.0,280000.0,200000.0,200000.0,250000.0,320000.0,220000.0,400000.0,350000.0,250000.0,350000.0,250000.0,200000.0,150000.0,560000.0,250000.0,100000.0,35000.0,100000.0,130000.0,180000.0,200000.0,150000.0,140000.0,170000.0,150000.0,150000.0,250000.0,200000.0,180000.0,250000.0,200000.0,450000.0,250000.0,190000.0,90000.0,280000.0,350000.0,150000.0,200000.0,230000.0,150000.0,150000.0,240000.0,350000.0,420000.0,250000.0,350000.0,250000.0,230000.0,150000.0,300000.0,160000.0,170500.0,220000.0,160000.0,400000.0,300000.0,350000.0,392000.0,175000.0,250000.0,150000.0,250000.0,300000.0,392000.0,200000.0,250000.0,90000.0,280000.0,230000.0,130000.0,250000.0,220000.0,100000.0,70000.0,21000.0,300000.0,420000.0,300000.0,130000.0,400000.0,350000.0,238000.0,360000.0,480000.0,100000.0,200000.0,4000.0,120000.0,300000.0,420000.0,150000.0,350000.0,300000.0,300000.0,700000.0,450000.0,250000.0,217000.0,250000.0,105000.0,450000.0,385000.0,150000.0,350000.0,250000.0,320000.0,10000.0,280000.0,490000.0,180000.0,420000.0,250000.0,525000.0,350000.0,350000.0,150000.0,315000.0,7500.0,300000.0,200000.0,140000.0,350000.0,490000.0,120000.0,300000.0,500000.0,200000.0,2022.0,400000.0,250000.0,700000.0,420000.0,259000.0,77000.0,280000.0,300000.0,350000.0,350000.0,300000.0,350000.0,6000.0,280000.0,250000.0,250000.0,350000.0,250000.0,420000.0,300000.0,350000.0,300000.0,207000.0,595000.0,200000.0,300000.0,350000.0,300000.0,300000.0,175000.0,595000.0,595000.0,300000.0,300000.0,350000.0,7000.0,207000.0,350000.0,240000.0,280000.0,220000.0,240000.0,300000.0,260000.0,250000.0,150000.0,8400.0,220000.0,350000.0,300000.0,300000.0,450000.0,300000.0,250000.0,90000.0,30000.0,300000.0,245000.0,250000.0,270000.0,300000.0,230000.0,5000.0,350000.0,250000.0,250000.0,300000.0,100000.0,400000.0,420000.0,350000.0,400000.0,270000.0,250000.0,1000.0,300000.0,350000.0,300000.0,210000.0,80000.0,300000.0,310000.0,300000.0,230000.0,500000.0,150000.0,300000.0,280000.0,350000.0,5000.0,350000.0,200000.0,220000.0,100000.0,250000.0,400000.0,250000.0,350000.0,420000.0,300000.0,250000.0,250000.0,220000.0,200000.0,200000.0,200000.0,400000.0,350000.0,200000.0,350000.0,6000.0,1000.0,300000.0,300000.0,350000.0,300000.0,90000.0,120000.0,270000.0,270000.0,120000.0,230000.0,200000.0,150000.0,6000.0,300000.0,200000.0,200000.0,180000.0,5000.0,180000.0,280000.0,180000.0,250000.0,700000.0,160000.0,210000.0,350000.0,150000.0,150000.0,250000.0,250000.0,300000.0,280000.0,250000.0,300000.0,315000.0,100000.0,270000.0,420000.0,150000.0,180000.0,180000.0,180000.0,220000.0,800000.0,250000.0,260000.0,270000.0,350000.0,300000.0,150000.0,6000.0,200000.0,260000.0,260000.0,280000.0,150000.0,50000.0,300000.0,230000.0,250000.0,266000.0,250000.0,180000.0,5000.0,260000.0,250000.0,230000.0,300000.0,180000.0,80000.0,550000.0,140000.0,80000.0,245000.0,230000.0,250000.0,350000.0,300000.0,400000.0,250000.0,500000.0,700000.0,5000.0,245000.0,60000.0,500000.0,260000.0,120000.0,6000.0,590000.0,400000.0,300000.0,420000.0,450000.0,200000.0,200000.0,200000.0,100000.0,350000.0,160000.0,250000.0,200000.0,125000.0,260000.0,180000.0,220000.0,250000.0,150000.0,280000.0,600000.0,350000.0,350000.0,120000.0,300000.0,245000.0,300000.0,266000.0,100000.0,250000.0,90000.0,220000.0,300000.0,196000.0,330000.0,350000.0,250000.0,400000.0,210000.0,260000.0],\"x0\":\" \",\"xaxis\":\"x\",\"y\":[\"\\u0434\\u0440\\u0443\\u0433\\u043e\\u0435\",\"\\u041e\\u0442 0 \\u0434\\u043e 1 \\u0433\\u043e\\u0434\\u0430\",\"\\u041e\\u0442 1 \\u0433\\u043e\\u0434\\u0430 \\u0434\\u043e 3 \\u043b\\u0435\\u0442\",\"\\u041e\\u0442 1 \\u0433\\u043e\\u0434\\u0430 \\u0434\\u043e 3 \\u043b\\u0435\\u0442\",\"\\u041e\\u0442 1 \\u0433\\u043e\\u0434\\u0430 \\u0434\\u043e 3 \\u043b\\u0435\\u0442\",\"\\u041e\\u0442 3 \\u0434\\u043e 6 \\u043b\\u0435\\u0442\",\"\\u041e\\u0442 3 \\u0434\\u043e 6 \\u043b\\u0435\\u0442\",\"\\u041e\\u0442 1 \\u0433\\u043e\\u0434\\u0430 \\u0434\\u043e 3 \\u043b\\u0435\\u0442\",\"\\u041e\\u0442 3 \\u0434\\u043e 6 \\u043b\\u0435\\u0442\",\"\\u041e\\u0442 1 \\u0433\\u043e\\u0434\\u0430 \\u0434\\u043e 3 \\u043b\\u0435\\u0442\",\"\\u041e\\u0442 1 \\u0433\\u043e\\u0434\\u0430 \\u0434\\u043e 3 \\u043b\\u0435\\u0442\",\"\\u041e\\u0442 3 \\u0434\\u043e 6 \\u043b\\u0435\\u0442\",\"\\u041e\\u0442 1 \\u0433\\u043e\\u0434\\u0430 \\u0434\\u043e 3 \\u043b\\u0435\\u0442\",\"\\u041e\\u0442 3 \\u0434\\u043e 6 \\u043b\\u0435\\u0442\",\"\\u041e\\u0442 3 \\u0434\\u043e 6 \\u043b\\u0435\\u0442\",\"\\u041e\\u0442 1 \\u0433\\u043e\\u0434\\u0430 \\u0434\\u043e 3 \\u043b\\u0435\\u0442\",\"\\u041e\\u0442 3 \\u0434\\u043e 6 \\u043b\\u0435\\u0442\",\"\\u041e\\u0442 3 \\u0434\\u043e 6 \\u043b\\u0435\\u0442\",\"\\u041e\\u0442 1 \\u0433\\u043e\\u0434\\u0430 \\u0434\\u043e 3 \\u043b\\u0435\\u0442\",\"\\u041e\\u0442 3 \\u0434\\u043e 6 \\u043b\\u0435\\u0442\",\"\\u041e\\u0442 3 \\u0434\\u043e 6 \\u043b\\u0435\\u0442\",\"\\u041e\\u0442 1 \\u0433\\u043e\\u0434\\u0430 \\u0434\\u043e 3 \\u043b\\u0435\\u0442\",\"\\u041e\\u0442 3 \\u0434\\u043e 6 \\u043b\\u0435\\u0442\",\"\\u041e\\u0442 3 \\u0434\\u043e 6 \\u043b\\u0435\\u0442\",\"\\u041e\\u0442 1 \\u0433\\u043e\\u0434\\u0430 \\u0434\\u043e 3 \\u043b\\u0435\\u0442\",\"\\u041e\\u0442 3 \\u0434\\u043e 6 \\u043b\\u0435\\u0442\",\"\\u041e\\u0442 1 \\u0433\\u043e\\u0434\\u0430 \\u0434\\u043e 3 \\u043b\\u0435\\u0442\",\"\\u041e\\u0442 3 \\u0434\\u043e 6 \\u043b\\u0435\\u0442\",\"\\u041e\\u0442 1 \\u0433\\u043e\\u0434\\u0430 \\u0434\\u043e 3 \\u043b\\u0435\\u0442\",\"\\u043d\\u0435 \\u043e\\u043f\\u0440\\u0435\\u0434\\u0435\\u043b\\u0435\\u043d\\u043e\",\"\\u041e\\u0442 3 \\u0434\\u043e 6 \\u043b\\u0435\\u0442\",\"\\u041e\\u0442 1 \\u0433\\u043e\\u0434\\u0430 \\u0434\\u043e 3 \\u043b\\u0435\\u0442\",\"\\u041e\\u0442 3 \\u0434\\u043e 6 \\u043b\\u0435\\u0442\",\"\\u041e\\u0442 1 \\u0433\\u043e\\u0434\\u0430 \\u0434\\u043e 3 \\u043b\\u0435\\u0442\",\"\\u041e\\u0442 3 \\u0434\\u043e 6 \\u043b\\u0435\\u0442\",\"\\u041e\\u0442 6 \\u043b\\u0435\\u0442\",\"\\u041e\\u0442 3 \\u0434\\u043e 6 \\u043b\\u0435\\u0442\",\"\\u041e\\u0442 3 \\u0434\\u043e 6 \\u043b\\u0435\\u0442\",\"\\u041e\\u0442 3 \\u0434\\u043e 6 \\u043b\\u0435\\u0442\",\"\\u041e\\u0442 3 \\u0434\\u043e 6 \\u043b\\u0435\\u0442\",\"\\u041e\\u0442 1 \\u0433\\u043e\\u0434\\u0430 \\u0434\\u043e 3 \\u043b\\u0435\\u0442\",\"\\u041e\\u0442 6 \\u043b\\u0435\\u0442\",\"\\u041e\\u0442 3 \\u0434\\u043e 6 \\u043b\\u0435\\u0442\",\"\\u041e\\u0442 3 \\u0434\\u043e 6 \\u043b\\u0435\\u0442\",\"\\u041e\\u0442 3 \\u0434\\u043e 6 \\u043b\\u0435\\u0442\",\"\\u041e\\u0442 3 \\u0434\\u043e 6 \\u043b\\u0435\\u0442\",\"\\u041e\\u0442 3 \\u0434\\u043e 6 \\u043b\\u0435\\u0442\",\"\\u041e\\u0442 1 \\u0433\\u043e\\u0434\\u0430 \\u0434\\u043e 3 \\u043b\\u0435\\u0442\",\"\\u041e\\u0442 3 \\u0434\\u043e 6 \\u043b\\u0435\\u0442\",\"\\u041e\\u0442 1 \\u0433\\u043e\\u0434\\u0430 \\u0434\\u043e 3 \\u043b\\u0435\\u0442\",\"\\u041e\\u0442 1 \\u0433\\u043e\\u0434\\u0430 \\u0434\\u043e 3 \\u043b\\u0435\\u0442\",\"\\u041e\\u0442 3 \\u0434\\u043e 6 \\u043b\\u0435\\u0442\",\"\\u041e\\u0442 3 \\u0434\\u043e 6 \\u043b\\u0435\\u0442\",\"\\u041e\\u0442 3 \\u0434\\u043e 6 \\u043b\\u0435\\u0442\",\"\\u043d\\u0435 \\u043e\\u043f\\u0440\\u0435\\u0434\\u0435\\u043b\\u0435\\u043d\\u043e\",\"\\u041e\\u0442 1 \\u0433\\u043e\\u0434\\u0430 \\u0434\\u043e 3 \\u043b\\u0435\\u0442\",\"\\u041e\\u0442 1 \\u0433\\u043e\\u0434\\u0430 \\u0434\\u043e 3 \\u043b\\u0435\\u0442\",\"\\u0434\\u0440\\u0443\\u0433\\u043e\\u0435\",\"\\u041e\\u0442 3 \\u0434\\u043e 6 \\u043b\\u0435\\u0442\",\"\\u041e\\u0442 1 \\u0433\\u043e\\u0434\\u0430 \\u0434\\u043e 3 \\u043b\\u0435\\u0442\",\"\\u0434\\u0440\\u0443\\u0433\\u043e\\u0435\",\"\\u041e\\u0442 3 \\u0434\\u043e 6 \\u043b\\u0435\\u0442\",\"\\u041e\\u0442 1 \\u0433\\u043e\\u0434\\u0430 \\u0434\\u043e 3 \\u043b\\u0435\\u0442\",\"\\u041e\\u0442 1 \\u0433\\u043e\\u0434\\u0430 \\u0434\\u043e 3 \\u043b\\u0435\\u0442\",\"\\u041e\\u0442 1 \\u0433\\u043e\\u0434\\u0430 \\u0434\\u043e 3 \\u043b\\u0435\\u0442\",\"\\u041e\\u0442 1 \\u0433\\u043e\\u0434\\u0430 \\u0434\\u043e 3 \\u043b\\u0435\\u0442\",\"\\u041e\\u0442 1 \\u0433\\u043e\\u0434\\u0430 \\u0434\\u043e 3 \\u043b\\u0435\\u0442\",\"\\u041e\\u0442 0 \\u0434\\u043e 1 \\u0433\\u043e\\u0434\\u0430\",\"\\u041e\\u0442 1 \\u0433\\u043e\\u0434\\u0430 \\u0434\\u043e 3 \\u043b\\u0435\\u0442\",\"\\u041e\\u0442 1 \\u0433\\u043e\\u0434\\u0430 \\u0434\\u043e 3 \\u043b\\u0435\\u0442\",\"\\u041e\\u0442 3 \\u0434\\u043e 6 \\u043b\\u0435\\u0442\",\"\\u043d\\u0435 \\u043e\\u043f\\u0440\\u0435\\u0434\\u0435\\u043b\\u0435\\u043d\\u043e\",\"\\u043d\\u0435 \\u043e\\u043f\\u0440\\u0435\\u0434\\u0435\\u043b\\u0435\\u043d\\u043e\",\"\\u041e\\u0442 6 \\u043b\\u0435\\u0442\",\"\\u041e\\u0442 3 \\u0434\\u043e 6 \\u043b\\u0435\\u0442\",\"\\u041e\\u0442 3 \\u0434\\u043e 6 \\u043b\\u0435\\u0442\",\"\\u0434\\u0440\\u0443\\u0433\\u043e\\u0435\",\"\\u043d\\u0435 \\u043e\\u043f\\u0440\\u0435\\u0434\\u0435\\u043b\\u0435\\u043d\\u043e\",\"\\u041e\\u0442 1 \\u0433\\u043e\\u0434\\u0430 \\u0434\\u043e 3 \\u043b\\u0435\\u0442\",\"\\u041e\\u0442 1 \\u0433\\u043e\\u0434\\u0430 \\u0434\\u043e 3 \\u043b\\u0435\\u0442\",\"\\u041e\\u0442 3 \\u0434\\u043e 6 \\u043b\\u0435\\u0442\",\"\\u041e\\u0442 1 \\u0433\\u043e\\u0434\\u0430 \\u0434\\u043e 3 \\u043b\\u0435\\u0442\",\"\\u041e\\u0442 1 \\u0433\\u043e\\u0434\\u0430 \\u0434\\u043e 3 \\u043b\\u0435\\u0442\",\"\\u041e\\u0442 1 \\u0433\\u043e\\u0434\\u0430 \\u0434\\u043e 3 \\u043b\\u0435\\u0442\",\"\\u041e\\u0442 3 \\u0434\\u043e 6 \\u043b\\u0435\\u0442\",\"\\u041e\\u0442 1 \\u0433\\u043e\\u0434\\u0430 \\u0434\\u043e 3 \\u043b\\u0435\\u0442\",\"\\u041e\\u0442 1 \\u0433\\u043e\\u0434\\u0430 \\u0434\\u043e 3 \\u043b\\u0435\\u0442\",\"\\u041e\\u0442 1 \\u0433\\u043e\\u0434\\u0430 \\u0434\\u043e 3 \\u043b\\u0435\\u0442\",\"\\u041e\\u0442 1 \\u0433\\u043e\\u0434\\u0430 \\u0434\\u043e 3 \\u043b\\u0435\\u0442\",\"\\u041e\\u0442 6 \\u043b\\u0435\\u0442\",\"\\u041e\\u0442 1 \\u0433\\u043e\\u0434\\u0430 \\u0434\\u043e 3 \\u043b\\u0435\\u0442\",\"\\u041e\\u0442 1 \\u0433\\u043e\\u0434\\u0430 \\u0434\\u043e 3 \\u043b\\u0435\\u0442\",\"\\u041e\\u0442 3 \\u0434\\u043e 6 \\u043b\\u0435\\u0442\",\"\\u041e\\u0442 1 \\u0433\\u043e\\u0434\\u0430 \\u0434\\u043e 3 \\u043b\\u0435\\u0442\",\"\\u041e\\u0442 1 \\u0433\\u043e\\u0434\\u0430 \\u0434\\u043e 3 \\u043b\\u0435\\u0442\",\"\\u041e\\u0442 3 \\u0434\\u043e 6 \\u043b\\u0435\\u0442\",\"\\u041e\\u0442 1 \\u0433\\u043e\\u0434\\u0430 \\u0434\\u043e 3 \\u043b\\u0435\\u0442\",\"\\u041e\\u0442 1 \\u0433\\u043e\\u0434\\u0430 \\u0434\\u043e 3 \\u043b\\u0435\\u0442\",\"\\u041e\\u0442 3 \\u0434\\u043e 6 \\u043b\\u0435\\u0442\",\"\\u041e\\u0442 1 \\u0433\\u043e\\u0434\\u0430 \\u0434\\u043e 3 \\u043b\\u0435\\u0442\",\"\\u041e\\u0442 1 \\u0433\\u043e\\u0434\\u0430 \\u0434\\u043e 3 \\u043b\\u0435\\u0442\",\"\\u041e\\u0442 1 \\u0433\\u043e\\u0434\\u0430 \\u0434\\u043e 3 \\u043b\\u0435\\u0442\",\"\\u041e\\u0442 6 \\u043b\\u0435\\u0442\",\"\\u041e\\u0442 1 \\u0433\\u043e\\u0434\\u0430 \\u0434\\u043e 3 \\u043b\\u0435\\u0442\",\"\\u041e\\u0442 3 \\u0434\\u043e 6 \\u043b\\u0435\\u0442\",\"\\u041e\\u0442 6 \\u043b\\u0435\\u0442\",\"\\u041e\\u0442 3 \\u0434\\u043e 6 \\u043b\\u0435\\u0442\",\"\\u041e\\u0442 6 \\u043b\\u0435\\u0442\",\"\\u041e\\u0442 3 \\u0434\\u043e 6 \\u043b\\u0435\\u0442\",\"\\u041e\\u0442 6 \\u043b\\u0435\\u0442\",\"\\u041e\\u0442 3 \\u0434\\u043e 6 \\u043b\\u0435\\u0442\",\"\\u0434\\u0440\\u0443\\u0433\\u043e\\u0435\",\"\\u043d\\u0435 \\u043e\\u043f\\u0440\\u0435\\u0434\\u0435\\u043b\\u0435\\u043d\\u043e\",\"\\u041e\\u0442 1 \\u0433\\u043e\\u0434\\u0430 \\u0434\\u043e 3 \\u043b\\u0435\\u0442\",\"\\u041e\\u0442 1 \\u0433\\u043e\\u0434\\u0430 \\u0434\\u043e 3 \\u043b\\u0435\\u0442\",\"\\u041e\\u0442 1 \\u0433\\u043e\\u0434\\u0430 \\u0434\\u043e 3 \\u043b\\u0435\\u0442\",\"\\u041e\\u0442 1 \\u0433\\u043e\\u0434\\u0430 \\u0434\\u043e 3 \\u043b\\u0435\\u0442\",\"\\u0434\\u0440\\u0443\\u0433\\u043e\\u0435\",\"\\u041e\\u0442 1 \\u0433\\u043e\\u0434\\u0430 \\u0434\\u043e 3 \\u043b\\u0435\\u0442\",\"\\u041e\\u0442 1 \\u0433\\u043e\\u0434\\u0430 \\u0434\\u043e 3 \\u043b\\u0435\\u0442\",\"\\u041e\\u0442 1 \\u0433\\u043e\\u0434\\u0430 \\u0434\\u043e 3 \\u043b\\u0435\\u0442\",\"\\u041e\\u0442 1 \\u0433\\u043e\\u0434\\u0430 \\u0434\\u043e 3 \\u043b\\u0435\\u0442\",\"\\u041e\\u0442 1 \\u0433\\u043e\\u0434\\u0430 \\u0434\\u043e 3 \\u043b\\u0435\\u0442\",\"\\u0434\\u0440\\u0443\\u0433\\u043e\\u0435\",\"\\u041e\\u0442 1 \\u0433\\u043e\\u0434\\u0430 \\u0434\\u043e 3 \\u043b\\u0435\\u0442\",\"\\u041e\\u0442 1 \\u0433\\u043e\\u0434\\u0430 \\u0434\\u043e 3 \\u043b\\u0435\\u0442\",\"\\u041e\\u0442 1 \\u0433\\u043e\\u0434\\u0430 \\u0434\\u043e 3 \\u043b\\u0435\\u0442\",\"\\u041e\\u0442 1 \\u0433\\u043e\\u0434\\u0430 \\u0434\\u043e 3 \\u043b\\u0435\\u0442\",\"\\u041e\\u0442 3 \\u0434\\u043e 6 \\u043b\\u0435\\u0442\",\"\\u041e\\u0442 3 \\u0434\\u043e 6 \\u043b\\u0435\\u0442\",\"\\u041e\\u0442 3 \\u0434\\u043e 6 \\u043b\\u0435\\u0442\",\"\\u041e\\u0442 1 \\u0433\\u043e\\u0434\\u0430 \\u0434\\u043e 3 \\u043b\\u0435\\u0442\",\"\\u041e\\u0442 3 \\u0434\\u043e 6 \\u043b\\u0435\\u0442\",\"\\u041e\\u0442 3 \\u0434\\u043e 6 \\u043b\\u0435\\u0442\",\"\\u041e\\u0442 1 \\u0433\\u043e\\u0434\\u0430 \\u0434\\u043e 3 \\u043b\\u0435\\u0442\",\"\\u041e\\u0442 1 \\u0433\\u043e\\u0434\\u0430 \\u0434\\u043e 3 \\u043b\\u0435\\u0442\",\"\\u043d\\u0435 \\u043e\\u043f\\u0440\\u0435\\u0434\\u0435\\u043b\\u0435\\u043d\\u043e\",\"\\u041e\\u0442 1 \\u0433\\u043e\\u0434\\u0430 \\u0434\\u043e 3 \\u043b\\u0435\\u0442\",\"\\u041e\\u0442 3 \\u0434\\u043e 6 \\u043b\\u0435\\u0442\",\"\\u041e\\u0442 3 \\u0434\\u043e 6 \\u043b\\u0435\\u0442\",\"\\u043d\\u0435 \\u043e\\u043f\\u0440\\u0435\\u0434\\u0435\\u043b\\u0435\\u043d\\u043e\",\"\\u041e\\u0442 1 \\u0433\\u043e\\u0434\\u0430 \\u0434\\u043e 3 \\u043b\\u0435\\u0442\",\"\\u041e\\u0442 1 \\u0433\\u043e\\u0434\\u0430 \\u0434\\u043e 3 \\u043b\\u0435\\u0442\",\"\\u041e\\u0442 3 \\u0434\\u043e 6 \\u043b\\u0435\\u0442\",\"\\u041e\\u0442 1 \\u0433\\u043e\\u0434\\u0430 \\u0434\\u043e 3 \\u043b\\u0435\\u0442\",\"\\u041e\\u0442 1 \\u0433\\u043e\\u0434\\u0430 \\u0434\\u043e 3 \\u043b\\u0435\\u0442\",\"\\u041e\\u0442 3 \\u0434\\u043e 6 \\u043b\\u0435\\u0442\",\"\\u041e\\u0442 1 \\u0433\\u043e\\u0434\\u0430 \\u0434\\u043e 3 \\u043b\\u0435\\u0442\",\"\\u041e\\u0442 3 \\u0434\\u043e 6 \\u043b\\u0435\\u0442\",\"\\u041e\\u0442 1 \\u0433\\u043e\\u0434\\u0430 \\u0434\\u043e 3 \\u043b\\u0435\\u0442\",\"\\u041e\\u0442 1 \\u0433\\u043e\\u0434\\u0430 \\u0434\\u043e 3 \\u043b\\u0435\\u0442\",\"\\u041e\\u0442 1 \\u0433\\u043e\\u0434\\u0430 \\u0434\\u043e 3 \\u043b\\u0435\\u0442\",\"\\u041e\\u0442 1 \\u0433\\u043e\\u0434\\u0430 \\u0434\\u043e 3 \\u043b\\u0435\\u0442\",\"\\u041e\\u0442 3 \\u0434\\u043e 6 \\u043b\\u0435\\u0442\",\"\\u041e\\u0442 3 \\u0434\\u043e 6 \\u043b\\u0435\\u0442\",\"\\u041e\\u0442 1 \\u0433\\u043e\\u0434\\u0430 \\u0434\\u043e 3 \\u043b\\u0435\\u0442\",\"\\u041e\\u0442 1 \\u0433\\u043e\\u0434\\u0430 \\u0434\\u043e 3 \\u043b\\u0435\\u0442\",\"\\u041e\\u0442 3 \\u0434\\u043e 6 \\u043b\\u0435\\u0442\",\"\\u041e\\u0442 1 \\u0433\\u043e\\u0434\\u0430 \\u0434\\u043e 3 \\u043b\\u0435\\u0442\",\"\\u041e\\u0442 3 \\u0434\\u043e 6 \\u043b\\u0435\\u0442\",\"\\u041e\\u0442 3 \\u0434\\u043e 6 \\u043b\\u0435\\u0442\",\"\\u041e\\u0442 1 \\u0433\\u043e\\u0434\\u0430 \\u0434\\u043e 3 \\u043b\\u0435\\u0442\",\"\\u041e\\u0442 1 \\u0433\\u043e\\u0434\\u0430 \\u0434\\u043e 3 \\u043b\\u0435\\u0442\",\"\\u041e\\u0442 1 \\u0433\\u043e\\u0434\\u0430 \\u0434\\u043e 3 \\u043b\\u0435\\u0442\",\"\\u041e\\u0442 1 \\u0433\\u043e\\u0434\\u0430 \\u0434\\u043e 3 \\u043b\\u0435\\u0442\",\"\\u041e\\u0442 3 \\u0434\\u043e 6 \\u043b\\u0435\\u0442\",\"\\u041e\\u0442 0 \\u0434\\u043e 1 \\u0433\\u043e\\u0434\\u0430\",\"\\u041e\\u0442 1 \\u0433\\u043e\\u0434\\u0430 \\u0434\\u043e 3 \\u043b\\u0435\\u0442\",\"\\u041e\\u0442 1 \\u0433\\u043e\\u0434\\u0430 \\u0434\\u043e 3 \\u043b\\u0435\\u0442\",\"\\u041e\\u0442 1 \\u0433\\u043e\\u0434\\u0430 \\u0434\\u043e 3 \\u043b\\u0435\\u0442\",\"\\u041e\\u0442 3 \\u0434\\u043e 6 \\u043b\\u0435\\u0442\",\"\\u041e\\u0442 6 \\u043b\\u0435\\u0442\",\"\\u0434\\u0440\\u0443\\u0433\\u043e\\u0435\",\"\\u041e\\u0442 1 \\u0433\\u043e\\u0434\\u0430 \\u0434\\u043e 3 \\u043b\\u0435\\u0442\",\"\\u041e\\u0442 1 \\u0433\\u043e\\u0434\\u0430 \\u0434\\u043e 3 \\u043b\\u0435\\u0442\",\"\\u041e\\u0442 3 \\u0434\\u043e 6 \\u043b\\u0435\\u0442\",\"\\u043d\\u0435 \\u043e\\u043f\\u0440\\u0435\\u0434\\u0435\\u043b\\u0435\\u043d\\u043e\",\"\\u041e\\u0442 6 \\u043b\\u0435\\u0442\",\"\\u041e\\u0442 1 \\u0433\\u043e\\u0434\\u0430 \\u0434\\u043e 3 \\u043b\\u0435\\u0442\",\"\\u041e\\u0442 3 \\u0434\\u043e 6 \\u043b\\u0435\\u0442\",\"\\u041e\\u0442 3 \\u0434\\u043e 6 \\u043b\\u0435\\u0442\",\"\\u041e\\u0442 3 \\u0434\\u043e 6 \\u043b\\u0435\\u0442\",\"\\u041e\\u0442 6 \\u043b\\u0435\\u0442\",\"\\u041e\\u0442 1 \\u0433\\u043e\\u0434\\u0430 \\u0434\\u043e 3 \\u043b\\u0435\\u0442\",\"\\u041e\\u0442 3 \\u0434\\u043e 6 \\u043b\\u0435\\u0442\",\"\\u043d\\u0435 \\u043e\\u043f\\u0440\\u0435\\u0434\\u0435\\u043b\\u0435\\u043d\\u043e\",\"\\u041e\\u0442 3 \\u0434\\u043e 6 \\u043b\\u0435\\u0442\",\"\\u041e\\u0442 1 \\u0433\\u043e\\u0434\\u0430 \\u0434\\u043e 3 \\u043b\\u0435\\u0442\",\"\\u041e\\u0442 3 \\u0434\\u043e 6 \\u043b\\u0435\\u0442\",\"\\u041e\\u0442 3 \\u0434\\u043e 6 \\u043b\\u0435\\u0442\",\"\\u041e\\u0442 1 \\u0433\\u043e\\u0434\\u0430 \\u0434\\u043e 3 \\u043b\\u0435\\u0442\",\"\\u041e\\u0442 1 \\u0433\\u043e\\u0434\\u0430 \\u0434\\u043e 3 \\u043b\\u0435\\u0442\",\"\\u041e\\u0442 1 \\u0433\\u043e\\u0434\\u0430 \\u0434\\u043e 3 \\u043b\\u0435\\u0442\",\"\\u041e\\u0442 1 \\u0433\\u043e\\u0434\\u0430 \\u0434\\u043e 3 \\u043b\\u0435\\u0442\",\"\\u041e\\u0442 1 \\u0433\\u043e\\u0434\\u0430 \\u0434\\u043e 3 \\u043b\\u0435\\u0442\",\"\\u041e\\u0442 3 \\u0434\\u043e 6 \\u043b\\u0435\\u0442\",\"\\u041e\\u0442 1 \\u0433\\u043e\\u0434\\u0430 \\u0434\\u043e 3 \\u043b\\u0435\\u0442\",\"\\u041e\\u0442 1 \\u0433\\u043e\\u0434\\u0430 \\u0434\\u043e 3 \\u043b\\u0435\\u0442\",\"\\u041e\\u0442 1 \\u0433\\u043e\\u0434\\u0430 \\u0434\\u043e 3 \\u043b\\u0435\\u0442\",\"\\u041e\\u0442 3 \\u0434\\u043e 6 \\u043b\\u0435\\u0442\",\"\\u041e\\u0442 1 \\u0433\\u043e\\u0434\\u0430 \\u0434\\u043e 3 \\u043b\\u0435\\u0442\",\"\\u041e\\u0442 1 \\u0433\\u043e\\u0434\\u0430 \\u0434\\u043e 3 \\u043b\\u0435\\u0442\",\"\\u041e\\u0442 1 \\u0433\\u043e\\u0434\\u0430 \\u0434\\u043e 3 \\u043b\\u0435\\u0442\",\"\\u041e\\u0442 1 \\u0433\\u043e\\u0434\\u0430 \\u0434\\u043e 3 \\u043b\\u0435\\u0442\",\"\\u041e\\u0442 1 \\u0433\\u043e\\u0434\\u0430 \\u0434\\u043e 3 \\u043b\\u0435\\u0442\",\"\\u043d\\u0435 \\u043e\\u043f\\u0440\\u0435\\u0434\\u0435\\u043b\\u0435\\u043d\\u043e\",\"\\u041e\\u0442 3 \\u0434\\u043e 6 \\u043b\\u0435\\u0442\",\"\\u041e\\u0442 6 \\u043b\\u0435\\u0442\",\"\\u041e\\u0442 1 \\u0433\\u043e\\u0434\\u0430 \\u0434\\u043e 3 \\u043b\\u0435\\u0442\",\"\\u041e\\u0442 1 \\u0433\\u043e\\u0434\\u0430 \\u0434\\u043e 3 \\u043b\\u0435\\u0442\",\"\\u041e\\u0442 3 \\u0434\\u043e 6 \\u043b\\u0435\\u0442\",\"\\u043d\\u0435 \\u043e\\u043f\\u0440\\u0435\\u0434\\u0435\\u043b\\u0435\\u043d\\u043e\",\"\\u041e\\u0442 1 \\u0433\\u043e\\u0434\\u0430 \\u0434\\u043e 3 \\u043b\\u0435\\u0442\",\"\\u041e\\u0442 1 \\u0433\\u043e\\u0434\\u0430 \\u0434\\u043e 3 \\u043b\\u0435\\u0442\",\"\\u041e\\u0442 3 \\u0434\\u043e 6 \\u043b\\u0435\\u0442\",\"\\u041e\\u0442 1 \\u0433\\u043e\\u0434\\u0430 \\u0434\\u043e 3 \\u043b\\u0435\\u0442\",\"\\u041e\\u0442 1 \\u0433\\u043e\\u0434\\u0430 \\u0434\\u043e 3 \\u043b\\u0435\\u0442\",\"\\u041e\\u0442 3 \\u0434\\u043e 6 \\u043b\\u0435\\u0442\",\"\\u041e\\u0442 3 \\u0434\\u043e 6 \\u043b\\u0435\\u0442\",\"\\u041e\\u0442 3 \\u0434\\u043e 6 \\u043b\\u0435\\u0442\",\"\\u041e\\u0442 1 \\u0433\\u043e\\u0434\\u0430 \\u0434\\u043e 3 \\u043b\\u0435\\u0442\",\"\\u041e\\u0442 3 \\u0434\\u043e 6 \\u043b\\u0435\\u0442\",\"\\u041e\\u0442 1 \\u0433\\u043e\\u0434\\u0430 \\u0434\\u043e 3 \\u043b\\u0435\\u0442\",\"\\u041e\\u0442 1 \\u0433\\u043e\\u0434\\u0430 \\u0434\\u043e 3 \\u043b\\u0435\\u0442\",\"\\u041e\\u0442 1 \\u0433\\u043e\\u0434\\u0430 \\u0434\\u043e 3 \\u043b\\u0435\\u0442\",\"\\u041e\\u0442 1 \\u0433\\u043e\\u0434\\u0430 \\u0434\\u043e 3 \\u043b\\u0435\\u0442\",\"\\u041e\\u0442 1 \\u0433\\u043e\\u0434\\u0430 \\u0434\\u043e 3 \\u043b\\u0435\\u0442\",\"\\u043d\\u0435 \\u043e\\u043f\\u0440\\u0435\\u0434\\u0435\\u043b\\u0435\\u043d\\u043e\",\"\\u041e\\u0442 3 \\u0434\\u043e 6 \\u043b\\u0435\\u0442\",\"\\u041e\\u0442 1 \\u0433\\u043e\\u0434\\u0430 \\u0434\\u043e 3 \\u043b\\u0435\\u0442\",\"\\u041e\\u0442 3 \\u0434\\u043e 6 \\u043b\\u0435\\u0442\",\"\\u041e\\u0442 3 \\u0434\\u043e 6 \\u043b\\u0435\\u0442\",\"\\u041e\\u0442 3 \\u0434\\u043e 6 \\u043b\\u0435\\u0442\",\"\\u041e\\u0442 3 \\u0434\\u043e 6 \\u043b\\u0435\\u0442\",\"\\u041e\\u0442 1 \\u0433\\u043e\\u0434\\u0430 \\u0434\\u043e 3 \\u043b\\u0435\\u0442\",\"\\u041e\\u0442 3 \\u0434\\u043e 6 \\u043b\\u0435\\u0442\",\"\\u041e\\u0442 1 \\u0433\\u043e\\u0434\\u0430 \\u0434\\u043e 3 \\u043b\\u0435\\u0442\",\"\\u041e\\u0442 1 \\u0433\\u043e\\u0434\\u0430 \\u0434\\u043e 3 \\u043b\\u0435\\u0442\",\"\\u041e\\u0442 3 \\u0434\\u043e 6 \\u043b\\u0435\\u0442\",\"\\u041e\\u0442 1 \\u0433\\u043e\\u0434\\u0430 \\u0434\\u043e 3 \\u043b\\u0435\\u0442\",\"\\u041e\\u0442 1 \\u0433\\u043e\\u0434\\u0430 \\u0434\\u043e 3 \\u043b\\u0435\\u0442\",\"\\u043d\\u0435 \\u043e\\u043f\\u0440\\u0435\\u0434\\u0435\\u043b\\u0435\\u043d\\u043e\",\"\\u041e\\u0442 1 \\u0433\\u043e\\u0434\\u0430 \\u0434\\u043e 3 \\u043b\\u0435\\u0442\",\"\\u041e\\u0442 3 \\u0434\\u043e 6 \\u043b\\u0435\\u0442\",\"\\u041e\\u0442 1 \\u0433\\u043e\\u0434\\u0430 \\u0434\\u043e 3 \\u043b\\u0435\\u0442\",\"\\u041e\\u0442 1 \\u0433\\u043e\\u0434\\u0430 \\u0434\\u043e 3 \\u043b\\u0435\\u0442\",\"\\u041e\\u0442 1 \\u0433\\u043e\\u0434\\u0430 \\u0434\\u043e 3 \\u043b\\u0435\\u0442\",\"\\u041e\\u0442 3 \\u0434\\u043e 6 \\u043b\\u0435\\u0442\",\"\\u041e\\u0442 1 \\u0433\\u043e\\u0434\\u0430 \\u0434\\u043e 3 \\u043b\\u0435\\u0442\",\"\\u041e\\u0442 1 \\u0433\\u043e\\u0434\\u0430 \\u0434\\u043e 3 \\u043b\\u0435\\u0442\",\"\\u041e\\u0442 1 \\u0433\\u043e\\u0434\\u0430 \\u0434\\u043e 3 \\u043b\\u0435\\u0442\",\"\\u041e\\u0442 1 \\u0433\\u043e\\u0434\\u0430 \\u0434\\u043e 3 \\u043b\\u0435\\u0442\",\"\\u041e\\u0442 6 \\u043b\\u0435\\u0442\",\"\\u041e\\u0442 3 \\u0434\\u043e 6 \\u043b\\u0435\\u0442\",\"\\u041e\\u0442 1 \\u0433\\u043e\\u0434\\u0430 \\u0434\\u043e 3 \\u043b\\u0435\\u0442\",\"\\u041e\\u0442 3 \\u0434\\u043e 6 \\u043b\\u0435\\u0442\",\"\\u041e\\u0442 1 \\u0433\\u043e\\u0434\\u0430 \\u0434\\u043e 3 \\u043b\\u0435\\u0442\",\"\\u041e\\u0442 3 \\u0434\\u043e 6 \\u043b\\u0435\\u0442\",\"\\u041e\\u0442 1 \\u0433\\u043e\\u0434\\u0430 \\u0434\\u043e 3 \\u043b\\u0435\\u0442\",\"\\u041e\\u0442 3 \\u0434\\u043e 6 \\u043b\\u0435\\u0442\",\"\\u041e\\u0442 6 \\u043b\\u0435\\u0442\",\"\\u0434\\u0440\\u0443\\u0433\\u043e\\u0435\",\"\\u041e\\u0442 3 \\u0434\\u043e 6 \\u043b\\u0435\\u0442\",\"\\u043d\\u0435 \\u043e\\u043f\\u0440\\u0435\\u0434\\u0435\\u043b\\u0435\\u043d\\u043e\",\"\\u041e\\u0442 3 \\u0434\\u043e 6 \\u043b\\u0435\\u0442\",\"\\u0434\\u0440\\u0443\\u0433\\u043e\\u0435\",\"\\u0434\\u0440\\u0443\\u0433\\u043e\\u0435\",\"\\u0434\\u0440\\u0443\\u0433\\u043e\\u0435\",\"\\u043d\\u0435 \\u043e\\u043f\\u0440\\u0435\\u0434\\u0435\\u043b\\u0435\\u043d\\u043e\",\"\\u0434\\u0440\\u0443\\u0433\\u043e\\u0435\",\"\\u0434\\u0440\\u0443\\u0433\\u043e\\u0435\",\"\\u041e\\u0442 3 \\u0434\\u043e 6 \\u043b\\u0435\\u0442\",\"\\u043d\\u0435 \\u043e\\u043f\\u0440\\u0435\\u0434\\u0435\\u043b\\u0435\\u043d\\u043e\",\"\\u0434\\u0440\\u0443\\u0433\\u043e\\u0435\",\"\\u043d\\u0435 \\u043e\\u043f\\u0440\\u0435\\u0434\\u0435\\u043b\\u0435\\u043d\\u043e\",\"\\u0434\\u0440\\u0443\\u0433\\u043e\\u0435\",\"\\u043d\\u0435 \\u043e\\u043f\\u0440\\u0435\\u0434\\u0435\\u043b\\u0435\\u043d\\u043e\",\"\\u0434\\u0440\\u0443\\u0433\\u043e\\u0435\",\"\\u043d\\u0435 \\u043e\\u043f\\u0440\\u0435\\u0434\\u0435\\u043b\\u0435\\u043d\\u043e\",\"\\u0434\\u0440\\u0443\\u0433\\u043e\\u0435\",\"\\u041e\\u0442 3 \\u0434\\u043e 6 \\u043b\\u0435\\u0442\",\"\\u043d\\u0435 \\u043e\\u043f\\u0440\\u0435\\u0434\\u0435\\u043b\\u0435\\u043d\\u043e\",\"\\u043d\\u0435 \\u043e\\u043f\\u0440\\u0435\\u0434\\u0435\\u043b\\u0435\\u043d\\u043e\",\"\\u0434\\u0440\\u0443\\u0433\\u043e\\u0435\",\"\\u0434\\u0440\\u0443\\u0433\\u043e\\u0435\",\"\\u0434\\u0440\\u0443\\u0433\\u043e\\u0435\",\"\\u043d\\u0435 \\u043e\\u043f\\u0440\\u0435\\u0434\\u0435\\u043b\\u0435\\u043d\\u043e\",\"\\u0434\\u0440\\u0443\\u0433\\u043e\\u0435\",\"\\u0434\\u0440\\u0443\\u0433\\u043e\\u0435\",\"\\u043d\\u0435 \\u043e\\u043f\\u0440\\u0435\\u0434\\u0435\\u043b\\u0435\\u043d\\u043e\",\"\\u041e\\u0442 3 \\u0434\\u043e 6 \\u043b\\u0435\\u0442\",\"\\u0434\\u0440\\u0443\\u0433\\u043e\\u0435\",\"\\u0434\\u0440\\u0443\\u0433\\u043e\\u0435\",\"\\u0434\\u0440\\u0443\\u0433\\u043e\\u0435\",\"\\u043d\\u0435 \\u043e\\u043f\\u0440\\u0435\\u0434\\u0435\\u043b\\u0435\\u043d\\u043e\",\"\\u043d\\u0435 \\u043e\\u043f\\u0440\\u0435\\u0434\\u0435\\u043b\\u0435\\u043d\\u043e\",\"\\u041e\\u0442 3 \\u0434\\u043e 6 \\u043b\\u0435\\u0442\",\"\\u0434\\u0440\\u0443\\u0433\\u043e\\u0435\",\"\\u043d\\u0435 \\u043e\\u043f\\u0440\\u0435\\u0434\\u0435\\u043b\\u0435\\u043d\\u043e\",\"\\u043d\\u0435 \\u043e\\u043f\\u0440\\u0435\\u0434\\u0435\\u043b\\u0435\\u043d\\u043e\",\"\\u0434\\u0440\\u0443\\u0433\\u043e\\u0435\",\"\\u0434\\u0440\\u0443\\u0433\\u043e\\u0435\",\"\\u0434\\u0440\\u0443\\u0433\\u043e\\u0435\",\"\\u043d\\u0435 \\u043e\\u043f\\u0440\\u0435\\u0434\\u0435\\u043b\\u0435\\u043d\\u043e\",\"\\u041e\\u0442 3 \\u0434\\u043e 6 \\u043b\\u0435\\u0442\",\"\\u0434\\u0440\\u0443\\u0433\\u043e\\u0435\",\"\\u043d\\u0435 \\u043e\\u043f\\u0440\\u0435\\u0434\\u0435\\u043b\\u0435\\u043d\\u043e\",\"\\u0434\\u0440\\u0443\\u0433\\u043e\\u0435\",\"\\u043d\\u0435 \\u043e\\u043f\\u0440\\u0435\\u0434\\u0435\\u043b\\u0435\\u043d\\u043e\",\"\\u043d\\u0435 \\u043e\\u043f\\u0440\\u0435\\u0434\\u0435\\u043b\\u0435\\u043d\\u043e\",\"\\u043d\\u0435 \\u043e\\u043f\\u0440\\u0435\\u0434\\u0435\\u043b\\u0435\\u043d\\u043e\",\"\\u043d\\u0435 \\u043e\\u043f\\u0440\\u0435\\u0434\\u0435\\u043b\\u0435\\u043d\\u043e\",\"\\u0434\\u0440\\u0443\\u0433\\u043e\\u0435\",\"\\u041e\\u0442 3 \\u0434\\u043e 6 \\u043b\\u0435\\u0442\",\"\\u0434\\u0440\\u0443\\u0433\\u043e\\u0435\",\"\\u0434\\u0440\\u0443\\u0433\\u043e\\u0435\",\"\\u041e\\u0442 3 \\u0434\\u043e 6 \\u043b\\u0435\\u0442\",\"\\u043d\\u0435 \\u043e\\u043f\\u0440\\u0435\\u0434\\u0435\\u043b\\u0435\\u043d\\u043e\",\"\\u0434\\u0440\\u0443\\u0433\\u043e\\u0435\",\"\\u043d\\u0435 \\u043e\\u043f\\u0440\\u0435\\u0434\\u0435\\u043b\\u0435\\u043d\\u043e\",\"\\u0434\\u0440\\u0443\\u0433\\u043e\\u0435\",\"\\u0434\\u0440\\u0443\\u0433\\u043e\\u0435\",\"\\u043d\\u0435 \\u043e\\u043f\\u0440\\u0435\\u0434\\u0435\\u043b\\u0435\\u043d\\u043e\",\"\\u041e\\u0442 6 \\u043b\\u0435\\u0442\",\"\\u0434\\u0440\\u0443\\u0433\\u043e\\u0435\",\"\\u0434\\u0440\\u0443\\u0433\\u043e\\u0435\",\"\\u0434\\u0440\\u0443\\u0433\\u043e\\u0435\",\"\\u041e\\u0442 3 \\u0434\\u043e 6 \\u043b\\u0435\\u0442\",\"\\u0434\\u0440\\u0443\\u0433\\u043e\\u0435\",\"\\u0434\\u0440\\u0443\\u0433\\u043e\\u0435\",\"\\u043d\\u0435 \\u043e\\u043f\\u0440\\u0435\\u0434\\u0435\\u043b\\u0435\\u043d\\u043e\",\"\\u0434\\u0440\\u0443\\u0433\\u043e\\u0435\",\"\\u043d\\u0435 \\u043e\\u043f\\u0440\\u0435\\u0434\\u0435\\u043b\\u0435\\u043d\\u043e\",\"\\u043d\\u0435 \\u043e\\u043f\\u0440\\u0435\\u0434\\u0435\\u043b\\u0435\\u043d\\u043e\",\"\\u041e\\u0442 3 \\u0434\\u043e 6 \\u043b\\u0435\\u0442\",\"\\u041e\\u0442 3 \\u0434\\u043e 6 \\u043b\\u0435\\u0442\",\"\\u0434\\u0440\\u0443\\u0433\\u043e\\u0435\",\"\\u0434\\u0440\\u0443\\u0433\\u043e\\u0435\",\"\\u0434\\u0440\\u0443\\u0433\\u043e\\u0435\",\"\\u0434\\u0440\\u0443\\u0433\\u043e\\u0435\",\"\\u043d\\u0435 \\u043e\\u043f\\u0440\\u0435\\u0434\\u0435\\u043b\\u0435\\u043d\\u043e\",\"\\u041e\\u0442 3 \\u0434\\u043e 6 \\u043b\\u0435\\u0442\",\"\\u043d\\u0435 \\u043e\\u043f\\u0440\\u0435\\u0434\\u0435\\u043b\\u0435\\u043d\\u043e\",\"\\u0434\\u0440\\u0443\\u0433\\u043e\\u0435\",\"\\u0434\\u0440\\u0443\\u0433\\u043e\\u0435\",\"\\u0434\\u0440\\u0443\\u0433\\u043e\\u0435\",\"\\u0434\\u0440\\u0443\\u0433\\u043e\\u0435\",\"\\u0434\\u0440\\u0443\\u0433\\u043e\\u0435\",\"\\u0434\\u0440\\u0443\\u0433\\u043e\\u0435\",\"\\u043d\\u0435 \\u043e\\u043f\\u0440\\u0435\\u0434\\u0435\\u043b\\u0435\\u043d\\u043e\",\"\\u043d\\u0435 \\u043e\\u043f\\u0440\\u0435\\u0434\\u0435\\u043b\\u0435\\u043d\\u043e\",\"\\u043d\\u0435 \\u043e\\u043f\\u0440\\u0435\\u0434\\u0435\\u043b\\u0435\\u043d\\u043e\",\"\\u041e\\u0442 3 \\u0434\\u043e 6 \\u043b\\u0435\\u0442\",\"\\u0434\\u0440\\u0443\\u0433\\u043e\\u0435\",\"\\u043d\\u0435 \\u043e\\u043f\\u0440\\u0435\\u0434\\u0435\\u043b\\u0435\\u043d\\u043e\",\"\\u041e\\u0442 3 \\u0434\\u043e 6 \\u043b\\u0435\\u0442\",\"\\u043d\\u0435 \\u043e\\u043f\\u0440\\u0435\\u0434\\u0435\\u043b\\u0435\\u043d\\u043e\",\"\\u0434\\u0440\\u0443\\u0433\\u043e\\u0435\",\"\\u0434\\u0440\\u0443\\u0433\\u043e\\u0435\",\"\\u043d\\u0435 \\u043e\\u043f\\u0440\\u0435\\u0434\\u0435\\u043b\\u0435\\u043d\\u043e\",\"\\u041e\\u0442 3 \\u0434\\u043e 6 \\u043b\\u0435\\u0442\",\"\\u043d\\u0435 \\u043e\\u043f\\u0440\\u0435\\u0434\\u0435\\u043b\\u0435\\u043d\\u043e\",\"\\u0434\\u0440\\u0443\\u0433\\u043e\\u0435\",\"\\u0434\\u0440\\u0443\\u0433\\u043e\\u0435\",\"\\u041e\\u0442 3 \\u0434\\u043e 6 \\u043b\\u0435\\u0442\",\"\\u0434\\u0440\\u0443\\u0433\\u043e\\u0435\",\"\\u041e\\u0442 3 \\u0434\\u043e 6 \\u043b\\u0435\\u0442\",\"\\u043d\\u0435 \\u043e\\u043f\\u0440\\u0435\\u0434\\u0435\\u043b\\u0435\\u043d\\u043e\",\"\\u0434\\u0440\\u0443\\u0433\\u043e\\u0435\",\"\\u043d\\u0435 \\u043e\\u043f\\u0440\\u0435\\u0434\\u0435\\u043b\\u0435\\u043d\\u043e\",\"\\u0434\\u0440\\u0443\\u0433\\u043e\\u0435\",\"\\u0434\\u0440\\u0443\\u0433\\u043e\\u0435\",\"\\u0434\\u0440\\u0443\\u0433\\u043e\\u0435\",\"\\u043d\\u0435 \\u043e\\u043f\\u0440\\u0435\\u0434\\u0435\\u043b\\u0435\\u043d\\u043e\",\"\\u0434\\u0440\\u0443\\u0433\\u043e\\u0435\",\"\\u0434\\u0440\\u0443\\u0433\\u043e\\u0435\",\"\\u0434\\u0440\\u0443\\u0433\\u043e\\u0435\",\"\\u043d\\u0435 \\u043e\\u043f\\u0440\\u0435\\u0434\\u0435\\u043b\\u0435\\u043d\\u043e\",\"\\u043d\\u0435 \\u043e\\u043f\\u0440\\u0435\\u0434\\u0435\\u043b\\u0435\\u043d\\u043e\",\"\\u043d\\u0435 \\u043e\\u043f\\u0440\\u0435\\u0434\\u0435\\u043b\\u0435\\u043d\\u043e\",\"\\u0434\\u0440\\u0443\\u0433\\u043e\\u0435\",\"\\u0434\\u0440\\u0443\\u0433\\u043e\\u0435\",\"\\u0434\\u0440\\u0443\\u0433\\u043e\\u0435\",\"\\u043d\\u0435 \\u043e\\u043f\\u0440\\u0435\\u0434\\u0435\\u043b\\u0435\\u043d\\u043e\",\"\\u043d\\u0435 \\u043e\\u043f\\u0440\\u0435\\u0434\\u0435\\u043b\\u0435\\u043d\\u043e\",\"\\u041e\\u0442 3 \\u0434\\u043e 6 \\u043b\\u0435\\u0442\",\"\\u0434\\u0440\\u0443\\u0433\\u043e\\u0435\",\"\\u0434\\u0440\\u0443\\u0433\\u043e\\u0435\",\"\\u041e\\u0442 3 \\u0434\\u043e 6 \\u043b\\u0435\\u0442\",\"\\u043d\\u0435 \\u043e\\u043f\\u0440\\u0435\\u0434\\u0435\\u043b\\u0435\\u043d\\u043e\",\"\\u041e\\u0442 3 \\u0434\\u043e 6 \\u043b\\u0435\\u0442\",\"\\u0434\\u0440\\u0443\\u0433\\u043e\\u0435\",\"\\u043d\\u0435 \\u043e\\u043f\\u0440\\u0435\\u0434\\u0435\\u043b\\u0435\\u043d\\u043e\",\"\\u043d\\u0435 \\u043e\\u043f\\u0440\\u0435\\u0434\\u0435\\u043b\\u0435\\u043d\\u043e\",\"\\u0434\\u0440\\u0443\\u0433\\u043e\\u0435\",\"\\u043d\\u0435 \\u043e\\u043f\\u0440\\u0435\\u0434\\u0435\\u043b\\u0435\\u043d\\u043e\",\"\\u0434\\u0440\\u0443\\u0433\\u043e\\u0435\",\"\\u0434\\u0440\\u0443\\u0433\\u043e\\u0435\",\"\\u0434\\u0440\\u0443\\u0433\\u043e\\u0435\",\"\\u043d\\u0435 \\u043e\\u043f\\u0440\\u0435\\u0434\\u0435\\u043b\\u0435\\u043d\\u043e\",\"\\u0434\\u0440\\u0443\\u0433\\u043e\\u0435\",\"\\u041e\\u0442 3 \\u0434\\u043e 6 \\u043b\\u0435\\u0442\",\"\\u043d\\u0435 \\u043e\\u043f\\u0440\\u0435\\u0434\\u0435\\u043b\\u0435\\u043d\\u043e\",\"\\u043d\\u0435 \\u043e\\u043f\\u0440\\u0435\\u0434\\u0435\\u043b\\u0435\\u043d\\u043e\",\"\\u0434\\u0440\\u0443\\u0433\\u043e\\u0435\",\"\\u043d\\u0435 \\u043e\\u043f\\u0440\\u0435\\u0434\\u0435\\u043b\\u0435\\u043d\\u043e\",\"\\u043d\\u0435 \\u043e\\u043f\\u0440\\u0435\\u0434\\u0435\\u043b\\u0435\\u043d\\u043e\",\"\\u043d\\u0435 \\u043e\\u043f\\u0440\\u0435\\u0434\\u0435\\u043b\\u0435\\u043d\\u043e\",\"\\u041e\\u0442 3 \\u0434\\u043e 6 \\u043b\\u0435\\u0442\",\"\\u0434\\u0440\\u0443\\u0433\\u043e\\u0435\",\"\\u0434\\u0440\\u0443\\u0433\\u043e\\u0435\",\"\\u041e\\u0442 3 \\u0434\\u043e 6 \\u043b\\u0435\\u0442\",\"\\u043d\\u0435 \\u043e\\u043f\\u0440\\u0435\\u0434\\u0435\\u043b\\u0435\\u043d\\u043e\",\"\\u0434\\u0440\\u0443\\u0433\\u043e\\u0435\",\"\\u041e\\u0442 3 \\u0434\\u043e 6 \\u043b\\u0435\\u0442\",\"\\u043d\\u0435 \\u043e\\u043f\\u0440\\u0435\\u0434\\u0435\\u043b\\u0435\\u043d\\u043e\",\"\\u0434\\u0440\\u0443\\u0433\\u043e\\u0435\",\"\\u043d\\u0435 \\u043e\\u043f\\u0440\\u0435\\u0434\\u0435\\u043b\\u0435\\u043d\\u043e\",\"\\u041e\\u0442 6 \\u043b\\u0435\\u0442\",\"\\u043d\\u0435 \\u043e\\u043f\\u0440\\u0435\\u0434\\u0435\\u043b\\u0435\\u043d\\u043e\",\"\\u043d\\u0435 \\u043e\\u043f\\u0440\\u0435\\u0434\\u0435\\u043b\\u0435\\u043d\\u043e\",\"\\u0434\\u0440\\u0443\\u0433\\u043e\\u0435\",\"\\u043d\\u0435 \\u043e\\u043f\\u0440\\u0435\\u0434\\u0435\\u043b\\u0435\\u043d\\u043e\",\"\\u041e\\u0442 3 \\u0434\\u043e 6 \\u043b\\u0435\\u0442\",\"\\u043d\\u0435 \\u043e\\u043f\\u0440\\u0435\\u0434\\u0435\\u043b\\u0435\\u043d\\u043e\",\"\\u0434\\u0440\\u0443\\u0433\\u043e\\u0435\",\"\\u043d\\u0435 \\u043e\\u043f\\u0440\\u0435\\u0434\\u0435\\u043b\\u0435\\u043d\\u043e\",\"\\u043d\\u0435 \\u043e\\u043f\\u0440\\u0435\\u0434\\u0435\\u043b\\u0435\\u043d\\u043e\",\"\\u041e\\u0442 3 \\u0434\\u043e 6 \\u043b\\u0435\\u0442\",\"\\u0434\\u0440\\u0443\\u0433\\u043e\\u0435\",\"\\u043d\\u0435 \\u043e\\u043f\\u0440\\u0435\\u0434\\u0435\\u043b\\u0435\\u043d\\u043e\",\"\\u043d\\u0435 \\u043e\\u043f\\u0440\\u0435\\u0434\\u0435\\u043b\\u0435\\u043d\\u043e\",\"\\u043d\\u0435 \\u043e\\u043f\\u0440\\u0435\\u0434\\u0435\\u043b\\u0435\\u043d\\u043e\",\"\\u043d\\u0435 \\u043e\\u043f\\u0440\\u0435\\u0434\\u0435\\u043b\\u0435\\u043d\\u043e\",\"\\u0434\\u0440\\u0443\\u0433\\u043e\\u0435\",\"\\u0434\\u0440\\u0443\\u0433\\u043e\\u0435\",\"\\u0434\\u0440\\u0443\\u0433\\u043e\\u0435\",\"\\u043d\\u0435 \\u043e\\u043f\\u0440\\u0435\\u0434\\u0435\\u043b\\u0435\\u043d\\u043e\",\"\\u043d\\u0435 \\u043e\\u043f\\u0440\\u0435\\u0434\\u0435\\u043b\\u0435\\u043d\\u043e\",\"\\u043d\\u0435 \\u043e\\u043f\\u0440\\u0435\\u0434\\u0435\\u043b\\u0435\\u043d\\u043e\",\"\\u041e\\u0442 3 \\u0434\\u043e 6 \\u043b\\u0435\\u0442\",\"\\u041e\\u0442 6 \\u043b\\u0435\\u0442\",\"\\u041e\\u0442 6 \\u043b\\u0435\\u0442\",\"\\u043d\\u0435 \\u043e\\u043f\\u0440\\u0435\\u0434\\u0435\\u043b\\u0435\\u043d\\u043e\",\"\\u0434\\u0440\\u0443\\u0433\\u043e\\u0435\",\"\\u043d\\u0435 \\u043e\\u043f\\u0440\\u0435\\u0434\\u0435\\u043b\\u0435\\u043d\\u043e\",\"\\u043d\\u0435 \\u043e\\u043f\\u0440\\u0435\\u0434\\u0435\\u043b\\u0435\\u043d\\u043e\",\"\\u0434\\u0440\\u0443\\u0433\\u043e\\u0435\",\"\\u043d\\u0435 \\u043e\\u043f\\u0440\\u0435\\u0434\\u0435\\u043b\\u0435\\u043d\\u043e\",\"\\u043d\\u0435 \\u043e\\u043f\\u0440\\u0435\\u0434\\u0435\\u043b\\u0435\\u043d\\u043e\",\"\\u0434\\u0440\\u0443\\u0433\\u043e\\u0435\",\"\\u043d\\u0435 \\u043e\\u043f\\u0440\\u0435\\u0434\\u0435\\u043b\\u0435\\u043d\\u043e\",\"\\u041e\\u0442 3 \\u0434\\u043e 6 \\u043b\\u0435\\u0442\",\"\\u043d\\u0435 \\u043e\\u043f\\u0440\\u0435\\u0434\\u0435\\u043b\\u0435\\u043d\\u043e\",\"\\u043d\\u0435 \\u043e\\u043f\\u0440\\u0435\\u0434\\u0435\\u043b\\u0435\\u043d\\u043e\",\"\\u043d\\u0435 \\u043e\\u043f\\u0440\\u0435\\u0434\\u0435\\u043b\\u0435\\u043d\\u043e\",\"\\u043d\\u0435 \\u043e\\u043f\\u0440\\u0435\\u0434\\u0435\\u043b\\u0435\\u043d\\u043e\",\"\\u043d\\u0435 \\u043e\\u043f\\u0440\\u0435\\u0434\\u0435\\u043b\\u0435\\u043d\\u043e\",\"\\u043d\\u0435 \\u043e\\u043f\\u0440\\u0435\\u0434\\u0435\\u043b\\u0435\\u043d\\u043e\",\"\\u041e\\u0442 3 \\u0434\\u043e 6 \\u043b\\u0435\\u0442\",\"\\u043d\\u0435 \\u043e\\u043f\\u0440\\u0435\\u0434\\u0435\\u043b\\u0435\\u043d\\u043e\",\"\\u041e\\u0442 6 \\u043b\\u0435\\u0442\",\"\\u043d\\u0435 \\u043e\\u043f\\u0440\\u0435\\u0434\\u0435\\u043b\\u0435\\u043d\\u043e\",\"\\u043d\\u0435 \\u043e\\u043f\\u0440\\u0435\\u0434\\u0435\\u043b\\u0435\\u043d\\u043e\",\"\\u0434\\u0440\\u0443\\u0433\\u043e\\u0435\",\"\\u0434\\u0440\\u0443\\u0433\\u043e\\u0435\",\"\\u041e\\u0442 3 \\u0434\\u043e 6 \\u043b\\u0435\\u0442\",\"\\u043d\\u0435 \\u043e\\u043f\\u0440\\u0435\\u0434\\u0435\\u043b\\u0435\\u043d\\u043e\",\"\\u043d\\u0435 \\u043e\\u043f\\u0440\\u0435\\u0434\\u0435\\u043b\\u0435\\u043d\\u043e\",\"\\u0434\\u0440\\u0443\\u0433\\u043e\\u0435\",\"\\u041e\\u0442 6 \\u043b\\u0435\\u0442\",\"\\u0434\\u0440\\u0443\\u0433\\u043e\\u0435\",\"\\u0434\\u0440\\u0443\\u0433\\u043e\\u0435\",\"\\u041e\\u0442 3 \\u0434\\u043e 6 \\u043b\\u0435\\u0442\",\"\\u043d\\u0435 \\u043e\\u043f\\u0440\\u0435\\u0434\\u0435\\u043b\\u0435\\u043d\\u043e\",\"\\u043d\\u0435 \\u043e\\u043f\\u0440\\u0435\\u0434\\u0435\\u043b\\u0435\\u043d\\u043e\",\"\\u043d\\u0435 \\u043e\\u043f\\u0440\\u0435\\u0434\\u0435\\u043b\\u0435\\u043d\\u043e\",\"\\u043d\\u0435 \\u043e\\u043f\\u0440\\u0435\\u0434\\u0435\\u043b\\u0435\\u043d\\u043e\",\"\\u0434\\u0440\\u0443\\u0433\\u043e\\u0435\",\"\\u043d\\u0435 \\u043e\\u043f\\u0440\\u0435\\u0434\\u0435\\u043b\\u0435\\u043d\\u043e\",\"\\u043d\\u0435 \\u043e\\u043f\\u0440\\u0435\\u0434\\u0435\\u043b\\u0435\\u043d\\u043e\",\"\\u043d\\u0435 \\u043e\\u043f\\u0440\\u0435\\u0434\\u0435\\u043b\\u0435\\u043d\\u043e\",\"\\u043d\\u0435 \\u043e\\u043f\\u0440\\u0435\\u0434\\u0435\\u043b\\u0435\\u043d\\u043e\",\"\\u043d\\u0435 \\u043e\\u043f\\u0440\\u0435\\u0434\\u0435\\u043b\\u0435\\u043d\\u043e\",\"\\u0434\\u0440\\u0443\\u0433\\u043e\\u0435\",\"\\u0434\\u0440\\u0443\\u0433\\u043e\\u0435\",\"\\u0434\\u0440\\u0443\\u0433\\u043e\\u0435\",\"\\u0434\\u0440\\u0443\\u0433\\u043e\\u0435\",\"\\u0434\\u0440\\u0443\\u0433\\u043e\\u0435\",\"\\u043d\\u0435 \\u043e\\u043f\\u0440\\u0435\\u0434\\u0435\\u043b\\u0435\\u043d\\u043e\",\"\\u041e\\u0442 3 \\u0434\\u043e 6 \\u043b\\u0435\\u0442\",\"\\u0434\\u0440\\u0443\\u0433\\u043e\\u0435\",\"\\u043d\\u0435 \\u043e\\u043f\\u0440\\u0435\\u0434\\u0435\\u043b\\u0435\\u043d\\u043e\",\"\\u041e\\u0442 3 \\u0434\\u043e 6 \\u043b\\u0435\\u0442\",\"\\u043d\\u0435 \\u043e\\u043f\\u0440\\u0435\\u0434\\u0435\\u043b\\u0435\\u043d\\u043e\",\"\\u043d\\u0435 \\u043e\\u043f\\u0440\\u0435\\u0434\\u0435\\u043b\\u0435\\u043d\\u043e\",\"\\u0434\\u0440\\u0443\\u0433\\u043e\\u0435\",\"\\u041e\\u0442 6 \\u043b\\u0435\\u0442\",\"\\u041e\\u0442 3 \\u0434\\u043e 6 \\u043b\\u0435\\u0442\",\"\\u0434\\u0440\\u0443\\u0433\\u043e\\u0435\",\"\\u043d\\u0435 \\u043e\\u043f\\u0440\\u0435\\u0434\\u0435\\u043b\\u0435\\u043d\\u043e\",\"\\u0434\\u0440\\u0443\\u0433\\u043e\\u0435\",\"\\u0434\\u0440\\u0443\\u0433\\u043e\\u0435\",\"\\u043d\\u0435 \\u043e\\u043f\\u0440\\u0435\\u0434\\u0435\\u043b\\u0435\\u043d\\u043e\",\"\\u041e\\u0442 3 \\u0434\\u043e 6 \\u043b\\u0435\\u0442\",\"\\u0434\\u0440\\u0443\\u0433\\u043e\\u0435\",\"\\u043d\\u0435 \\u043e\\u043f\\u0440\\u0435\\u0434\\u0435\\u043b\\u0435\\u043d\\u043e\",\"\\u043d\\u0435 \\u043e\\u043f\\u0440\\u0435\\u0434\\u0435\\u043b\\u0435\\u043d\\u043e\",\"\\u043d\\u0435 \\u043e\\u043f\\u0440\\u0435\\u0434\\u0435\\u043b\\u0435\\u043d\\u043e\",\"\\u043d\\u0435 \\u043e\\u043f\\u0440\\u0435\\u0434\\u0435\\u043b\\u0435\\u043d\\u043e\",\"\\u041e\\u0442 3 \\u0434\\u043e 6 \\u043b\\u0435\\u0442\",\"\\u041e\\u0442 3 \\u0434\\u043e 6 \\u043b\\u0435\\u0442\",\"\\u043d\\u0435 \\u043e\\u043f\\u0440\\u0435\\u0434\\u0435\\u043b\\u0435\\u043d\\u043e\",\"\\u043d\\u0435 \\u043e\\u043f\\u0440\\u0435\\u0434\\u0435\\u043b\\u0435\\u043d\\u043e\",\"\\u0434\\u0440\\u0443\\u0433\\u043e\\u0435\",\"\\u043d\\u0435 \\u043e\\u043f\\u0440\\u0435\\u0434\\u0435\\u043b\\u0435\\u043d\\u043e\",\"\\u041e\\u0442 6 \\u043b\\u0435\\u0442\",\"\\u043d\\u0435 \\u043e\\u043f\\u0440\\u0435\\u0434\\u0435\\u043b\\u0435\\u043d\\u043e\",\"\\u0434\\u0440\\u0443\\u0433\\u043e\\u0435\",\"\\u041e\\u0442 3 \\u0434\\u043e 6 \\u043b\\u0435\\u0442\",\"\\u043d\\u0435 \\u043e\\u043f\\u0440\\u0435\\u0434\\u0435\\u043b\\u0435\\u043d\\u043e\",\"\\u041e\\u0442 3 \\u0434\\u043e 6 \\u043b\\u0435\\u0442\",\"\\u0434\\u0440\\u0443\\u0433\\u043e\\u0435\",\"\\u043d\\u0435 \\u043e\\u043f\\u0440\\u0435\\u0434\\u0435\\u043b\\u0435\\u043d\\u043e\",\"\\u043d\\u0435 \\u043e\\u043f\\u0440\\u0435\\u0434\\u0435\\u043b\\u0435\\u043d\\u043e\",\"\\u0434\\u0440\\u0443\\u0433\\u043e\\u0435\",\"\\u041e\\u0442 3 \\u0434\\u043e 6 \\u043b\\u0435\\u0442\",\"\\u043d\\u0435 \\u043e\\u043f\\u0440\\u0435\\u0434\\u0435\\u043b\\u0435\\u043d\\u043e\",\"\\u043d\\u0435 \\u043e\\u043f\\u0440\\u0435\\u0434\\u0435\\u043b\\u0435\\u043d\\u043e\",\"\\u043d\\u0435 \\u043e\\u043f\\u0440\\u0435\\u0434\\u0435\\u043b\\u0435\\u043d\\u043e\",\"\\u043d\\u0435 \\u043e\\u043f\\u0440\\u0435\\u0434\\u0435\\u043b\\u0435\\u043d\\u043e\",\"\\u0434\\u0440\\u0443\\u0433\\u043e\\u0435\",\"\\u043d\\u0435 \\u043e\\u043f\\u0440\\u0435\\u0434\\u0435\\u043b\\u0435\\u043d\\u043e\",\"\\u043d\\u0435 \\u043e\\u043f\\u0440\\u0435\\u0434\\u0435\\u043b\\u0435\\u043d\\u043e\",\"\\u043d\\u0435 \\u043e\\u043f\\u0440\\u0435\\u0434\\u0435\\u043b\\u0435\\u043d\\u043e\",\"\\u043d\\u0435 \\u043e\\u043f\\u0440\\u0435\\u0434\\u0435\\u043b\\u0435\\u043d\\u043e\",\"\\u043d\\u0435 \\u043e\\u043f\\u0440\\u0435\\u0434\\u0435\\u043b\\u0435\\u043d\\u043e\",\"\\u0434\\u0440\\u0443\\u0433\\u043e\\u0435\",\"\\u043d\\u0435 \\u043e\\u043f\\u0440\\u0435\\u0434\\u0435\\u043b\\u0435\\u043d\\u043e\",\"\\u043d\\u0435 \\u043e\\u043f\\u0440\\u0435\\u0434\\u0435\\u043b\\u0435\\u043d\\u043e\",\"\\u043d\\u0435 \\u043e\\u043f\\u0440\\u0435\\u0434\\u0435\\u043b\\u0435\\u043d\\u043e\",\"\\u0434\\u0440\\u0443\\u0433\\u043e\\u0435\",\"\\u043d\\u0435 \\u043e\\u043f\\u0440\\u0435\\u0434\\u0435\\u043b\\u0435\\u043d\\u043e\",\"\\u043d\\u0435 \\u043e\\u043f\\u0440\\u0435\\u0434\\u0435\\u043b\\u0435\\u043d\\u043e\",\"\\u041e\\u0442 3 \\u0434\\u043e 6 \\u043b\\u0435\\u0442\"],\"y0\":\" \",\"yaxis\":\"y\",\"type\":\"box\"}],                        {\"template\":{\"data\":{\"histogram2dcontour\":[{\"type\":\"histogram2dcontour\",\"colorbar\":{\"outlinewidth\":0,\"ticks\":\"\"},\"colorscale\":[[0.0,\"#0d0887\"],[0.1111111111111111,\"#46039f\"],[0.2222222222222222,\"#7201a8\"],[0.3333333333333333,\"#9c179e\"],[0.4444444444444444,\"#bd3786\"],[0.5555555555555556,\"#d8576b\"],[0.6666666666666666,\"#ed7953\"],[0.7777777777777778,\"#fb9f3a\"],[0.8888888888888888,\"#fdca26\"],[1.0,\"#f0f921\"]]}],\"choropleth\":[{\"type\":\"choropleth\",\"colorbar\":{\"outlinewidth\":0,\"ticks\":\"\"}}],\"histogram2d\":[{\"type\":\"histogram2d\",\"colorbar\":{\"outlinewidth\":0,\"ticks\":\"\"},\"colorscale\":[[0.0,\"#0d0887\"],[0.1111111111111111,\"#46039f\"],[0.2222222222222222,\"#7201a8\"],[0.3333333333333333,\"#9c179e\"],[0.4444444444444444,\"#bd3786\"],[0.5555555555555556,\"#d8576b\"],[0.6666666666666666,\"#ed7953\"],[0.7777777777777778,\"#fb9f3a\"],[0.8888888888888888,\"#fdca26\"],[1.0,\"#f0f921\"]]}],\"heatmap\":[{\"type\":\"heatmap\",\"colorbar\":{\"outlinewidth\":0,\"ticks\":\"\"},\"colorscale\":[[0.0,\"#0d0887\"],[0.1111111111111111,\"#46039f\"],[0.2222222222222222,\"#7201a8\"],[0.3333333333333333,\"#9c179e\"],[0.4444444444444444,\"#bd3786\"],[0.5555555555555556,\"#d8576b\"],[0.6666666666666666,\"#ed7953\"],[0.7777777777777778,\"#fb9f3a\"],[0.8888888888888888,\"#fdca26\"],[1.0,\"#f0f921\"]]}],\"heatmapgl\":[{\"type\":\"heatmapgl\",\"colorbar\":{\"outlinewidth\":0,\"ticks\":\"\"},\"colorscale\":[[0.0,\"#0d0887\"],[0.1111111111111111,\"#46039f\"],[0.2222222222222222,\"#7201a8\"],[0.3333333333333333,\"#9c179e\"],[0.4444444444444444,\"#bd3786\"],[0.5555555555555556,\"#d8576b\"],[0.6666666666666666,\"#ed7953\"],[0.7777777777777778,\"#fb9f3a\"],[0.8888888888888888,\"#fdca26\"],[1.0,\"#f0f921\"]]}],\"contourcarpet\":[{\"type\":\"contourcarpet\",\"colorbar\":{\"outlinewidth\":0,\"ticks\":\"\"}}],\"contour\":[{\"type\":\"contour\",\"colorbar\":{\"outlinewidth\":0,\"ticks\":\"\"},\"colorscale\":[[0.0,\"#0d0887\"],[0.1111111111111111,\"#46039f\"],[0.2222222222222222,\"#7201a8\"],[0.3333333333333333,\"#9c179e\"],[0.4444444444444444,\"#bd3786\"],[0.5555555555555556,\"#d8576b\"],[0.6666666666666666,\"#ed7953\"],[0.7777777777777778,\"#fb9f3a\"],[0.8888888888888888,\"#fdca26\"],[1.0,\"#f0f921\"]]}],\"surface\":[{\"type\":\"surface\",\"colorbar\":{\"outlinewidth\":0,\"ticks\":\"\"},\"colorscale\":[[0.0,\"#0d0887\"],[0.1111111111111111,\"#46039f\"],[0.2222222222222222,\"#7201a8\"],[0.3333333333333333,\"#9c179e\"],[0.4444444444444444,\"#bd3786\"],[0.5555555555555556,\"#d8576b\"],[0.6666666666666666,\"#ed7953\"],[0.7777777777777778,\"#fb9f3a\"],[0.8888888888888888,\"#fdca26\"],[1.0,\"#f0f921\"]]}],\"mesh3d\":[{\"type\":\"mesh3d\",\"colorbar\":{\"outlinewidth\":0,\"ticks\":\"\"}}],\"scatter\":[{\"fillpattern\":{\"fillmode\":\"overlay\",\"size\":10,\"solidity\":0.2},\"type\":\"scatter\"}],\"parcoords\":[{\"type\":\"parcoords\",\"line\":{\"colorbar\":{\"outlinewidth\":0,\"ticks\":\"\"}}}],\"scatterpolargl\":[{\"type\":\"scatterpolargl\",\"marker\":{\"colorbar\":{\"outlinewidth\":0,\"ticks\":\"\"}}}],\"bar\":[{\"error_x\":{\"color\":\"#2a3f5f\"},\"error_y\":{\"color\":\"#2a3f5f\"},\"marker\":{\"line\":{\"color\":\"#E5ECF6\",\"width\":0.5},\"pattern\":{\"fillmode\":\"overlay\",\"size\":10,\"solidity\":0.2}},\"type\":\"bar\"}],\"scattergeo\":[{\"type\":\"scattergeo\",\"marker\":{\"colorbar\":{\"outlinewidth\":0,\"ticks\":\"\"}}}],\"scatterpolar\":[{\"type\":\"scatterpolar\",\"marker\":{\"colorbar\":{\"outlinewidth\":0,\"ticks\":\"\"}}}],\"histogram\":[{\"marker\":{\"pattern\":{\"fillmode\":\"overlay\",\"size\":10,\"solidity\":0.2}},\"type\":\"histogram\"}],\"scattergl\":[{\"type\":\"scattergl\",\"marker\":{\"colorbar\":{\"outlinewidth\":0,\"ticks\":\"\"}}}],\"scatter3d\":[{\"type\":\"scatter3d\",\"line\":{\"colorbar\":{\"outlinewidth\":0,\"ticks\":\"\"}},\"marker\":{\"colorbar\":{\"outlinewidth\":0,\"ticks\":\"\"}}}],\"scattermapbox\":[{\"type\":\"scattermapbox\",\"marker\":{\"colorbar\":{\"outlinewidth\":0,\"ticks\":\"\"}}}],\"scatterternary\":[{\"type\":\"scatterternary\",\"marker\":{\"colorbar\":{\"outlinewidth\":0,\"ticks\":\"\"}}}],\"scattercarpet\":[{\"type\":\"scattercarpet\",\"marker\":{\"colorbar\":{\"outlinewidth\":0,\"ticks\":\"\"}}}],\"carpet\":[{\"aaxis\":{\"endlinecolor\":\"#2a3f5f\",\"gridcolor\":\"white\",\"linecolor\":\"white\",\"minorgridcolor\":\"white\",\"startlinecolor\":\"#2a3f5f\"},\"baxis\":{\"endlinecolor\":\"#2a3f5f\",\"gridcolor\":\"white\",\"linecolor\":\"white\",\"minorgridcolor\":\"white\",\"startlinecolor\":\"#2a3f5f\"},\"type\":\"carpet\"}],\"table\":[{\"cells\":{\"fill\":{\"color\":\"#EBF0F8\"},\"line\":{\"color\":\"white\"}},\"header\":{\"fill\":{\"color\":\"#C8D4E3\"},\"line\":{\"color\":\"white\"}},\"type\":\"table\"}],\"barpolar\":[{\"marker\":{\"line\":{\"color\":\"#E5ECF6\",\"width\":0.5},\"pattern\":{\"fillmode\":\"overlay\",\"size\":10,\"solidity\":0.2}},\"type\":\"barpolar\"}],\"pie\":[{\"automargin\":true,\"type\":\"pie\"}]},\"layout\":{\"autotypenumbers\":\"strict\",\"colorway\":[\"#636efa\",\"#EF553B\",\"#00cc96\",\"#ab63fa\",\"#FFA15A\",\"#19d3f3\",\"#FF6692\",\"#B6E880\",\"#FF97FF\",\"#FECB52\"],\"font\":{\"color\":\"#2a3f5f\"},\"hovermode\":\"closest\",\"hoverlabel\":{\"align\":\"left\"},\"paper_bgcolor\":\"white\",\"plot_bgcolor\":\"#E5ECF6\",\"polar\":{\"bgcolor\":\"#E5ECF6\",\"angularaxis\":{\"gridcolor\":\"white\",\"linecolor\":\"white\",\"ticks\":\"\"},\"radialaxis\":{\"gridcolor\":\"white\",\"linecolor\":\"white\",\"ticks\":\"\"}},\"ternary\":{\"bgcolor\":\"#E5ECF6\",\"aaxis\":{\"gridcolor\":\"white\",\"linecolor\":\"white\",\"ticks\":\"\"},\"baxis\":{\"gridcolor\":\"white\",\"linecolor\":\"white\",\"ticks\":\"\"},\"caxis\":{\"gridcolor\":\"white\",\"linecolor\":\"white\",\"ticks\":\"\"}},\"coloraxis\":{\"colorbar\":{\"outlinewidth\":0,\"ticks\":\"\"}},\"colorscale\":{\"sequential\":[[0.0,\"#0d0887\"],[0.1111111111111111,\"#46039f\"],[0.2222222222222222,\"#7201a8\"],[0.3333333333333333,\"#9c179e\"],[0.4444444444444444,\"#bd3786\"],[0.5555555555555556,\"#d8576b\"],[0.6666666666666666,\"#ed7953\"],[0.7777777777777778,\"#fb9f3a\"],[0.8888888888888888,\"#fdca26\"],[1.0,\"#f0f921\"]],\"sequentialminus\":[[0.0,\"#0d0887\"],[0.1111111111111111,\"#46039f\"],[0.2222222222222222,\"#7201a8\"],[0.3333333333333333,\"#9c179e\"],[0.4444444444444444,\"#bd3786\"],[0.5555555555555556,\"#d8576b\"],[0.6666666666666666,\"#ed7953\"],[0.7777777777777778,\"#fb9f3a\"],[0.8888888888888888,\"#fdca26\"],[1.0,\"#f0f921\"]],\"diverging\":[[0,\"#8e0152\"],[0.1,\"#c51b7d\"],[0.2,\"#de77ae\"],[0.3,\"#f1b6da\"],[0.4,\"#fde0ef\"],[0.5,\"#f7f7f7\"],[0.6,\"#e6f5d0\"],[0.7,\"#b8e186\"],[0.8,\"#7fbc41\"],[0.9,\"#4d9221\"],[1,\"#276419\"]]},\"xaxis\":{\"gridcolor\":\"white\",\"linecolor\":\"white\",\"ticks\":\"\",\"title\":{\"standoff\":15},\"zerolinecolor\":\"white\",\"automargin\":true,\"zerolinewidth\":2},\"yaxis\":{\"gridcolor\":\"white\",\"linecolor\":\"white\",\"ticks\":\"\",\"title\":{\"standoff\":15},\"zerolinecolor\":\"white\",\"automargin\":true,\"zerolinewidth\":2},\"scene\":{\"xaxis\":{\"backgroundcolor\":\"#E5ECF6\",\"gridcolor\":\"white\",\"linecolor\":\"white\",\"showbackground\":true,\"ticks\":\"\",\"zerolinecolor\":\"white\",\"gridwidth\":2},\"yaxis\":{\"backgroundcolor\":\"#E5ECF6\",\"gridcolor\":\"white\",\"linecolor\":\"white\",\"showbackground\":true,\"ticks\":\"\",\"zerolinecolor\":\"white\",\"gridwidth\":2},\"zaxis\":{\"backgroundcolor\":\"#E5ECF6\",\"gridcolor\":\"white\",\"linecolor\":\"white\",\"showbackground\":true,\"ticks\":\"\",\"zerolinecolor\":\"white\",\"gridwidth\":2}},\"shapedefaults\":{\"line\":{\"color\":\"#2a3f5f\"}},\"annotationdefaults\":{\"arrowcolor\":\"#2a3f5f\",\"arrowhead\":0,\"arrowwidth\":1},\"geo\":{\"bgcolor\":\"white\",\"landcolor\":\"#E5ECF6\",\"subunitcolor\":\"white\",\"showland\":true,\"showlakes\":true,\"lakecolor\":\"white\"},\"title\":{\"x\":0.05},\"mapbox\":{\"style\":\"light\"}}},\"xaxis\":{\"anchor\":\"y\",\"domain\":[0.0,1.0],\"title\":{\"text\":\"salary\"}},\"yaxis\":{\"anchor\":\"x\",\"domain\":[0.0,1.0],\"title\":{\"text\":\"levels2\"},\"categoryorder\":\"array\",\"categoryarray\":[\"\\u043d\\u0435 \\u043e\\u043f\\u0440\\u0435\\u0434\\u0435\\u043b\\u0435\\u043d\\u043e\",\"\\u0434\\u0440\\u0443\\u0433\\u043e\\u0435\",\"\\u041e\\u0442 6 \\u043b\\u0435\\u0442\",\"\\u041e\\u0442 3 \\u0434\\u043e 6 \\u043b\\u0435\\u0442\",\"\\u041e\\u0442 1 \\u0433\\u043e\\u0434\\u0430 \\u0434\\u043e 3 \\u043b\\u0435\\u0442\",\"\\u041e\\u0442 0 \\u0434\\u043e 1 \\u0433\\u043e\\u0434\\u0430\"]},\"legend\":{\"tracegroupgap\":0},\"margin\":{\"t\":60},\"boxmode\":\"group\"},                        {\"responsive\": true}                    ).then(function(){\n",
       "                            \n",
       "var gd = document.getElementById('e309c083-beda-4933-b8c8-7c4776398eae');\n",
       "var x = new MutationObserver(function (mutations, observer) {{\n",
       "        var display = window.getComputedStyle(gd).display;\n",
       "        if (!display || display === 'none') {{\n",
       "            console.log([gd, 'removed!']);\n",
       "            Plotly.purge(gd);\n",
       "            observer.disconnect();\n",
       "        }}\n",
       "}});\n",
       "\n",
       "// Listen for the removal of the full notebook cells\n",
       "var notebookContainer = gd.closest('#notebook-container');\n",
       "if (notebookContainer) {{\n",
       "    x.observe(notebookContainer, {childList: true});\n",
       "}}\n",
       "\n",
       "// Listen for the clearing of the current output cell\n",
       "var outputEl = gd.closest('.output');\n",
       "if (outputEl) {{\n",
       "    x.observe(outputEl, {childList: true});\n",
       "}}\n",
       "\n",
       "                        })                };                });            </script>        </div>"
      ]
     },
     "metadata": {},
     "output_type": "display_data"
    }
   ],
   "source": [
    "px.box(df[df['salary'] != 0], x = 'salary', y = 'levels2', orientation = 'h',\n",
    "      category_orders = {'levels2':['От 0 до 1 года','От 1 года до 3 лет','От 3 до 6 лет','От 6 лет','другое','не определено']}, color_discrete_sequence = ['steelblue'])"
   ]
  },
  {
   "cell_type": "markdown",
   "id": "5d17e7e6",
   "metadata": {},
   "source": [
    "выводы: \n",
    "    - для первых трех уровней медиана удваивается, экспоненциальный рост\n",
    "    - диапазоны зарплат \"от 6 лет\" и \"3-6 лет\" пересекаются на 50% (межквартильный размах переекается)"
   ]
  },
  {
   "cell_type": "markdown",
   "id": "a889279a",
   "metadata": {},
   "source": [
    "### 4) Средняя зарплата в разбивке по компаниям"
   ]
  },
  {
   "cell_type": "code",
   "execution_count": 37,
   "id": "7e4d88b2",
   "metadata": {},
   "outputs": [
    {
     "data": {
      "text/plain": [
       "не определено                        335\n",
       "СБЕР                                 254\n",
       "МТС                                   86\n",
       "VK                                    80\n",
       "Тинькофф                              78\n",
       "                                    ... \n",
       "АйтиКом                                1\n",
       "MobiTalents                            1\n",
       "Крупная горно-добывающая компания      1\n",
       "ГофроМир                               1\n",
       "Eclipse Digital Studio                 1\n",
       "Name: company, Length: 1989, dtype: int64"
      ]
     },
     "metadata": {},
     "output_type": "display_data"
    }
   ],
   "source": [
    "display(df['company'].value_counts())"
   ]
  },
  {
   "cell_type": "code",
   "execution_count": 38,
   "id": "957c87d8",
   "metadata": {},
   "outputs": [
    {
     "data": {
      "text/html": [
       "<div>\n",
       "<style scoped>\n",
       "    .dataframe tbody tr th:only-of-type {\n",
       "        vertical-align: middle;\n",
       "    }\n",
       "\n",
       "    .dataframe tbody tr th {\n",
       "        vertical-align: top;\n",
       "    }\n",
       "\n",
       "    .dataframe thead th {\n",
       "        text-align: right;\n",
       "    }\n",
       "</style>\n",
       "<table border=\"1\" class=\"dataframe\">\n",
       "  <thead>\n",
       "    <tr style=\"text-align: right;\">\n",
       "      <th></th>\n",
       "      <th>company</th>\n",
       "      <th>levels2</th>\n",
       "      <th>size</th>\n",
       "      <th>mean</th>\n",
       "    </tr>\n",
       "  </thead>\n",
       "  <tbody>\n",
       "    <tr>\n",
       "      <th>5</th>\n",
       "      <td>Datafold</td>\n",
       "      <td>От 3 до 6 лет</td>\n",
       "      <td>3</td>\n",
       "      <td>595000.000000</td>\n",
       "    </tr>\n",
       "    <tr>\n",
       "      <th>42</th>\n",
       "      <td>SberDevices</td>\n",
       "      <td>От 3 до 6 лет</td>\n",
       "      <td>7</td>\n",
       "      <td>357142.857143</td>\n",
       "    </tr>\n",
       "    <tr>\n",
       "      <th>55</th>\n",
       "      <td>МТС BigData</td>\n",
       "      <td>другое</td>\n",
       "      <td>3</td>\n",
       "      <td>350000.000000</td>\n",
       "    </tr>\n",
       "    <tr>\n",
       "      <th>110</th>\n",
       "      <td>не определено</td>\n",
       "      <td>От 6 лет</td>\n",
       "      <td>8</td>\n",
       "      <td>298750.000000</td>\n",
       "    </tr>\n",
       "    <tr>\n",
       "      <th>111</th>\n",
       "      <td>Sportmaster Lab</td>\n",
       "      <td>От 1 года до 3 лет</td>\n",
       "      <td>3</td>\n",
       "      <td>293333.333333</td>\n",
       "    </tr>\n",
       "    <tr>\n",
       "      <th>112</th>\n",
       "      <td>RA Clever Recruiting</td>\n",
       "      <td>не определено</td>\n",
       "      <td>3</td>\n",
       "      <td>287000.000000</td>\n",
       "    </tr>\n",
       "    <tr>\n",
       "      <th>113</th>\n",
       "      <td>Сбер</td>\n",
       "      <td>От 3 до 6 лет</td>\n",
       "      <td>11</td>\n",
       "      <td>286363.636364</td>\n",
       "    </tr>\n",
       "    <tr>\n",
       "      <th>177</th>\n",
       "      <td>не определено</td>\n",
       "      <td>другое</td>\n",
       "      <td>48</td>\n",
       "      <td>249677.083333</td>\n",
       "    </tr>\n",
       "    <tr>\n",
       "      <th>178</th>\n",
       "      <td>Quantum Brains</td>\n",
       "      <td>другое</td>\n",
       "      <td>3</td>\n",
       "      <td>246666.666667</td>\n",
       "    </tr>\n",
       "    <tr>\n",
       "      <th>184</th>\n",
       "      <td>не определено</td>\n",
       "      <td>не определено</td>\n",
       "      <td>78</td>\n",
       "      <td>238551.564103</td>\n",
       "    </tr>\n",
       "    <tr>\n",
       "      <th>186</th>\n",
       "      <td>SberTech</td>\n",
       "      <td>От 1 года до 3 лет</td>\n",
       "      <td>3</td>\n",
       "      <td>232666.666667</td>\n",
       "    </tr>\n",
       "    <tr>\n",
       "      <th>200</th>\n",
       "      <td>не определено</td>\n",
       "      <td>От 3 до 6 лет</td>\n",
       "      <td>24</td>\n",
       "      <td>213750.000000</td>\n",
       "    </tr>\n",
       "    <tr>\n",
       "      <th>255</th>\n",
       "      <td>Ростелеком</td>\n",
       "      <td>От 1 года до 3 лет</td>\n",
       "      <td>3</td>\n",
       "      <td>166666.666667</td>\n",
       "    </tr>\n",
       "    <tr>\n",
       "      <th>262</th>\n",
       "      <td>Сбер</td>\n",
       "      <td>От 1 года до 3 лет</td>\n",
       "      <td>9</td>\n",
       "      <td>156666.666667</td>\n",
       "    </tr>\n",
       "  </tbody>\n",
       "</table>\n",
       "</div>"
      ],
      "text/plain": [
       "                  company             levels2  size           mean\n",
       "5                Datafold       От 3 до 6 лет     3  595000.000000\n",
       "42            SberDevices       От 3 до 6 лет     7  357142.857143\n",
       "55            МТС BigData              другое     3  350000.000000\n",
       "110         не определено            От 6 лет     8  298750.000000\n",
       "111       Sportmaster Lab  От 1 года до 3 лет     3  293333.333333\n",
       "112  RA Clever Recruiting       не определено     3  287000.000000\n",
       "113                  Сбер       От 3 до 6 лет    11  286363.636364\n",
       "177         не определено              другое    48  249677.083333\n",
       "178        Quantum Brains              другое     3  246666.666667\n",
       "184         не определено       не определено    78  238551.564103\n",
       "186              SberTech  От 1 года до 3 лет     3  232666.666667\n",
       "200         не определено       От 3 до 6 лет    24  213750.000000\n",
       "255            Ростелеком  От 1 года до 3 лет     3  166666.666667\n",
       "262                  Сбер  От 1 года до 3 лет     9  156666.666667"
      ]
     },
     "execution_count": 38,
     "metadata": {},
     "output_type": "execute_result"
    }
   ],
   "source": [
    "hunters = df[df['salary'] != 0].groupby(by =['company','levels2'], as_index = False)['salary'].agg(['size', 'mean']).sort_values('mean', ascending = False).reset_index()\n",
    "hunters[hunters['size'] > 2]"
   ]
  },
  {
   "cell_type": "code",
   "execution_count": 39,
   "id": "49d204eb",
   "metadata": {},
   "outputs": [
    {
     "data": {
      "text/html": [
       "<div>\n",
       "<style scoped>\n",
       "    .dataframe tbody tr th:only-of-type {\n",
       "        vertical-align: middle;\n",
       "    }\n",
       "\n",
       "    .dataframe tbody tr th {\n",
       "        vertical-align: top;\n",
       "    }\n",
       "\n",
       "    .dataframe thead th {\n",
       "        text-align: right;\n",
       "    }\n",
       "</style>\n",
       "<table border=\"1\" class=\"dataframe\">\n",
       "  <thead>\n",
       "    <tr style=\"text-align: right;\">\n",
       "      <th></th>\n",
       "      <th>company</th>\n",
       "      <th>position</th>\n",
       "      <th>location</th>\n",
       "      <th>schedule</th>\n",
       "      <th>responsibilities</th>\n",
       "      <th>requirements</th>\n",
       "      <th>levels</th>\n",
       "      <th>techstack</th>\n",
       "      <th>source</th>\n",
       "      <th>format</th>\n",
       "      <th>salary</th>\n",
       "      <th>currency</th>\n",
       "      <th>salary_range</th>\n",
       "      <th>format2</th>\n",
       "      <th>levels2</th>\n",
       "    </tr>\n",
       "  </thead>\n",
       "  <tbody>\n",
       "    <tr>\n",
       "      <th>4957</th>\n",
       "      <td>Datafold</td>\n",
       "      <td>Python Developer</td>\n",
       "      <td>не определено</td>\n",
       "      <td>['Fulltime', 'Полная']</td>\n",
       "      <td>не определено</td>\n",
       "      <td>-Опыт системной разработки от 5 лет, из них ми...</td>\n",
       "      <td>['Senior']</td>\n",
       "      <td>['python', 'etl', 'sql']</td>\n",
       "      <td>https://t.me/s/datasciencejobs</td>\n",
       "      <td>['Удалёнка']</td>\n",
       "      <td>595000.0</td>\n",
       "      <td>USD</td>\n",
       "      <td>600000</td>\n",
       "      <td>удаленка</td>\n",
       "      <td>От 3 до 6 лет</td>\n",
       "    </tr>\n",
       "    <tr>\n",
       "      <th>4969</th>\n",
       "      <td>Datafold</td>\n",
       "      <td>Python Developer</td>\n",
       "      <td>не определено</td>\n",
       "      <td>['Полная']</td>\n",
       "      <td>не определено</td>\n",
       "      <td>-Опыт разработки от 5 лет, из них минимум 4 го...</td>\n",
       "      <td>['Senior']</td>\n",
       "      <td>['python', 'etl', 'sql']</td>\n",
       "      <td>https://t.me/s/datasciencejobs</td>\n",
       "      <td>['Удалёнка', 'Удалёнка']</td>\n",
       "      <td>595000.0</td>\n",
       "      <td>USD</td>\n",
       "      <td>600000</td>\n",
       "      <td>удаленка</td>\n",
       "      <td>От 3 до 6 лет</td>\n",
       "    </tr>\n",
       "    <tr>\n",
       "      <th>4972</th>\n",
       "      <td>Datafold</td>\n",
       "      <td>Python Developer</td>\n",
       "      <td>не определено</td>\n",
       "      <td>['Fulltime', 'Полная']</td>\n",
       "      <td>не определено</td>\n",
       "      <td>-Опыт разработки от 5 лет, из них минимум 4 го...</td>\n",
       "      <td>['Senior']</td>\n",
       "      <td>['python', 'etl', 'sql']</td>\n",
       "      <td>https://t.me/s/datasciencejobs</td>\n",
       "      <td>['Удалёнка', 'Удалёнка']</td>\n",
       "      <td>595000.0</td>\n",
       "      <td>USD</td>\n",
       "      <td>600000</td>\n",
       "      <td>удаленка</td>\n",
       "      <td>От 3 до 6 лет</td>\n",
       "    </tr>\n",
       "  </tbody>\n",
       "</table>\n",
       "</div>"
      ],
      "text/plain": [
       "       company          position       location                schedule responsibilities                                       requirements      levels                 techstack                          source                    format    salary currency  salary_range   format2        levels2\n",
       "4957  Datafold  Python Developer  не определено  ['Fulltime', 'Полная']    не определено  -Опыт системной разработки от 5 лет, из них ми...  ['Senior']  ['python', 'etl', 'sql']  https://t.me/s/datasciencejobs              ['Удалёнка']  595000.0      USD        600000  удаленка  От 3 до 6 лет\n",
       "4969  Datafold  Python Developer  не определено              ['Полная']    не определено  -Опыт разработки от 5 лет, из них минимум 4 го...  ['Senior']  ['python', 'etl', 'sql']  https://t.me/s/datasciencejobs  ['Удалёнка', 'Удалёнка']  595000.0      USD        600000  удаленка  От 3 до 6 лет\n",
       "4972  Datafold  Python Developer  не определено  ['Fulltime', 'Полная']    не определено  -Опыт разработки от 5 лет, из них минимум 4 го...  ['Senior']  ['python', 'etl', 'sql']  https://t.me/s/datasciencejobs  ['Удалёнка', 'Удалёнка']  595000.0      USD        600000  удаленка  От 3 до 6 лет"
      ]
     },
     "execution_count": 39,
     "metadata": {},
     "output_type": "execute_result"
    }
   ],
   "source": [
    "df[df['company'] == 'Datafold']"
   ]
  },
  {
   "cell_type": "code",
   "execution_count": 56,
   "id": "d8df05a4",
   "metadata": {
    "scrolled": false
   },
   "outputs": [
    {
     "data": {
      "application/vnd.plotly.v1+json": {
       "config": {
        "plotlyServerURL": "https://plot.ly"
       },
       "data": [
        {
         "alignmentgroup": "True",
         "hovertemplate": "company=%{x}<br>mean=%{y}<extra></extra>",
         "legendgroup": "",
         "marker": {
          "color": "steelblue",
          "pattern": {
           "shape": ""
          }
         },
         "name": "",
         "offsetgroup": "",
         "orientation": "v",
         "showlegend": false,
         "textposition": "auto",
         "type": "bar",
         "x": [
          "МТС BigData",
          "не определено",
          "Quantum Brains"
         ],
         "xaxis": "x",
         "y": [
          350000,
          249677.08333333334,
          246666.66666666666
         ],
         "yaxis": "y"
        }
       ],
       "layout": {
        "barmode": "relative",
        "height": 600,
        "legend": {
         "tracegroupgap": 0
        },
        "template": {
         "data": {
          "bar": [
           {
            "error_x": {
             "color": "#2a3f5f"
            },
            "error_y": {
             "color": "#2a3f5f"
            },
            "marker": {
             "line": {
              "color": "#E5ECF6",
              "width": 0.5
             },
             "pattern": {
              "fillmode": "overlay",
              "size": 10,
              "solidity": 0.2
             }
            },
            "type": "bar"
           }
          ],
          "barpolar": [
           {
            "marker": {
             "line": {
              "color": "#E5ECF6",
              "width": 0.5
             },
             "pattern": {
              "fillmode": "overlay",
              "size": 10,
              "solidity": 0.2
             }
            },
            "type": "barpolar"
           }
          ],
          "carpet": [
           {
            "aaxis": {
             "endlinecolor": "#2a3f5f",
             "gridcolor": "white",
             "linecolor": "white",
             "minorgridcolor": "white",
             "startlinecolor": "#2a3f5f"
            },
            "baxis": {
             "endlinecolor": "#2a3f5f",
             "gridcolor": "white",
             "linecolor": "white",
             "minorgridcolor": "white",
             "startlinecolor": "#2a3f5f"
            },
            "type": "carpet"
           }
          ],
          "choropleth": [
           {
            "colorbar": {
             "outlinewidth": 0,
             "ticks": ""
            },
            "type": "choropleth"
           }
          ],
          "contour": [
           {
            "colorbar": {
             "outlinewidth": 0,
             "ticks": ""
            },
            "colorscale": [
             [
              0,
              "#0d0887"
             ],
             [
              0.1111111111111111,
              "#46039f"
             ],
             [
              0.2222222222222222,
              "#7201a8"
             ],
             [
              0.3333333333333333,
              "#9c179e"
             ],
             [
              0.4444444444444444,
              "#bd3786"
             ],
             [
              0.5555555555555556,
              "#d8576b"
             ],
             [
              0.6666666666666666,
              "#ed7953"
             ],
             [
              0.7777777777777778,
              "#fb9f3a"
             ],
             [
              0.8888888888888888,
              "#fdca26"
             ],
             [
              1,
              "#f0f921"
             ]
            ],
            "type": "contour"
           }
          ],
          "contourcarpet": [
           {
            "colorbar": {
             "outlinewidth": 0,
             "ticks": ""
            },
            "type": "contourcarpet"
           }
          ],
          "heatmap": [
           {
            "colorbar": {
             "outlinewidth": 0,
             "ticks": ""
            },
            "colorscale": [
             [
              0,
              "#0d0887"
             ],
             [
              0.1111111111111111,
              "#46039f"
             ],
             [
              0.2222222222222222,
              "#7201a8"
             ],
             [
              0.3333333333333333,
              "#9c179e"
             ],
             [
              0.4444444444444444,
              "#bd3786"
             ],
             [
              0.5555555555555556,
              "#d8576b"
             ],
             [
              0.6666666666666666,
              "#ed7953"
             ],
             [
              0.7777777777777778,
              "#fb9f3a"
             ],
             [
              0.8888888888888888,
              "#fdca26"
             ],
             [
              1,
              "#f0f921"
             ]
            ],
            "type": "heatmap"
           }
          ],
          "heatmapgl": [
           {
            "colorbar": {
             "outlinewidth": 0,
             "ticks": ""
            },
            "colorscale": [
             [
              0,
              "#0d0887"
             ],
             [
              0.1111111111111111,
              "#46039f"
             ],
             [
              0.2222222222222222,
              "#7201a8"
             ],
             [
              0.3333333333333333,
              "#9c179e"
             ],
             [
              0.4444444444444444,
              "#bd3786"
             ],
             [
              0.5555555555555556,
              "#d8576b"
             ],
             [
              0.6666666666666666,
              "#ed7953"
             ],
             [
              0.7777777777777778,
              "#fb9f3a"
             ],
             [
              0.8888888888888888,
              "#fdca26"
             ],
             [
              1,
              "#f0f921"
             ]
            ],
            "type": "heatmapgl"
           }
          ],
          "histogram": [
           {
            "marker": {
             "pattern": {
              "fillmode": "overlay",
              "size": 10,
              "solidity": 0.2
             }
            },
            "type": "histogram"
           }
          ],
          "histogram2d": [
           {
            "colorbar": {
             "outlinewidth": 0,
             "ticks": ""
            },
            "colorscale": [
             [
              0,
              "#0d0887"
             ],
             [
              0.1111111111111111,
              "#46039f"
             ],
             [
              0.2222222222222222,
              "#7201a8"
             ],
             [
              0.3333333333333333,
              "#9c179e"
             ],
             [
              0.4444444444444444,
              "#bd3786"
             ],
             [
              0.5555555555555556,
              "#d8576b"
             ],
             [
              0.6666666666666666,
              "#ed7953"
             ],
             [
              0.7777777777777778,
              "#fb9f3a"
             ],
             [
              0.8888888888888888,
              "#fdca26"
             ],
             [
              1,
              "#f0f921"
             ]
            ],
            "type": "histogram2d"
           }
          ],
          "histogram2dcontour": [
           {
            "colorbar": {
             "outlinewidth": 0,
             "ticks": ""
            },
            "colorscale": [
             [
              0,
              "#0d0887"
             ],
             [
              0.1111111111111111,
              "#46039f"
             ],
             [
              0.2222222222222222,
              "#7201a8"
             ],
             [
              0.3333333333333333,
              "#9c179e"
             ],
             [
              0.4444444444444444,
              "#bd3786"
             ],
             [
              0.5555555555555556,
              "#d8576b"
             ],
             [
              0.6666666666666666,
              "#ed7953"
             ],
             [
              0.7777777777777778,
              "#fb9f3a"
             ],
             [
              0.8888888888888888,
              "#fdca26"
             ],
             [
              1,
              "#f0f921"
             ]
            ],
            "type": "histogram2dcontour"
           }
          ],
          "mesh3d": [
           {
            "colorbar": {
             "outlinewidth": 0,
             "ticks": ""
            },
            "type": "mesh3d"
           }
          ],
          "parcoords": [
           {
            "line": {
             "colorbar": {
              "outlinewidth": 0,
              "ticks": ""
             }
            },
            "type": "parcoords"
           }
          ],
          "pie": [
           {
            "automargin": true,
            "type": "pie"
           }
          ],
          "scatter": [
           {
            "fillpattern": {
             "fillmode": "overlay",
             "size": 10,
             "solidity": 0.2
            },
            "type": "scatter"
           }
          ],
          "scatter3d": [
           {
            "line": {
             "colorbar": {
              "outlinewidth": 0,
              "ticks": ""
             }
            },
            "marker": {
             "colorbar": {
              "outlinewidth": 0,
              "ticks": ""
             }
            },
            "type": "scatter3d"
           }
          ],
          "scattercarpet": [
           {
            "marker": {
             "colorbar": {
              "outlinewidth": 0,
              "ticks": ""
             }
            },
            "type": "scattercarpet"
           }
          ],
          "scattergeo": [
           {
            "marker": {
             "colorbar": {
              "outlinewidth": 0,
              "ticks": ""
             }
            },
            "type": "scattergeo"
           }
          ],
          "scattergl": [
           {
            "marker": {
             "colorbar": {
              "outlinewidth": 0,
              "ticks": ""
             }
            },
            "type": "scattergl"
           }
          ],
          "scattermapbox": [
           {
            "marker": {
             "colorbar": {
              "outlinewidth": 0,
              "ticks": ""
             }
            },
            "type": "scattermapbox"
           }
          ],
          "scatterpolar": [
           {
            "marker": {
             "colorbar": {
              "outlinewidth": 0,
              "ticks": ""
             }
            },
            "type": "scatterpolar"
           }
          ],
          "scatterpolargl": [
           {
            "marker": {
             "colorbar": {
              "outlinewidth": 0,
              "ticks": ""
             }
            },
            "type": "scatterpolargl"
           }
          ],
          "scatterternary": [
           {
            "marker": {
             "colorbar": {
              "outlinewidth": 0,
              "ticks": ""
             }
            },
            "type": "scatterternary"
           }
          ],
          "surface": [
           {
            "colorbar": {
             "outlinewidth": 0,
             "ticks": ""
            },
            "colorscale": [
             [
              0,
              "#0d0887"
             ],
             [
              0.1111111111111111,
              "#46039f"
             ],
             [
              0.2222222222222222,
              "#7201a8"
             ],
             [
              0.3333333333333333,
              "#9c179e"
             ],
             [
              0.4444444444444444,
              "#bd3786"
             ],
             [
              0.5555555555555556,
              "#d8576b"
             ],
             [
              0.6666666666666666,
              "#ed7953"
             ],
             [
              0.7777777777777778,
              "#fb9f3a"
             ],
             [
              0.8888888888888888,
              "#fdca26"
             ],
             [
              1,
              "#f0f921"
             ]
            ],
            "type": "surface"
           }
          ],
          "table": [
           {
            "cells": {
             "fill": {
              "color": "#EBF0F8"
             },
             "line": {
              "color": "white"
             }
            },
            "header": {
             "fill": {
              "color": "#C8D4E3"
             },
             "line": {
              "color": "white"
             }
            },
            "type": "table"
           }
          ]
         },
         "layout": {
          "annotationdefaults": {
           "arrowcolor": "#2a3f5f",
           "arrowhead": 0,
           "arrowwidth": 1
          },
          "autotypenumbers": "strict",
          "coloraxis": {
           "colorbar": {
            "outlinewidth": 0,
            "ticks": ""
           }
          },
          "colorscale": {
           "diverging": [
            [
             0,
             "#8e0152"
            ],
            [
             0.1,
             "#c51b7d"
            ],
            [
             0.2,
             "#de77ae"
            ],
            [
             0.3,
             "#f1b6da"
            ],
            [
             0.4,
             "#fde0ef"
            ],
            [
             0.5,
             "#f7f7f7"
            ],
            [
             0.6,
             "#e6f5d0"
            ],
            [
             0.7,
             "#b8e186"
            ],
            [
             0.8,
             "#7fbc41"
            ],
            [
             0.9,
             "#4d9221"
            ],
            [
             1,
             "#276419"
            ]
           ],
           "sequential": [
            [
             0,
             "#0d0887"
            ],
            [
             0.1111111111111111,
             "#46039f"
            ],
            [
             0.2222222222222222,
             "#7201a8"
            ],
            [
             0.3333333333333333,
             "#9c179e"
            ],
            [
             0.4444444444444444,
             "#bd3786"
            ],
            [
             0.5555555555555556,
             "#d8576b"
            ],
            [
             0.6666666666666666,
             "#ed7953"
            ],
            [
             0.7777777777777778,
             "#fb9f3a"
            ],
            [
             0.8888888888888888,
             "#fdca26"
            ],
            [
             1,
             "#f0f921"
            ]
           ],
           "sequentialminus": [
            [
             0,
             "#0d0887"
            ],
            [
             0.1111111111111111,
             "#46039f"
            ],
            [
             0.2222222222222222,
             "#7201a8"
            ],
            [
             0.3333333333333333,
             "#9c179e"
            ],
            [
             0.4444444444444444,
             "#bd3786"
            ],
            [
             0.5555555555555556,
             "#d8576b"
            ],
            [
             0.6666666666666666,
             "#ed7953"
            ],
            [
             0.7777777777777778,
             "#fb9f3a"
            ],
            [
             0.8888888888888888,
             "#fdca26"
            ],
            [
             1,
             "#f0f921"
            ]
           ]
          },
          "colorway": [
           "#636efa",
           "#EF553B",
           "#00cc96",
           "#ab63fa",
           "#FFA15A",
           "#19d3f3",
           "#FF6692",
           "#B6E880",
           "#FF97FF",
           "#FECB52"
          ],
          "font": {
           "color": "#2a3f5f"
          },
          "geo": {
           "bgcolor": "white",
           "lakecolor": "white",
           "landcolor": "#E5ECF6",
           "showlakes": true,
           "showland": true,
           "subunitcolor": "white"
          },
          "hoverlabel": {
           "align": "left"
          },
          "hovermode": "closest",
          "mapbox": {
           "style": "light"
          },
          "paper_bgcolor": "white",
          "plot_bgcolor": "#E5ECF6",
          "polar": {
           "angularaxis": {
            "gridcolor": "white",
            "linecolor": "white",
            "ticks": ""
           },
           "bgcolor": "#E5ECF6",
           "radialaxis": {
            "gridcolor": "white",
            "linecolor": "white",
            "ticks": ""
           }
          },
          "scene": {
           "xaxis": {
            "backgroundcolor": "#E5ECF6",
            "gridcolor": "white",
            "gridwidth": 2,
            "linecolor": "white",
            "showbackground": true,
            "ticks": "",
            "zerolinecolor": "white"
           },
           "yaxis": {
            "backgroundcolor": "#E5ECF6",
            "gridcolor": "white",
            "gridwidth": 2,
            "linecolor": "white",
            "showbackground": true,
            "ticks": "",
            "zerolinecolor": "white"
           },
           "zaxis": {
            "backgroundcolor": "#E5ECF6",
            "gridcolor": "white",
            "gridwidth": 2,
            "linecolor": "white",
            "showbackground": true,
            "ticks": "",
            "zerolinecolor": "white"
           }
          },
          "shapedefaults": {
           "line": {
            "color": "#2a3f5f"
           }
          },
          "ternary": {
           "aaxis": {
            "gridcolor": "white",
            "linecolor": "white",
            "ticks": ""
           },
           "baxis": {
            "gridcolor": "white",
            "linecolor": "white",
            "ticks": ""
           },
           "bgcolor": "#E5ECF6",
           "caxis": {
            "gridcolor": "white",
            "linecolor": "white",
            "ticks": ""
           }
          },
          "title": {
           "x": 0.05
          },
          "xaxis": {
           "automargin": true,
           "gridcolor": "white",
           "linecolor": "white",
           "ticks": "",
           "title": {
            "standoff": 15
           },
           "zerolinecolor": "white",
           "zerolinewidth": 2
          },
          "yaxis": {
           "automargin": true,
           "gridcolor": "white",
           "linecolor": "white",
           "ticks": "",
           "title": {
            "standoff": 15
           },
           "zerolinecolor": "white",
           "zerolinewidth": 2
          }
         }
        },
        "title": {
         "text": "другое"
        },
        "width": 600,
        "xaxis": {
         "anchor": "y",
         "domain": [
          0,
          1
         ],
         "title": {
          "text": "company"
         }
        },
        "yaxis": {
         "anchor": "x",
         "domain": [
          0,
          1
         ],
         "title": {
          "text": "mean"
         }
        }
       }
      },
      "text/html": [
       "<div>                            <div id=\"262aec62-eda3-42b2-a54e-09158617f51d\" class=\"plotly-graph-div\" style=\"height:600px; width:600px;\"></div>            <script type=\"text/javascript\">                require([\"plotly\"], function(Plotly) {                    window.PLOTLYENV=window.PLOTLYENV || {};                                    if (document.getElementById(\"262aec62-eda3-42b2-a54e-09158617f51d\")) {                    Plotly.newPlot(                        \"262aec62-eda3-42b2-a54e-09158617f51d\",                        [{\"alignmentgroup\":\"True\",\"hovertemplate\":\"company=%{x}<br>mean=%{y}<extra></extra>\",\"legendgroup\":\"\",\"marker\":{\"color\":\"steelblue\",\"pattern\":{\"shape\":\"\"}},\"name\":\"\",\"offsetgroup\":\"\",\"orientation\":\"v\",\"showlegend\":false,\"textposition\":\"auto\",\"x\":[\"\\u041c\\u0422\\u0421 BigData\",\"\\u043d\\u0435 \\u043e\\u043f\\u0440\\u0435\\u0434\\u0435\\u043b\\u0435\\u043d\\u043e\",\"Quantum Brains\"],\"xaxis\":\"x\",\"y\":[350000.0,249677.08333333334,246666.66666666666],\"yaxis\":\"y\",\"type\":\"bar\"}],                        {\"template\":{\"data\":{\"histogram2dcontour\":[{\"type\":\"histogram2dcontour\",\"colorbar\":{\"outlinewidth\":0,\"ticks\":\"\"},\"colorscale\":[[0.0,\"#0d0887\"],[0.1111111111111111,\"#46039f\"],[0.2222222222222222,\"#7201a8\"],[0.3333333333333333,\"#9c179e\"],[0.4444444444444444,\"#bd3786\"],[0.5555555555555556,\"#d8576b\"],[0.6666666666666666,\"#ed7953\"],[0.7777777777777778,\"#fb9f3a\"],[0.8888888888888888,\"#fdca26\"],[1.0,\"#f0f921\"]]}],\"choropleth\":[{\"type\":\"choropleth\",\"colorbar\":{\"outlinewidth\":0,\"ticks\":\"\"}}],\"histogram2d\":[{\"type\":\"histogram2d\",\"colorbar\":{\"outlinewidth\":0,\"ticks\":\"\"},\"colorscale\":[[0.0,\"#0d0887\"],[0.1111111111111111,\"#46039f\"],[0.2222222222222222,\"#7201a8\"],[0.3333333333333333,\"#9c179e\"],[0.4444444444444444,\"#bd3786\"],[0.5555555555555556,\"#d8576b\"],[0.6666666666666666,\"#ed7953\"],[0.7777777777777778,\"#fb9f3a\"],[0.8888888888888888,\"#fdca26\"],[1.0,\"#f0f921\"]]}],\"heatmap\":[{\"type\":\"heatmap\",\"colorbar\":{\"outlinewidth\":0,\"ticks\":\"\"},\"colorscale\":[[0.0,\"#0d0887\"],[0.1111111111111111,\"#46039f\"],[0.2222222222222222,\"#7201a8\"],[0.3333333333333333,\"#9c179e\"],[0.4444444444444444,\"#bd3786\"],[0.5555555555555556,\"#d8576b\"],[0.6666666666666666,\"#ed7953\"],[0.7777777777777778,\"#fb9f3a\"],[0.8888888888888888,\"#fdca26\"],[1.0,\"#f0f921\"]]}],\"heatmapgl\":[{\"type\":\"heatmapgl\",\"colorbar\":{\"outlinewidth\":0,\"ticks\":\"\"},\"colorscale\":[[0.0,\"#0d0887\"],[0.1111111111111111,\"#46039f\"],[0.2222222222222222,\"#7201a8\"],[0.3333333333333333,\"#9c179e\"],[0.4444444444444444,\"#bd3786\"],[0.5555555555555556,\"#d8576b\"],[0.6666666666666666,\"#ed7953\"],[0.7777777777777778,\"#fb9f3a\"],[0.8888888888888888,\"#fdca26\"],[1.0,\"#f0f921\"]]}],\"contourcarpet\":[{\"type\":\"contourcarpet\",\"colorbar\":{\"outlinewidth\":0,\"ticks\":\"\"}}],\"contour\":[{\"type\":\"contour\",\"colorbar\":{\"outlinewidth\":0,\"ticks\":\"\"},\"colorscale\":[[0.0,\"#0d0887\"],[0.1111111111111111,\"#46039f\"],[0.2222222222222222,\"#7201a8\"],[0.3333333333333333,\"#9c179e\"],[0.4444444444444444,\"#bd3786\"],[0.5555555555555556,\"#d8576b\"],[0.6666666666666666,\"#ed7953\"],[0.7777777777777778,\"#fb9f3a\"],[0.8888888888888888,\"#fdca26\"],[1.0,\"#f0f921\"]]}],\"surface\":[{\"type\":\"surface\",\"colorbar\":{\"outlinewidth\":0,\"ticks\":\"\"},\"colorscale\":[[0.0,\"#0d0887\"],[0.1111111111111111,\"#46039f\"],[0.2222222222222222,\"#7201a8\"],[0.3333333333333333,\"#9c179e\"],[0.4444444444444444,\"#bd3786\"],[0.5555555555555556,\"#d8576b\"],[0.6666666666666666,\"#ed7953\"],[0.7777777777777778,\"#fb9f3a\"],[0.8888888888888888,\"#fdca26\"],[1.0,\"#f0f921\"]]}],\"mesh3d\":[{\"type\":\"mesh3d\",\"colorbar\":{\"outlinewidth\":0,\"ticks\":\"\"}}],\"scatter\":[{\"fillpattern\":{\"fillmode\":\"overlay\",\"size\":10,\"solidity\":0.2},\"type\":\"scatter\"}],\"parcoords\":[{\"type\":\"parcoords\",\"line\":{\"colorbar\":{\"outlinewidth\":0,\"ticks\":\"\"}}}],\"scatterpolargl\":[{\"type\":\"scatterpolargl\",\"marker\":{\"colorbar\":{\"outlinewidth\":0,\"ticks\":\"\"}}}],\"bar\":[{\"error_x\":{\"color\":\"#2a3f5f\"},\"error_y\":{\"color\":\"#2a3f5f\"},\"marker\":{\"line\":{\"color\":\"#E5ECF6\",\"width\":0.5},\"pattern\":{\"fillmode\":\"overlay\",\"size\":10,\"solidity\":0.2}},\"type\":\"bar\"}],\"scattergeo\":[{\"type\":\"scattergeo\",\"marker\":{\"colorbar\":{\"outlinewidth\":0,\"ticks\":\"\"}}}],\"scatterpolar\":[{\"type\":\"scatterpolar\",\"marker\":{\"colorbar\":{\"outlinewidth\":0,\"ticks\":\"\"}}}],\"histogram\":[{\"marker\":{\"pattern\":{\"fillmode\":\"overlay\",\"size\":10,\"solidity\":0.2}},\"type\":\"histogram\"}],\"scattergl\":[{\"type\":\"scattergl\",\"marker\":{\"colorbar\":{\"outlinewidth\":0,\"ticks\":\"\"}}}],\"scatter3d\":[{\"type\":\"scatter3d\",\"line\":{\"colorbar\":{\"outlinewidth\":0,\"ticks\":\"\"}},\"marker\":{\"colorbar\":{\"outlinewidth\":0,\"ticks\":\"\"}}}],\"scattermapbox\":[{\"type\":\"scattermapbox\",\"marker\":{\"colorbar\":{\"outlinewidth\":0,\"ticks\":\"\"}}}],\"scatterternary\":[{\"type\":\"scatterternary\",\"marker\":{\"colorbar\":{\"outlinewidth\":0,\"ticks\":\"\"}}}],\"scattercarpet\":[{\"type\":\"scattercarpet\",\"marker\":{\"colorbar\":{\"outlinewidth\":0,\"ticks\":\"\"}}}],\"carpet\":[{\"aaxis\":{\"endlinecolor\":\"#2a3f5f\",\"gridcolor\":\"white\",\"linecolor\":\"white\",\"minorgridcolor\":\"white\",\"startlinecolor\":\"#2a3f5f\"},\"baxis\":{\"endlinecolor\":\"#2a3f5f\",\"gridcolor\":\"white\",\"linecolor\":\"white\",\"minorgridcolor\":\"white\",\"startlinecolor\":\"#2a3f5f\"},\"type\":\"carpet\"}],\"table\":[{\"cells\":{\"fill\":{\"color\":\"#EBF0F8\"},\"line\":{\"color\":\"white\"}},\"header\":{\"fill\":{\"color\":\"#C8D4E3\"},\"line\":{\"color\":\"white\"}},\"type\":\"table\"}],\"barpolar\":[{\"marker\":{\"line\":{\"color\":\"#E5ECF6\",\"width\":0.5},\"pattern\":{\"fillmode\":\"overlay\",\"size\":10,\"solidity\":0.2}},\"type\":\"barpolar\"}],\"pie\":[{\"automargin\":true,\"type\":\"pie\"}]},\"layout\":{\"autotypenumbers\":\"strict\",\"colorway\":[\"#636efa\",\"#EF553B\",\"#00cc96\",\"#ab63fa\",\"#FFA15A\",\"#19d3f3\",\"#FF6692\",\"#B6E880\",\"#FF97FF\",\"#FECB52\"],\"font\":{\"color\":\"#2a3f5f\"},\"hovermode\":\"closest\",\"hoverlabel\":{\"align\":\"left\"},\"paper_bgcolor\":\"white\",\"plot_bgcolor\":\"#E5ECF6\",\"polar\":{\"bgcolor\":\"#E5ECF6\",\"angularaxis\":{\"gridcolor\":\"white\",\"linecolor\":\"white\",\"ticks\":\"\"},\"radialaxis\":{\"gridcolor\":\"white\",\"linecolor\":\"white\",\"ticks\":\"\"}},\"ternary\":{\"bgcolor\":\"#E5ECF6\",\"aaxis\":{\"gridcolor\":\"white\",\"linecolor\":\"white\",\"ticks\":\"\"},\"baxis\":{\"gridcolor\":\"white\",\"linecolor\":\"white\",\"ticks\":\"\"},\"caxis\":{\"gridcolor\":\"white\",\"linecolor\":\"white\",\"ticks\":\"\"}},\"coloraxis\":{\"colorbar\":{\"outlinewidth\":0,\"ticks\":\"\"}},\"colorscale\":{\"sequential\":[[0.0,\"#0d0887\"],[0.1111111111111111,\"#46039f\"],[0.2222222222222222,\"#7201a8\"],[0.3333333333333333,\"#9c179e\"],[0.4444444444444444,\"#bd3786\"],[0.5555555555555556,\"#d8576b\"],[0.6666666666666666,\"#ed7953\"],[0.7777777777777778,\"#fb9f3a\"],[0.8888888888888888,\"#fdca26\"],[1.0,\"#f0f921\"]],\"sequentialminus\":[[0.0,\"#0d0887\"],[0.1111111111111111,\"#46039f\"],[0.2222222222222222,\"#7201a8\"],[0.3333333333333333,\"#9c179e\"],[0.4444444444444444,\"#bd3786\"],[0.5555555555555556,\"#d8576b\"],[0.6666666666666666,\"#ed7953\"],[0.7777777777777778,\"#fb9f3a\"],[0.8888888888888888,\"#fdca26\"],[1.0,\"#f0f921\"]],\"diverging\":[[0,\"#8e0152\"],[0.1,\"#c51b7d\"],[0.2,\"#de77ae\"],[0.3,\"#f1b6da\"],[0.4,\"#fde0ef\"],[0.5,\"#f7f7f7\"],[0.6,\"#e6f5d0\"],[0.7,\"#b8e186\"],[0.8,\"#7fbc41\"],[0.9,\"#4d9221\"],[1,\"#276419\"]]},\"xaxis\":{\"gridcolor\":\"white\",\"linecolor\":\"white\",\"ticks\":\"\",\"title\":{\"standoff\":15},\"zerolinecolor\":\"white\",\"automargin\":true,\"zerolinewidth\":2},\"yaxis\":{\"gridcolor\":\"white\",\"linecolor\":\"white\",\"ticks\":\"\",\"title\":{\"standoff\":15},\"zerolinecolor\":\"white\",\"automargin\":true,\"zerolinewidth\":2},\"scene\":{\"xaxis\":{\"backgroundcolor\":\"#E5ECF6\",\"gridcolor\":\"white\",\"linecolor\":\"white\",\"showbackground\":true,\"ticks\":\"\",\"zerolinecolor\":\"white\",\"gridwidth\":2},\"yaxis\":{\"backgroundcolor\":\"#E5ECF6\",\"gridcolor\":\"white\",\"linecolor\":\"white\",\"showbackground\":true,\"ticks\":\"\",\"zerolinecolor\":\"white\",\"gridwidth\":2},\"zaxis\":{\"backgroundcolor\":\"#E5ECF6\",\"gridcolor\":\"white\",\"linecolor\":\"white\",\"showbackground\":true,\"ticks\":\"\",\"zerolinecolor\":\"white\",\"gridwidth\":2}},\"shapedefaults\":{\"line\":{\"color\":\"#2a3f5f\"}},\"annotationdefaults\":{\"arrowcolor\":\"#2a3f5f\",\"arrowhead\":0,\"arrowwidth\":1},\"geo\":{\"bgcolor\":\"white\",\"landcolor\":\"#E5ECF6\",\"subunitcolor\":\"white\",\"showland\":true,\"showlakes\":true,\"lakecolor\":\"white\"},\"title\":{\"x\":0.05},\"mapbox\":{\"style\":\"light\"}}},\"xaxis\":{\"anchor\":\"y\",\"domain\":[0.0,1.0],\"title\":{\"text\":\"company\"}},\"yaxis\":{\"anchor\":\"x\",\"domain\":[0.0,1.0],\"title\":{\"text\":\"mean\"}},\"legend\":{\"tracegroupgap\":0},\"title\":{\"text\":\"\\u0434\\u0440\\u0443\\u0433\\u043e\\u0435\"},\"barmode\":\"relative\",\"height\":600,\"width\":600},                        {\"responsive\": true}                    ).then(function(){\n",
       "                            \n",
       "var gd = document.getElementById('262aec62-eda3-42b2-a54e-09158617f51d');\n",
       "var x = new MutationObserver(function (mutations, observer) {{\n",
       "        var display = window.getComputedStyle(gd).display;\n",
       "        if (!display || display === 'none') {{\n",
       "            console.log([gd, 'removed!']);\n",
       "            Plotly.purge(gd);\n",
       "            observer.disconnect();\n",
       "        }}\n",
       "}});\n",
       "\n",
       "// Listen for the removal of the full notebook cells\n",
       "var notebookContainer = gd.closest('#notebook-container');\n",
       "if (notebookContainer) {{\n",
       "    x.observe(notebookContainer, {childList: true});\n",
       "}}\n",
       "\n",
       "// Listen for the clearing of the current output cell\n",
       "var outputEl = gd.closest('.output');\n",
       "if (outputEl) {{\n",
       "    x.observe(outputEl, {childList: true});\n",
       "}}\n",
       "\n",
       "                        })                };                });            </script>        </div>"
      ]
     },
     "metadata": {},
     "output_type": "display_data"
    },
    {
     "data": {
      "application/vnd.plotly.v1+json": {
       "config": {
        "plotlyServerURL": "https://plot.ly"
       },
       "data": [
        {
         "alignmentgroup": "True",
         "hovertemplate": "company=%{x}<br>mean=%{y}<extra></extra>",
         "legendgroup": "",
         "marker": {
          "color": "steelblue",
          "pattern": {
           "shape": ""
          }
         },
         "name": "",
         "offsetgroup": "",
         "orientation": "v",
         "showlegend": false,
         "textposition": "auto",
         "type": "bar",
         "x": [],
         "xaxis": "x",
         "y": [],
         "yaxis": "y"
        }
       ],
       "layout": {
        "barmode": "relative",
        "height": 600,
        "legend": {
         "tracegroupgap": 0
        },
        "template": {
         "data": {
          "bar": [
           {
            "error_x": {
             "color": "#2a3f5f"
            },
            "error_y": {
             "color": "#2a3f5f"
            },
            "marker": {
             "line": {
              "color": "#E5ECF6",
              "width": 0.5
             },
             "pattern": {
              "fillmode": "overlay",
              "size": 10,
              "solidity": 0.2
             }
            },
            "type": "bar"
           }
          ],
          "barpolar": [
           {
            "marker": {
             "line": {
              "color": "#E5ECF6",
              "width": 0.5
             },
             "pattern": {
              "fillmode": "overlay",
              "size": 10,
              "solidity": 0.2
             }
            },
            "type": "barpolar"
           }
          ],
          "carpet": [
           {
            "aaxis": {
             "endlinecolor": "#2a3f5f",
             "gridcolor": "white",
             "linecolor": "white",
             "minorgridcolor": "white",
             "startlinecolor": "#2a3f5f"
            },
            "baxis": {
             "endlinecolor": "#2a3f5f",
             "gridcolor": "white",
             "linecolor": "white",
             "minorgridcolor": "white",
             "startlinecolor": "#2a3f5f"
            },
            "type": "carpet"
           }
          ],
          "choropleth": [
           {
            "colorbar": {
             "outlinewidth": 0,
             "ticks": ""
            },
            "type": "choropleth"
           }
          ],
          "contour": [
           {
            "colorbar": {
             "outlinewidth": 0,
             "ticks": ""
            },
            "colorscale": [
             [
              0,
              "#0d0887"
             ],
             [
              0.1111111111111111,
              "#46039f"
             ],
             [
              0.2222222222222222,
              "#7201a8"
             ],
             [
              0.3333333333333333,
              "#9c179e"
             ],
             [
              0.4444444444444444,
              "#bd3786"
             ],
             [
              0.5555555555555556,
              "#d8576b"
             ],
             [
              0.6666666666666666,
              "#ed7953"
             ],
             [
              0.7777777777777778,
              "#fb9f3a"
             ],
             [
              0.8888888888888888,
              "#fdca26"
             ],
             [
              1,
              "#f0f921"
             ]
            ],
            "type": "contour"
           }
          ],
          "contourcarpet": [
           {
            "colorbar": {
             "outlinewidth": 0,
             "ticks": ""
            },
            "type": "contourcarpet"
           }
          ],
          "heatmap": [
           {
            "colorbar": {
             "outlinewidth": 0,
             "ticks": ""
            },
            "colorscale": [
             [
              0,
              "#0d0887"
             ],
             [
              0.1111111111111111,
              "#46039f"
             ],
             [
              0.2222222222222222,
              "#7201a8"
             ],
             [
              0.3333333333333333,
              "#9c179e"
             ],
             [
              0.4444444444444444,
              "#bd3786"
             ],
             [
              0.5555555555555556,
              "#d8576b"
             ],
             [
              0.6666666666666666,
              "#ed7953"
             ],
             [
              0.7777777777777778,
              "#fb9f3a"
             ],
             [
              0.8888888888888888,
              "#fdca26"
             ],
             [
              1,
              "#f0f921"
             ]
            ],
            "type": "heatmap"
           }
          ],
          "heatmapgl": [
           {
            "colorbar": {
             "outlinewidth": 0,
             "ticks": ""
            },
            "colorscale": [
             [
              0,
              "#0d0887"
             ],
             [
              0.1111111111111111,
              "#46039f"
             ],
             [
              0.2222222222222222,
              "#7201a8"
             ],
             [
              0.3333333333333333,
              "#9c179e"
             ],
             [
              0.4444444444444444,
              "#bd3786"
             ],
             [
              0.5555555555555556,
              "#d8576b"
             ],
             [
              0.6666666666666666,
              "#ed7953"
             ],
             [
              0.7777777777777778,
              "#fb9f3a"
             ],
             [
              0.8888888888888888,
              "#fdca26"
             ],
             [
              1,
              "#f0f921"
             ]
            ],
            "type": "heatmapgl"
           }
          ],
          "histogram": [
           {
            "marker": {
             "pattern": {
              "fillmode": "overlay",
              "size": 10,
              "solidity": 0.2
             }
            },
            "type": "histogram"
           }
          ],
          "histogram2d": [
           {
            "colorbar": {
             "outlinewidth": 0,
             "ticks": ""
            },
            "colorscale": [
             [
              0,
              "#0d0887"
             ],
             [
              0.1111111111111111,
              "#46039f"
             ],
             [
              0.2222222222222222,
              "#7201a8"
             ],
             [
              0.3333333333333333,
              "#9c179e"
             ],
             [
              0.4444444444444444,
              "#bd3786"
             ],
             [
              0.5555555555555556,
              "#d8576b"
             ],
             [
              0.6666666666666666,
              "#ed7953"
             ],
             [
              0.7777777777777778,
              "#fb9f3a"
             ],
             [
              0.8888888888888888,
              "#fdca26"
             ],
             [
              1,
              "#f0f921"
             ]
            ],
            "type": "histogram2d"
           }
          ],
          "histogram2dcontour": [
           {
            "colorbar": {
             "outlinewidth": 0,
             "ticks": ""
            },
            "colorscale": [
             [
              0,
              "#0d0887"
             ],
             [
              0.1111111111111111,
              "#46039f"
             ],
             [
              0.2222222222222222,
              "#7201a8"
             ],
             [
              0.3333333333333333,
              "#9c179e"
             ],
             [
              0.4444444444444444,
              "#bd3786"
             ],
             [
              0.5555555555555556,
              "#d8576b"
             ],
             [
              0.6666666666666666,
              "#ed7953"
             ],
             [
              0.7777777777777778,
              "#fb9f3a"
             ],
             [
              0.8888888888888888,
              "#fdca26"
             ],
             [
              1,
              "#f0f921"
             ]
            ],
            "type": "histogram2dcontour"
           }
          ],
          "mesh3d": [
           {
            "colorbar": {
             "outlinewidth": 0,
             "ticks": ""
            },
            "type": "mesh3d"
           }
          ],
          "parcoords": [
           {
            "line": {
             "colorbar": {
              "outlinewidth": 0,
              "ticks": ""
             }
            },
            "type": "parcoords"
           }
          ],
          "pie": [
           {
            "automargin": true,
            "type": "pie"
           }
          ],
          "scatter": [
           {
            "fillpattern": {
             "fillmode": "overlay",
             "size": 10,
             "solidity": 0.2
            },
            "type": "scatter"
           }
          ],
          "scatter3d": [
           {
            "line": {
             "colorbar": {
              "outlinewidth": 0,
              "ticks": ""
             }
            },
            "marker": {
             "colorbar": {
              "outlinewidth": 0,
              "ticks": ""
             }
            },
            "type": "scatter3d"
           }
          ],
          "scattercarpet": [
           {
            "marker": {
             "colorbar": {
              "outlinewidth": 0,
              "ticks": ""
             }
            },
            "type": "scattercarpet"
           }
          ],
          "scattergeo": [
           {
            "marker": {
             "colorbar": {
              "outlinewidth": 0,
              "ticks": ""
             }
            },
            "type": "scattergeo"
           }
          ],
          "scattergl": [
           {
            "marker": {
             "colorbar": {
              "outlinewidth": 0,
              "ticks": ""
             }
            },
            "type": "scattergl"
           }
          ],
          "scattermapbox": [
           {
            "marker": {
             "colorbar": {
              "outlinewidth": 0,
              "ticks": ""
             }
            },
            "type": "scattermapbox"
           }
          ],
          "scatterpolar": [
           {
            "marker": {
             "colorbar": {
              "outlinewidth": 0,
              "ticks": ""
             }
            },
            "type": "scatterpolar"
           }
          ],
          "scatterpolargl": [
           {
            "marker": {
             "colorbar": {
              "outlinewidth": 0,
              "ticks": ""
             }
            },
            "type": "scatterpolargl"
           }
          ],
          "scatterternary": [
           {
            "marker": {
             "colorbar": {
              "outlinewidth": 0,
              "ticks": ""
             }
            },
            "type": "scatterternary"
           }
          ],
          "surface": [
           {
            "colorbar": {
             "outlinewidth": 0,
             "ticks": ""
            },
            "colorscale": [
             [
              0,
              "#0d0887"
             ],
             [
              0.1111111111111111,
              "#46039f"
             ],
             [
              0.2222222222222222,
              "#7201a8"
             ],
             [
              0.3333333333333333,
              "#9c179e"
             ],
             [
              0.4444444444444444,
              "#bd3786"
             ],
             [
              0.5555555555555556,
              "#d8576b"
             ],
             [
              0.6666666666666666,
              "#ed7953"
             ],
             [
              0.7777777777777778,
              "#fb9f3a"
             ],
             [
              0.8888888888888888,
              "#fdca26"
             ],
             [
              1,
              "#f0f921"
             ]
            ],
            "type": "surface"
           }
          ],
          "table": [
           {
            "cells": {
             "fill": {
              "color": "#EBF0F8"
             },
             "line": {
              "color": "white"
             }
            },
            "header": {
             "fill": {
              "color": "#C8D4E3"
             },
             "line": {
              "color": "white"
             }
            },
            "type": "table"
           }
          ]
         },
         "layout": {
          "annotationdefaults": {
           "arrowcolor": "#2a3f5f",
           "arrowhead": 0,
           "arrowwidth": 1
          },
          "autotypenumbers": "strict",
          "coloraxis": {
           "colorbar": {
            "outlinewidth": 0,
            "ticks": ""
           }
          },
          "colorscale": {
           "diverging": [
            [
             0,
             "#8e0152"
            ],
            [
             0.1,
             "#c51b7d"
            ],
            [
             0.2,
             "#de77ae"
            ],
            [
             0.3,
             "#f1b6da"
            ],
            [
             0.4,
             "#fde0ef"
            ],
            [
             0.5,
             "#f7f7f7"
            ],
            [
             0.6,
             "#e6f5d0"
            ],
            [
             0.7,
             "#b8e186"
            ],
            [
             0.8,
             "#7fbc41"
            ],
            [
             0.9,
             "#4d9221"
            ],
            [
             1,
             "#276419"
            ]
           ],
           "sequential": [
            [
             0,
             "#0d0887"
            ],
            [
             0.1111111111111111,
             "#46039f"
            ],
            [
             0.2222222222222222,
             "#7201a8"
            ],
            [
             0.3333333333333333,
             "#9c179e"
            ],
            [
             0.4444444444444444,
             "#bd3786"
            ],
            [
             0.5555555555555556,
             "#d8576b"
            ],
            [
             0.6666666666666666,
             "#ed7953"
            ],
            [
             0.7777777777777778,
             "#fb9f3a"
            ],
            [
             0.8888888888888888,
             "#fdca26"
            ],
            [
             1,
             "#f0f921"
            ]
           ],
           "sequentialminus": [
            [
             0,
             "#0d0887"
            ],
            [
             0.1111111111111111,
             "#46039f"
            ],
            [
             0.2222222222222222,
             "#7201a8"
            ],
            [
             0.3333333333333333,
             "#9c179e"
            ],
            [
             0.4444444444444444,
             "#bd3786"
            ],
            [
             0.5555555555555556,
             "#d8576b"
            ],
            [
             0.6666666666666666,
             "#ed7953"
            ],
            [
             0.7777777777777778,
             "#fb9f3a"
            ],
            [
             0.8888888888888888,
             "#fdca26"
            ],
            [
             1,
             "#f0f921"
            ]
           ]
          },
          "colorway": [
           "#636efa",
           "#EF553B",
           "#00cc96",
           "#ab63fa",
           "#FFA15A",
           "#19d3f3",
           "#FF6692",
           "#B6E880",
           "#FF97FF",
           "#FECB52"
          ],
          "font": {
           "color": "#2a3f5f"
          },
          "geo": {
           "bgcolor": "white",
           "lakecolor": "white",
           "landcolor": "#E5ECF6",
           "showlakes": true,
           "showland": true,
           "subunitcolor": "white"
          },
          "hoverlabel": {
           "align": "left"
          },
          "hovermode": "closest",
          "mapbox": {
           "style": "light"
          },
          "paper_bgcolor": "white",
          "plot_bgcolor": "#E5ECF6",
          "polar": {
           "angularaxis": {
            "gridcolor": "white",
            "linecolor": "white",
            "ticks": ""
           },
           "bgcolor": "#E5ECF6",
           "radialaxis": {
            "gridcolor": "white",
            "linecolor": "white",
            "ticks": ""
           }
          },
          "scene": {
           "xaxis": {
            "backgroundcolor": "#E5ECF6",
            "gridcolor": "white",
            "gridwidth": 2,
            "linecolor": "white",
            "showbackground": true,
            "ticks": "",
            "zerolinecolor": "white"
           },
           "yaxis": {
            "backgroundcolor": "#E5ECF6",
            "gridcolor": "white",
            "gridwidth": 2,
            "linecolor": "white",
            "showbackground": true,
            "ticks": "",
            "zerolinecolor": "white"
           },
           "zaxis": {
            "backgroundcolor": "#E5ECF6",
            "gridcolor": "white",
            "gridwidth": 2,
            "linecolor": "white",
            "showbackground": true,
            "ticks": "",
            "zerolinecolor": "white"
           }
          },
          "shapedefaults": {
           "line": {
            "color": "#2a3f5f"
           }
          },
          "ternary": {
           "aaxis": {
            "gridcolor": "white",
            "linecolor": "white",
            "ticks": ""
           },
           "baxis": {
            "gridcolor": "white",
            "linecolor": "white",
            "ticks": ""
           },
           "bgcolor": "#E5ECF6",
           "caxis": {
            "gridcolor": "white",
            "linecolor": "white",
            "ticks": ""
           }
          },
          "title": {
           "x": 0.05
          },
          "xaxis": {
           "automargin": true,
           "gridcolor": "white",
           "linecolor": "white",
           "ticks": "",
           "title": {
            "standoff": 15
           },
           "zerolinecolor": "white",
           "zerolinewidth": 2
          },
          "yaxis": {
           "automargin": true,
           "gridcolor": "white",
           "linecolor": "white",
           "ticks": "",
           "title": {
            "standoff": 15
           },
           "zerolinecolor": "white",
           "zerolinewidth": 2
          }
         }
        },
        "title": {
         "text": "От 0 до 1 года"
        },
        "width": 600,
        "xaxis": {
         "anchor": "y",
         "domain": [
          0,
          1
         ],
         "title": {
          "text": "company"
         }
        },
        "yaxis": {
         "anchor": "x",
         "domain": [
          0,
          1
         ],
         "title": {
          "text": "mean"
         }
        }
       }
      },
      "text/html": [
       "<div>                            <div id=\"bf6524c1-19af-4fc3-b6fa-62a8e31635b5\" class=\"plotly-graph-div\" style=\"height:600px; width:600px;\"></div>            <script type=\"text/javascript\">                require([\"plotly\"], function(Plotly) {                    window.PLOTLYENV=window.PLOTLYENV || {};                                    if (document.getElementById(\"bf6524c1-19af-4fc3-b6fa-62a8e31635b5\")) {                    Plotly.newPlot(                        \"bf6524c1-19af-4fc3-b6fa-62a8e31635b5\",                        [{\"alignmentgroup\":\"True\",\"hovertemplate\":\"company=%{x}<br>mean=%{y}<extra></extra>\",\"legendgroup\":\"\",\"marker\":{\"color\":\"steelblue\",\"pattern\":{\"shape\":\"\"}},\"name\":\"\",\"offsetgroup\":\"\",\"orientation\":\"v\",\"showlegend\":false,\"textposition\":\"auto\",\"x\":[],\"xaxis\":\"x\",\"y\":[],\"yaxis\":\"y\",\"type\":\"bar\"}],                        {\"template\":{\"data\":{\"histogram2dcontour\":[{\"type\":\"histogram2dcontour\",\"colorbar\":{\"outlinewidth\":0,\"ticks\":\"\"},\"colorscale\":[[0.0,\"#0d0887\"],[0.1111111111111111,\"#46039f\"],[0.2222222222222222,\"#7201a8\"],[0.3333333333333333,\"#9c179e\"],[0.4444444444444444,\"#bd3786\"],[0.5555555555555556,\"#d8576b\"],[0.6666666666666666,\"#ed7953\"],[0.7777777777777778,\"#fb9f3a\"],[0.8888888888888888,\"#fdca26\"],[1.0,\"#f0f921\"]]}],\"choropleth\":[{\"type\":\"choropleth\",\"colorbar\":{\"outlinewidth\":0,\"ticks\":\"\"}}],\"histogram2d\":[{\"type\":\"histogram2d\",\"colorbar\":{\"outlinewidth\":0,\"ticks\":\"\"},\"colorscale\":[[0.0,\"#0d0887\"],[0.1111111111111111,\"#46039f\"],[0.2222222222222222,\"#7201a8\"],[0.3333333333333333,\"#9c179e\"],[0.4444444444444444,\"#bd3786\"],[0.5555555555555556,\"#d8576b\"],[0.6666666666666666,\"#ed7953\"],[0.7777777777777778,\"#fb9f3a\"],[0.8888888888888888,\"#fdca26\"],[1.0,\"#f0f921\"]]}],\"heatmap\":[{\"type\":\"heatmap\",\"colorbar\":{\"outlinewidth\":0,\"ticks\":\"\"},\"colorscale\":[[0.0,\"#0d0887\"],[0.1111111111111111,\"#46039f\"],[0.2222222222222222,\"#7201a8\"],[0.3333333333333333,\"#9c179e\"],[0.4444444444444444,\"#bd3786\"],[0.5555555555555556,\"#d8576b\"],[0.6666666666666666,\"#ed7953\"],[0.7777777777777778,\"#fb9f3a\"],[0.8888888888888888,\"#fdca26\"],[1.0,\"#f0f921\"]]}],\"heatmapgl\":[{\"type\":\"heatmapgl\",\"colorbar\":{\"outlinewidth\":0,\"ticks\":\"\"},\"colorscale\":[[0.0,\"#0d0887\"],[0.1111111111111111,\"#46039f\"],[0.2222222222222222,\"#7201a8\"],[0.3333333333333333,\"#9c179e\"],[0.4444444444444444,\"#bd3786\"],[0.5555555555555556,\"#d8576b\"],[0.6666666666666666,\"#ed7953\"],[0.7777777777777778,\"#fb9f3a\"],[0.8888888888888888,\"#fdca26\"],[1.0,\"#f0f921\"]]}],\"contourcarpet\":[{\"type\":\"contourcarpet\",\"colorbar\":{\"outlinewidth\":0,\"ticks\":\"\"}}],\"contour\":[{\"type\":\"contour\",\"colorbar\":{\"outlinewidth\":0,\"ticks\":\"\"},\"colorscale\":[[0.0,\"#0d0887\"],[0.1111111111111111,\"#46039f\"],[0.2222222222222222,\"#7201a8\"],[0.3333333333333333,\"#9c179e\"],[0.4444444444444444,\"#bd3786\"],[0.5555555555555556,\"#d8576b\"],[0.6666666666666666,\"#ed7953\"],[0.7777777777777778,\"#fb9f3a\"],[0.8888888888888888,\"#fdca26\"],[1.0,\"#f0f921\"]]}],\"surface\":[{\"type\":\"surface\",\"colorbar\":{\"outlinewidth\":0,\"ticks\":\"\"},\"colorscale\":[[0.0,\"#0d0887\"],[0.1111111111111111,\"#46039f\"],[0.2222222222222222,\"#7201a8\"],[0.3333333333333333,\"#9c179e\"],[0.4444444444444444,\"#bd3786\"],[0.5555555555555556,\"#d8576b\"],[0.6666666666666666,\"#ed7953\"],[0.7777777777777778,\"#fb9f3a\"],[0.8888888888888888,\"#fdca26\"],[1.0,\"#f0f921\"]]}],\"mesh3d\":[{\"type\":\"mesh3d\",\"colorbar\":{\"outlinewidth\":0,\"ticks\":\"\"}}],\"scatter\":[{\"fillpattern\":{\"fillmode\":\"overlay\",\"size\":10,\"solidity\":0.2},\"type\":\"scatter\"}],\"parcoords\":[{\"type\":\"parcoords\",\"line\":{\"colorbar\":{\"outlinewidth\":0,\"ticks\":\"\"}}}],\"scatterpolargl\":[{\"type\":\"scatterpolargl\",\"marker\":{\"colorbar\":{\"outlinewidth\":0,\"ticks\":\"\"}}}],\"bar\":[{\"error_x\":{\"color\":\"#2a3f5f\"},\"error_y\":{\"color\":\"#2a3f5f\"},\"marker\":{\"line\":{\"color\":\"#E5ECF6\",\"width\":0.5},\"pattern\":{\"fillmode\":\"overlay\",\"size\":10,\"solidity\":0.2}},\"type\":\"bar\"}],\"scattergeo\":[{\"type\":\"scattergeo\",\"marker\":{\"colorbar\":{\"outlinewidth\":0,\"ticks\":\"\"}}}],\"scatterpolar\":[{\"type\":\"scatterpolar\",\"marker\":{\"colorbar\":{\"outlinewidth\":0,\"ticks\":\"\"}}}],\"histogram\":[{\"marker\":{\"pattern\":{\"fillmode\":\"overlay\",\"size\":10,\"solidity\":0.2}},\"type\":\"histogram\"}],\"scattergl\":[{\"type\":\"scattergl\",\"marker\":{\"colorbar\":{\"outlinewidth\":0,\"ticks\":\"\"}}}],\"scatter3d\":[{\"type\":\"scatter3d\",\"line\":{\"colorbar\":{\"outlinewidth\":0,\"ticks\":\"\"}},\"marker\":{\"colorbar\":{\"outlinewidth\":0,\"ticks\":\"\"}}}],\"scattermapbox\":[{\"type\":\"scattermapbox\",\"marker\":{\"colorbar\":{\"outlinewidth\":0,\"ticks\":\"\"}}}],\"scatterternary\":[{\"type\":\"scatterternary\",\"marker\":{\"colorbar\":{\"outlinewidth\":0,\"ticks\":\"\"}}}],\"scattercarpet\":[{\"type\":\"scattercarpet\",\"marker\":{\"colorbar\":{\"outlinewidth\":0,\"ticks\":\"\"}}}],\"carpet\":[{\"aaxis\":{\"endlinecolor\":\"#2a3f5f\",\"gridcolor\":\"white\",\"linecolor\":\"white\",\"minorgridcolor\":\"white\",\"startlinecolor\":\"#2a3f5f\"},\"baxis\":{\"endlinecolor\":\"#2a3f5f\",\"gridcolor\":\"white\",\"linecolor\":\"white\",\"minorgridcolor\":\"white\",\"startlinecolor\":\"#2a3f5f\"},\"type\":\"carpet\"}],\"table\":[{\"cells\":{\"fill\":{\"color\":\"#EBF0F8\"},\"line\":{\"color\":\"white\"}},\"header\":{\"fill\":{\"color\":\"#C8D4E3\"},\"line\":{\"color\":\"white\"}},\"type\":\"table\"}],\"barpolar\":[{\"marker\":{\"line\":{\"color\":\"#E5ECF6\",\"width\":0.5},\"pattern\":{\"fillmode\":\"overlay\",\"size\":10,\"solidity\":0.2}},\"type\":\"barpolar\"}],\"pie\":[{\"automargin\":true,\"type\":\"pie\"}]},\"layout\":{\"autotypenumbers\":\"strict\",\"colorway\":[\"#636efa\",\"#EF553B\",\"#00cc96\",\"#ab63fa\",\"#FFA15A\",\"#19d3f3\",\"#FF6692\",\"#B6E880\",\"#FF97FF\",\"#FECB52\"],\"font\":{\"color\":\"#2a3f5f\"},\"hovermode\":\"closest\",\"hoverlabel\":{\"align\":\"left\"},\"paper_bgcolor\":\"white\",\"plot_bgcolor\":\"#E5ECF6\",\"polar\":{\"bgcolor\":\"#E5ECF6\",\"angularaxis\":{\"gridcolor\":\"white\",\"linecolor\":\"white\",\"ticks\":\"\"},\"radialaxis\":{\"gridcolor\":\"white\",\"linecolor\":\"white\",\"ticks\":\"\"}},\"ternary\":{\"bgcolor\":\"#E5ECF6\",\"aaxis\":{\"gridcolor\":\"white\",\"linecolor\":\"white\",\"ticks\":\"\"},\"baxis\":{\"gridcolor\":\"white\",\"linecolor\":\"white\",\"ticks\":\"\"},\"caxis\":{\"gridcolor\":\"white\",\"linecolor\":\"white\",\"ticks\":\"\"}},\"coloraxis\":{\"colorbar\":{\"outlinewidth\":0,\"ticks\":\"\"}},\"colorscale\":{\"sequential\":[[0.0,\"#0d0887\"],[0.1111111111111111,\"#46039f\"],[0.2222222222222222,\"#7201a8\"],[0.3333333333333333,\"#9c179e\"],[0.4444444444444444,\"#bd3786\"],[0.5555555555555556,\"#d8576b\"],[0.6666666666666666,\"#ed7953\"],[0.7777777777777778,\"#fb9f3a\"],[0.8888888888888888,\"#fdca26\"],[1.0,\"#f0f921\"]],\"sequentialminus\":[[0.0,\"#0d0887\"],[0.1111111111111111,\"#46039f\"],[0.2222222222222222,\"#7201a8\"],[0.3333333333333333,\"#9c179e\"],[0.4444444444444444,\"#bd3786\"],[0.5555555555555556,\"#d8576b\"],[0.6666666666666666,\"#ed7953\"],[0.7777777777777778,\"#fb9f3a\"],[0.8888888888888888,\"#fdca26\"],[1.0,\"#f0f921\"]],\"diverging\":[[0,\"#8e0152\"],[0.1,\"#c51b7d\"],[0.2,\"#de77ae\"],[0.3,\"#f1b6da\"],[0.4,\"#fde0ef\"],[0.5,\"#f7f7f7\"],[0.6,\"#e6f5d0\"],[0.7,\"#b8e186\"],[0.8,\"#7fbc41\"],[0.9,\"#4d9221\"],[1,\"#276419\"]]},\"xaxis\":{\"gridcolor\":\"white\",\"linecolor\":\"white\",\"ticks\":\"\",\"title\":{\"standoff\":15},\"zerolinecolor\":\"white\",\"automargin\":true,\"zerolinewidth\":2},\"yaxis\":{\"gridcolor\":\"white\",\"linecolor\":\"white\",\"ticks\":\"\",\"title\":{\"standoff\":15},\"zerolinecolor\":\"white\",\"automargin\":true,\"zerolinewidth\":2},\"scene\":{\"xaxis\":{\"backgroundcolor\":\"#E5ECF6\",\"gridcolor\":\"white\",\"linecolor\":\"white\",\"showbackground\":true,\"ticks\":\"\",\"zerolinecolor\":\"white\",\"gridwidth\":2},\"yaxis\":{\"backgroundcolor\":\"#E5ECF6\",\"gridcolor\":\"white\",\"linecolor\":\"white\",\"showbackground\":true,\"ticks\":\"\",\"zerolinecolor\":\"white\",\"gridwidth\":2},\"zaxis\":{\"backgroundcolor\":\"#E5ECF6\",\"gridcolor\":\"white\",\"linecolor\":\"white\",\"showbackground\":true,\"ticks\":\"\",\"zerolinecolor\":\"white\",\"gridwidth\":2}},\"shapedefaults\":{\"line\":{\"color\":\"#2a3f5f\"}},\"annotationdefaults\":{\"arrowcolor\":\"#2a3f5f\",\"arrowhead\":0,\"arrowwidth\":1},\"geo\":{\"bgcolor\":\"white\",\"landcolor\":\"#E5ECF6\",\"subunitcolor\":\"white\",\"showland\":true,\"showlakes\":true,\"lakecolor\":\"white\"},\"title\":{\"x\":0.05},\"mapbox\":{\"style\":\"light\"}}},\"xaxis\":{\"anchor\":\"y\",\"domain\":[0.0,1.0],\"title\":{\"text\":\"company\"}},\"yaxis\":{\"anchor\":\"x\",\"domain\":[0.0,1.0],\"title\":{\"text\":\"mean\"}},\"legend\":{\"tracegroupgap\":0},\"title\":{\"text\":\"\\u041e\\u0442 0 \\u0434\\u043e 1 \\u0433\\u043e\\u0434\\u0430\"},\"barmode\":\"relative\",\"height\":600,\"width\":600},                        {\"responsive\": true}                    ).then(function(){\n",
       "                            \n",
       "var gd = document.getElementById('bf6524c1-19af-4fc3-b6fa-62a8e31635b5');\n",
       "var x = new MutationObserver(function (mutations, observer) {{\n",
       "        var display = window.getComputedStyle(gd).display;\n",
       "        if (!display || display === 'none') {{\n",
       "            console.log([gd, 'removed!']);\n",
       "            Plotly.purge(gd);\n",
       "            observer.disconnect();\n",
       "        }}\n",
       "}});\n",
       "\n",
       "// Listen for the removal of the full notebook cells\n",
       "var notebookContainer = gd.closest('#notebook-container');\n",
       "if (notebookContainer) {{\n",
       "    x.observe(notebookContainer, {childList: true});\n",
       "}}\n",
       "\n",
       "// Listen for the clearing of the current output cell\n",
       "var outputEl = gd.closest('.output');\n",
       "if (outputEl) {{\n",
       "    x.observe(outputEl, {childList: true});\n",
       "}}\n",
       "\n",
       "                        })                };                });            </script>        </div>"
      ]
     },
     "metadata": {},
     "output_type": "display_data"
    },
    {
     "data": {
      "application/vnd.plotly.v1+json": {
       "config": {
        "plotlyServerURL": "https://plot.ly"
       },
       "data": [
        {
         "alignmentgroup": "True",
         "hovertemplate": "company=%{x}<br>mean=%{y}<extra></extra>",
         "legendgroup": "",
         "marker": {
          "color": "steelblue",
          "pattern": {
           "shape": ""
          }
         },
         "name": "",
         "offsetgroup": "",
         "orientation": "v",
         "showlegend": false,
         "textposition": "auto",
         "type": "bar",
         "x": [
          "Datafold",
          "SberDevices",
          "Сбер",
          "не определено"
         ],
         "xaxis": "x",
         "y": [
          595000,
          357142.85714285716,
          286363.63636363635,
          213750
         ],
         "yaxis": "y"
        }
       ],
       "layout": {
        "barmode": "relative",
        "height": 600,
        "legend": {
         "tracegroupgap": 0
        },
        "template": {
         "data": {
          "bar": [
           {
            "error_x": {
             "color": "#2a3f5f"
            },
            "error_y": {
             "color": "#2a3f5f"
            },
            "marker": {
             "line": {
              "color": "#E5ECF6",
              "width": 0.5
             },
             "pattern": {
              "fillmode": "overlay",
              "size": 10,
              "solidity": 0.2
             }
            },
            "type": "bar"
           }
          ],
          "barpolar": [
           {
            "marker": {
             "line": {
              "color": "#E5ECF6",
              "width": 0.5
             },
             "pattern": {
              "fillmode": "overlay",
              "size": 10,
              "solidity": 0.2
             }
            },
            "type": "barpolar"
           }
          ],
          "carpet": [
           {
            "aaxis": {
             "endlinecolor": "#2a3f5f",
             "gridcolor": "white",
             "linecolor": "white",
             "minorgridcolor": "white",
             "startlinecolor": "#2a3f5f"
            },
            "baxis": {
             "endlinecolor": "#2a3f5f",
             "gridcolor": "white",
             "linecolor": "white",
             "minorgridcolor": "white",
             "startlinecolor": "#2a3f5f"
            },
            "type": "carpet"
           }
          ],
          "choropleth": [
           {
            "colorbar": {
             "outlinewidth": 0,
             "ticks": ""
            },
            "type": "choropleth"
           }
          ],
          "contour": [
           {
            "colorbar": {
             "outlinewidth": 0,
             "ticks": ""
            },
            "colorscale": [
             [
              0,
              "#0d0887"
             ],
             [
              0.1111111111111111,
              "#46039f"
             ],
             [
              0.2222222222222222,
              "#7201a8"
             ],
             [
              0.3333333333333333,
              "#9c179e"
             ],
             [
              0.4444444444444444,
              "#bd3786"
             ],
             [
              0.5555555555555556,
              "#d8576b"
             ],
             [
              0.6666666666666666,
              "#ed7953"
             ],
             [
              0.7777777777777778,
              "#fb9f3a"
             ],
             [
              0.8888888888888888,
              "#fdca26"
             ],
             [
              1,
              "#f0f921"
             ]
            ],
            "type": "contour"
           }
          ],
          "contourcarpet": [
           {
            "colorbar": {
             "outlinewidth": 0,
             "ticks": ""
            },
            "type": "contourcarpet"
           }
          ],
          "heatmap": [
           {
            "colorbar": {
             "outlinewidth": 0,
             "ticks": ""
            },
            "colorscale": [
             [
              0,
              "#0d0887"
             ],
             [
              0.1111111111111111,
              "#46039f"
             ],
             [
              0.2222222222222222,
              "#7201a8"
             ],
             [
              0.3333333333333333,
              "#9c179e"
             ],
             [
              0.4444444444444444,
              "#bd3786"
             ],
             [
              0.5555555555555556,
              "#d8576b"
             ],
             [
              0.6666666666666666,
              "#ed7953"
             ],
             [
              0.7777777777777778,
              "#fb9f3a"
             ],
             [
              0.8888888888888888,
              "#fdca26"
             ],
             [
              1,
              "#f0f921"
             ]
            ],
            "type": "heatmap"
           }
          ],
          "heatmapgl": [
           {
            "colorbar": {
             "outlinewidth": 0,
             "ticks": ""
            },
            "colorscale": [
             [
              0,
              "#0d0887"
             ],
             [
              0.1111111111111111,
              "#46039f"
             ],
             [
              0.2222222222222222,
              "#7201a8"
             ],
             [
              0.3333333333333333,
              "#9c179e"
             ],
             [
              0.4444444444444444,
              "#bd3786"
             ],
             [
              0.5555555555555556,
              "#d8576b"
             ],
             [
              0.6666666666666666,
              "#ed7953"
             ],
             [
              0.7777777777777778,
              "#fb9f3a"
             ],
             [
              0.8888888888888888,
              "#fdca26"
             ],
             [
              1,
              "#f0f921"
             ]
            ],
            "type": "heatmapgl"
           }
          ],
          "histogram": [
           {
            "marker": {
             "pattern": {
              "fillmode": "overlay",
              "size": 10,
              "solidity": 0.2
             }
            },
            "type": "histogram"
           }
          ],
          "histogram2d": [
           {
            "colorbar": {
             "outlinewidth": 0,
             "ticks": ""
            },
            "colorscale": [
             [
              0,
              "#0d0887"
             ],
             [
              0.1111111111111111,
              "#46039f"
             ],
             [
              0.2222222222222222,
              "#7201a8"
             ],
             [
              0.3333333333333333,
              "#9c179e"
             ],
             [
              0.4444444444444444,
              "#bd3786"
             ],
             [
              0.5555555555555556,
              "#d8576b"
             ],
             [
              0.6666666666666666,
              "#ed7953"
             ],
             [
              0.7777777777777778,
              "#fb9f3a"
             ],
             [
              0.8888888888888888,
              "#fdca26"
             ],
             [
              1,
              "#f0f921"
             ]
            ],
            "type": "histogram2d"
           }
          ],
          "histogram2dcontour": [
           {
            "colorbar": {
             "outlinewidth": 0,
             "ticks": ""
            },
            "colorscale": [
             [
              0,
              "#0d0887"
             ],
             [
              0.1111111111111111,
              "#46039f"
             ],
             [
              0.2222222222222222,
              "#7201a8"
             ],
             [
              0.3333333333333333,
              "#9c179e"
             ],
             [
              0.4444444444444444,
              "#bd3786"
             ],
             [
              0.5555555555555556,
              "#d8576b"
             ],
             [
              0.6666666666666666,
              "#ed7953"
             ],
             [
              0.7777777777777778,
              "#fb9f3a"
             ],
             [
              0.8888888888888888,
              "#fdca26"
             ],
             [
              1,
              "#f0f921"
             ]
            ],
            "type": "histogram2dcontour"
           }
          ],
          "mesh3d": [
           {
            "colorbar": {
             "outlinewidth": 0,
             "ticks": ""
            },
            "type": "mesh3d"
           }
          ],
          "parcoords": [
           {
            "line": {
             "colorbar": {
              "outlinewidth": 0,
              "ticks": ""
             }
            },
            "type": "parcoords"
           }
          ],
          "pie": [
           {
            "automargin": true,
            "type": "pie"
           }
          ],
          "scatter": [
           {
            "fillpattern": {
             "fillmode": "overlay",
             "size": 10,
             "solidity": 0.2
            },
            "type": "scatter"
           }
          ],
          "scatter3d": [
           {
            "line": {
             "colorbar": {
              "outlinewidth": 0,
              "ticks": ""
             }
            },
            "marker": {
             "colorbar": {
              "outlinewidth": 0,
              "ticks": ""
             }
            },
            "type": "scatter3d"
           }
          ],
          "scattercarpet": [
           {
            "marker": {
             "colorbar": {
              "outlinewidth": 0,
              "ticks": ""
             }
            },
            "type": "scattercarpet"
           }
          ],
          "scattergeo": [
           {
            "marker": {
             "colorbar": {
              "outlinewidth": 0,
              "ticks": ""
             }
            },
            "type": "scattergeo"
           }
          ],
          "scattergl": [
           {
            "marker": {
             "colorbar": {
              "outlinewidth": 0,
              "ticks": ""
             }
            },
            "type": "scattergl"
           }
          ],
          "scattermapbox": [
           {
            "marker": {
             "colorbar": {
              "outlinewidth": 0,
              "ticks": ""
             }
            },
            "type": "scattermapbox"
           }
          ],
          "scatterpolar": [
           {
            "marker": {
             "colorbar": {
              "outlinewidth": 0,
              "ticks": ""
             }
            },
            "type": "scatterpolar"
           }
          ],
          "scatterpolargl": [
           {
            "marker": {
             "colorbar": {
              "outlinewidth": 0,
              "ticks": ""
             }
            },
            "type": "scatterpolargl"
           }
          ],
          "scatterternary": [
           {
            "marker": {
             "colorbar": {
              "outlinewidth": 0,
              "ticks": ""
             }
            },
            "type": "scatterternary"
           }
          ],
          "surface": [
           {
            "colorbar": {
             "outlinewidth": 0,
             "ticks": ""
            },
            "colorscale": [
             [
              0,
              "#0d0887"
             ],
             [
              0.1111111111111111,
              "#46039f"
             ],
             [
              0.2222222222222222,
              "#7201a8"
             ],
             [
              0.3333333333333333,
              "#9c179e"
             ],
             [
              0.4444444444444444,
              "#bd3786"
             ],
             [
              0.5555555555555556,
              "#d8576b"
             ],
             [
              0.6666666666666666,
              "#ed7953"
             ],
             [
              0.7777777777777778,
              "#fb9f3a"
             ],
             [
              0.8888888888888888,
              "#fdca26"
             ],
             [
              1,
              "#f0f921"
             ]
            ],
            "type": "surface"
           }
          ],
          "table": [
           {
            "cells": {
             "fill": {
              "color": "#EBF0F8"
             },
             "line": {
              "color": "white"
             }
            },
            "header": {
             "fill": {
              "color": "#C8D4E3"
             },
             "line": {
              "color": "white"
             }
            },
            "type": "table"
           }
          ]
         },
         "layout": {
          "annotationdefaults": {
           "arrowcolor": "#2a3f5f",
           "arrowhead": 0,
           "arrowwidth": 1
          },
          "autotypenumbers": "strict",
          "coloraxis": {
           "colorbar": {
            "outlinewidth": 0,
            "ticks": ""
           }
          },
          "colorscale": {
           "diverging": [
            [
             0,
             "#8e0152"
            ],
            [
             0.1,
             "#c51b7d"
            ],
            [
             0.2,
             "#de77ae"
            ],
            [
             0.3,
             "#f1b6da"
            ],
            [
             0.4,
             "#fde0ef"
            ],
            [
             0.5,
             "#f7f7f7"
            ],
            [
             0.6,
             "#e6f5d0"
            ],
            [
             0.7,
             "#b8e186"
            ],
            [
             0.8,
             "#7fbc41"
            ],
            [
             0.9,
             "#4d9221"
            ],
            [
             1,
             "#276419"
            ]
           ],
           "sequential": [
            [
             0,
             "#0d0887"
            ],
            [
             0.1111111111111111,
             "#46039f"
            ],
            [
             0.2222222222222222,
             "#7201a8"
            ],
            [
             0.3333333333333333,
             "#9c179e"
            ],
            [
             0.4444444444444444,
             "#bd3786"
            ],
            [
             0.5555555555555556,
             "#d8576b"
            ],
            [
             0.6666666666666666,
             "#ed7953"
            ],
            [
             0.7777777777777778,
             "#fb9f3a"
            ],
            [
             0.8888888888888888,
             "#fdca26"
            ],
            [
             1,
             "#f0f921"
            ]
           ],
           "sequentialminus": [
            [
             0,
             "#0d0887"
            ],
            [
             0.1111111111111111,
             "#46039f"
            ],
            [
             0.2222222222222222,
             "#7201a8"
            ],
            [
             0.3333333333333333,
             "#9c179e"
            ],
            [
             0.4444444444444444,
             "#bd3786"
            ],
            [
             0.5555555555555556,
             "#d8576b"
            ],
            [
             0.6666666666666666,
             "#ed7953"
            ],
            [
             0.7777777777777778,
             "#fb9f3a"
            ],
            [
             0.8888888888888888,
             "#fdca26"
            ],
            [
             1,
             "#f0f921"
            ]
           ]
          },
          "colorway": [
           "#636efa",
           "#EF553B",
           "#00cc96",
           "#ab63fa",
           "#FFA15A",
           "#19d3f3",
           "#FF6692",
           "#B6E880",
           "#FF97FF",
           "#FECB52"
          ],
          "font": {
           "color": "#2a3f5f"
          },
          "geo": {
           "bgcolor": "white",
           "lakecolor": "white",
           "landcolor": "#E5ECF6",
           "showlakes": true,
           "showland": true,
           "subunitcolor": "white"
          },
          "hoverlabel": {
           "align": "left"
          },
          "hovermode": "closest",
          "mapbox": {
           "style": "light"
          },
          "paper_bgcolor": "white",
          "plot_bgcolor": "#E5ECF6",
          "polar": {
           "angularaxis": {
            "gridcolor": "white",
            "linecolor": "white",
            "ticks": ""
           },
           "bgcolor": "#E5ECF6",
           "radialaxis": {
            "gridcolor": "white",
            "linecolor": "white",
            "ticks": ""
           }
          },
          "scene": {
           "xaxis": {
            "backgroundcolor": "#E5ECF6",
            "gridcolor": "white",
            "gridwidth": 2,
            "linecolor": "white",
            "showbackground": true,
            "ticks": "",
            "zerolinecolor": "white"
           },
           "yaxis": {
            "backgroundcolor": "#E5ECF6",
            "gridcolor": "white",
            "gridwidth": 2,
            "linecolor": "white",
            "showbackground": true,
            "ticks": "",
            "zerolinecolor": "white"
           },
           "zaxis": {
            "backgroundcolor": "#E5ECF6",
            "gridcolor": "white",
            "gridwidth": 2,
            "linecolor": "white",
            "showbackground": true,
            "ticks": "",
            "zerolinecolor": "white"
           }
          },
          "shapedefaults": {
           "line": {
            "color": "#2a3f5f"
           }
          },
          "ternary": {
           "aaxis": {
            "gridcolor": "white",
            "linecolor": "white",
            "ticks": ""
           },
           "baxis": {
            "gridcolor": "white",
            "linecolor": "white",
            "ticks": ""
           },
           "bgcolor": "#E5ECF6",
           "caxis": {
            "gridcolor": "white",
            "linecolor": "white",
            "ticks": ""
           }
          },
          "title": {
           "x": 0.05
          },
          "xaxis": {
           "automargin": true,
           "gridcolor": "white",
           "linecolor": "white",
           "ticks": "",
           "title": {
            "standoff": 15
           },
           "zerolinecolor": "white",
           "zerolinewidth": 2
          },
          "yaxis": {
           "automargin": true,
           "gridcolor": "white",
           "linecolor": "white",
           "ticks": "",
           "title": {
            "standoff": 15
           },
           "zerolinecolor": "white",
           "zerolinewidth": 2
          }
         }
        },
        "title": {
         "text": "От 3 до 6 лет"
        },
        "width": 600,
        "xaxis": {
         "anchor": "y",
         "domain": [
          0,
          1
         ],
         "title": {
          "text": "company"
         }
        },
        "yaxis": {
         "anchor": "x",
         "domain": [
          0,
          1
         ],
         "title": {
          "text": "mean"
         }
        }
       }
      },
      "text/html": [
       "<div>                            <div id=\"26b15a05-d908-4f9c-9c0e-171a0865c180\" class=\"plotly-graph-div\" style=\"height:600px; width:600px;\"></div>            <script type=\"text/javascript\">                require([\"plotly\"], function(Plotly) {                    window.PLOTLYENV=window.PLOTLYENV || {};                                    if (document.getElementById(\"26b15a05-d908-4f9c-9c0e-171a0865c180\")) {                    Plotly.newPlot(                        \"26b15a05-d908-4f9c-9c0e-171a0865c180\",                        [{\"alignmentgroup\":\"True\",\"hovertemplate\":\"company=%{x}<br>mean=%{y}<extra></extra>\",\"legendgroup\":\"\",\"marker\":{\"color\":\"steelblue\",\"pattern\":{\"shape\":\"\"}},\"name\":\"\",\"offsetgroup\":\"\",\"orientation\":\"v\",\"showlegend\":false,\"textposition\":\"auto\",\"x\":[\"Datafold\",\"SberDevices\",\"\\u0421\\u0431\\u0435\\u0440\",\"\\u043d\\u0435 \\u043e\\u043f\\u0440\\u0435\\u0434\\u0435\\u043b\\u0435\\u043d\\u043e\"],\"xaxis\":\"x\",\"y\":[595000.0,357142.85714285716,286363.63636363635,213750.0],\"yaxis\":\"y\",\"type\":\"bar\"}],                        {\"template\":{\"data\":{\"histogram2dcontour\":[{\"type\":\"histogram2dcontour\",\"colorbar\":{\"outlinewidth\":0,\"ticks\":\"\"},\"colorscale\":[[0.0,\"#0d0887\"],[0.1111111111111111,\"#46039f\"],[0.2222222222222222,\"#7201a8\"],[0.3333333333333333,\"#9c179e\"],[0.4444444444444444,\"#bd3786\"],[0.5555555555555556,\"#d8576b\"],[0.6666666666666666,\"#ed7953\"],[0.7777777777777778,\"#fb9f3a\"],[0.8888888888888888,\"#fdca26\"],[1.0,\"#f0f921\"]]}],\"choropleth\":[{\"type\":\"choropleth\",\"colorbar\":{\"outlinewidth\":0,\"ticks\":\"\"}}],\"histogram2d\":[{\"type\":\"histogram2d\",\"colorbar\":{\"outlinewidth\":0,\"ticks\":\"\"},\"colorscale\":[[0.0,\"#0d0887\"],[0.1111111111111111,\"#46039f\"],[0.2222222222222222,\"#7201a8\"],[0.3333333333333333,\"#9c179e\"],[0.4444444444444444,\"#bd3786\"],[0.5555555555555556,\"#d8576b\"],[0.6666666666666666,\"#ed7953\"],[0.7777777777777778,\"#fb9f3a\"],[0.8888888888888888,\"#fdca26\"],[1.0,\"#f0f921\"]]}],\"heatmap\":[{\"type\":\"heatmap\",\"colorbar\":{\"outlinewidth\":0,\"ticks\":\"\"},\"colorscale\":[[0.0,\"#0d0887\"],[0.1111111111111111,\"#46039f\"],[0.2222222222222222,\"#7201a8\"],[0.3333333333333333,\"#9c179e\"],[0.4444444444444444,\"#bd3786\"],[0.5555555555555556,\"#d8576b\"],[0.6666666666666666,\"#ed7953\"],[0.7777777777777778,\"#fb9f3a\"],[0.8888888888888888,\"#fdca26\"],[1.0,\"#f0f921\"]]}],\"heatmapgl\":[{\"type\":\"heatmapgl\",\"colorbar\":{\"outlinewidth\":0,\"ticks\":\"\"},\"colorscale\":[[0.0,\"#0d0887\"],[0.1111111111111111,\"#46039f\"],[0.2222222222222222,\"#7201a8\"],[0.3333333333333333,\"#9c179e\"],[0.4444444444444444,\"#bd3786\"],[0.5555555555555556,\"#d8576b\"],[0.6666666666666666,\"#ed7953\"],[0.7777777777777778,\"#fb9f3a\"],[0.8888888888888888,\"#fdca26\"],[1.0,\"#f0f921\"]]}],\"contourcarpet\":[{\"type\":\"contourcarpet\",\"colorbar\":{\"outlinewidth\":0,\"ticks\":\"\"}}],\"contour\":[{\"type\":\"contour\",\"colorbar\":{\"outlinewidth\":0,\"ticks\":\"\"},\"colorscale\":[[0.0,\"#0d0887\"],[0.1111111111111111,\"#46039f\"],[0.2222222222222222,\"#7201a8\"],[0.3333333333333333,\"#9c179e\"],[0.4444444444444444,\"#bd3786\"],[0.5555555555555556,\"#d8576b\"],[0.6666666666666666,\"#ed7953\"],[0.7777777777777778,\"#fb9f3a\"],[0.8888888888888888,\"#fdca26\"],[1.0,\"#f0f921\"]]}],\"surface\":[{\"type\":\"surface\",\"colorbar\":{\"outlinewidth\":0,\"ticks\":\"\"},\"colorscale\":[[0.0,\"#0d0887\"],[0.1111111111111111,\"#46039f\"],[0.2222222222222222,\"#7201a8\"],[0.3333333333333333,\"#9c179e\"],[0.4444444444444444,\"#bd3786\"],[0.5555555555555556,\"#d8576b\"],[0.6666666666666666,\"#ed7953\"],[0.7777777777777778,\"#fb9f3a\"],[0.8888888888888888,\"#fdca26\"],[1.0,\"#f0f921\"]]}],\"mesh3d\":[{\"type\":\"mesh3d\",\"colorbar\":{\"outlinewidth\":0,\"ticks\":\"\"}}],\"scatter\":[{\"fillpattern\":{\"fillmode\":\"overlay\",\"size\":10,\"solidity\":0.2},\"type\":\"scatter\"}],\"parcoords\":[{\"type\":\"parcoords\",\"line\":{\"colorbar\":{\"outlinewidth\":0,\"ticks\":\"\"}}}],\"scatterpolargl\":[{\"type\":\"scatterpolargl\",\"marker\":{\"colorbar\":{\"outlinewidth\":0,\"ticks\":\"\"}}}],\"bar\":[{\"error_x\":{\"color\":\"#2a3f5f\"},\"error_y\":{\"color\":\"#2a3f5f\"},\"marker\":{\"line\":{\"color\":\"#E5ECF6\",\"width\":0.5},\"pattern\":{\"fillmode\":\"overlay\",\"size\":10,\"solidity\":0.2}},\"type\":\"bar\"}],\"scattergeo\":[{\"type\":\"scattergeo\",\"marker\":{\"colorbar\":{\"outlinewidth\":0,\"ticks\":\"\"}}}],\"scatterpolar\":[{\"type\":\"scatterpolar\",\"marker\":{\"colorbar\":{\"outlinewidth\":0,\"ticks\":\"\"}}}],\"histogram\":[{\"marker\":{\"pattern\":{\"fillmode\":\"overlay\",\"size\":10,\"solidity\":0.2}},\"type\":\"histogram\"}],\"scattergl\":[{\"type\":\"scattergl\",\"marker\":{\"colorbar\":{\"outlinewidth\":0,\"ticks\":\"\"}}}],\"scatter3d\":[{\"type\":\"scatter3d\",\"line\":{\"colorbar\":{\"outlinewidth\":0,\"ticks\":\"\"}},\"marker\":{\"colorbar\":{\"outlinewidth\":0,\"ticks\":\"\"}}}],\"scattermapbox\":[{\"type\":\"scattermapbox\",\"marker\":{\"colorbar\":{\"outlinewidth\":0,\"ticks\":\"\"}}}],\"scatterternary\":[{\"type\":\"scatterternary\",\"marker\":{\"colorbar\":{\"outlinewidth\":0,\"ticks\":\"\"}}}],\"scattercarpet\":[{\"type\":\"scattercarpet\",\"marker\":{\"colorbar\":{\"outlinewidth\":0,\"ticks\":\"\"}}}],\"carpet\":[{\"aaxis\":{\"endlinecolor\":\"#2a3f5f\",\"gridcolor\":\"white\",\"linecolor\":\"white\",\"minorgridcolor\":\"white\",\"startlinecolor\":\"#2a3f5f\"},\"baxis\":{\"endlinecolor\":\"#2a3f5f\",\"gridcolor\":\"white\",\"linecolor\":\"white\",\"minorgridcolor\":\"white\",\"startlinecolor\":\"#2a3f5f\"},\"type\":\"carpet\"}],\"table\":[{\"cells\":{\"fill\":{\"color\":\"#EBF0F8\"},\"line\":{\"color\":\"white\"}},\"header\":{\"fill\":{\"color\":\"#C8D4E3\"},\"line\":{\"color\":\"white\"}},\"type\":\"table\"}],\"barpolar\":[{\"marker\":{\"line\":{\"color\":\"#E5ECF6\",\"width\":0.5},\"pattern\":{\"fillmode\":\"overlay\",\"size\":10,\"solidity\":0.2}},\"type\":\"barpolar\"}],\"pie\":[{\"automargin\":true,\"type\":\"pie\"}]},\"layout\":{\"autotypenumbers\":\"strict\",\"colorway\":[\"#636efa\",\"#EF553B\",\"#00cc96\",\"#ab63fa\",\"#FFA15A\",\"#19d3f3\",\"#FF6692\",\"#B6E880\",\"#FF97FF\",\"#FECB52\"],\"font\":{\"color\":\"#2a3f5f\"},\"hovermode\":\"closest\",\"hoverlabel\":{\"align\":\"left\"},\"paper_bgcolor\":\"white\",\"plot_bgcolor\":\"#E5ECF6\",\"polar\":{\"bgcolor\":\"#E5ECF6\",\"angularaxis\":{\"gridcolor\":\"white\",\"linecolor\":\"white\",\"ticks\":\"\"},\"radialaxis\":{\"gridcolor\":\"white\",\"linecolor\":\"white\",\"ticks\":\"\"}},\"ternary\":{\"bgcolor\":\"#E5ECF6\",\"aaxis\":{\"gridcolor\":\"white\",\"linecolor\":\"white\",\"ticks\":\"\"},\"baxis\":{\"gridcolor\":\"white\",\"linecolor\":\"white\",\"ticks\":\"\"},\"caxis\":{\"gridcolor\":\"white\",\"linecolor\":\"white\",\"ticks\":\"\"}},\"coloraxis\":{\"colorbar\":{\"outlinewidth\":0,\"ticks\":\"\"}},\"colorscale\":{\"sequential\":[[0.0,\"#0d0887\"],[0.1111111111111111,\"#46039f\"],[0.2222222222222222,\"#7201a8\"],[0.3333333333333333,\"#9c179e\"],[0.4444444444444444,\"#bd3786\"],[0.5555555555555556,\"#d8576b\"],[0.6666666666666666,\"#ed7953\"],[0.7777777777777778,\"#fb9f3a\"],[0.8888888888888888,\"#fdca26\"],[1.0,\"#f0f921\"]],\"sequentialminus\":[[0.0,\"#0d0887\"],[0.1111111111111111,\"#46039f\"],[0.2222222222222222,\"#7201a8\"],[0.3333333333333333,\"#9c179e\"],[0.4444444444444444,\"#bd3786\"],[0.5555555555555556,\"#d8576b\"],[0.6666666666666666,\"#ed7953\"],[0.7777777777777778,\"#fb9f3a\"],[0.8888888888888888,\"#fdca26\"],[1.0,\"#f0f921\"]],\"diverging\":[[0,\"#8e0152\"],[0.1,\"#c51b7d\"],[0.2,\"#de77ae\"],[0.3,\"#f1b6da\"],[0.4,\"#fde0ef\"],[0.5,\"#f7f7f7\"],[0.6,\"#e6f5d0\"],[0.7,\"#b8e186\"],[0.8,\"#7fbc41\"],[0.9,\"#4d9221\"],[1,\"#276419\"]]},\"xaxis\":{\"gridcolor\":\"white\",\"linecolor\":\"white\",\"ticks\":\"\",\"title\":{\"standoff\":15},\"zerolinecolor\":\"white\",\"automargin\":true,\"zerolinewidth\":2},\"yaxis\":{\"gridcolor\":\"white\",\"linecolor\":\"white\",\"ticks\":\"\",\"title\":{\"standoff\":15},\"zerolinecolor\":\"white\",\"automargin\":true,\"zerolinewidth\":2},\"scene\":{\"xaxis\":{\"backgroundcolor\":\"#E5ECF6\",\"gridcolor\":\"white\",\"linecolor\":\"white\",\"showbackground\":true,\"ticks\":\"\",\"zerolinecolor\":\"white\",\"gridwidth\":2},\"yaxis\":{\"backgroundcolor\":\"#E5ECF6\",\"gridcolor\":\"white\",\"linecolor\":\"white\",\"showbackground\":true,\"ticks\":\"\",\"zerolinecolor\":\"white\",\"gridwidth\":2},\"zaxis\":{\"backgroundcolor\":\"#E5ECF6\",\"gridcolor\":\"white\",\"linecolor\":\"white\",\"showbackground\":true,\"ticks\":\"\",\"zerolinecolor\":\"white\",\"gridwidth\":2}},\"shapedefaults\":{\"line\":{\"color\":\"#2a3f5f\"}},\"annotationdefaults\":{\"arrowcolor\":\"#2a3f5f\",\"arrowhead\":0,\"arrowwidth\":1},\"geo\":{\"bgcolor\":\"white\",\"landcolor\":\"#E5ECF6\",\"subunitcolor\":\"white\",\"showland\":true,\"showlakes\":true,\"lakecolor\":\"white\"},\"title\":{\"x\":0.05},\"mapbox\":{\"style\":\"light\"}}},\"xaxis\":{\"anchor\":\"y\",\"domain\":[0.0,1.0],\"title\":{\"text\":\"company\"}},\"yaxis\":{\"anchor\":\"x\",\"domain\":[0.0,1.0],\"title\":{\"text\":\"mean\"}},\"legend\":{\"tracegroupgap\":0},\"title\":{\"text\":\"\\u041e\\u0442 3 \\u0434\\u043e 6 \\u043b\\u0435\\u0442\"},\"barmode\":\"relative\",\"height\":600,\"width\":600},                        {\"responsive\": true}                    ).then(function(){\n",
       "                            \n",
       "var gd = document.getElementById('26b15a05-d908-4f9c-9c0e-171a0865c180');\n",
       "var x = new MutationObserver(function (mutations, observer) {{\n",
       "        var display = window.getComputedStyle(gd).display;\n",
       "        if (!display || display === 'none') {{\n",
       "            console.log([gd, 'removed!']);\n",
       "            Plotly.purge(gd);\n",
       "            observer.disconnect();\n",
       "        }}\n",
       "}});\n",
       "\n",
       "// Listen for the removal of the full notebook cells\n",
       "var notebookContainer = gd.closest('#notebook-container');\n",
       "if (notebookContainer) {{\n",
       "    x.observe(notebookContainer, {childList: true});\n",
       "}}\n",
       "\n",
       "// Listen for the clearing of the current output cell\n",
       "var outputEl = gd.closest('.output');\n",
       "if (outputEl) {{\n",
       "    x.observe(outputEl, {childList: true});\n",
       "}}\n",
       "\n",
       "                        })                };                });            </script>        </div>"
      ]
     },
     "metadata": {},
     "output_type": "display_data"
    },
    {
     "data": {
      "application/vnd.plotly.v1+json": {
       "config": {
        "plotlyServerURL": "https://plot.ly"
       },
       "data": [
        {
         "alignmentgroup": "True",
         "hovertemplate": "company=%{x}<br>mean=%{y}<extra></extra>",
         "legendgroup": "",
         "marker": {
          "color": "steelblue",
          "pattern": {
           "shape": ""
          }
         },
         "name": "",
         "offsetgroup": "",
         "orientation": "v",
         "showlegend": false,
         "textposition": "auto",
         "type": "bar",
         "x": [
          "Sportmaster Lab",
          "SberTech",
          "Ростелеком",
          "Сбер"
         ],
         "xaxis": "x",
         "y": [
          293333.3333333333,
          232666.66666666666,
          166666.66666666666,
          156666.66666666666
         ],
         "yaxis": "y"
        }
       ],
       "layout": {
        "barmode": "relative",
        "height": 600,
        "legend": {
         "tracegroupgap": 0
        },
        "template": {
         "data": {
          "bar": [
           {
            "error_x": {
             "color": "#2a3f5f"
            },
            "error_y": {
             "color": "#2a3f5f"
            },
            "marker": {
             "line": {
              "color": "#E5ECF6",
              "width": 0.5
             },
             "pattern": {
              "fillmode": "overlay",
              "size": 10,
              "solidity": 0.2
             }
            },
            "type": "bar"
           }
          ],
          "barpolar": [
           {
            "marker": {
             "line": {
              "color": "#E5ECF6",
              "width": 0.5
             },
             "pattern": {
              "fillmode": "overlay",
              "size": 10,
              "solidity": 0.2
             }
            },
            "type": "barpolar"
           }
          ],
          "carpet": [
           {
            "aaxis": {
             "endlinecolor": "#2a3f5f",
             "gridcolor": "white",
             "linecolor": "white",
             "minorgridcolor": "white",
             "startlinecolor": "#2a3f5f"
            },
            "baxis": {
             "endlinecolor": "#2a3f5f",
             "gridcolor": "white",
             "linecolor": "white",
             "minorgridcolor": "white",
             "startlinecolor": "#2a3f5f"
            },
            "type": "carpet"
           }
          ],
          "choropleth": [
           {
            "colorbar": {
             "outlinewidth": 0,
             "ticks": ""
            },
            "type": "choropleth"
           }
          ],
          "contour": [
           {
            "colorbar": {
             "outlinewidth": 0,
             "ticks": ""
            },
            "colorscale": [
             [
              0,
              "#0d0887"
             ],
             [
              0.1111111111111111,
              "#46039f"
             ],
             [
              0.2222222222222222,
              "#7201a8"
             ],
             [
              0.3333333333333333,
              "#9c179e"
             ],
             [
              0.4444444444444444,
              "#bd3786"
             ],
             [
              0.5555555555555556,
              "#d8576b"
             ],
             [
              0.6666666666666666,
              "#ed7953"
             ],
             [
              0.7777777777777778,
              "#fb9f3a"
             ],
             [
              0.8888888888888888,
              "#fdca26"
             ],
             [
              1,
              "#f0f921"
             ]
            ],
            "type": "contour"
           }
          ],
          "contourcarpet": [
           {
            "colorbar": {
             "outlinewidth": 0,
             "ticks": ""
            },
            "type": "contourcarpet"
           }
          ],
          "heatmap": [
           {
            "colorbar": {
             "outlinewidth": 0,
             "ticks": ""
            },
            "colorscale": [
             [
              0,
              "#0d0887"
             ],
             [
              0.1111111111111111,
              "#46039f"
             ],
             [
              0.2222222222222222,
              "#7201a8"
             ],
             [
              0.3333333333333333,
              "#9c179e"
             ],
             [
              0.4444444444444444,
              "#bd3786"
             ],
             [
              0.5555555555555556,
              "#d8576b"
             ],
             [
              0.6666666666666666,
              "#ed7953"
             ],
             [
              0.7777777777777778,
              "#fb9f3a"
             ],
             [
              0.8888888888888888,
              "#fdca26"
             ],
             [
              1,
              "#f0f921"
             ]
            ],
            "type": "heatmap"
           }
          ],
          "heatmapgl": [
           {
            "colorbar": {
             "outlinewidth": 0,
             "ticks": ""
            },
            "colorscale": [
             [
              0,
              "#0d0887"
             ],
             [
              0.1111111111111111,
              "#46039f"
             ],
             [
              0.2222222222222222,
              "#7201a8"
             ],
             [
              0.3333333333333333,
              "#9c179e"
             ],
             [
              0.4444444444444444,
              "#bd3786"
             ],
             [
              0.5555555555555556,
              "#d8576b"
             ],
             [
              0.6666666666666666,
              "#ed7953"
             ],
             [
              0.7777777777777778,
              "#fb9f3a"
             ],
             [
              0.8888888888888888,
              "#fdca26"
             ],
             [
              1,
              "#f0f921"
             ]
            ],
            "type": "heatmapgl"
           }
          ],
          "histogram": [
           {
            "marker": {
             "pattern": {
              "fillmode": "overlay",
              "size": 10,
              "solidity": 0.2
             }
            },
            "type": "histogram"
           }
          ],
          "histogram2d": [
           {
            "colorbar": {
             "outlinewidth": 0,
             "ticks": ""
            },
            "colorscale": [
             [
              0,
              "#0d0887"
             ],
             [
              0.1111111111111111,
              "#46039f"
             ],
             [
              0.2222222222222222,
              "#7201a8"
             ],
             [
              0.3333333333333333,
              "#9c179e"
             ],
             [
              0.4444444444444444,
              "#bd3786"
             ],
             [
              0.5555555555555556,
              "#d8576b"
             ],
             [
              0.6666666666666666,
              "#ed7953"
             ],
             [
              0.7777777777777778,
              "#fb9f3a"
             ],
             [
              0.8888888888888888,
              "#fdca26"
             ],
             [
              1,
              "#f0f921"
             ]
            ],
            "type": "histogram2d"
           }
          ],
          "histogram2dcontour": [
           {
            "colorbar": {
             "outlinewidth": 0,
             "ticks": ""
            },
            "colorscale": [
             [
              0,
              "#0d0887"
             ],
             [
              0.1111111111111111,
              "#46039f"
             ],
             [
              0.2222222222222222,
              "#7201a8"
             ],
             [
              0.3333333333333333,
              "#9c179e"
             ],
             [
              0.4444444444444444,
              "#bd3786"
             ],
             [
              0.5555555555555556,
              "#d8576b"
             ],
             [
              0.6666666666666666,
              "#ed7953"
             ],
             [
              0.7777777777777778,
              "#fb9f3a"
             ],
             [
              0.8888888888888888,
              "#fdca26"
             ],
             [
              1,
              "#f0f921"
             ]
            ],
            "type": "histogram2dcontour"
           }
          ],
          "mesh3d": [
           {
            "colorbar": {
             "outlinewidth": 0,
             "ticks": ""
            },
            "type": "mesh3d"
           }
          ],
          "parcoords": [
           {
            "line": {
             "colorbar": {
              "outlinewidth": 0,
              "ticks": ""
             }
            },
            "type": "parcoords"
           }
          ],
          "pie": [
           {
            "automargin": true,
            "type": "pie"
           }
          ],
          "scatter": [
           {
            "fillpattern": {
             "fillmode": "overlay",
             "size": 10,
             "solidity": 0.2
            },
            "type": "scatter"
           }
          ],
          "scatter3d": [
           {
            "line": {
             "colorbar": {
              "outlinewidth": 0,
              "ticks": ""
             }
            },
            "marker": {
             "colorbar": {
              "outlinewidth": 0,
              "ticks": ""
             }
            },
            "type": "scatter3d"
           }
          ],
          "scattercarpet": [
           {
            "marker": {
             "colorbar": {
              "outlinewidth": 0,
              "ticks": ""
             }
            },
            "type": "scattercarpet"
           }
          ],
          "scattergeo": [
           {
            "marker": {
             "colorbar": {
              "outlinewidth": 0,
              "ticks": ""
             }
            },
            "type": "scattergeo"
           }
          ],
          "scattergl": [
           {
            "marker": {
             "colorbar": {
              "outlinewidth": 0,
              "ticks": ""
             }
            },
            "type": "scattergl"
           }
          ],
          "scattermapbox": [
           {
            "marker": {
             "colorbar": {
              "outlinewidth": 0,
              "ticks": ""
             }
            },
            "type": "scattermapbox"
           }
          ],
          "scatterpolar": [
           {
            "marker": {
             "colorbar": {
              "outlinewidth": 0,
              "ticks": ""
             }
            },
            "type": "scatterpolar"
           }
          ],
          "scatterpolargl": [
           {
            "marker": {
             "colorbar": {
              "outlinewidth": 0,
              "ticks": ""
             }
            },
            "type": "scatterpolargl"
           }
          ],
          "scatterternary": [
           {
            "marker": {
             "colorbar": {
              "outlinewidth": 0,
              "ticks": ""
             }
            },
            "type": "scatterternary"
           }
          ],
          "surface": [
           {
            "colorbar": {
             "outlinewidth": 0,
             "ticks": ""
            },
            "colorscale": [
             [
              0,
              "#0d0887"
             ],
             [
              0.1111111111111111,
              "#46039f"
             ],
             [
              0.2222222222222222,
              "#7201a8"
             ],
             [
              0.3333333333333333,
              "#9c179e"
             ],
             [
              0.4444444444444444,
              "#bd3786"
             ],
             [
              0.5555555555555556,
              "#d8576b"
             ],
             [
              0.6666666666666666,
              "#ed7953"
             ],
             [
              0.7777777777777778,
              "#fb9f3a"
             ],
             [
              0.8888888888888888,
              "#fdca26"
             ],
             [
              1,
              "#f0f921"
             ]
            ],
            "type": "surface"
           }
          ],
          "table": [
           {
            "cells": {
             "fill": {
              "color": "#EBF0F8"
             },
             "line": {
              "color": "white"
             }
            },
            "header": {
             "fill": {
              "color": "#C8D4E3"
             },
             "line": {
              "color": "white"
             }
            },
            "type": "table"
           }
          ]
         },
         "layout": {
          "annotationdefaults": {
           "arrowcolor": "#2a3f5f",
           "arrowhead": 0,
           "arrowwidth": 1
          },
          "autotypenumbers": "strict",
          "coloraxis": {
           "colorbar": {
            "outlinewidth": 0,
            "ticks": ""
           }
          },
          "colorscale": {
           "diverging": [
            [
             0,
             "#8e0152"
            ],
            [
             0.1,
             "#c51b7d"
            ],
            [
             0.2,
             "#de77ae"
            ],
            [
             0.3,
             "#f1b6da"
            ],
            [
             0.4,
             "#fde0ef"
            ],
            [
             0.5,
             "#f7f7f7"
            ],
            [
             0.6,
             "#e6f5d0"
            ],
            [
             0.7,
             "#b8e186"
            ],
            [
             0.8,
             "#7fbc41"
            ],
            [
             0.9,
             "#4d9221"
            ],
            [
             1,
             "#276419"
            ]
           ],
           "sequential": [
            [
             0,
             "#0d0887"
            ],
            [
             0.1111111111111111,
             "#46039f"
            ],
            [
             0.2222222222222222,
             "#7201a8"
            ],
            [
             0.3333333333333333,
             "#9c179e"
            ],
            [
             0.4444444444444444,
             "#bd3786"
            ],
            [
             0.5555555555555556,
             "#d8576b"
            ],
            [
             0.6666666666666666,
             "#ed7953"
            ],
            [
             0.7777777777777778,
             "#fb9f3a"
            ],
            [
             0.8888888888888888,
             "#fdca26"
            ],
            [
             1,
             "#f0f921"
            ]
           ],
           "sequentialminus": [
            [
             0,
             "#0d0887"
            ],
            [
             0.1111111111111111,
             "#46039f"
            ],
            [
             0.2222222222222222,
             "#7201a8"
            ],
            [
             0.3333333333333333,
             "#9c179e"
            ],
            [
             0.4444444444444444,
             "#bd3786"
            ],
            [
             0.5555555555555556,
             "#d8576b"
            ],
            [
             0.6666666666666666,
             "#ed7953"
            ],
            [
             0.7777777777777778,
             "#fb9f3a"
            ],
            [
             0.8888888888888888,
             "#fdca26"
            ],
            [
             1,
             "#f0f921"
            ]
           ]
          },
          "colorway": [
           "#636efa",
           "#EF553B",
           "#00cc96",
           "#ab63fa",
           "#FFA15A",
           "#19d3f3",
           "#FF6692",
           "#B6E880",
           "#FF97FF",
           "#FECB52"
          ],
          "font": {
           "color": "#2a3f5f"
          },
          "geo": {
           "bgcolor": "white",
           "lakecolor": "white",
           "landcolor": "#E5ECF6",
           "showlakes": true,
           "showland": true,
           "subunitcolor": "white"
          },
          "hoverlabel": {
           "align": "left"
          },
          "hovermode": "closest",
          "mapbox": {
           "style": "light"
          },
          "paper_bgcolor": "white",
          "plot_bgcolor": "#E5ECF6",
          "polar": {
           "angularaxis": {
            "gridcolor": "white",
            "linecolor": "white",
            "ticks": ""
           },
           "bgcolor": "#E5ECF6",
           "radialaxis": {
            "gridcolor": "white",
            "linecolor": "white",
            "ticks": ""
           }
          },
          "scene": {
           "xaxis": {
            "backgroundcolor": "#E5ECF6",
            "gridcolor": "white",
            "gridwidth": 2,
            "linecolor": "white",
            "showbackground": true,
            "ticks": "",
            "zerolinecolor": "white"
           },
           "yaxis": {
            "backgroundcolor": "#E5ECF6",
            "gridcolor": "white",
            "gridwidth": 2,
            "linecolor": "white",
            "showbackground": true,
            "ticks": "",
            "zerolinecolor": "white"
           },
           "zaxis": {
            "backgroundcolor": "#E5ECF6",
            "gridcolor": "white",
            "gridwidth": 2,
            "linecolor": "white",
            "showbackground": true,
            "ticks": "",
            "zerolinecolor": "white"
           }
          },
          "shapedefaults": {
           "line": {
            "color": "#2a3f5f"
           }
          },
          "ternary": {
           "aaxis": {
            "gridcolor": "white",
            "linecolor": "white",
            "ticks": ""
           },
           "baxis": {
            "gridcolor": "white",
            "linecolor": "white",
            "ticks": ""
           },
           "bgcolor": "#E5ECF6",
           "caxis": {
            "gridcolor": "white",
            "linecolor": "white",
            "ticks": ""
           }
          },
          "title": {
           "x": 0.05
          },
          "xaxis": {
           "automargin": true,
           "gridcolor": "white",
           "linecolor": "white",
           "ticks": "",
           "title": {
            "standoff": 15
           },
           "zerolinecolor": "white",
           "zerolinewidth": 2
          },
          "yaxis": {
           "automargin": true,
           "gridcolor": "white",
           "linecolor": "white",
           "ticks": "",
           "title": {
            "standoff": 15
           },
           "zerolinecolor": "white",
           "zerolinewidth": 2
          }
         }
        },
        "title": {
         "text": "От 1 года до 3 лет"
        },
        "width": 600,
        "xaxis": {
         "anchor": "y",
         "domain": [
          0,
          1
         ],
         "title": {
          "text": "company"
         }
        },
        "yaxis": {
         "anchor": "x",
         "domain": [
          0,
          1
         ],
         "title": {
          "text": "mean"
         }
        }
       }
      },
      "text/html": [
       "<div>                            <div id=\"4312f3fa-17ee-4326-b05f-0550fb57e6b3\" class=\"plotly-graph-div\" style=\"height:600px; width:600px;\"></div>            <script type=\"text/javascript\">                require([\"plotly\"], function(Plotly) {                    window.PLOTLYENV=window.PLOTLYENV || {};                                    if (document.getElementById(\"4312f3fa-17ee-4326-b05f-0550fb57e6b3\")) {                    Plotly.newPlot(                        \"4312f3fa-17ee-4326-b05f-0550fb57e6b3\",                        [{\"alignmentgroup\":\"True\",\"hovertemplate\":\"company=%{x}<br>mean=%{y}<extra></extra>\",\"legendgroup\":\"\",\"marker\":{\"color\":\"steelblue\",\"pattern\":{\"shape\":\"\"}},\"name\":\"\",\"offsetgroup\":\"\",\"orientation\":\"v\",\"showlegend\":false,\"textposition\":\"auto\",\"x\":[\"Sportmaster Lab\",\"SberTech\",\"\\u0420\\u043e\\u0441\\u0442\\u0435\\u043b\\u0435\\u043a\\u043e\\u043c\",\"\\u0421\\u0431\\u0435\\u0440\"],\"xaxis\":\"x\",\"y\":[293333.3333333333,232666.66666666666,166666.66666666666,156666.66666666666],\"yaxis\":\"y\",\"type\":\"bar\"}],                        {\"template\":{\"data\":{\"histogram2dcontour\":[{\"type\":\"histogram2dcontour\",\"colorbar\":{\"outlinewidth\":0,\"ticks\":\"\"},\"colorscale\":[[0.0,\"#0d0887\"],[0.1111111111111111,\"#46039f\"],[0.2222222222222222,\"#7201a8\"],[0.3333333333333333,\"#9c179e\"],[0.4444444444444444,\"#bd3786\"],[0.5555555555555556,\"#d8576b\"],[0.6666666666666666,\"#ed7953\"],[0.7777777777777778,\"#fb9f3a\"],[0.8888888888888888,\"#fdca26\"],[1.0,\"#f0f921\"]]}],\"choropleth\":[{\"type\":\"choropleth\",\"colorbar\":{\"outlinewidth\":0,\"ticks\":\"\"}}],\"histogram2d\":[{\"type\":\"histogram2d\",\"colorbar\":{\"outlinewidth\":0,\"ticks\":\"\"},\"colorscale\":[[0.0,\"#0d0887\"],[0.1111111111111111,\"#46039f\"],[0.2222222222222222,\"#7201a8\"],[0.3333333333333333,\"#9c179e\"],[0.4444444444444444,\"#bd3786\"],[0.5555555555555556,\"#d8576b\"],[0.6666666666666666,\"#ed7953\"],[0.7777777777777778,\"#fb9f3a\"],[0.8888888888888888,\"#fdca26\"],[1.0,\"#f0f921\"]]}],\"heatmap\":[{\"type\":\"heatmap\",\"colorbar\":{\"outlinewidth\":0,\"ticks\":\"\"},\"colorscale\":[[0.0,\"#0d0887\"],[0.1111111111111111,\"#46039f\"],[0.2222222222222222,\"#7201a8\"],[0.3333333333333333,\"#9c179e\"],[0.4444444444444444,\"#bd3786\"],[0.5555555555555556,\"#d8576b\"],[0.6666666666666666,\"#ed7953\"],[0.7777777777777778,\"#fb9f3a\"],[0.8888888888888888,\"#fdca26\"],[1.0,\"#f0f921\"]]}],\"heatmapgl\":[{\"type\":\"heatmapgl\",\"colorbar\":{\"outlinewidth\":0,\"ticks\":\"\"},\"colorscale\":[[0.0,\"#0d0887\"],[0.1111111111111111,\"#46039f\"],[0.2222222222222222,\"#7201a8\"],[0.3333333333333333,\"#9c179e\"],[0.4444444444444444,\"#bd3786\"],[0.5555555555555556,\"#d8576b\"],[0.6666666666666666,\"#ed7953\"],[0.7777777777777778,\"#fb9f3a\"],[0.8888888888888888,\"#fdca26\"],[1.0,\"#f0f921\"]]}],\"contourcarpet\":[{\"type\":\"contourcarpet\",\"colorbar\":{\"outlinewidth\":0,\"ticks\":\"\"}}],\"contour\":[{\"type\":\"contour\",\"colorbar\":{\"outlinewidth\":0,\"ticks\":\"\"},\"colorscale\":[[0.0,\"#0d0887\"],[0.1111111111111111,\"#46039f\"],[0.2222222222222222,\"#7201a8\"],[0.3333333333333333,\"#9c179e\"],[0.4444444444444444,\"#bd3786\"],[0.5555555555555556,\"#d8576b\"],[0.6666666666666666,\"#ed7953\"],[0.7777777777777778,\"#fb9f3a\"],[0.8888888888888888,\"#fdca26\"],[1.0,\"#f0f921\"]]}],\"surface\":[{\"type\":\"surface\",\"colorbar\":{\"outlinewidth\":0,\"ticks\":\"\"},\"colorscale\":[[0.0,\"#0d0887\"],[0.1111111111111111,\"#46039f\"],[0.2222222222222222,\"#7201a8\"],[0.3333333333333333,\"#9c179e\"],[0.4444444444444444,\"#bd3786\"],[0.5555555555555556,\"#d8576b\"],[0.6666666666666666,\"#ed7953\"],[0.7777777777777778,\"#fb9f3a\"],[0.8888888888888888,\"#fdca26\"],[1.0,\"#f0f921\"]]}],\"mesh3d\":[{\"type\":\"mesh3d\",\"colorbar\":{\"outlinewidth\":0,\"ticks\":\"\"}}],\"scatter\":[{\"fillpattern\":{\"fillmode\":\"overlay\",\"size\":10,\"solidity\":0.2},\"type\":\"scatter\"}],\"parcoords\":[{\"type\":\"parcoords\",\"line\":{\"colorbar\":{\"outlinewidth\":0,\"ticks\":\"\"}}}],\"scatterpolargl\":[{\"type\":\"scatterpolargl\",\"marker\":{\"colorbar\":{\"outlinewidth\":0,\"ticks\":\"\"}}}],\"bar\":[{\"error_x\":{\"color\":\"#2a3f5f\"},\"error_y\":{\"color\":\"#2a3f5f\"},\"marker\":{\"line\":{\"color\":\"#E5ECF6\",\"width\":0.5},\"pattern\":{\"fillmode\":\"overlay\",\"size\":10,\"solidity\":0.2}},\"type\":\"bar\"}],\"scattergeo\":[{\"type\":\"scattergeo\",\"marker\":{\"colorbar\":{\"outlinewidth\":0,\"ticks\":\"\"}}}],\"scatterpolar\":[{\"type\":\"scatterpolar\",\"marker\":{\"colorbar\":{\"outlinewidth\":0,\"ticks\":\"\"}}}],\"histogram\":[{\"marker\":{\"pattern\":{\"fillmode\":\"overlay\",\"size\":10,\"solidity\":0.2}},\"type\":\"histogram\"}],\"scattergl\":[{\"type\":\"scattergl\",\"marker\":{\"colorbar\":{\"outlinewidth\":0,\"ticks\":\"\"}}}],\"scatter3d\":[{\"type\":\"scatter3d\",\"line\":{\"colorbar\":{\"outlinewidth\":0,\"ticks\":\"\"}},\"marker\":{\"colorbar\":{\"outlinewidth\":0,\"ticks\":\"\"}}}],\"scattermapbox\":[{\"type\":\"scattermapbox\",\"marker\":{\"colorbar\":{\"outlinewidth\":0,\"ticks\":\"\"}}}],\"scatterternary\":[{\"type\":\"scatterternary\",\"marker\":{\"colorbar\":{\"outlinewidth\":0,\"ticks\":\"\"}}}],\"scattercarpet\":[{\"type\":\"scattercarpet\",\"marker\":{\"colorbar\":{\"outlinewidth\":0,\"ticks\":\"\"}}}],\"carpet\":[{\"aaxis\":{\"endlinecolor\":\"#2a3f5f\",\"gridcolor\":\"white\",\"linecolor\":\"white\",\"minorgridcolor\":\"white\",\"startlinecolor\":\"#2a3f5f\"},\"baxis\":{\"endlinecolor\":\"#2a3f5f\",\"gridcolor\":\"white\",\"linecolor\":\"white\",\"minorgridcolor\":\"white\",\"startlinecolor\":\"#2a3f5f\"},\"type\":\"carpet\"}],\"table\":[{\"cells\":{\"fill\":{\"color\":\"#EBF0F8\"},\"line\":{\"color\":\"white\"}},\"header\":{\"fill\":{\"color\":\"#C8D4E3\"},\"line\":{\"color\":\"white\"}},\"type\":\"table\"}],\"barpolar\":[{\"marker\":{\"line\":{\"color\":\"#E5ECF6\",\"width\":0.5},\"pattern\":{\"fillmode\":\"overlay\",\"size\":10,\"solidity\":0.2}},\"type\":\"barpolar\"}],\"pie\":[{\"automargin\":true,\"type\":\"pie\"}]},\"layout\":{\"autotypenumbers\":\"strict\",\"colorway\":[\"#636efa\",\"#EF553B\",\"#00cc96\",\"#ab63fa\",\"#FFA15A\",\"#19d3f3\",\"#FF6692\",\"#B6E880\",\"#FF97FF\",\"#FECB52\"],\"font\":{\"color\":\"#2a3f5f\"},\"hovermode\":\"closest\",\"hoverlabel\":{\"align\":\"left\"},\"paper_bgcolor\":\"white\",\"plot_bgcolor\":\"#E5ECF6\",\"polar\":{\"bgcolor\":\"#E5ECF6\",\"angularaxis\":{\"gridcolor\":\"white\",\"linecolor\":\"white\",\"ticks\":\"\"},\"radialaxis\":{\"gridcolor\":\"white\",\"linecolor\":\"white\",\"ticks\":\"\"}},\"ternary\":{\"bgcolor\":\"#E5ECF6\",\"aaxis\":{\"gridcolor\":\"white\",\"linecolor\":\"white\",\"ticks\":\"\"},\"baxis\":{\"gridcolor\":\"white\",\"linecolor\":\"white\",\"ticks\":\"\"},\"caxis\":{\"gridcolor\":\"white\",\"linecolor\":\"white\",\"ticks\":\"\"}},\"coloraxis\":{\"colorbar\":{\"outlinewidth\":0,\"ticks\":\"\"}},\"colorscale\":{\"sequential\":[[0.0,\"#0d0887\"],[0.1111111111111111,\"#46039f\"],[0.2222222222222222,\"#7201a8\"],[0.3333333333333333,\"#9c179e\"],[0.4444444444444444,\"#bd3786\"],[0.5555555555555556,\"#d8576b\"],[0.6666666666666666,\"#ed7953\"],[0.7777777777777778,\"#fb9f3a\"],[0.8888888888888888,\"#fdca26\"],[1.0,\"#f0f921\"]],\"sequentialminus\":[[0.0,\"#0d0887\"],[0.1111111111111111,\"#46039f\"],[0.2222222222222222,\"#7201a8\"],[0.3333333333333333,\"#9c179e\"],[0.4444444444444444,\"#bd3786\"],[0.5555555555555556,\"#d8576b\"],[0.6666666666666666,\"#ed7953\"],[0.7777777777777778,\"#fb9f3a\"],[0.8888888888888888,\"#fdca26\"],[1.0,\"#f0f921\"]],\"diverging\":[[0,\"#8e0152\"],[0.1,\"#c51b7d\"],[0.2,\"#de77ae\"],[0.3,\"#f1b6da\"],[0.4,\"#fde0ef\"],[0.5,\"#f7f7f7\"],[0.6,\"#e6f5d0\"],[0.7,\"#b8e186\"],[0.8,\"#7fbc41\"],[0.9,\"#4d9221\"],[1,\"#276419\"]]},\"xaxis\":{\"gridcolor\":\"white\",\"linecolor\":\"white\",\"ticks\":\"\",\"title\":{\"standoff\":15},\"zerolinecolor\":\"white\",\"automargin\":true,\"zerolinewidth\":2},\"yaxis\":{\"gridcolor\":\"white\",\"linecolor\":\"white\",\"ticks\":\"\",\"title\":{\"standoff\":15},\"zerolinecolor\":\"white\",\"automargin\":true,\"zerolinewidth\":2},\"scene\":{\"xaxis\":{\"backgroundcolor\":\"#E5ECF6\",\"gridcolor\":\"white\",\"linecolor\":\"white\",\"showbackground\":true,\"ticks\":\"\",\"zerolinecolor\":\"white\",\"gridwidth\":2},\"yaxis\":{\"backgroundcolor\":\"#E5ECF6\",\"gridcolor\":\"white\",\"linecolor\":\"white\",\"showbackground\":true,\"ticks\":\"\",\"zerolinecolor\":\"white\",\"gridwidth\":2},\"zaxis\":{\"backgroundcolor\":\"#E5ECF6\",\"gridcolor\":\"white\",\"linecolor\":\"white\",\"showbackground\":true,\"ticks\":\"\",\"zerolinecolor\":\"white\",\"gridwidth\":2}},\"shapedefaults\":{\"line\":{\"color\":\"#2a3f5f\"}},\"annotationdefaults\":{\"arrowcolor\":\"#2a3f5f\",\"arrowhead\":0,\"arrowwidth\":1},\"geo\":{\"bgcolor\":\"white\",\"landcolor\":\"#E5ECF6\",\"subunitcolor\":\"white\",\"showland\":true,\"showlakes\":true,\"lakecolor\":\"white\"},\"title\":{\"x\":0.05},\"mapbox\":{\"style\":\"light\"}}},\"xaxis\":{\"anchor\":\"y\",\"domain\":[0.0,1.0],\"title\":{\"text\":\"company\"}},\"yaxis\":{\"anchor\":\"x\",\"domain\":[0.0,1.0],\"title\":{\"text\":\"mean\"}},\"legend\":{\"tracegroupgap\":0},\"title\":{\"text\":\"\\u041e\\u0442 1 \\u0433\\u043e\\u0434\\u0430 \\u0434\\u043e 3 \\u043b\\u0435\\u0442\"},\"barmode\":\"relative\",\"height\":600,\"width\":600},                        {\"responsive\": true}                    ).then(function(){\n",
       "                            \n",
       "var gd = document.getElementById('4312f3fa-17ee-4326-b05f-0550fb57e6b3');\n",
       "var x = new MutationObserver(function (mutations, observer) {{\n",
       "        var display = window.getComputedStyle(gd).display;\n",
       "        if (!display || display === 'none') {{\n",
       "            console.log([gd, 'removed!']);\n",
       "            Plotly.purge(gd);\n",
       "            observer.disconnect();\n",
       "        }}\n",
       "}});\n",
       "\n",
       "// Listen for the removal of the full notebook cells\n",
       "var notebookContainer = gd.closest('#notebook-container');\n",
       "if (notebookContainer) {{\n",
       "    x.observe(notebookContainer, {childList: true});\n",
       "}}\n",
       "\n",
       "// Listen for the clearing of the current output cell\n",
       "var outputEl = gd.closest('.output');\n",
       "if (outputEl) {{\n",
       "    x.observe(outputEl, {childList: true});\n",
       "}}\n",
       "\n",
       "                        })                };                });            </script>        </div>"
      ]
     },
     "metadata": {},
     "output_type": "display_data"
    },
    {
     "data": {
      "application/vnd.plotly.v1+json": {
       "config": {
        "plotlyServerURL": "https://plot.ly"
       },
       "data": [
        {
         "alignmentgroup": "True",
         "hovertemplate": "company=%{x}<br>mean=%{y}<extra></extra>",
         "legendgroup": "",
         "marker": {
          "color": "steelblue",
          "pattern": {
           "shape": ""
          }
         },
         "name": "",
         "offsetgroup": "",
         "orientation": "v",
         "showlegend": false,
         "textposition": "auto",
         "type": "bar",
         "x": [
          "не определено"
         ],
         "xaxis": "x",
         "y": [
          298750
         ],
         "yaxis": "y"
        }
       ],
       "layout": {
        "barmode": "relative",
        "height": 600,
        "legend": {
         "tracegroupgap": 0
        },
        "template": {
         "data": {
          "bar": [
           {
            "error_x": {
             "color": "#2a3f5f"
            },
            "error_y": {
             "color": "#2a3f5f"
            },
            "marker": {
             "line": {
              "color": "#E5ECF6",
              "width": 0.5
             },
             "pattern": {
              "fillmode": "overlay",
              "size": 10,
              "solidity": 0.2
             }
            },
            "type": "bar"
           }
          ],
          "barpolar": [
           {
            "marker": {
             "line": {
              "color": "#E5ECF6",
              "width": 0.5
             },
             "pattern": {
              "fillmode": "overlay",
              "size": 10,
              "solidity": 0.2
             }
            },
            "type": "barpolar"
           }
          ],
          "carpet": [
           {
            "aaxis": {
             "endlinecolor": "#2a3f5f",
             "gridcolor": "white",
             "linecolor": "white",
             "minorgridcolor": "white",
             "startlinecolor": "#2a3f5f"
            },
            "baxis": {
             "endlinecolor": "#2a3f5f",
             "gridcolor": "white",
             "linecolor": "white",
             "minorgridcolor": "white",
             "startlinecolor": "#2a3f5f"
            },
            "type": "carpet"
           }
          ],
          "choropleth": [
           {
            "colorbar": {
             "outlinewidth": 0,
             "ticks": ""
            },
            "type": "choropleth"
           }
          ],
          "contour": [
           {
            "colorbar": {
             "outlinewidth": 0,
             "ticks": ""
            },
            "colorscale": [
             [
              0,
              "#0d0887"
             ],
             [
              0.1111111111111111,
              "#46039f"
             ],
             [
              0.2222222222222222,
              "#7201a8"
             ],
             [
              0.3333333333333333,
              "#9c179e"
             ],
             [
              0.4444444444444444,
              "#bd3786"
             ],
             [
              0.5555555555555556,
              "#d8576b"
             ],
             [
              0.6666666666666666,
              "#ed7953"
             ],
             [
              0.7777777777777778,
              "#fb9f3a"
             ],
             [
              0.8888888888888888,
              "#fdca26"
             ],
             [
              1,
              "#f0f921"
             ]
            ],
            "type": "contour"
           }
          ],
          "contourcarpet": [
           {
            "colorbar": {
             "outlinewidth": 0,
             "ticks": ""
            },
            "type": "contourcarpet"
           }
          ],
          "heatmap": [
           {
            "colorbar": {
             "outlinewidth": 0,
             "ticks": ""
            },
            "colorscale": [
             [
              0,
              "#0d0887"
             ],
             [
              0.1111111111111111,
              "#46039f"
             ],
             [
              0.2222222222222222,
              "#7201a8"
             ],
             [
              0.3333333333333333,
              "#9c179e"
             ],
             [
              0.4444444444444444,
              "#bd3786"
             ],
             [
              0.5555555555555556,
              "#d8576b"
             ],
             [
              0.6666666666666666,
              "#ed7953"
             ],
             [
              0.7777777777777778,
              "#fb9f3a"
             ],
             [
              0.8888888888888888,
              "#fdca26"
             ],
             [
              1,
              "#f0f921"
             ]
            ],
            "type": "heatmap"
           }
          ],
          "heatmapgl": [
           {
            "colorbar": {
             "outlinewidth": 0,
             "ticks": ""
            },
            "colorscale": [
             [
              0,
              "#0d0887"
             ],
             [
              0.1111111111111111,
              "#46039f"
             ],
             [
              0.2222222222222222,
              "#7201a8"
             ],
             [
              0.3333333333333333,
              "#9c179e"
             ],
             [
              0.4444444444444444,
              "#bd3786"
             ],
             [
              0.5555555555555556,
              "#d8576b"
             ],
             [
              0.6666666666666666,
              "#ed7953"
             ],
             [
              0.7777777777777778,
              "#fb9f3a"
             ],
             [
              0.8888888888888888,
              "#fdca26"
             ],
             [
              1,
              "#f0f921"
             ]
            ],
            "type": "heatmapgl"
           }
          ],
          "histogram": [
           {
            "marker": {
             "pattern": {
              "fillmode": "overlay",
              "size": 10,
              "solidity": 0.2
             }
            },
            "type": "histogram"
           }
          ],
          "histogram2d": [
           {
            "colorbar": {
             "outlinewidth": 0,
             "ticks": ""
            },
            "colorscale": [
             [
              0,
              "#0d0887"
             ],
             [
              0.1111111111111111,
              "#46039f"
             ],
             [
              0.2222222222222222,
              "#7201a8"
             ],
             [
              0.3333333333333333,
              "#9c179e"
             ],
             [
              0.4444444444444444,
              "#bd3786"
             ],
             [
              0.5555555555555556,
              "#d8576b"
             ],
             [
              0.6666666666666666,
              "#ed7953"
             ],
             [
              0.7777777777777778,
              "#fb9f3a"
             ],
             [
              0.8888888888888888,
              "#fdca26"
             ],
             [
              1,
              "#f0f921"
             ]
            ],
            "type": "histogram2d"
           }
          ],
          "histogram2dcontour": [
           {
            "colorbar": {
             "outlinewidth": 0,
             "ticks": ""
            },
            "colorscale": [
             [
              0,
              "#0d0887"
             ],
             [
              0.1111111111111111,
              "#46039f"
             ],
             [
              0.2222222222222222,
              "#7201a8"
             ],
             [
              0.3333333333333333,
              "#9c179e"
             ],
             [
              0.4444444444444444,
              "#bd3786"
             ],
             [
              0.5555555555555556,
              "#d8576b"
             ],
             [
              0.6666666666666666,
              "#ed7953"
             ],
             [
              0.7777777777777778,
              "#fb9f3a"
             ],
             [
              0.8888888888888888,
              "#fdca26"
             ],
             [
              1,
              "#f0f921"
             ]
            ],
            "type": "histogram2dcontour"
           }
          ],
          "mesh3d": [
           {
            "colorbar": {
             "outlinewidth": 0,
             "ticks": ""
            },
            "type": "mesh3d"
           }
          ],
          "parcoords": [
           {
            "line": {
             "colorbar": {
              "outlinewidth": 0,
              "ticks": ""
             }
            },
            "type": "parcoords"
           }
          ],
          "pie": [
           {
            "automargin": true,
            "type": "pie"
           }
          ],
          "scatter": [
           {
            "fillpattern": {
             "fillmode": "overlay",
             "size": 10,
             "solidity": 0.2
            },
            "type": "scatter"
           }
          ],
          "scatter3d": [
           {
            "line": {
             "colorbar": {
              "outlinewidth": 0,
              "ticks": ""
             }
            },
            "marker": {
             "colorbar": {
              "outlinewidth": 0,
              "ticks": ""
             }
            },
            "type": "scatter3d"
           }
          ],
          "scattercarpet": [
           {
            "marker": {
             "colorbar": {
              "outlinewidth": 0,
              "ticks": ""
             }
            },
            "type": "scattercarpet"
           }
          ],
          "scattergeo": [
           {
            "marker": {
             "colorbar": {
              "outlinewidth": 0,
              "ticks": ""
             }
            },
            "type": "scattergeo"
           }
          ],
          "scattergl": [
           {
            "marker": {
             "colorbar": {
              "outlinewidth": 0,
              "ticks": ""
             }
            },
            "type": "scattergl"
           }
          ],
          "scattermapbox": [
           {
            "marker": {
             "colorbar": {
              "outlinewidth": 0,
              "ticks": ""
             }
            },
            "type": "scattermapbox"
           }
          ],
          "scatterpolar": [
           {
            "marker": {
             "colorbar": {
              "outlinewidth": 0,
              "ticks": ""
             }
            },
            "type": "scatterpolar"
           }
          ],
          "scatterpolargl": [
           {
            "marker": {
             "colorbar": {
              "outlinewidth": 0,
              "ticks": ""
             }
            },
            "type": "scatterpolargl"
           }
          ],
          "scatterternary": [
           {
            "marker": {
             "colorbar": {
              "outlinewidth": 0,
              "ticks": ""
             }
            },
            "type": "scatterternary"
           }
          ],
          "surface": [
           {
            "colorbar": {
             "outlinewidth": 0,
             "ticks": ""
            },
            "colorscale": [
             [
              0,
              "#0d0887"
             ],
             [
              0.1111111111111111,
              "#46039f"
             ],
             [
              0.2222222222222222,
              "#7201a8"
             ],
             [
              0.3333333333333333,
              "#9c179e"
             ],
             [
              0.4444444444444444,
              "#bd3786"
             ],
             [
              0.5555555555555556,
              "#d8576b"
             ],
             [
              0.6666666666666666,
              "#ed7953"
             ],
             [
              0.7777777777777778,
              "#fb9f3a"
             ],
             [
              0.8888888888888888,
              "#fdca26"
             ],
             [
              1,
              "#f0f921"
             ]
            ],
            "type": "surface"
           }
          ],
          "table": [
           {
            "cells": {
             "fill": {
              "color": "#EBF0F8"
             },
             "line": {
              "color": "white"
             }
            },
            "header": {
             "fill": {
              "color": "#C8D4E3"
             },
             "line": {
              "color": "white"
             }
            },
            "type": "table"
           }
          ]
         },
         "layout": {
          "annotationdefaults": {
           "arrowcolor": "#2a3f5f",
           "arrowhead": 0,
           "arrowwidth": 1
          },
          "autotypenumbers": "strict",
          "coloraxis": {
           "colorbar": {
            "outlinewidth": 0,
            "ticks": ""
           }
          },
          "colorscale": {
           "diverging": [
            [
             0,
             "#8e0152"
            ],
            [
             0.1,
             "#c51b7d"
            ],
            [
             0.2,
             "#de77ae"
            ],
            [
             0.3,
             "#f1b6da"
            ],
            [
             0.4,
             "#fde0ef"
            ],
            [
             0.5,
             "#f7f7f7"
            ],
            [
             0.6,
             "#e6f5d0"
            ],
            [
             0.7,
             "#b8e186"
            ],
            [
             0.8,
             "#7fbc41"
            ],
            [
             0.9,
             "#4d9221"
            ],
            [
             1,
             "#276419"
            ]
           ],
           "sequential": [
            [
             0,
             "#0d0887"
            ],
            [
             0.1111111111111111,
             "#46039f"
            ],
            [
             0.2222222222222222,
             "#7201a8"
            ],
            [
             0.3333333333333333,
             "#9c179e"
            ],
            [
             0.4444444444444444,
             "#bd3786"
            ],
            [
             0.5555555555555556,
             "#d8576b"
            ],
            [
             0.6666666666666666,
             "#ed7953"
            ],
            [
             0.7777777777777778,
             "#fb9f3a"
            ],
            [
             0.8888888888888888,
             "#fdca26"
            ],
            [
             1,
             "#f0f921"
            ]
           ],
           "sequentialminus": [
            [
             0,
             "#0d0887"
            ],
            [
             0.1111111111111111,
             "#46039f"
            ],
            [
             0.2222222222222222,
             "#7201a8"
            ],
            [
             0.3333333333333333,
             "#9c179e"
            ],
            [
             0.4444444444444444,
             "#bd3786"
            ],
            [
             0.5555555555555556,
             "#d8576b"
            ],
            [
             0.6666666666666666,
             "#ed7953"
            ],
            [
             0.7777777777777778,
             "#fb9f3a"
            ],
            [
             0.8888888888888888,
             "#fdca26"
            ],
            [
             1,
             "#f0f921"
            ]
           ]
          },
          "colorway": [
           "#636efa",
           "#EF553B",
           "#00cc96",
           "#ab63fa",
           "#FFA15A",
           "#19d3f3",
           "#FF6692",
           "#B6E880",
           "#FF97FF",
           "#FECB52"
          ],
          "font": {
           "color": "#2a3f5f"
          },
          "geo": {
           "bgcolor": "white",
           "lakecolor": "white",
           "landcolor": "#E5ECF6",
           "showlakes": true,
           "showland": true,
           "subunitcolor": "white"
          },
          "hoverlabel": {
           "align": "left"
          },
          "hovermode": "closest",
          "mapbox": {
           "style": "light"
          },
          "paper_bgcolor": "white",
          "plot_bgcolor": "#E5ECF6",
          "polar": {
           "angularaxis": {
            "gridcolor": "white",
            "linecolor": "white",
            "ticks": ""
           },
           "bgcolor": "#E5ECF6",
           "radialaxis": {
            "gridcolor": "white",
            "linecolor": "white",
            "ticks": ""
           }
          },
          "scene": {
           "xaxis": {
            "backgroundcolor": "#E5ECF6",
            "gridcolor": "white",
            "gridwidth": 2,
            "linecolor": "white",
            "showbackground": true,
            "ticks": "",
            "zerolinecolor": "white"
           },
           "yaxis": {
            "backgroundcolor": "#E5ECF6",
            "gridcolor": "white",
            "gridwidth": 2,
            "linecolor": "white",
            "showbackground": true,
            "ticks": "",
            "zerolinecolor": "white"
           },
           "zaxis": {
            "backgroundcolor": "#E5ECF6",
            "gridcolor": "white",
            "gridwidth": 2,
            "linecolor": "white",
            "showbackground": true,
            "ticks": "",
            "zerolinecolor": "white"
           }
          },
          "shapedefaults": {
           "line": {
            "color": "#2a3f5f"
           }
          },
          "ternary": {
           "aaxis": {
            "gridcolor": "white",
            "linecolor": "white",
            "ticks": ""
           },
           "baxis": {
            "gridcolor": "white",
            "linecolor": "white",
            "ticks": ""
           },
           "bgcolor": "#E5ECF6",
           "caxis": {
            "gridcolor": "white",
            "linecolor": "white",
            "ticks": ""
           }
          },
          "title": {
           "x": 0.05
          },
          "xaxis": {
           "automargin": true,
           "gridcolor": "white",
           "linecolor": "white",
           "ticks": "",
           "title": {
            "standoff": 15
           },
           "zerolinecolor": "white",
           "zerolinewidth": 2
          },
          "yaxis": {
           "automargin": true,
           "gridcolor": "white",
           "linecolor": "white",
           "ticks": "",
           "title": {
            "standoff": 15
           },
           "zerolinecolor": "white",
           "zerolinewidth": 2
          }
         }
        },
        "title": {
         "text": "От 6 лет"
        },
        "width": 600,
        "xaxis": {
         "anchor": "y",
         "domain": [
          0,
          1
         ],
         "title": {
          "text": "company"
         }
        },
        "yaxis": {
         "anchor": "x",
         "domain": [
          0,
          1
         ],
         "title": {
          "text": "mean"
         }
        }
       }
      },
      "text/html": [
       "<div>                            <div id=\"b13fda48-1da3-4077-b96f-02e65013879c\" class=\"plotly-graph-div\" style=\"height:600px; width:600px;\"></div>            <script type=\"text/javascript\">                require([\"plotly\"], function(Plotly) {                    window.PLOTLYENV=window.PLOTLYENV || {};                                    if (document.getElementById(\"b13fda48-1da3-4077-b96f-02e65013879c\")) {                    Plotly.newPlot(                        \"b13fda48-1da3-4077-b96f-02e65013879c\",                        [{\"alignmentgroup\":\"True\",\"hovertemplate\":\"company=%{x}<br>mean=%{y}<extra></extra>\",\"legendgroup\":\"\",\"marker\":{\"color\":\"steelblue\",\"pattern\":{\"shape\":\"\"}},\"name\":\"\",\"offsetgroup\":\"\",\"orientation\":\"v\",\"showlegend\":false,\"textposition\":\"auto\",\"x\":[\"\\u043d\\u0435 \\u043e\\u043f\\u0440\\u0435\\u0434\\u0435\\u043b\\u0435\\u043d\\u043e\"],\"xaxis\":\"x\",\"y\":[298750.0],\"yaxis\":\"y\",\"type\":\"bar\"}],                        {\"template\":{\"data\":{\"histogram2dcontour\":[{\"type\":\"histogram2dcontour\",\"colorbar\":{\"outlinewidth\":0,\"ticks\":\"\"},\"colorscale\":[[0.0,\"#0d0887\"],[0.1111111111111111,\"#46039f\"],[0.2222222222222222,\"#7201a8\"],[0.3333333333333333,\"#9c179e\"],[0.4444444444444444,\"#bd3786\"],[0.5555555555555556,\"#d8576b\"],[0.6666666666666666,\"#ed7953\"],[0.7777777777777778,\"#fb9f3a\"],[0.8888888888888888,\"#fdca26\"],[1.0,\"#f0f921\"]]}],\"choropleth\":[{\"type\":\"choropleth\",\"colorbar\":{\"outlinewidth\":0,\"ticks\":\"\"}}],\"histogram2d\":[{\"type\":\"histogram2d\",\"colorbar\":{\"outlinewidth\":0,\"ticks\":\"\"},\"colorscale\":[[0.0,\"#0d0887\"],[0.1111111111111111,\"#46039f\"],[0.2222222222222222,\"#7201a8\"],[0.3333333333333333,\"#9c179e\"],[0.4444444444444444,\"#bd3786\"],[0.5555555555555556,\"#d8576b\"],[0.6666666666666666,\"#ed7953\"],[0.7777777777777778,\"#fb9f3a\"],[0.8888888888888888,\"#fdca26\"],[1.0,\"#f0f921\"]]}],\"heatmap\":[{\"type\":\"heatmap\",\"colorbar\":{\"outlinewidth\":0,\"ticks\":\"\"},\"colorscale\":[[0.0,\"#0d0887\"],[0.1111111111111111,\"#46039f\"],[0.2222222222222222,\"#7201a8\"],[0.3333333333333333,\"#9c179e\"],[0.4444444444444444,\"#bd3786\"],[0.5555555555555556,\"#d8576b\"],[0.6666666666666666,\"#ed7953\"],[0.7777777777777778,\"#fb9f3a\"],[0.8888888888888888,\"#fdca26\"],[1.0,\"#f0f921\"]]}],\"heatmapgl\":[{\"type\":\"heatmapgl\",\"colorbar\":{\"outlinewidth\":0,\"ticks\":\"\"},\"colorscale\":[[0.0,\"#0d0887\"],[0.1111111111111111,\"#46039f\"],[0.2222222222222222,\"#7201a8\"],[0.3333333333333333,\"#9c179e\"],[0.4444444444444444,\"#bd3786\"],[0.5555555555555556,\"#d8576b\"],[0.6666666666666666,\"#ed7953\"],[0.7777777777777778,\"#fb9f3a\"],[0.8888888888888888,\"#fdca26\"],[1.0,\"#f0f921\"]]}],\"contourcarpet\":[{\"type\":\"contourcarpet\",\"colorbar\":{\"outlinewidth\":0,\"ticks\":\"\"}}],\"contour\":[{\"type\":\"contour\",\"colorbar\":{\"outlinewidth\":0,\"ticks\":\"\"},\"colorscale\":[[0.0,\"#0d0887\"],[0.1111111111111111,\"#46039f\"],[0.2222222222222222,\"#7201a8\"],[0.3333333333333333,\"#9c179e\"],[0.4444444444444444,\"#bd3786\"],[0.5555555555555556,\"#d8576b\"],[0.6666666666666666,\"#ed7953\"],[0.7777777777777778,\"#fb9f3a\"],[0.8888888888888888,\"#fdca26\"],[1.0,\"#f0f921\"]]}],\"surface\":[{\"type\":\"surface\",\"colorbar\":{\"outlinewidth\":0,\"ticks\":\"\"},\"colorscale\":[[0.0,\"#0d0887\"],[0.1111111111111111,\"#46039f\"],[0.2222222222222222,\"#7201a8\"],[0.3333333333333333,\"#9c179e\"],[0.4444444444444444,\"#bd3786\"],[0.5555555555555556,\"#d8576b\"],[0.6666666666666666,\"#ed7953\"],[0.7777777777777778,\"#fb9f3a\"],[0.8888888888888888,\"#fdca26\"],[1.0,\"#f0f921\"]]}],\"mesh3d\":[{\"type\":\"mesh3d\",\"colorbar\":{\"outlinewidth\":0,\"ticks\":\"\"}}],\"scatter\":[{\"fillpattern\":{\"fillmode\":\"overlay\",\"size\":10,\"solidity\":0.2},\"type\":\"scatter\"}],\"parcoords\":[{\"type\":\"parcoords\",\"line\":{\"colorbar\":{\"outlinewidth\":0,\"ticks\":\"\"}}}],\"scatterpolargl\":[{\"type\":\"scatterpolargl\",\"marker\":{\"colorbar\":{\"outlinewidth\":0,\"ticks\":\"\"}}}],\"bar\":[{\"error_x\":{\"color\":\"#2a3f5f\"},\"error_y\":{\"color\":\"#2a3f5f\"},\"marker\":{\"line\":{\"color\":\"#E5ECF6\",\"width\":0.5},\"pattern\":{\"fillmode\":\"overlay\",\"size\":10,\"solidity\":0.2}},\"type\":\"bar\"}],\"scattergeo\":[{\"type\":\"scattergeo\",\"marker\":{\"colorbar\":{\"outlinewidth\":0,\"ticks\":\"\"}}}],\"scatterpolar\":[{\"type\":\"scatterpolar\",\"marker\":{\"colorbar\":{\"outlinewidth\":0,\"ticks\":\"\"}}}],\"histogram\":[{\"marker\":{\"pattern\":{\"fillmode\":\"overlay\",\"size\":10,\"solidity\":0.2}},\"type\":\"histogram\"}],\"scattergl\":[{\"type\":\"scattergl\",\"marker\":{\"colorbar\":{\"outlinewidth\":0,\"ticks\":\"\"}}}],\"scatter3d\":[{\"type\":\"scatter3d\",\"line\":{\"colorbar\":{\"outlinewidth\":0,\"ticks\":\"\"}},\"marker\":{\"colorbar\":{\"outlinewidth\":0,\"ticks\":\"\"}}}],\"scattermapbox\":[{\"type\":\"scattermapbox\",\"marker\":{\"colorbar\":{\"outlinewidth\":0,\"ticks\":\"\"}}}],\"scatterternary\":[{\"type\":\"scatterternary\",\"marker\":{\"colorbar\":{\"outlinewidth\":0,\"ticks\":\"\"}}}],\"scattercarpet\":[{\"type\":\"scattercarpet\",\"marker\":{\"colorbar\":{\"outlinewidth\":0,\"ticks\":\"\"}}}],\"carpet\":[{\"aaxis\":{\"endlinecolor\":\"#2a3f5f\",\"gridcolor\":\"white\",\"linecolor\":\"white\",\"minorgridcolor\":\"white\",\"startlinecolor\":\"#2a3f5f\"},\"baxis\":{\"endlinecolor\":\"#2a3f5f\",\"gridcolor\":\"white\",\"linecolor\":\"white\",\"minorgridcolor\":\"white\",\"startlinecolor\":\"#2a3f5f\"},\"type\":\"carpet\"}],\"table\":[{\"cells\":{\"fill\":{\"color\":\"#EBF0F8\"},\"line\":{\"color\":\"white\"}},\"header\":{\"fill\":{\"color\":\"#C8D4E3\"},\"line\":{\"color\":\"white\"}},\"type\":\"table\"}],\"barpolar\":[{\"marker\":{\"line\":{\"color\":\"#E5ECF6\",\"width\":0.5},\"pattern\":{\"fillmode\":\"overlay\",\"size\":10,\"solidity\":0.2}},\"type\":\"barpolar\"}],\"pie\":[{\"automargin\":true,\"type\":\"pie\"}]},\"layout\":{\"autotypenumbers\":\"strict\",\"colorway\":[\"#636efa\",\"#EF553B\",\"#00cc96\",\"#ab63fa\",\"#FFA15A\",\"#19d3f3\",\"#FF6692\",\"#B6E880\",\"#FF97FF\",\"#FECB52\"],\"font\":{\"color\":\"#2a3f5f\"},\"hovermode\":\"closest\",\"hoverlabel\":{\"align\":\"left\"},\"paper_bgcolor\":\"white\",\"plot_bgcolor\":\"#E5ECF6\",\"polar\":{\"bgcolor\":\"#E5ECF6\",\"angularaxis\":{\"gridcolor\":\"white\",\"linecolor\":\"white\",\"ticks\":\"\"},\"radialaxis\":{\"gridcolor\":\"white\",\"linecolor\":\"white\",\"ticks\":\"\"}},\"ternary\":{\"bgcolor\":\"#E5ECF6\",\"aaxis\":{\"gridcolor\":\"white\",\"linecolor\":\"white\",\"ticks\":\"\"},\"baxis\":{\"gridcolor\":\"white\",\"linecolor\":\"white\",\"ticks\":\"\"},\"caxis\":{\"gridcolor\":\"white\",\"linecolor\":\"white\",\"ticks\":\"\"}},\"coloraxis\":{\"colorbar\":{\"outlinewidth\":0,\"ticks\":\"\"}},\"colorscale\":{\"sequential\":[[0.0,\"#0d0887\"],[0.1111111111111111,\"#46039f\"],[0.2222222222222222,\"#7201a8\"],[0.3333333333333333,\"#9c179e\"],[0.4444444444444444,\"#bd3786\"],[0.5555555555555556,\"#d8576b\"],[0.6666666666666666,\"#ed7953\"],[0.7777777777777778,\"#fb9f3a\"],[0.8888888888888888,\"#fdca26\"],[1.0,\"#f0f921\"]],\"sequentialminus\":[[0.0,\"#0d0887\"],[0.1111111111111111,\"#46039f\"],[0.2222222222222222,\"#7201a8\"],[0.3333333333333333,\"#9c179e\"],[0.4444444444444444,\"#bd3786\"],[0.5555555555555556,\"#d8576b\"],[0.6666666666666666,\"#ed7953\"],[0.7777777777777778,\"#fb9f3a\"],[0.8888888888888888,\"#fdca26\"],[1.0,\"#f0f921\"]],\"diverging\":[[0,\"#8e0152\"],[0.1,\"#c51b7d\"],[0.2,\"#de77ae\"],[0.3,\"#f1b6da\"],[0.4,\"#fde0ef\"],[0.5,\"#f7f7f7\"],[0.6,\"#e6f5d0\"],[0.7,\"#b8e186\"],[0.8,\"#7fbc41\"],[0.9,\"#4d9221\"],[1,\"#276419\"]]},\"xaxis\":{\"gridcolor\":\"white\",\"linecolor\":\"white\",\"ticks\":\"\",\"title\":{\"standoff\":15},\"zerolinecolor\":\"white\",\"automargin\":true,\"zerolinewidth\":2},\"yaxis\":{\"gridcolor\":\"white\",\"linecolor\":\"white\",\"ticks\":\"\",\"title\":{\"standoff\":15},\"zerolinecolor\":\"white\",\"automargin\":true,\"zerolinewidth\":2},\"scene\":{\"xaxis\":{\"backgroundcolor\":\"#E5ECF6\",\"gridcolor\":\"white\",\"linecolor\":\"white\",\"showbackground\":true,\"ticks\":\"\",\"zerolinecolor\":\"white\",\"gridwidth\":2},\"yaxis\":{\"backgroundcolor\":\"#E5ECF6\",\"gridcolor\":\"white\",\"linecolor\":\"white\",\"showbackground\":true,\"ticks\":\"\",\"zerolinecolor\":\"white\",\"gridwidth\":2},\"zaxis\":{\"backgroundcolor\":\"#E5ECF6\",\"gridcolor\":\"white\",\"linecolor\":\"white\",\"showbackground\":true,\"ticks\":\"\",\"zerolinecolor\":\"white\",\"gridwidth\":2}},\"shapedefaults\":{\"line\":{\"color\":\"#2a3f5f\"}},\"annotationdefaults\":{\"arrowcolor\":\"#2a3f5f\",\"arrowhead\":0,\"arrowwidth\":1},\"geo\":{\"bgcolor\":\"white\",\"landcolor\":\"#E5ECF6\",\"subunitcolor\":\"white\",\"showland\":true,\"showlakes\":true,\"lakecolor\":\"white\"},\"title\":{\"x\":0.05},\"mapbox\":{\"style\":\"light\"}}},\"xaxis\":{\"anchor\":\"y\",\"domain\":[0.0,1.0],\"title\":{\"text\":\"company\"}},\"yaxis\":{\"anchor\":\"x\",\"domain\":[0.0,1.0],\"title\":{\"text\":\"mean\"}},\"legend\":{\"tracegroupgap\":0},\"title\":{\"text\":\"\\u041e\\u0442 6 \\u043b\\u0435\\u0442\"},\"barmode\":\"relative\",\"height\":600,\"width\":600},                        {\"responsive\": true}                    ).then(function(){\n",
       "                            \n",
       "var gd = document.getElementById('b13fda48-1da3-4077-b96f-02e65013879c');\n",
       "var x = new MutationObserver(function (mutations, observer) {{\n",
       "        var display = window.getComputedStyle(gd).display;\n",
       "        if (!display || display === 'none') {{\n",
       "            console.log([gd, 'removed!']);\n",
       "            Plotly.purge(gd);\n",
       "            observer.disconnect();\n",
       "        }}\n",
       "}});\n",
       "\n",
       "// Listen for the removal of the full notebook cells\n",
       "var notebookContainer = gd.closest('#notebook-container');\n",
       "if (notebookContainer) {{\n",
       "    x.observe(notebookContainer, {childList: true});\n",
       "}}\n",
       "\n",
       "// Listen for the clearing of the current output cell\n",
       "var outputEl = gd.closest('.output');\n",
       "if (outputEl) {{\n",
       "    x.observe(outputEl, {childList: true});\n",
       "}}\n",
       "\n",
       "                        })                };                });            </script>        </div>"
      ]
     },
     "metadata": {},
     "output_type": "display_data"
    },
    {
     "data": {
      "application/vnd.plotly.v1+json": {
       "config": {
        "plotlyServerURL": "https://plot.ly"
       },
       "data": [
        {
         "alignmentgroup": "True",
         "hovertemplate": "company=%{x}<br>mean=%{y}<extra></extra>",
         "legendgroup": "",
         "marker": {
          "color": "steelblue",
          "pattern": {
           "shape": ""
          }
         },
         "name": "",
         "offsetgroup": "",
         "orientation": "v",
         "showlegend": false,
         "textposition": "auto",
         "type": "bar",
         "x": [
          "RA Clever Recruiting",
          "не определено"
         ],
         "xaxis": "x",
         "y": [
          287000,
          238551.5641025641
         ],
         "yaxis": "y"
        }
       ],
       "layout": {
        "barmode": "relative",
        "height": 600,
        "legend": {
         "tracegroupgap": 0
        },
        "template": {
         "data": {
          "bar": [
           {
            "error_x": {
             "color": "#2a3f5f"
            },
            "error_y": {
             "color": "#2a3f5f"
            },
            "marker": {
             "line": {
              "color": "#E5ECF6",
              "width": 0.5
             },
             "pattern": {
              "fillmode": "overlay",
              "size": 10,
              "solidity": 0.2
             }
            },
            "type": "bar"
           }
          ],
          "barpolar": [
           {
            "marker": {
             "line": {
              "color": "#E5ECF6",
              "width": 0.5
             },
             "pattern": {
              "fillmode": "overlay",
              "size": 10,
              "solidity": 0.2
             }
            },
            "type": "barpolar"
           }
          ],
          "carpet": [
           {
            "aaxis": {
             "endlinecolor": "#2a3f5f",
             "gridcolor": "white",
             "linecolor": "white",
             "minorgridcolor": "white",
             "startlinecolor": "#2a3f5f"
            },
            "baxis": {
             "endlinecolor": "#2a3f5f",
             "gridcolor": "white",
             "linecolor": "white",
             "minorgridcolor": "white",
             "startlinecolor": "#2a3f5f"
            },
            "type": "carpet"
           }
          ],
          "choropleth": [
           {
            "colorbar": {
             "outlinewidth": 0,
             "ticks": ""
            },
            "type": "choropleth"
           }
          ],
          "contour": [
           {
            "colorbar": {
             "outlinewidth": 0,
             "ticks": ""
            },
            "colorscale": [
             [
              0,
              "#0d0887"
             ],
             [
              0.1111111111111111,
              "#46039f"
             ],
             [
              0.2222222222222222,
              "#7201a8"
             ],
             [
              0.3333333333333333,
              "#9c179e"
             ],
             [
              0.4444444444444444,
              "#bd3786"
             ],
             [
              0.5555555555555556,
              "#d8576b"
             ],
             [
              0.6666666666666666,
              "#ed7953"
             ],
             [
              0.7777777777777778,
              "#fb9f3a"
             ],
             [
              0.8888888888888888,
              "#fdca26"
             ],
             [
              1,
              "#f0f921"
             ]
            ],
            "type": "contour"
           }
          ],
          "contourcarpet": [
           {
            "colorbar": {
             "outlinewidth": 0,
             "ticks": ""
            },
            "type": "contourcarpet"
           }
          ],
          "heatmap": [
           {
            "colorbar": {
             "outlinewidth": 0,
             "ticks": ""
            },
            "colorscale": [
             [
              0,
              "#0d0887"
             ],
             [
              0.1111111111111111,
              "#46039f"
             ],
             [
              0.2222222222222222,
              "#7201a8"
             ],
             [
              0.3333333333333333,
              "#9c179e"
             ],
             [
              0.4444444444444444,
              "#bd3786"
             ],
             [
              0.5555555555555556,
              "#d8576b"
             ],
             [
              0.6666666666666666,
              "#ed7953"
             ],
             [
              0.7777777777777778,
              "#fb9f3a"
             ],
             [
              0.8888888888888888,
              "#fdca26"
             ],
             [
              1,
              "#f0f921"
             ]
            ],
            "type": "heatmap"
           }
          ],
          "heatmapgl": [
           {
            "colorbar": {
             "outlinewidth": 0,
             "ticks": ""
            },
            "colorscale": [
             [
              0,
              "#0d0887"
             ],
             [
              0.1111111111111111,
              "#46039f"
             ],
             [
              0.2222222222222222,
              "#7201a8"
             ],
             [
              0.3333333333333333,
              "#9c179e"
             ],
             [
              0.4444444444444444,
              "#bd3786"
             ],
             [
              0.5555555555555556,
              "#d8576b"
             ],
             [
              0.6666666666666666,
              "#ed7953"
             ],
             [
              0.7777777777777778,
              "#fb9f3a"
             ],
             [
              0.8888888888888888,
              "#fdca26"
             ],
             [
              1,
              "#f0f921"
             ]
            ],
            "type": "heatmapgl"
           }
          ],
          "histogram": [
           {
            "marker": {
             "pattern": {
              "fillmode": "overlay",
              "size": 10,
              "solidity": 0.2
             }
            },
            "type": "histogram"
           }
          ],
          "histogram2d": [
           {
            "colorbar": {
             "outlinewidth": 0,
             "ticks": ""
            },
            "colorscale": [
             [
              0,
              "#0d0887"
             ],
             [
              0.1111111111111111,
              "#46039f"
             ],
             [
              0.2222222222222222,
              "#7201a8"
             ],
             [
              0.3333333333333333,
              "#9c179e"
             ],
             [
              0.4444444444444444,
              "#bd3786"
             ],
             [
              0.5555555555555556,
              "#d8576b"
             ],
             [
              0.6666666666666666,
              "#ed7953"
             ],
             [
              0.7777777777777778,
              "#fb9f3a"
             ],
             [
              0.8888888888888888,
              "#fdca26"
             ],
             [
              1,
              "#f0f921"
             ]
            ],
            "type": "histogram2d"
           }
          ],
          "histogram2dcontour": [
           {
            "colorbar": {
             "outlinewidth": 0,
             "ticks": ""
            },
            "colorscale": [
             [
              0,
              "#0d0887"
             ],
             [
              0.1111111111111111,
              "#46039f"
             ],
             [
              0.2222222222222222,
              "#7201a8"
             ],
             [
              0.3333333333333333,
              "#9c179e"
             ],
             [
              0.4444444444444444,
              "#bd3786"
             ],
             [
              0.5555555555555556,
              "#d8576b"
             ],
             [
              0.6666666666666666,
              "#ed7953"
             ],
             [
              0.7777777777777778,
              "#fb9f3a"
             ],
             [
              0.8888888888888888,
              "#fdca26"
             ],
             [
              1,
              "#f0f921"
             ]
            ],
            "type": "histogram2dcontour"
           }
          ],
          "mesh3d": [
           {
            "colorbar": {
             "outlinewidth": 0,
             "ticks": ""
            },
            "type": "mesh3d"
           }
          ],
          "parcoords": [
           {
            "line": {
             "colorbar": {
              "outlinewidth": 0,
              "ticks": ""
             }
            },
            "type": "parcoords"
           }
          ],
          "pie": [
           {
            "automargin": true,
            "type": "pie"
           }
          ],
          "scatter": [
           {
            "fillpattern": {
             "fillmode": "overlay",
             "size": 10,
             "solidity": 0.2
            },
            "type": "scatter"
           }
          ],
          "scatter3d": [
           {
            "line": {
             "colorbar": {
              "outlinewidth": 0,
              "ticks": ""
             }
            },
            "marker": {
             "colorbar": {
              "outlinewidth": 0,
              "ticks": ""
             }
            },
            "type": "scatter3d"
           }
          ],
          "scattercarpet": [
           {
            "marker": {
             "colorbar": {
              "outlinewidth": 0,
              "ticks": ""
             }
            },
            "type": "scattercarpet"
           }
          ],
          "scattergeo": [
           {
            "marker": {
             "colorbar": {
              "outlinewidth": 0,
              "ticks": ""
             }
            },
            "type": "scattergeo"
           }
          ],
          "scattergl": [
           {
            "marker": {
             "colorbar": {
              "outlinewidth": 0,
              "ticks": ""
             }
            },
            "type": "scattergl"
           }
          ],
          "scattermapbox": [
           {
            "marker": {
             "colorbar": {
              "outlinewidth": 0,
              "ticks": ""
             }
            },
            "type": "scattermapbox"
           }
          ],
          "scatterpolar": [
           {
            "marker": {
             "colorbar": {
              "outlinewidth": 0,
              "ticks": ""
             }
            },
            "type": "scatterpolar"
           }
          ],
          "scatterpolargl": [
           {
            "marker": {
             "colorbar": {
              "outlinewidth": 0,
              "ticks": ""
             }
            },
            "type": "scatterpolargl"
           }
          ],
          "scatterternary": [
           {
            "marker": {
             "colorbar": {
              "outlinewidth": 0,
              "ticks": ""
             }
            },
            "type": "scatterternary"
           }
          ],
          "surface": [
           {
            "colorbar": {
             "outlinewidth": 0,
             "ticks": ""
            },
            "colorscale": [
             [
              0,
              "#0d0887"
             ],
             [
              0.1111111111111111,
              "#46039f"
             ],
             [
              0.2222222222222222,
              "#7201a8"
             ],
             [
              0.3333333333333333,
              "#9c179e"
             ],
             [
              0.4444444444444444,
              "#bd3786"
             ],
             [
              0.5555555555555556,
              "#d8576b"
             ],
             [
              0.6666666666666666,
              "#ed7953"
             ],
             [
              0.7777777777777778,
              "#fb9f3a"
             ],
             [
              0.8888888888888888,
              "#fdca26"
             ],
             [
              1,
              "#f0f921"
             ]
            ],
            "type": "surface"
           }
          ],
          "table": [
           {
            "cells": {
             "fill": {
              "color": "#EBF0F8"
             },
             "line": {
              "color": "white"
             }
            },
            "header": {
             "fill": {
              "color": "#C8D4E3"
             },
             "line": {
              "color": "white"
             }
            },
            "type": "table"
           }
          ]
         },
         "layout": {
          "annotationdefaults": {
           "arrowcolor": "#2a3f5f",
           "arrowhead": 0,
           "arrowwidth": 1
          },
          "autotypenumbers": "strict",
          "coloraxis": {
           "colorbar": {
            "outlinewidth": 0,
            "ticks": ""
           }
          },
          "colorscale": {
           "diverging": [
            [
             0,
             "#8e0152"
            ],
            [
             0.1,
             "#c51b7d"
            ],
            [
             0.2,
             "#de77ae"
            ],
            [
             0.3,
             "#f1b6da"
            ],
            [
             0.4,
             "#fde0ef"
            ],
            [
             0.5,
             "#f7f7f7"
            ],
            [
             0.6,
             "#e6f5d0"
            ],
            [
             0.7,
             "#b8e186"
            ],
            [
             0.8,
             "#7fbc41"
            ],
            [
             0.9,
             "#4d9221"
            ],
            [
             1,
             "#276419"
            ]
           ],
           "sequential": [
            [
             0,
             "#0d0887"
            ],
            [
             0.1111111111111111,
             "#46039f"
            ],
            [
             0.2222222222222222,
             "#7201a8"
            ],
            [
             0.3333333333333333,
             "#9c179e"
            ],
            [
             0.4444444444444444,
             "#bd3786"
            ],
            [
             0.5555555555555556,
             "#d8576b"
            ],
            [
             0.6666666666666666,
             "#ed7953"
            ],
            [
             0.7777777777777778,
             "#fb9f3a"
            ],
            [
             0.8888888888888888,
             "#fdca26"
            ],
            [
             1,
             "#f0f921"
            ]
           ],
           "sequentialminus": [
            [
             0,
             "#0d0887"
            ],
            [
             0.1111111111111111,
             "#46039f"
            ],
            [
             0.2222222222222222,
             "#7201a8"
            ],
            [
             0.3333333333333333,
             "#9c179e"
            ],
            [
             0.4444444444444444,
             "#bd3786"
            ],
            [
             0.5555555555555556,
             "#d8576b"
            ],
            [
             0.6666666666666666,
             "#ed7953"
            ],
            [
             0.7777777777777778,
             "#fb9f3a"
            ],
            [
             0.8888888888888888,
             "#fdca26"
            ],
            [
             1,
             "#f0f921"
            ]
           ]
          },
          "colorway": [
           "#636efa",
           "#EF553B",
           "#00cc96",
           "#ab63fa",
           "#FFA15A",
           "#19d3f3",
           "#FF6692",
           "#B6E880",
           "#FF97FF",
           "#FECB52"
          ],
          "font": {
           "color": "#2a3f5f"
          },
          "geo": {
           "bgcolor": "white",
           "lakecolor": "white",
           "landcolor": "#E5ECF6",
           "showlakes": true,
           "showland": true,
           "subunitcolor": "white"
          },
          "hoverlabel": {
           "align": "left"
          },
          "hovermode": "closest",
          "mapbox": {
           "style": "light"
          },
          "paper_bgcolor": "white",
          "plot_bgcolor": "#E5ECF6",
          "polar": {
           "angularaxis": {
            "gridcolor": "white",
            "linecolor": "white",
            "ticks": ""
           },
           "bgcolor": "#E5ECF6",
           "radialaxis": {
            "gridcolor": "white",
            "linecolor": "white",
            "ticks": ""
           }
          },
          "scene": {
           "xaxis": {
            "backgroundcolor": "#E5ECF6",
            "gridcolor": "white",
            "gridwidth": 2,
            "linecolor": "white",
            "showbackground": true,
            "ticks": "",
            "zerolinecolor": "white"
           },
           "yaxis": {
            "backgroundcolor": "#E5ECF6",
            "gridcolor": "white",
            "gridwidth": 2,
            "linecolor": "white",
            "showbackground": true,
            "ticks": "",
            "zerolinecolor": "white"
           },
           "zaxis": {
            "backgroundcolor": "#E5ECF6",
            "gridcolor": "white",
            "gridwidth": 2,
            "linecolor": "white",
            "showbackground": true,
            "ticks": "",
            "zerolinecolor": "white"
           }
          },
          "shapedefaults": {
           "line": {
            "color": "#2a3f5f"
           }
          },
          "ternary": {
           "aaxis": {
            "gridcolor": "white",
            "linecolor": "white",
            "ticks": ""
           },
           "baxis": {
            "gridcolor": "white",
            "linecolor": "white",
            "ticks": ""
           },
           "bgcolor": "#E5ECF6",
           "caxis": {
            "gridcolor": "white",
            "linecolor": "white",
            "ticks": ""
           }
          },
          "title": {
           "x": 0.05
          },
          "xaxis": {
           "automargin": true,
           "gridcolor": "white",
           "linecolor": "white",
           "ticks": "",
           "title": {
            "standoff": 15
           },
           "zerolinecolor": "white",
           "zerolinewidth": 2
          },
          "yaxis": {
           "automargin": true,
           "gridcolor": "white",
           "linecolor": "white",
           "ticks": "",
           "title": {
            "standoff": 15
           },
           "zerolinecolor": "white",
           "zerolinewidth": 2
          }
         }
        },
        "title": {
         "text": "не определено"
        },
        "width": 600,
        "xaxis": {
         "anchor": "y",
         "domain": [
          0,
          1
         ],
         "title": {
          "text": "company"
         }
        },
        "yaxis": {
         "anchor": "x",
         "domain": [
          0,
          1
         ],
         "title": {
          "text": "mean"
         }
        }
       }
      },
      "text/html": [
       "<div>                            <div id=\"71ef36d3-dc13-418e-adad-dcb5e7ae4872\" class=\"plotly-graph-div\" style=\"height:600px; width:600px;\"></div>            <script type=\"text/javascript\">                require([\"plotly\"], function(Plotly) {                    window.PLOTLYENV=window.PLOTLYENV || {};                                    if (document.getElementById(\"71ef36d3-dc13-418e-adad-dcb5e7ae4872\")) {                    Plotly.newPlot(                        \"71ef36d3-dc13-418e-adad-dcb5e7ae4872\",                        [{\"alignmentgroup\":\"True\",\"hovertemplate\":\"company=%{x}<br>mean=%{y}<extra></extra>\",\"legendgroup\":\"\",\"marker\":{\"color\":\"steelblue\",\"pattern\":{\"shape\":\"\"}},\"name\":\"\",\"offsetgroup\":\"\",\"orientation\":\"v\",\"showlegend\":false,\"textposition\":\"auto\",\"x\":[\"RA Clever Recruiting\",\"\\u043d\\u0435 \\u043e\\u043f\\u0440\\u0435\\u0434\\u0435\\u043b\\u0435\\u043d\\u043e\"],\"xaxis\":\"x\",\"y\":[287000.0,238551.5641025641],\"yaxis\":\"y\",\"type\":\"bar\"}],                        {\"template\":{\"data\":{\"histogram2dcontour\":[{\"type\":\"histogram2dcontour\",\"colorbar\":{\"outlinewidth\":0,\"ticks\":\"\"},\"colorscale\":[[0.0,\"#0d0887\"],[0.1111111111111111,\"#46039f\"],[0.2222222222222222,\"#7201a8\"],[0.3333333333333333,\"#9c179e\"],[0.4444444444444444,\"#bd3786\"],[0.5555555555555556,\"#d8576b\"],[0.6666666666666666,\"#ed7953\"],[0.7777777777777778,\"#fb9f3a\"],[0.8888888888888888,\"#fdca26\"],[1.0,\"#f0f921\"]]}],\"choropleth\":[{\"type\":\"choropleth\",\"colorbar\":{\"outlinewidth\":0,\"ticks\":\"\"}}],\"histogram2d\":[{\"type\":\"histogram2d\",\"colorbar\":{\"outlinewidth\":0,\"ticks\":\"\"},\"colorscale\":[[0.0,\"#0d0887\"],[0.1111111111111111,\"#46039f\"],[0.2222222222222222,\"#7201a8\"],[0.3333333333333333,\"#9c179e\"],[0.4444444444444444,\"#bd3786\"],[0.5555555555555556,\"#d8576b\"],[0.6666666666666666,\"#ed7953\"],[0.7777777777777778,\"#fb9f3a\"],[0.8888888888888888,\"#fdca26\"],[1.0,\"#f0f921\"]]}],\"heatmap\":[{\"type\":\"heatmap\",\"colorbar\":{\"outlinewidth\":0,\"ticks\":\"\"},\"colorscale\":[[0.0,\"#0d0887\"],[0.1111111111111111,\"#46039f\"],[0.2222222222222222,\"#7201a8\"],[0.3333333333333333,\"#9c179e\"],[0.4444444444444444,\"#bd3786\"],[0.5555555555555556,\"#d8576b\"],[0.6666666666666666,\"#ed7953\"],[0.7777777777777778,\"#fb9f3a\"],[0.8888888888888888,\"#fdca26\"],[1.0,\"#f0f921\"]]}],\"heatmapgl\":[{\"type\":\"heatmapgl\",\"colorbar\":{\"outlinewidth\":0,\"ticks\":\"\"},\"colorscale\":[[0.0,\"#0d0887\"],[0.1111111111111111,\"#46039f\"],[0.2222222222222222,\"#7201a8\"],[0.3333333333333333,\"#9c179e\"],[0.4444444444444444,\"#bd3786\"],[0.5555555555555556,\"#d8576b\"],[0.6666666666666666,\"#ed7953\"],[0.7777777777777778,\"#fb9f3a\"],[0.8888888888888888,\"#fdca26\"],[1.0,\"#f0f921\"]]}],\"contourcarpet\":[{\"type\":\"contourcarpet\",\"colorbar\":{\"outlinewidth\":0,\"ticks\":\"\"}}],\"contour\":[{\"type\":\"contour\",\"colorbar\":{\"outlinewidth\":0,\"ticks\":\"\"},\"colorscale\":[[0.0,\"#0d0887\"],[0.1111111111111111,\"#46039f\"],[0.2222222222222222,\"#7201a8\"],[0.3333333333333333,\"#9c179e\"],[0.4444444444444444,\"#bd3786\"],[0.5555555555555556,\"#d8576b\"],[0.6666666666666666,\"#ed7953\"],[0.7777777777777778,\"#fb9f3a\"],[0.8888888888888888,\"#fdca26\"],[1.0,\"#f0f921\"]]}],\"surface\":[{\"type\":\"surface\",\"colorbar\":{\"outlinewidth\":0,\"ticks\":\"\"},\"colorscale\":[[0.0,\"#0d0887\"],[0.1111111111111111,\"#46039f\"],[0.2222222222222222,\"#7201a8\"],[0.3333333333333333,\"#9c179e\"],[0.4444444444444444,\"#bd3786\"],[0.5555555555555556,\"#d8576b\"],[0.6666666666666666,\"#ed7953\"],[0.7777777777777778,\"#fb9f3a\"],[0.8888888888888888,\"#fdca26\"],[1.0,\"#f0f921\"]]}],\"mesh3d\":[{\"type\":\"mesh3d\",\"colorbar\":{\"outlinewidth\":0,\"ticks\":\"\"}}],\"scatter\":[{\"fillpattern\":{\"fillmode\":\"overlay\",\"size\":10,\"solidity\":0.2},\"type\":\"scatter\"}],\"parcoords\":[{\"type\":\"parcoords\",\"line\":{\"colorbar\":{\"outlinewidth\":0,\"ticks\":\"\"}}}],\"scatterpolargl\":[{\"type\":\"scatterpolargl\",\"marker\":{\"colorbar\":{\"outlinewidth\":0,\"ticks\":\"\"}}}],\"bar\":[{\"error_x\":{\"color\":\"#2a3f5f\"},\"error_y\":{\"color\":\"#2a3f5f\"},\"marker\":{\"line\":{\"color\":\"#E5ECF6\",\"width\":0.5},\"pattern\":{\"fillmode\":\"overlay\",\"size\":10,\"solidity\":0.2}},\"type\":\"bar\"}],\"scattergeo\":[{\"type\":\"scattergeo\",\"marker\":{\"colorbar\":{\"outlinewidth\":0,\"ticks\":\"\"}}}],\"scatterpolar\":[{\"type\":\"scatterpolar\",\"marker\":{\"colorbar\":{\"outlinewidth\":0,\"ticks\":\"\"}}}],\"histogram\":[{\"marker\":{\"pattern\":{\"fillmode\":\"overlay\",\"size\":10,\"solidity\":0.2}},\"type\":\"histogram\"}],\"scattergl\":[{\"type\":\"scattergl\",\"marker\":{\"colorbar\":{\"outlinewidth\":0,\"ticks\":\"\"}}}],\"scatter3d\":[{\"type\":\"scatter3d\",\"line\":{\"colorbar\":{\"outlinewidth\":0,\"ticks\":\"\"}},\"marker\":{\"colorbar\":{\"outlinewidth\":0,\"ticks\":\"\"}}}],\"scattermapbox\":[{\"type\":\"scattermapbox\",\"marker\":{\"colorbar\":{\"outlinewidth\":0,\"ticks\":\"\"}}}],\"scatterternary\":[{\"type\":\"scatterternary\",\"marker\":{\"colorbar\":{\"outlinewidth\":0,\"ticks\":\"\"}}}],\"scattercarpet\":[{\"type\":\"scattercarpet\",\"marker\":{\"colorbar\":{\"outlinewidth\":0,\"ticks\":\"\"}}}],\"carpet\":[{\"aaxis\":{\"endlinecolor\":\"#2a3f5f\",\"gridcolor\":\"white\",\"linecolor\":\"white\",\"minorgridcolor\":\"white\",\"startlinecolor\":\"#2a3f5f\"},\"baxis\":{\"endlinecolor\":\"#2a3f5f\",\"gridcolor\":\"white\",\"linecolor\":\"white\",\"minorgridcolor\":\"white\",\"startlinecolor\":\"#2a3f5f\"},\"type\":\"carpet\"}],\"table\":[{\"cells\":{\"fill\":{\"color\":\"#EBF0F8\"},\"line\":{\"color\":\"white\"}},\"header\":{\"fill\":{\"color\":\"#C8D4E3\"},\"line\":{\"color\":\"white\"}},\"type\":\"table\"}],\"barpolar\":[{\"marker\":{\"line\":{\"color\":\"#E5ECF6\",\"width\":0.5},\"pattern\":{\"fillmode\":\"overlay\",\"size\":10,\"solidity\":0.2}},\"type\":\"barpolar\"}],\"pie\":[{\"automargin\":true,\"type\":\"pie\"}]},\"layout\":{\"autotypenumbers\":\"strict\",\"colorway\":[\"#636efa\",\"#EF553B\",\"#00cc96\",\"#ab63fa\",\"#FFA15A\",\"#19d3f3\",\"#FF6692\",\"#B6E880\",\"#FF97FF\",\"#FECB52\"],\"font\":{\"color\":\"#2a3f5f\"},\"hovermode\":\"closest\",\"hoverlabel\":{\"align\":\"left\"},\"paper_bgcolor\":\"white\",\"plot_bgcolor\":\"#E5ECF6\",\"polar\":{\"bgcolor\":\"#E5ECF6\",\"angularaxis\":{\"gridcolor\":\"white\",\"linecolor\":\"white\",\"ticks\":\"\"},\"radialaxis\":{\"gridcolor\":\"white\",\"linecolor\":\"white\",\"ticks\":\"\"}},\"ternary\":{\"bgcolor\":\"#E5ECF6\",\"aaxis\":{\"gridcolor\":\"white\",\"linecolor\":\"white\",\"ticks\":\"\"},\"baxis\":{\"gridcolor\":\"white\",\"linecolor\":\"white\",\"ticks\":\"\"},\"caxis\":{\"gridcolor\":\"white\",\"linecolor\":\"white\",\"ticks\":\"\"}},\"coloraxis\":{\"colorbar\":{\"outlinewidth\":0,\"ticks\":\"\"}},\"colorscale\":{\"sequential\":[[0.0,\"#0d0887\"],[0.1111111111111111,\"#46039f\"],[0.2222222222222222,\"#7201a8\"],[0.3333333333333333,\"#9c179e\"],[0.4444444444444444,\"#bd3786\"],[0.5555555555555556,\"#d8576b\"],[0.6666666666666666,\"#ed7953\"],[0.7777777777777778,\"#fb9f3a\"],[0.8888888888888888,\"#fdca26\"],[1.0,\"#f0f921\"]],\"sequentialminus\":[[0.0,\"#0d0887\"],[0.1111111111111111,\"#46039f\"],[0.2222222222222222,\"#7201a8\"],[0.3333333333333333,\"#9c179e\"],[0.4444444444444444,\"#bd3786\"],[0.5555555555555556,\"#d8576b\"],[0.6666666666666666,\"#ed7953\"],[0.7777777777777778,\"#fb9f3a\"],[0.8888888888888888,\"#fdca26\"],[1.0,\"#f0f921\"]],\"diverging\":[[0,\"#8e0152\"],[0.1,\"#c51b7d\"],[0.2,\"#de77ae\"],[0.3,\"#f1b6da\"],[0.4,\"#fde0ef\"],[0.5,\"#f7f7f7\"],[0.6,\"#e6f5d0\"],[0.7,\"#b8e186\"],[0.8,\"#7fbc41\"],[0.9,\"#4d9221\"],[1,\"#276419\"]]},\"xaxis\":{\"gridcolor\":\"white\",\"linecolor\":\"white\",\"ticks\":\"\",\"title\":{\"standoff\":15},\"zerolinecolor\":\"white\",\"automargin\":true,\"zerolinewidth\":2},\"yaxis\":{\"gridcolor\":\"white\",\"linecolor\":\"white\",\"ticks\":\"\",\"title\":{\"standoff\":15},\"zerolinecolor\":\"white\",\"automargin\":true,\"zerolinewidth\":2},\"scene\":{\"xaxis\":{\"backgroundcolor\":\"#E5ECF6\",\"gridcolor\":\"white\",\"linecolor\":\"white\",\"showbackground\":true,\"ticks\":\"\",\"zerolinecolor\":\"white\",\"gridwidth\":2},\"yaxis\":{\"backgroundcolor\":\"#E5ECF6\",\"gridcolor\":\"white\",\"linecolor\":\"white\",\"showbackground\":true,\"ticks\":\"\",\"zerolinecolor\":\"white\",\"gridwidth\":2},\"zaxis\":{\"backgroundcolor\":\"#E5ECF6\",\"gridcolor\":\"white\",\"linecolor\":\"white\",\"showbackground\":true,\"ticks\":\"\",\"zerolinecolor\":\"white\",\"gridwidth\":2}},\"shapedefaults\":{\"line\":{\"color\":\"#2a3f5f\"}},\"annotationdefaults\":{\"arrowcolor\":\"#2a3f5f\",\"arrowhead\":0,\"arrowwidth\":1},\"geo\":{\"bgcolor\":\"white\",\"landcolor\":\"#E5ECF6\",\"subunitcolor\":\"white\",\"showland\":true,\"showlakes\":true,\"lakecolor\":\"white\"},\"title\":{\"x\":0.05},\"mapbox\":{\"style\":\"light\"}}},\"xaxis\":{\"anchor\":\"y\",\"domain\":[0.0,1.0],\"title\":{\"text\":\"company\"}},\"yaxis\":{\"anchor\":\"x\",\"domain\":[0.0,1.0],\"title\":{\"text\":\"mean\"}},\"legend\":{\"tracegroupgap\":0},\"title\":{\"text\":\"\\u043d\\u0435 \\u043e\\u043f\\u0440\\u0435\\u0434\\u0435\\u043b\\u0435\\u043d\\u043e\"},\"barmode\":\"relative\",\"height\":600,\"width\":600},                        {\"responsive\": true}                    ).then(function(){\n",
       "                            \n",
       "var gd = document.getElementById('71ef36d3-dc13-418e-adad-dcb5e7ae4872');\n",
       "var x = new MutationObserver(function (mutations, observer) {{\n",
       "        var display = window.getComputedStyle(gd).display;\n",
       "        if (!display || display === 'none') {{\n",
       "            console.log([gd, 'removed!']);\n",
       "            Plotly.purge(gd);\n",
       "            observer.disconnect();\n",
       "        }}\n",
       "}});\n",
       "\n",
       "// Listen for the removal of the full notebook cells\n",
       "var notebookContainer = gd.closest('#notebook-container');\n",
       "if (notebookContainer) {{\n",
       "    x.observe(notebookContainer, {childList: true});\n",
       "}}\n",
       "\n",
       "// Listen for the clearing of the current output cell\n",
       "var outputEl = gd.closest('.output');\n",
       "if (outputEl) {{\n",
       "    x.observe(outputEl, {childList: true});\n",
       "}}\n",
       "\n",
       "                        })                };                });            </script>        </div>"
      ]
     },
     "metadata": {},
     "output_type": "display_data"
    }
   ],
   "source": [
    "for lev in list(df['levels2'].unique()):\n",
    "    fig = px.bar(hunters[(hunters['size'] > 2) & (hunters['levels2'] == lev) ], x = 'company', y = 'mean', \n",
    "                 width = 600, height = 600, title = lev, color_discrete_sequence = ['steelblue'])\n",
    "    fig.show()"
   ]
  },
  {
   "cell_type": "markdown",
   "id": "8d6b8765",
   "metadata": {},
   "source": [
    "Выводы:\n",
    "    1. больше всего ищут мидлов\n",
    "    2. в разных категориях опыта разные лидеры\n",
    "    3. нет лидеров рынка, которые бы набирали много и при этом на большие зарплаты (\"пылесосы\")\n",
    "    4. среди компаий лидеров есть малоизветсные компании, чей бизнес ранее не воспринималься как сильно зависимый от аналитики данных"
   ]
  },
  {
   "cell_type": "markdown",
   "id": "6f0a9c12",
   "metadata": {},
   "source": [
    "###  5) Средняя зарплата в разбивке по источникам сбора данных"
   ]
  },
  {
   "cell_type": "code",
   "execution_count": 57,
   "id": "132a615a",
   "metadata": {},
   "outputs": [
    {
     "data": {
      "application/vnd.plotly.v1+json": {
       "config": {
        "plotlyServerURL": "https://plot.ly"
       },
       "data": [
        {
         "alignmentgroup": "True",
         "hovertemplate": "variable=salary<br>source=%{x}<br>value=%{y}<extra></extra>",
         "legendgroup": "salary",
         "marker": {
          "color": "steelblue",
          "pattern": {
           "shape": ""
          }
         },
         "name": "salary",
         "offsetgroup": "salary",
         "orientation": "v",
         "showlegend": true,
         "textposition": "auto",
         "type": "bar",
         "x": [
          "habr.ru",
          "https://t.me/s/datasciencejobs",
          "superjob.ru"
         ],
         "xaxis": "x",
         "y": [
          247577.90697674418,
          262319.0245614035,
          42500
         ],
         "yaxis": "y"
        }
       ],
       "layout": {
        "barmode": "relative",
        "legend": {
         "title": {
          "text": "variable"
         },
         "tracegroupgap": 0
        },
        "template": {
         "data": {
          "bar": [
           {
            "error_x": {
             "color": "#2a3f5f"
            },
            "error_y": {
             "color": "#2a3f5f"
            },
            "marker": {
             "line": {
              "color": "#E5ECF6",
              "width": 0.5
             },
             "pattern": {
              "fillmode": "overlay",
              "size": 10,
              "solidity": 0.2
             }
            },
            "type": "bar"
           }
          ],
          "barpolar": [
           {
            "marker": {
             "line": {
              "color": "#E5ECF6",
              "width": 0.5
             },
             "pattern": {
              "fillmode": "overlay",
              "size": 10,
              "solidity": 0.2
             }
            },
            "type": "barpolar"
           }
          ],
          "carpet": [
           {
            "aaxis": {
             "endlinecolor": "#2a3f5f",
             "gridcolor": "white",
             "linecolor": "white",
             "minorgridcolor": "white",
             "startlinecolor": "#2a3f5f"
            },
            "baxis": {
             "endlinecolor": "#2a3f5f",
             "gridcolor": "white",
             "linecolor": "white",
             "minorgridcolor": "white",
             "startlinecolor": "#2a3f5f"
            },
            "type": "carpet"
           }
          ],
          "choropleth": [
           {
            "colorbar": {
             "outlinewidth": 0,
             "ticks": ""
            },
            "type": "choropleth"
           }
          ],
          "contour": [
           {
            "colorbar": {
             "outlinewidth": 0,
             "ticks": ""
            },
            "colorscale": [
             [
              0,
              "#0d0887"
             ],
             [
              0.1111111111111111,
              "#46039f"
             ],
             [
              0.2222222222222222,
              "#7201a8"
             ],
             [
              0.3333333333333333,
              "#9c179e"
             ],
             [
              0.4444444444444444,
              "#bd3786"
             ],
             [
              0.5555555555555556,
              "#d8576b"
             ],
             [
              0.6666666666666666,
              "#ed7953"
             ],
             [
              0.7777777777777778,
              "#fb9f3a"
             ],
             [
              0.8888888888888888,
              "#fdca26"
             ],
             [
              1,
              "#f0f921"
             ]
            ],
            "type": "contour"
           }
          ],
          "contourcarpet": [
           {
            "colorbar": {
             "outlinewidth": 0,
             "ticks": ""
            },
            "type": "contourcarpet"
           }
          ],
          "heatmap": [
           {
            "colorbar": {
             "outlinewidth": 0,
             "ticks": ""
            },
            "colorscale": [
             [
              0,
              "#0d0887"
             ],
             [
              0.1111111111111111,
              "#46039f"
             ],
             [
              0.2222222222222222,
              "#7201a8"
             ],
             [
              0.3333333333333333,
              "#9c179e"
             ],
             [
              0.4444444444444444,
              "#bd3786"
             ],
             [
              0.5555555555555556,
              "#d8576b"
             ],
             [
              0.6666666666666666,
              "#ed7953"
             ],
             [
              0.7777777777777778,
              "#fb9f3a"
             ],
             [
              0.8888888888888888,
              "#fdca26"
             ],
             [
              1,
              "#f0f921"
             ]
            ],
            "type": "heatmap"
           }
          ],
          "heatmapgl": [
           {
            "colorbar": {
             "outlinewidth": 0,
             "ticks": ""
            },
            "colorscale": [
             [
              0,
              "#0d0887"
             ],
             [
              0.1111111111111111,
              "#46039f"
             ],
             [
              0.2222222222222222,
              "#7201a8"
             ],
             [
              0.3333333333333333,
              "#9c179e"
             ],
             [
              0.4444444444444444,
              "#bd3786"
             ],
             [
              0.5555555555555556,
              "#d8576b"
             ],
             [
              0.6666666666666666,
              "#ed7953"
             ],
             [
              0.7777777777777778,
              "#fb9f3a"
             ],
             [
              0.8888888888888888,
              "#fdca26"
             ],
             [
              1,
              "#f0f921"
             ]
            ],
            "type": "heatmapgl"
           }
          ],
          "histogram": [
           {
            "marker": {
             "pattern": {
              "fillmode": "overlay",
              "size": 10,
              "solidity": 0.2
             }
            },
            "type": "histogram"
           }
          ],
          "histogram2d": [
           {
            "colorbar": {
             "outlinewidth": 0,
             "ticks": ""
            },
            "colorscale": [
             [
              0,
              "#0d0887"
             ],
             [
              0.1111111111111111,
              "#46039f"
             ],
             [
              0.2222222222222222,
              "#7201a8"
             ],
             [
              0.3333333333333333,
              "#9c179e"
             ],
             [
              0.4444444444444444,
              "#bd3786"
             ],
             [
              0.5555555555555556,
              "#d8576b"
             ],
             [
              0.6666666666666666,
              "#ed7953"
             ],
             [
              0.7777777777777778,
              "#fb9f3a"
             ],
             [
              0.8888888888888888,
              "#fdca26"
             ],
             [
              1,
              "#f0f921"
             ]
            ],
            "type": "histogram2d"
           }
          ],
          "histogram2dcontour": [
           {
            "colorbar": {
             "outlinewidth": 0,
             "ticks": ""
            },
            "colorscale": [
             [
              0,
              "#0d0887"
             ],
             [
              0.1111111111111111,
              "#46039f"
             ],
             [
              0.2222222222222222,
              "#7201a8"
             ],
             [
              0.3333333333333333,
              "#9c179e"
             ],
             [
              0.4444444444444444,
              "#bd3786"
             ],
             [
              0.5555555555555556,
              "#d8576b"
             ],
             [
              0.6666666666666666,
              "#ed7953"
             ],
             [
              0.7777777777777778,
              "#fb9f3a"
             ],
             [
              0.8888888888888888,
              "#fdca26"
             ],
             [
              1,
              "#f0f921"
             ]
            ],
            "type": "histogram2dcontour"
           }
          ],
          "mesh3d": [
           {
            "colorbar": {
             "outlinewidth": 0,
             "ticks": ""
            },
            "type": "mesh3d"
           }
          ],
          "parcoords": [
           {
            "line": {
             "colorbar": {
              "outlinewidth": 0,
              "ticks": ""
             }
            },
            "type": "parcoords"
           }
          ],
          "pie": [
           {
            "automargin": true,
            "type": "pie"
           }
          ],
          "scatter": [
           {
            "fillpattern": {
             "fillmode": "overlay",
             "size": 10,
             "solidity": 0.2
            },
            "type": "scatter"
           }
          ],
          "scatter3d": [
           {
            "line": {
             "colorbar": {
              "outlinewidth": 0,
              "ticks": ""
             }
            },
            "marker": {
             "colorbar": {
              "outlinewidth": 0,
              "ticks": ""
             }
            },
            "type": "scatter3d"
           }
          ],
          "scattercarpet": [
           {
            "marker": {
             "colorbar": {
              "outlinewidth": 0,
              "ticks": ""
             }
            },
            "type": "scattercarpet"
           }
          ],
          "scattergeo": [
           {
            "marker": {
             "colorbar": {
              "outlinewidth": 0,
              "ticks": ""
             }
            },
            "type": "scattergeo"
           }
          ],
          "scattergl": [
           {
            "marker": {
             "colorbar": {
              "outlinewidth": 0,
              "ticks": ""
             }
            },
            "type": "scattergl"
           }
          ],
          "scattermapbox": [
           {
            "marker": {
             "colorbar": {
              "outlinewidth": 0,
              "ticks": ""
             }
            },
            "type": "scattermapbox"
           }
          ],
          "scatterpolar": [
           {
            "marker": {
             "colorbar": {
              "outlinewidth": 0,
              "ticks": ""
             }
            },
            "type": "scatterpolar"
           }
          ],
          "scatterpolargl": [
           {
            "marker": {
             "colorbar": {
              "outlinewidth": 0,
              "ticks": ""
             }
            },
            "type": "scatterpolargl"
           }
          ],
          "scatterternary": [
           {
            "marker": {
             "colorbar": {
              "outlinewidth": 0,
              "ticks": ""
             }
            },
            "type": "scatterternary"
           }
          ],
          "surface": [
           {
            "colorbar": {
             "outlinewidth": 0,
             "ticks": ""
            },
            "colorscale": [
             [
              0,
              "#0d0887"
             ],
             [
              0.1111111111111111,
              "#46039f"
             ],
             [
              0.2222222222222222,
              "#7201a8"
             ],
             [
              0.3333333333333333,
              "#9c179e"
             ],
             [
              0.4444444444444444,
              "#bd3786"
             ],
             [
              0.5555555555555556,
              "#d8576b"
             ],
             [
              0.6666666666666666,
              "#ed7953"
             ],
             [
              0.7777777777777778,
              "#fb9f3a"
             ],
             [
              0.8888888888888888,
              "#fdca26"
             ],
             [
              1,
              "#f0f921"
             ]
            ],
            "type": "surface"
           }
          ],
          "table": [
           {
            "cells": {
             "fill": {
              "color": "#EBF0F8"
             },
             "line": {
              "color": "white"
             }
            },
            "header": {
             "fill": {
              "color": "#C8D4E3"
             },
             "line": {
              "color": "white"
             }
            },
            "type": "table"
           }
          ]
         },
         "layout": {
          "annotationdefaults": {
           "arrowcolor": "#2a3f5f",
           "arrowhead": 0,
           "arrowwidth": 1
          },
          "autotypenumbers": "strict",
          "coloraxis": {
           "colorbar": {
            "outlinewidth": 0,
            "ticks": ""
           }
          },
          "colorscale": {
           "diverging": [
            [
             0,
             "#8e0152"
            ],
            [
             0.1,
             "#c51b7d"
            ],
            [
             0.2,
             "#de77ae"
            ],
            [
             0.3,
             "#f1b6da"
            ],
            [
             0.4,
             "#fde0ef"
            ],
            [
             0.5,
             "#f7f7f7"
            ],
            [
             0.6,
             "#e6f5d0"
            ],
            [
             0.7,
             "#b8e186"
            ],
            [
             0.8,
             "#7fbc41"
            ],
            [
             0.9,
             "#4d9221"
            ],
            [
             1,
             "#276419"
            ]
           ],
           "sequential": [
            [
             0,
             "#0d0887"
            ],
            [
             0.1111111111111111,
             "#46039f"
            ],
            [
             0.2222222222222222,
             "#7201a8"
            ],
            [
             0.3333333333333333,
             "#9c179e"
            ],
            [
             0.4444444444444444,
             "#bd3786"
            ],
            [
             0.5555555555555556,
             "#d8576b"
            ],
            [
             0.6666666666666666,
             "#ed7953"
            ],
            [
             0.7777777777777778,
             "#fb9f3a"
            ],
            [
             0.8888888888888888,
             "#fdca26"
            ],
            [
             1,
             "#f0f921"
            ]
           ],
           "sequentialminus": [
            [
             0,
             "#0d0887"
            ],
            [
             0.1111111111111111,
             "#46039f"
            ],
            [
             0.2222222222222222,
             "#7201a8"
            ],
            [
             0.3333333333333333,
             "#9c179e"
            ],
            [
             0.4444444444444444,
             "#bd3786"
            ],
            [
             0.5555555555555556,
             "#d8576b"
            ],
            [
             0.6666666666666666,
             "#ed7953"
            ],
            [
             0.7777777777777778,
             "#fb9f3a"
            ],
            [
             0.8888888888888888,
             "#fdca26"
            ],
            [
             1,
             "#f0f921"
            ]
           ]
          },
          "colorway": [
           "#636efa",
           "#EF553B",
           "#00cc96",
           "#ab63fa",
           "#FFA15A",
           "#19d3f3",
           "#FF6692",
           "#B6E880",
           "#FF97FF",
           "#FECB52"
          ],
          "font": {
           "color": "#2a3f5f"
          },
          "geo": {
           "bgcolor": "white",
           "lakecolor": "white",
           "landcolor": "#E5ECF6",
           "showlakes": true,
           "showland": true,
           "subunitcolor": "white"
          },
          "hoverlabel": {
           "align": "left"
          },
          "hovermode": "closest",
          "mapbox": {
           "style": "light"
          },
          "paper_bgcolor": "white",
          "plot_bgcolor": "#E5ECF6",
          "polar": {
           "angularaxis": {
            "gridcolor": "white",
            "linecolor": "white",
            "ticks": ""
           },
           "bgcolor": "#E5ECF6",
           "radialaxis": {
            "gridcolor": "white",
            "linecolor": "white",
            "ticks": ""
           }
          },
          "scene": {
           "xaxis": {
            "backgroundcolor": "#E5ECF6",
            "gridcolor": "white",
            "gridwidth": 2,
            "linecolor": "white",
            "showbackground": true,
            "ticks": "",
            "zerolinecolor": "white"
           },
           "yaxis": {
            "backgroundcolor": "#E5ECF6",
            "gridcolor": "white",
            "gridwidth": 2,
            "linecolor": "white",
            "showbackground": true,
            "ticks": "",
            "zerolinecolor": "white"
           },
           "zaxis": {
            "backgroundcolor": "#E5ECF6",
            "gridcolor": "white",
            "gridwidth": 2,
            "linecolor": "white",
            "showbackground": true,
            "ticks": "",
            "zerolinecolor": "white"
           }
          },
          "shapedefaults": {
           "line": {
            "color": "#2a3f5f"
           }
          },
          "ternary": {
           "aaxis": {
            "gridcolor": "white",
            "linecolor": "white",
            "ticks": ""
           },
           "baxis": {
            "gridcolor": "white",
            "linecolor": "white",
            "ticks": ""
           },
           "bgcolor": "#E5ECF6",
           "caxis": {
            "gridcolor": "white",
            "linecolor": "white",
            "ticks": ""
           }
          },
          "title": {
           "x": 0.05
          },
          "xaxis": {
           "automargin": true,
           "gridcolor": "white",
           "linecolor": "white",
           "ticks": "",
           "title": {
            "standoff": 15
           },
           "zerolinecolor": "white",
           "zerolinewidth": 2
          },
          "yaxis": {
           "automargin": true,
           "gridcolor": "white",
           "linecolor": "white",
           "ticks": "",
           "title": {
            "standoff": 15
           },
           "zerolinecolor": "white",
           "zerolinewidth": 2
          }
         }
        },
        "title": {
         "text": "Средняя зарплата по ресурсам"
        },
        "xaxis": {
         "anchor": "y",
         "domain": [
          0,
          1
         ],
         "title": {
          "text": "source"
         }
        },
        "yaxis": {
         "anchor": "x",
         "domain": [
          0,
          1
         ],
         "title": {
          "text": "value"
         }
        }
       }
      },
      "text/html": [
       "<div>                            <div id=\"c3a9d965-21d8-4459-95d3-79c56931ea85\" class=\"plotly-graph-div\" style=\"height:525px; width:100%;\"></div>            <script type=\"text/javascript\">                require([\"plotly\"], function(Plotly) {                    window.PLOTLYENV=window.PLOTLYENV || {};                                    if (document.getElementById(\"c3a9d965-21d8-4459-95d3-79c56931ea85\")) {                    Plotly.newPlot(                        \"c3a9d965-21d8-4459-95d3-79c56931ea85\",                        [{\"alignmentgroup\":\"True\",\"hovertemplate\":\"variable=salary<br>source=%{x}<br>value=%{y}<extra></extra>\",\"legendgroup\":\"salary\",\"marker\":{\"color\":\"steelblue\",\"pattern\":{\"shape\":\"\"}},\"name\":\"salary\",\"offsetgroup\":\"salary\",\"orientation\":\"v\",\"showlegend\":true,\"textposition\":\"auto\",\"x\":[\"habr.ru\",\"https://t.me/s/datasciencejobs\",\"superjob.ru\"],\"xaxis\":\"x\",\"y\":[247577.90697674418,262319.0245614035,42500.0],\"yaxis\":\"y\",\"type\":\"bar\"}],                        {\"template\":{\"data\":{\"histogram2dcontour\":[{\"type\":\"histogram2dcontour\",\"colorbar\":{\"outlinewidth\":0,\"ticks\":\"\"},\"colorscale\":[[0.0,\"#0d0887\"],[0.1111111111111111,\"#46039f\"],[0.2222222222222222,\"#7201a8\"],[0.3333333333333333,\"#9c179e\"],[0.4444444444444444,\"#bd3786\"],[0.5555555555555556,\"#d8576b\"],[0.6666666666666666,\"#ed7953\"],[0.7777777777777778,\"#fb9f3a\"],[0.8888888888888888,\"#fdca26\"],[1.0,\"#f0f921\"]]}],\"choropleth\":[{\"type\":\"choropleth\",\"colorbar\":{\"outlinewidth\":0,\"ticks\":\"\"}}],\"histogram2d\":[{\"type\":\"histogram2d\",\"colorbar\":{\"outlinewidth\":0,\"ticks\":\"\"},\"colorscale\":[[0.0,\"#0d0887\"],[0.1111111111111111,\"#46039f\"],[0.2222222222222222,\"#7201a8\"],[0.3333333333333333,\"#9c179e\"],[0.4444444444444444,\"#bd3786\"],[0.5555555555555556,\"#d8576b\"],[0.6666666666666666,\"#ed7953\"],[0.7777777777777778,\"#fb9f3a\"],[0.8888888888888888,\"#fdca26\"],[1.0,\"#f0f921\"]]}],\"heatmap\":[{\"type\":\"heatmap\",\"colorbar\":{\"outlinewidth\":0,\"ticks\":\"\"},\"colorscale\":[[0.0,\"#0d0887\"],[0.1111111111111111,\"#46039f\"],[0.2222222222222222,\"#7201a8\"],[0.3333333333333333,\"#9c179e\"],[0.4444444444444444,\"#bd3786\"],[0.5555555555555556,\"#d8576b\"],[0.6666666666666666,\"#ed7953\"],[0.7777777777777778,\"#fb9f3a\"],[0.8888888888888888,\"#fdca26\"],[1.0,\"#f0f921\"]]}],\"heatmapgl\":[{\"type\":\"heatmapgl\",\"colorbar\":{\"outlinewidth\":0,\"ticks\":\"\"},\"colorscale\":[[0.0,\"#0d0887\"],[0.1111111111111111,\"#46039f\"],[0.2222222222222222,\"#7201a8\"],[0.3333333333333333,\"#9c179e\"],[0.4444444444444444,\"#bd3786\"],[0.5555555555555556,\"#d8576b\"],[0.6666666666666666,\"#ed7953\"],[0.7777777777777778,\"#fb9f3a\"],[0.8888888888888888,\"#fdca26\"],[1.0,\"#f0f921\"]]}],\"contourcarpet\":[{\"type\":\"contourcarpet\",\"colorbar\":{\"outlinewidth\":0,\"ticks\":\"\"}}],\"contour\":[{\"type\":\"contour\",\"colorbar\":{\"outlinewidth\":0,\"ticks\":\"\"},\"colorscale\":[[0.0,\"#0d0887\"],[0.1111111111111111,\"#46039f\"],[0.2222222222222222,\"#7201a8\"],[0.3333333333333333,\"#9c179e\"],[0.4444444444444444,\"#bd3786\"],[0.5555555555555556,\"#d8576b\"],[0.6666666666666666,\"#ed7953\"],[0.7777777777777778,\"#fb9f3a\"],[0.8888888888888888,\"#fdca26\"],[1.0,\"#f0f921\"]]}],\"surface\":[{\"type\":\"surface\",\"colorbar\":{\"outlinewidth\":0,\"ticks\":\"\"},\"colorscale\":[[0.0,\"#0d0887\"],[0.1111111111111111,\"#46039f\"],[0.2222222222222222,\"#7201a8\"],[0.3333333333333333,\"#9c179e\"],[0.4444444444444444,\"#bd3786\"],[0.5555555555555556,\"#d8576b\"],[0.6666666666666666,\"#ed7953\"],[0.7777777777777778,\"#fb9f3a\"],[0.8888888888888888,\"#fdca26\"],[1.0,\"#f0f921\"]]}],\"mesh3d\":[{\"type\":\"mesh3d\",\"colorbar\":{\"outlinewidth\":0,\"ticks\":\"\"}}],\"scatter\":[{\"fillpattern\":{\"fillmode\":\"overlay\",\"size\":10,\"solidity\":0.2},\"type\":\"scatter\"}],\"parcoords\":[{\"type\":\"parcoords\",\"line\":{\"colorbar\":{\"outlinewidth\":0,\"ticks\":\"\"}}}],\"scatterpolargl\":[{\"type\":\"scatterpolargl\",\"marker\":{\"colorbar\":{\"outlinewidth\":0,\"ticks\":\"\"}}}],\"bar\":[{\"error_x\":{\"color\":\"#2a3f5f\"},\"error_y\":{\"color\":\"#2a3f5f\"},\"marker\":{\"line\":{\"color\":\"#E5ECF6\",\"width\":0.5},\"pattern\":{\"fillmode\":\"overlay\",\"size\":10,\"solidity\":0.2}},\"type\":\"bar\"}],\"scattergeo\":[{\"type\":\"scattergeo\",\"marker\":{\"colorbar\":{\"outlinewidth\":0,\"ticks\":\"\"}}}],\"scatterpolar\":[{\"type\":\"scatterpolar\",\"marker\":{\"colorbar\":{\"outlinewidth\":0,\"ticks\":\"\"}}}],\"histogram\":[{\"marker\":{\"pattern\":{\"fillmode\":\"overlay\",\"size\":10,\"solidity\":0.2}},\"type\":\"histogram\"}],\"scattergl\":[{\"type\":\"scattergl\",\"marker\":{\"colorbar\":{\"outlinewidth\":0,\"ticks\":\"\"}}}],\"scatter3d\":[{\"type\":\"scatter3d\",\"line\":{\"colorbar\":{\"outlinewidth\":0,\"ticks\":\"\"}},\"marker\":{\"colorbar\":{\"outlinewidth\":0,\"ticks\":\"\"}}}],\"scattermapbox\":[{\"type\":\"scattermapbox\",\"marker\":{\"colorbar\":{\"outlinewidth\":0,\"ticks\":\"\"}}}],\"scatterternary\":[{\"type\":\"scatterternary\",\"marker\":{\"colorbar\":{\"outlinewidth\":0,\"ticks\":\"\"}}}],\"scattercarpet\":[{\"type\":\"scattercarpet\",\"marker\":{\"colorbar\":{\"outlinewidth\":0,\"ticks\":\"\"}}}],\"carpet\":[{\"aaxis\":{\"endlinecolor\":\"#2a3f5f\",\"gridcolor\":\"white\",\"linecolor\":\"white\",\"minorgridcolor\":\"white\",\"startlinecolor\":\"#2a3f5f\"},\"baxis\":{\"endlinecolor\":\"#2a3f5f\",\"gridcolor\":\"white\",\"linecolor\":\"white\",\"minorgridcolor\":\"white\",\"startlinecolor\":\"#2a3f5f\"},\"type\":\"carpet\"}],\"table\":[{\"cells\":{\"fill\":{\"color\":\"#EBF0F8\"},\"line\":{\"color\":\"white\"}},\"header\":{\"fill\":{\"color\":\"#C8D4E3\"},\"line\":{\"color\":\"white\"}},\"type\":\"table\"}],\"barpolar\":[{\"marker\":{\"line\":{\"color\":\"#E5ECF6\",\"width\":0.5},\"pattern\":{\"fillmode\":\"overlay\",\"size\":10,\"solidity\":0.2}},\"type\":\"barpolar\"}],\"pie\":[{\"automargin\":true,\"type\":\"pie\"}]},\"layout\":{\"autotypenumbers\":\"strict\",\"colorway\":[\"#636efa\",\"#EF553B\",\"#00cc96\",\"#ab63fa\",\"#FFA15A\",\"#19d3f3\",\"#FF6692\",\"#B6E880\",\"#FF97FF\",\"#FECB52\"],\"font\":{\"color\":\"#2a3f5f\"},\"hovermode\":\"closest\",\"hoverlabel\":{\"align\":\"left\"},\"paper_bgcolor\":\"white\",\"plot_bgcolor\":\"#E5ECF6\",\"polar\":{\"bgcolor\":\"#E5ECF6\",\"angularaxis\":{\"gridcolor\":\"white\",\"linecolor\":\"white\",\"ticks\":\"\"},\"radialaxis\":{\"gridcolor\":\"white\",\"linecolor\":\"white\",\"ticks\":\"\"}},\"ternary\":{\"bgcolor\":\"#E5ECF6\",\"aaxis\":{\"gridcolor\":\"white\",\"linecolor\":\"white\",\"ticks\":\"\"},\"baxis\":{\"gridcolor\":\"white\",\"linecolor\":\"white\",\"ticks\":\"\"},\"caxis\":{\"gridcolor\":\"white\",\"linecolor\":\"white\",\"ticks\":\"\"}},\"coloraxis\":{\"colorbar\":{\"outlinewidth\":0,\"ticks\":\"\"}},\"colorscale\":{\"sequential\":[[0.0,\"#0d0887\"],[0.1111111111111111,\"#46039f\"],[0.2222222222222222,\"#7201a8\"],[0.3333333333333333,\"#9c179e\"],[0.4444444444444444,\"#bd3786\"],[0.5555555555555556,\"#d8576b\"],[0.6666666666666666,\"#ed7953\"],[0.7777777777777778,\"#fb9f3a\"],[0.8888888888888888,\"#fdca26\"],[1.0,\"#f0f921\"]],\"sequentialminus\":[[0.0,\"#0d0887\"],[0.1111111111111111,\"#46039f\"],[0.2222222222222222,\"#7201a8\"],[0.3333333333333333,\"#9c179e\"],[0.4444444444444444,\"#bd3786\"],[0.5555555555555556,\"#d8576b\"],[0.6666666666666666,\"#ed7953\"],[0.7777777777777778,\"#fb9f3a\"],[0.8888888888888888,\"#fdca26\"],[1.0,\"#f0f921\"]],\"diverging\":[[0,\"#8e0152\"],[0.1,\"#c51b7d\"],[0.2,\"#de77ae\"],[0.3,\"#f1b6da\"],[0.4,\"#fde0ef\"],[0.5,\"#f7f7f7\"],[0.6,\"#e6f5d0\"],[0.7,\"#b8e186\"],[0.8,\"#7fbc41\"],[0.9,\"#4d9221\"],[1,\"#276419\"]]},\"xaxis\":{\"gridcolor\":\"white\",\"linecolor\":\"white\",\"ticks\":\"\",\"title\":{\"standoff\":15},\"zerolinecolor\":\"white\",\"automargin\":true,\"zerolinewidth\":2},\"yaxis\":{\"gridcolor\":\"white\",\"linecolor\":\"white\",\"ticks\":\"\",\"title\":{\"standoff\":15},\"zerolinecolor\":\"white\",\"automargin\":true,\"zerolinewidth\":2},\"scene\":{\"xaxis\":{\"backgroundcolor\":\"#E5ECF6\",\"gridcolor\":\"white\",\"linecolor\":\"white\",\"showbackground\":true,\"ticks\":\"\",\"zerolinecolor\":\"white\",\"gridwidth\":2},\"yaxis\":{\"backgroundcolor\":\"#E5ECF6\",\"gridcolor\":\"white\",\"linecolor\":\"white\",\"showbackground\":true,\"ticks\":\"\",\"zerolinecolor\":\"white\",\"gridwidth\":2},\"zaxis\":{\"backgroundcolor\":\"#E5ECF6\",\"gridcolor\":\"white\",\"linecolor\":\"white\",\"showbackground\":true,\"ticks\":\"\",\"zerolinecolor\":\"white\",\"gridwidth\":2}},\"shapedefaults\":{\"line\":{\"color\":\"#2a3f5f\"}},\"annotationdefaults\":{\"arrowcolor\":\"#2a3f5f\",\"arrowhead\":0,\"arrowwidth\":1},\"geo\":{\"bgcolor\":\"white\",\"landcolor\":\"#E5ECF6\",\"subunitcolor\":\"white\",\"showland\":true,\"showlakes\":true,\"lakecolor\":\"white\"},\"title\":{\"x\":0.05},\"mapbox\":{\"style\":\"light\"}}},\"xaxis\":{\"anchor\":\"y\",\"domain\":[0.0,1.0],\"title\":{\"text\":\"source\"}},\"yaxis\":{\"anchor\":\"x\",\"domain\":[0.0,1.0],\"title\":{\"text\":\"value\"}},\"legend\":{\"title\":{\"text\":\"variable\"},\"tracegroupgap\":0},\"title\":{\"text\":\"\\u0421\\u0440\\u0435\\u0434\\u043d\\u044f\\u044f \\u0437\\u0430\\u0440\\u043f\\u043b\\u0430\\u0442\\u0430 \\u043f\\u043e \\u0440\\u0435\\u0441\\u0443\\u0440\\u0441\\u0430\\u043c\"},\"barmode\":\"relative\"},                        {\"responsive\": true}                    ).then(function(){\n",
       "                            \n",
       "var gd = document.getElementById('c3a9d965-21d8-4459-95d3-79c56931ea85');\n",
       "var x = new MutationObserver(function (mutations, observer) {{\n",
       "        var display = window.getComputedStyle(gd).display;\n",
       "        if (!display || display === 'none') {{\n",
       "            console.log([gd, 'removed!']);\n",
       "            Plotly.purge(gd);\n",
       "            observer.disconnect();\n",
       "        }}\n",
       "}});\n",
       "\n",
       "// Listen for the removal of the full notebook cells\n",
       "var notebookContainer = gd.closest('#notebook-container');\n",
       "if (notebookContainer) {{\n",
       "    x.observe(notebookContainer, {childList: true});\n",
       "}}\n",
       "\n",
       "// Listen for the clearing of the current output cell\n",
       "var outputEl = gd.closest('.output');\n",
       "if (outputEl) {{\n",
       "    x.observe(outputEl, {childList: true});\n",
       "}}\n",
       "\n",
       "                        })                };                });            </script>        </div>"
      ]
     },
     "metadata": {},
     "output_type": "display_data"
    }
   ],
   "source": [
    "px.bar(df[df['salary'] > 0 ].groupby('source')['salary'].mean(), title = 'Средняя зарплата по ресурсам', color_discrete_sequence = ['steelblue'])"
   ]
  },
  {
   "cell_type": "markdown",
   "id": "0517bcfa",
   "metadata": {},
   "source": [
    "Вывод: чем более специализирован ресурс, тем выше зарплаты."
   ]
  }
 ],
 "metadata": {
  "kernelspec": {
   "display_name": "Python 3",
   "language": "python",
   "name": "python3"
  },
  "language_info": {
   "codemirror_mode": {
    "name": "ipython",
    "version": 3
   },
   "file_extension": ".py",
   "mimetype": "text/x-python",
   "name": "python",
   "nbconvert_exporter": "python",
   "pygments_lexer": "ipython3",
   "version": "3.8.8"
  }
 },
 "nbformat": 4,
 "nbformat_minor": 5
}
